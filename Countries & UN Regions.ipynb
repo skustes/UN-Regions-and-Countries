{
 "cells": [
  {
   "cell_type": "markdown",
   "metadata": {},
   "source": [
    "# Wrangling Countries & UN Regions\n",
    "## By: Scott Kustes\n",
    "\n",
    "### Objective:\n",
    "Wrangle UN regions and subregions and associated countries for insertion into website database.\n",
    "\n",
    "#### Dataset:\n",
    "The original dataset was downloaded here: https://unstats.un.org/unsd/methodology/m49/\n",
    "\n",
    "#### Contents\n",
    "- <a href='#gather'>Data Gathering</a>\n",
    "- <a href='#assess1'>Assess, Part 1</a>\n",
    "- <a href='#clean1'>Clean, Part 1</a>\n",
    "- <a href='#assess2'>Assess, Part 2</a>\n",
    "- <a href='#clean2'>Clean, Part 2</a>\n",
    "- <a href='#extract-un'>UN Regional Hierarchy Extraction</a>\n",
    "- <a href='#assess3'>Assess, Part 3</a>\n",
    "- <a href='#clean3'>Clean, Part 3</a>\n",
    "- <a href='#extract-groups'>UN Groupings Extraction</a>\n",
    "- <a href='#assess4'>Assess, Part 4</a>\n",
    "- <a href='#clean4'>Clean, Part 4</a>"
   ]
  },
  {
   "cell_type": "code",
   "execution_count": 67,
   "metadata": {},
   "outputs": [],
   "source": [
    "# Import necessary packages\n",
    "import pandas as pd"
   ]
  },
  {
   "cell_type": "markdown",
   "metadata": {},
   "source": [
    "<a id='gather'></a>\n",
    "## Gather"
   ]
  },
  {
   "cell_type": "code",
   "execution_count": 68,
   "metadata": {},
   "outputs": [
    {
     "data": {
      "text/html": [
       "<div>\n",
       "<style scoped>\n",
       "    .dataframe tbody tr th:only-of-type {\n",
       "        vertical-align: middle;\n",
       "    }\n",
       "\n",
       "    .dataframe tbody tr th {\n",
       "        vertical-align: top;\n",
       "    }\n",
       "\n",
       "    .dataframe thead th {\n",
       "        text-align: right;\n",
       "    }\n",
       "</style>\n",
       "<table border=\"1\" class=\"dataframe\">\n",
       "  <thead>\n",
       "    <tr style=\"text-align: right;\">\n",
       "      <th></th>\n",
       "      <th>Global Code</th>\n",
       "      <th>Global Name</th>\n",
       "      <th>Region Code</th>\n",
       "      <th>Region Name</th>\n",
       "      <th>Sub-region Code</th>\n",
       "      <th>Sub-region Name</th>\n",
       "      <th>Intermediate Region Code</th>\n",
       "      <th>Intermediate Region Name</th>\n",
       "      <th>Common Name</th>\n",
       "      <th>Official Name</th>\n",
       "      <th>Capital</th>\n",
       "      <th>Territory of</th>\n",
       "      <th>M49 Code</th>\n",
       "      <th>ISO-alpha3 Code</th>\n",
       "      <th>Least Developed Countries (LDC)</th>\n",
       "      <th>Land Locked Developing Countries (LLDC)</th>\n",
       "      <th>Small Island Developing States (SIDS)</th>\n",
       "      <th>Developed / Developing Countries</th>\n",
       "    </tr>\n",
       "  </thead>\n",
       "  <tbody>\n",
       "    <tr>\n",
       "      <th>0</th>\n",
       "      <td>1</td>\n",
       "      <td>World</td>\n",
       "      <td>2.0</td>\n",
       "      <td>Africa</td>\n",
       "      <td>202.0</td>\n",
       "      <td>Sub-Saharan Africa</td>\n",
       "      <td>11.0</td>\n",
       "      <td>Western Africa</td>\n",
       "      <td>\"Saint Helena, Ascension, and Tristan da Cunha\"</td>\n",
       "      <td>\"Saint Helena, Ascension, and Tristan da Cunha\"</td>\n",
       "      <td>Jamestown</td>\n",
       "      <td>United Kingdom</td>\n",
       "      <td>654</td>\n",
       "      <td>SHN</td>\n",
       "      <td>NaN</td>\n",
       "      <td>NaN</td>\n",
       "      <td>NaN</td>\n",
       "      <td>Developing</td>\n",
       "    </tr>\n",
       "    <tr>\n",
       "      <th>1</th>\n",
       "      <td>1</td>\n",
       "      <td>World</td>\n",
       "      <td>142.0</td>\n",
       "      <td>Asia</td>\n",
       "      <td>34.0</td>\n",
       "      <td>Southern Asia</td>\n",
       "      <td>NaN</td>\n",
       "      <td>NaN</td>\n",
       "      <td>Afghanistan</td>\n",
       "      <td>Islamic Republic of Afghanistan</td>\n",
       "      <td>Kabul</td>\n",
       "      <td>NaN</td>\n",
       "      <td>4</td>\n",
       "      <td>AFG</td>\n",
       "      <td>x</td>\n",
       "      <td>x</td>\n",
       "      <td>NaN</td>\n",
       "      <td>Developing</td>\n",
       "    </tr>\n",
       "    <tr>\n",
       "      <th>2</th>\n",
       "      <td>1</td>\n",
       "      <td>World</td>\n",
       "      <td>150.0</td>\n",
       "      <td>Europe</td>\n",
       "      <td>154.0</td>\n",
       "      <td>Northern Europe</td>\n",
       "      <td>NaN</td>\n",
       "      <td>NaN</td>\n",
       "      <td>Åland Islands</td>\n",
       "      <td>Åland Islands</td>\n",
       "      <td>Mariehamn</td>\n",
       "      <td>Finland</td>\n",
       "      <td>248</td>\n",
       "      <td>ALA</td>\n",
       "      <td>NaN</td>\n",
       "      <td>NaN</td>\n",
       "      <td>NaN</td>\n",
       "      <td>Developed</td>\n",
       "    </tr>\n",
       "    <tr>\n",
       "      <th>3</th>\n",
       "      <td>1</td>\n",
       "      <td>World</td>\n",
       "      <td>150.0</td>\n",
       "      <td>Europe</td>\n",
       "      <td>39.0</td>\n",
       "      <td>Southern Europe</td>\n",
       "      <td>NaN</td>\n",
       "      <td>NaN</td>\n",
       "      <td>Albania</td>\n",
       "      <td>Republic of Albania</td>\n",
       "      <td>Tirana</td>\n",
       "      <td>NaN</td>\n",
       "      <td>8</td>\n",
       "      <td>ALB</td>\n",
       "      <td>NaN</td>\n",
       "      <td>NaN</td>\n",
       "      <td>NaN</td>\n",
       "      <td>Developed</td>\n",
       "    </tr>\n",
       "    <tr>\n",
       "      <th>4</th>\n",
       "      <td>1</td>\n",
       "      <td>World</td>\n",
       "      <td>2.0</td>\n",
       "      <td>Africa</td>\n",
       "      <td>15.0</td>\n",
       "      <td>Northern Africa</td>\n",
       "      <td>NaN</td>\n",
       "      <td>NaN</td>\n",
       "      <td>Algeria</td>\n",
       "      <td>People's Democratic Republic of Algeria</td>\n",
       "      <td>Algiers</td>\n",
       "      <td>NaN</td>\n",
       "      <td>12</td>\n",
       "      <td>DZA</td>\n",
       "      <td>NaN</td>\n",
       "      <td>NaN</td>\n",
       "      <td>NaN</td>\n",
       "      <td>Developing</td>\n",
       "    </tr>\n",
       "  </tbody>\n",
       "</table>\n",
       "</div>"
      ],
      "text/plain": [
       "   Global Code Global Name  Region Code Region Name  Sub-region Code  \\\n",
       "0            1       World          2.0      Africa            202.0   \n",
       "1            1       World        142.0        Asia             34.0   \n",
       "2            1       World        150.0      Europe            154.0   \n",
       "3            1       World        150.0      Europe             39.0   \n",
       "4            1       World          2.0      Africa             15.0   \n",
       "\n",
       "      Sub-region Name  Intermediate Region Code Intermediate Region Name  \\\n",
       "0  Sub-Saharan Africa                      11.0           Western Africa   \n",
       "1       Southern Asia                       NaN                      NaN   \n",
       "2     Northern Europe                       NaN                      NaN   \n",
       "3     Southern Europe                       NaN                      NaN   \n",
       "4     Northern Africa                       NaN                      NaN   \n",
       "\n",
       "                                       Common Name  \\\n",
       "0  \"Saint Helena, Ascension, and Tristan da Cunha\"   \n",
       "1                                      Afghanistan   \n",
       "2                                    Åland Islands   \n",
       "3                                          Albania   \n",
       "4                                          Algeria   \n",
       "\n",
       "                                     Official Name    Capital    Territory of  \\\n",
       "0  \"Saint Helena, Ascension, and Tristan da Cunha\"  Jamestown  United Kingdom   \n",
       "1                  Islamic Republic of Afghanistan      Kabul             NaN   \n",
       "2                                    Åland Islands  Mariehamn         Finland   \n",
       "3                              Republic of Albania     Tirana             NaN   \n",
       "4          People's Democratic Republic of Algeria    Algiers             NaN   \n",
       "\n",
       "   M49 Code ISO-alpha3 Code Least Developed Countries (LDC)  \\\n",
       "0       654             SHN                             NaN   \n",
       "1         4             AFG                               x   \n",
       "2       248             ALA                             NaN   \n",
       "3         8             ALB                             NaN   \n",
       "4        12             DZA                             NaN   \n",
       "\n",
       "  Land Locked Developing Countries (LLDC)  \\\n",
       "0                                     NaN   \n",
       "1                                       x   \n",
       "2                                     NaN   \n",
       "3                                     NaN   \n",
       "4                                     NaN   \n",
       "\n",
       "  Small Island Developing States (SIDS) Developed / Developing Countries  \n",
       "0                                   NaN                       Developing  \n",
       "1                                   NaN                       Developing  \n",
       "2                                   NaN                        Developed  \n",
       "3                                   NaN                        Developed  \n",
       "4                                   NaN                       Developing  "
      ]
     },
     "execution_count": 68,
     "metadata": {},
     "output_type": "execute_result"
    }
   ],
   "source": [
    "countries = pd.read_csv( 'countries.csv' )\n",
    "countries.head()"
   ]
  },
  {
   "cell_type": "markdown",
   "metadata": {},
   "source": [
    "<a id='assess1'></a>\n",
    "## Assess, Part 1"
   ]
  },
  {
   "cell_type": "code",
   "execution_count": 69,
   "metadata": {},
   "outputs": [
    {
     "data": {
      "text/plain": [
       "array([1], dtype=int64)"
      ]
     },
     "execution_count": 69,
     "metadata": {},
     "output_type": "execute_result"
    }
   ],
   "source": [
    "countries['Global Code'].unique()"
   ]
  },
  {
   "cell_type": "code",
   "execution_count": 70,
   "metadata": {},
   "outputs": [
    {
     "data": {
      "text/plain": [
       "array(['World'], dtype=object)"
      ]
     },
     "execution_count": 70,
     "metadata": {},
     "output_type": "execute_result"
    }
   ],
   "source": [
    "countries['Global Name'].unique()"
   ]
  },
  {
   "cell_type": "markdown",
   "metadata": {},
   "source": [
    "### Issues Found:\n",
    "1) Drop columns: `Global Code` and `Global Name` - only 1 unique value\n",
    "\n",
    "2) Rename columns: replace spaces with underscores, replace uppercase with lowercase\n",
    "\n",
    "<a id='clean1'></a>\n",
    "## Clean, Part 1\n",
    "### 1) Drop columns `Global Code` and `Global Name`\n",
    "\n",
    "Drop `Global Code` and `Global Name` columns due to each having only 1 unique value (1 and World, respectively).\n",
    "\n",
    "#### Code"
   ]
  },
  {
   "cell_type": "code",
   "execution_count": 71,
   "metadata": {},
   "outputs": [],
   "source": [
    "countries.drop( columns=['Global Code','Global Name'], axis=1, inplace=True )"
   ]
  },
  {
   "cell_type": "markdown",
   "metadata": {},
   "source": [
    "#### Test"
   ]
  },
  {
   "cell_type": "code",
   "execution_count": 72,
   "metadata": {},
   "outputs": [
    {
     "name": "stdout",
     "output_type": "stream",
     "text": [
      "<class 'pandas.core.frame.DataFrame'>\n",
      "RangeIndex: 249 entries, 0 to 248\n",
      "Data columns (total 16 columns):\n",
      "Region Code                                248 non-null float64\n",
      "Region Name                                248 non-null object\n",
      "Sub-region Code                            248 non-null float64\n",
      "Sub-region Name                            248 non-null object\n",
      "Intermediate Region Code                   108 non-null float64\n",
      "Intermediate Region Name                   108 non-null object\n",
      "Common Name                                249 non-null object\n",
      "Official Name                              249 non-null object\n",
      "Capital                                    243 non-null object\n",
      "Territory of                               48 non-null object\n",
      "M49 Code                                   249 non-null int64\n",
      "ISO-alpha3 Code                            248 non-null object\n",
      "Least Developed Countries (LDC)            47 non-null object\n",
      "Land Locked Developing Countries (LLDC)    32 non-null object\n",
      "Small Island Developing States (SIDS)      53 non-null object\n",
      "Developed / Developing Countries           248 non-null object\n",
      "dtypes: float64(3), int64(1), object(12)\n",
      "memory usage: 31.2+ KB\n"
     ]
    }
   ],
   "source": [
    "countries.info()"
   ]
  },
  {
   "cell_type": "markdown",
   "metadata": {},
   "source": [
    "### 2) Rename Columns\n",
    "Replace spaces with underscores, replace uppercase letters with lowercase\n",
    "\n",
    "#### Code"
   ]
  },
  {
   "cell_type": "code",
   "execution_count": 73,
   "metadata": {},
   "outputs": [],
   "source": [
    "# Dictionary of new column names\n",
    "column_names = {\n",
    "    'Region Code': 'region_code',\n",
    "    'Region Name': 'region_name',\n",
    "    'Sub-region Code': 'subregion_code',\n",
    "    'Sub-region Name': 'subregion_name',\n",
    "    'Intermediate Region Code': 'intermediate_region_code',\n",
    "    'Intermediate Region Name': 'intermediate_region_name',\n",
    "    'Common Name': 'country_common_name',\n",
    "    'Official Name': 'country_official_name',\n",
    "    'Capital': 'capital',\n",
    "    'Territory of': 'territory_of',\n",
    "    'M49 Code': 'un_m49',\n",
    "    'ISO-alpha3 Code': 'iso_alpha3',\n",
    "    'Least Developed Countries (LDC)': 'least_developed_countries',\n",
    "    'Land Locked Developing Countries (LLDC)': 'landlocked_developing_countries',\n",
    "    'Small Island Developing States (SIDS)': 'small_island_developing_states',\n",
    "    'Developed / Developing Countries': 'developed_developing_countries'\n",
    "}\n",
    "\n",
    "countries.rename( mapper=column_names, axis=1, inplace=True )"
   ]
  },
  {
   "cell_type": "markdown",
   "metadata": {},
   "source": [
    "#### Test"
   ]
  },
  {
   "cell_type": "code",
   "execution_count": 74,
   "metadata": {},
   "outputs": [
    {
     "name": "stdout",
     "output_type": "stream",
     "text": [
      "<class 'pandas.core.frame.DataFrame'>\n",
      "RangeIndex: 249 entries, 0 to 248\n",
      "Data columns (total 16 columns):\n",
      "region_code                        248 non-null float64\n",
      "region_name                        248 non-null object\n",
      "subregion_code                     248 non-null float64\n",
      "subregion_name                     248 non-null object\n",
      "intermediate_region_code           108 non-null float64\n",
      "intermediate_region_name           108 non-null object\n",
      "country_common_name                249 non-null object\n",
      "country_official_name              249 non-null object\n",
      "capital                            243 non-null object\n",
      "territory_of                       48 non-null object\n",
      "un_m49                             249 non-null int64\n",
      "iso_alpha3                         248 non-null object\n",
      "least_developed_countries          47 non-null object\n",
      "landlocked_developing_countries    32 non-null object\n",
      "small_island_developing_states     53 non-null object\n",
      "developed_developing_countries     248 non-null object\n",
      "dtypes: float64(3), int64(1), object(12)\n",
      "memory usage: 31.2+ KB\n"
     ]
    }
   ],
   "source": [
    "countries.info()"
   ]
  },
  {
   "cell_type": "markdown",
   "metadata": {},
   "source": [
    "<a id='assess2'></a>\n",
    "## Assess, Part 2"
   ]
  },
  {
   "cell_type": "code",
   "execution_count": 75,
   "metadata": {},
   "outputs": [
    {
     "data": {
      "text/plain": [
       "array([  2., 142., 150.,   9.,  19.,  nan])"
      ]
     },
     "execution_count": 75,
     "metadata": {},
     "output_type": "execute_result"
    }
   ],
   "source": [
    "countries['region_code'].unique()"
   ]
  },
  {
   "cell_type": "code",
   "execution_count": 76,
   "metadata": {},
   "outputs": [
    {
     "data": {
      "text/plain": [
       "array(['Africa', 'Asia', 'Europe', 'Oceania', 'Americas', nan],\n",
       "      dtype=object)"
      ]
     },
     "execution_count": 76,
     "metadata": {},
     "output_type": "execute_result"
    }
   ],
   "source": [
    "countries['region_name'].unique()"
   ]
  },
  {
   "cell_type": "code",
   "execution_count": 77,
   "metadata": {},
   "outputs": [
    {
     "data": {
      "text/html": [
       "<div>\n",
       "<style scoped>\n",
       "    .dataframe tbody tr th:only-of-type {\n",
       "        vertical-align: middle;\n",
       "    }\n",
       "\n",
       "    .dataframe tbody tr th {\n",
       "        vertical-align: top;\n",
       "    }\n",
       "\n",
       "    .dataframe thead th {\n",
       "        text-align: right;\n",
       "    }\n",
       "</style>\n",
       "<table border=\"1\" class=\"dataframe\">\n",
       "  <thead>\n",
       "    <tr style=\"text-align: right;\">\n",
       "      <th></th>\n",
       "      <th>region_code</th>\n",
       "      <th>region_name</th>\n",
       "      <th>subregion_code</th>\n",
       "      <th>subregion_name</th>\n",
       "      <th>intermediate_region_code</th>\n",
       "      <th>intermediate_region_name</th>\n",
       "      <th>country_common_name</th>\n",
       "      <th>country_official_name</th>\n",
       "      <th>capital</th>\n",
       "      <th>territory_of</th>\n",
       "      <th>un_m49</th>\n",
       "      <th>iso_alpha3</th>\n",
       "      <th>least_developed_countries</th>\n",
       "      <th>landlocked_developing_countries</th>\n",
       "      <th>small_island_developing_states</th>\n",
       "      <th>developed_developing_countries</th>\n",
       "    </tr>\n",
       "  </thead>\n",
       "  <tbody>\n",
       "    <tr>\n",
       "      <th>9</th>\n",
       "      <td>NaN</td>\n",
       "      <td>NaN</td>\n",
       "      <td>NaN</td>\n",
       "      <td>NaN</td>\n",
       "      <td>NaN</td>\n",
       "      <td>NaN</td>\n",
       "      <td>Antarctica</td>\n",
       "      <td>Antarctica</td>\n",
       "      <td>NaN</td>\n",
       "      <td>NaN</td>\n",
       "      <td>10</td>\n",
       "      <td>ATA</td>\n",
       "      <td>NaN</td>\n",
       "      <td>NaN</td>\n",
       "      <td>NaN</td>\n",
       "      <td>NaN</td>\n",
       "    </tr>\n",
       "  </tbody>\n",
       "</table>\n",
       "</div>"
      ],
      "text/plain": [
       "   region_code region_name  subregion_code subregion_name  \\\n",
       "9          NaN         NaN             NaN            NaN   \n",
       "\n",
       "   intermediate_region_code intermediate_region_name country_common_name  \\\n",
       "9                       NaN                      NaN          Antarctica   \n",
       "\n",
       "  country_official_name capital territory_of  un_m49 iso_alpha3  \\\n",
       "9            Antarctica     NaN          NaN      10        ATA   \n",
       "\n",
       "  least_developed_countries landlocked_developing_countries  \\\n",
       "9                       NaN                             NaN   \n",
       "\n",
       "  small_island_developing_states developed_developing_countries  \n",
       "9                            NaN                            NaN  "
      ]
     },
     "execution_count": 77,
     "metadata": {},
     "output_type": "execute_result"
    }
   ],
   "source": [
    "countries[ countries['region_code'].isnull() ]"
   ]
  },
  {
   "cell_type": "code",
   "execution_count": 78,
   "metadata": {},
   "outputs": [
    {
     "data": {
      "text/plain": [
       "array(['Developing', 'Developed', nan], dtype=object)"
      ]
     },
     "execution_count": 78,
     "metadata": {},
     "output_type": "execute_result"
    }
   ],
   "source": [
    "countries['developed_developing_countries'].unique()"
   ]
  },
  {
   "cell_type": "code",
   "execution_count": 79,
   "metadata": {},
   "outputs": [
    {
     "data": {
      "text/plain": [
       "array(['Western Africa', nan, 'Middle Africa', 'Caribbean',\n",
       "       'South America', 'Central America', 'Southern Africa',\n",
       "       'Eastern Africa', 'Channel Islands'], dtype=object)"
      ]
     },
     "execution_count": 79,
     "metadata": {},
     "output_type": "execute_result"
    }
   ],
   "source": [
    "countries['intermediate_region_name'].unique()"
   ]
  },
  {
   "cell_type": "code",
   "execution_count": 80,
   "metadata": {},
   "outputs": [
    {
     "data": {
      "text/plain": [
       "array(['Africa', 'Asia', 'Europe', 'Oceania', 'Americas', nan],\n",
       "      dtype=object)"
      ]
     },
     "execution_count": 80,
     "metadata": {},
     "output_type": "execute_result"
    }
   ],
   "source": [
    "countries['region_name'].unique()"
   ]
  },
  {
   "cell_type": "code",
   "execution_count": 81,
   "metadata": {},
   "outputs": [
    {
     "data": {
      "text/plain": [
       "array(['Sub-Saharan Africa', 'Southern Asia', 'Northern Europe',\n",
       "       'Southern Europe', 'Northern Africa', 'Polynesia',\n",
       "       'Latin America and the Caribbean', nan, 'Western Asia',\n",
       "       'Australia and New Zealand', 'Western Europe', 'Eastern Europe',\n",
       "       'Northern America', 'South-eastern Asia', 'Eastern Asia',\n",
       "       'Melanesia', 'Micronesia', 'Central Asia'], dtype=object)"
      ]
     },
     "execution_count": 81,
     "metadata": {},
     "output_type": "execute_result"
    }
   ],
   "source": [
    "countries['subregion_name'].unique()"
   ]
  },
  {
   "cell_type": "markdown",
   "metadata": {},
   "source": [
    "### Issues Found:\n",
    "1) Replace NaN with 0 in `region_code`, `subregion_code`, and `intermediate_region_code`\n",
    "\n",
    "2) Replace NaN with 0 and 'x' with 1 in `least_developed_countries`, `landlocked_developing_countries`, and `small_island_developing_states`\n",
    "\n",
    "3) Set datatypes:\n",
    "- <strong>int64:</strong> `region_code`, `subregion_code`, `intermediate_region_code`</li>\n",
    "- <strong>bool:</strong> `least_developed_countries`, `landlocked_developing_countries`, `small_island_developing_states`\n",
    "\n",
    "<a id='clean2'></a>\n",
    "## Clean, Part 2\n",
    "### 1) Fix Values in Columns with Region Codes\n",
    "Replace NaN with 0 in region_code, subregion_code, and intermediate_region_code\n",
    "\n",
    "#### Code"
   ]
  },
  {
   "cell_type": "code",
   "execution_count": 82,
   "metadata": {},
   "outputs": [],
   "source": [
    "countries['region_code'].fillna( 0, inplace=True )\n",
    "countries['subregion_code'].fillna( 0, inplace=True )\n",
    "countries['intermediate_region_code'].fillna( 0, inplace=True )"
   ]
  },
  {
   "cell_type": "markdown",
   "metadata": {},
   "source": [
    "#### Test"
   ]
  },
  {
   "cell_type": "code",
   "execution_count": 83,
   "metadata": {},
   "outputs": [
    {
     "data": {
      "text/plain": [
       "array([  2., 142., 150.,   9.,  19.,   0.])"
      ]
     },
     "execution_count": 83,
     "metadata": {},
     "output_type": "execute_result"
    }
   ],
   "source": [
    "countries['region_code'].unique()"
   ]
  },
  {
   "cell_type": "code",
   "execution_count": 84,
   "metadata": {},
   "outputs": [
    {
     "data": {
      "text/plain": [
       "array([202.,  34., 154.,  39.,  15.,  61., 419.,   0., 145.,  53., 155.,\n",
       "       151.,  21.,  35.,  30.,  54.,  57., 143.])"
      ]
     },
     "execution_count": 84,
     "metadata": {},
     "output_type": "execute_result"
    }
   ],
   "source": [
    "countries['subregion_code'].unique()"
   ]
  },
  {
   "cell_type": "code",
   "execution_count": 85,
   "metadata": {},
   "outputs": [
    {
     "data": {
      "text/plain": [
       "array([ 11.,   0.,  17.,  29.,   5.,  13.,  18.,  14., 830.])"
      ]
     },
     "execution_count": 85,
     "metadata": {},
     "output_type": "execute_result"
    }
   ],
   "source": [
    "countries['intermediate_region_code'].unique()"
   ]
  },
  {
   "cell_type": "markdown",
   "metadata": {},
   "source": [
    "### 2) Fix Values in 'Other Groupings'\n",
    "Replace NaN with 0 and 'x' with 1 in `least_developed_countries`, `landlocked_developing_countries`, and `small_island_developing_states`\n",
    "\n",
    "#### Code"
   ]
  },
  {
   "cell_type": "code",
   "execution_count": 86,
   "metadata": {},
   "outputs": [],
   "source": [
    "countries['least_developed_countries'].fillna( 0, inplace=True )\n",
    "countries['least_developed_countries'].replace( 'x', 1, inplace=True )\n",
    "\n",
    "countries['landlocked_developing_countries'].fillna( 0, inplace=True )\n",
    "countries['landlocked_developing_countries'].replace( 'x', 1, inplace=True )\n",
    "\n",
    "countries['small_island_developing_states'].fillna( 0, inplace=True )\n",
    "countries['small_island_developing_states'].replace( 'x', 1, inplace=True )"
   ]
  },
  {
   "cell_type": "markdown",
   "metadata": {},
   "source": [
    "#### Test"
   ]
  },
  {
   "cell_type": "code",
   "execution_count": 87,
   "metadata": {},
   "outputs": [
    {
     "data": {
      "text/plain": [
       "array([0, 1], dtype=int64)"
      ]
     },
     "execution_count": 87,
     "metadata": {},
     "output_type": "execute_result"
    }
   ],
   "source": [
    "countries['least_developed_countries'].unique()"
   ]
  },
  {
   "cell_type": "code",
   "execution_count": 88,
   "metadata": {},
   "outputs": [
    {
     "data": {
      "text/plain": [
       "array([0, 1], dtype=int64)"
      ]
     },
     "execution_count": 88,
     "metadata": {},
     "output_type": "execute_result"
    }
   ],
   "source": [
    "countries['landlocked_developing_countries'].unique()"
   ]
  },
  {
   "cell_type": "code",
   "execution_count": 89,
   "metadata": {},
   "outputs": [
    {
     "data": {
      "text/plain": [
       "array([0, 1], dtype=int64)"
      ]
     },
     "execution_count": 89,
     "metadata": {},
     "output_type": "execute_result"
    }
   ],
   "source": [
    "countries['small_island_developing_states'].unique()"
   ]
  },
  {
   "cell_type": "markdown",
   "metadata": {},
   "source": [
    "### 3) Set Datatypes\n",
    "- <strong>int64:</strong> `region_code`, `subregion_code`, `intermediate_region_code`\n",
    "- <strong>bool:</strong> `least_developed_countries`, `landlocked_developing_countries`, and `small_island_developing_states`\n",
    "\n",
    "#### Code"
   ]
  },
  {
   "cell_type": "code",
   "execution_count": 90,
   "metadata": {},
   "outputs": [],
   "source": [
    "# Set int64 columns\n",
    "countries['region_code'] = countries['region_code'].astype( 'int64' )\n",
    "countries['subregion_code'] = countries['subregion_code'].astype( 'int64' )\n",
    "countries['intermediate_region_code'] = countries['intermediate_region_code'].astype( 'int64' )\n",
    "\n",
    "# Set bool columns\n",
    "countries['least_developed_countries'] = countries['least_developed_countries'].astype( 'bool' )\n",
    "countries['landlocked_developing_countries'] = countries['landlocked_developing_countries'].astype( 'bool' )\n",
    "countries['small_island_developing_states'] = countries['small_island_developing_states'].astype( 'bool' )"
   ]
  },
  {
   "cell_type": "markdown",
   "metadata": {},
   "source": [
    "#### Test"
   ]
  },
  {
   "cell_type": "code",
   "execution_count": 91,
   "metadata": {},
   "outputs": [
    {
     "name": "stdout",
     "output_type": "stream",
     "text": [
      "<class 'pandas.core.frame.DataFrame'>\n",
      "RangeIndex: 249 entries, 0 to 248\n",
      "Data columns (total 16 columns):\n",
      "region_code                        249 non-null int64\n",
      "region_name                        248 non-null object\n",
      "subregion_code                     249 non-null int64\n",
      "subregion_name                     248 non-null object\n",
      "intermediate_region_code           249 non-null int64\n",
      "intermediate_region_name           108 non-null object\n",
      "country_common_name                249 non-null object\n",
      "country_official_name              249 non-null object\n",
      "capital                            243 non-null object\n",
      "territory_of                       48 non-null object\n",
      "un_m49                             249 non-null int64\n",
      "iso_alpha3                         248 non-null object\n",
      "least_developed_countries          249 non-null bool\n",
      "landlocked_developing_countries    249 non-null bool\n",
      "small_island_developing_states     249 non-null bool\n",
      "developed_developing_countries     248 non-null object\n",
      "dtypes: bool(3), int64(4), object(9)\n",
      "memory usage: 26.1+ KB\n"
     ]
    }
   ],
   "source": [
    "countries.info()"
   ]
  },
  {
   "cell_type": "markdown",
   "metadata": {},
   "source": [
    "<a id='extract-un'></a>\n",
    "## UN Regional Hierarchy Extraction\n",
    "Extract UN Regional hierarchy and rationalize for insertion into website database.\n",
    "\n",
    "### Create UN Region Hierarchy\n",
    "In the UN Geoscheme, a region is made up of 1 or more subregions and a subregion is made up of 0 or more intermediate regions. Countries/areas are assigned at either the subregional or intermediate regional level (with Antarctica as the sole exception, having no regional assignment). Note that the hierarchy levels are as follows: `Region -> Subregion -> Intermediate Region`\n",
    "\n",
    "Antarctica is assigned to `region_code` 0\n",
    "\n",
    "The `countries` dataframe contains redundant information across the region, subregion, and intermediate region columns. Extract these values to create a hierarchy of UN regions in a new dataframe called `regions`. This new dataframe will contain 3 columns: \n",
    "- `region_code`: the value from the `region_code`, `subregion_code`, or `intermediate_region_code` column\n",
    "- `region_name`: the value from the `region_name`, `subregion_name`, or `intermediate_region_name` column\n",
    "- `parent_region_code`: the `region_code` for the region or subregion one level above in the hierarchy\n",
    "\n",
    "In the `countries` dataframe, create a new column called `un_region` to hold the subregion or intermediate region to which each country is assigned.\n",
    "\n",
    "#### Code"
   ]
  },
  {
   "cell_type": "code",
   "execution_count": 92,
   "metadata": {},
   "outputs": [],
   "source": [
    "# Create an empty dataframe for holding the regions\n",
    "regions = pd.DataFrame( columns=['region_code','region_name','parent_region_code'] )\n",
    "\n",
    "# Iterrate through the countries to extract the UN region information\n",
    "for row in countries.itertuples():\n",
    "    # Get the region information from this row\n",
    "    region_code = row.region_code\n",
    "    region_name = row.region_name if region_code != 0 else 'Antarctica' # Antarctica is the sole exception so make it a top-level region\n",
    "    subregion_code = row.subregion_code\n",
    "    subregion_name = row.subregion_name\n",
    "    intermediate_region_code = row.intermediate_region_code\n",
    "    intermediate_region_name = row.intermediate_region_name\n",
    "    \n",
    "    # If region doesn't exist in regions dataframe already, add it\n",
    "    if region_code not in regions['region_code'].unique():\n",
    "        regions = regions.append( { 'region_code': region_code, \n",
    "                                    'region_name': region_name, \n",
    "                                    'parent_region_code': 0 }, \n",
    "                                    ignore_index=True )\n",
    "    \n",
    "    # If subregion doesn't exist in regions dataframe already, add it\n",
    "    if ( subregion_code != 0 ) & ( subregion_code not in regions['region_code'].unique() ):\n",
    "        regions = regions.append( { 'region_code': subregion_code, \n",
    "                                    'region_name': subregion_name, \n",
    "                                    'parent_region_code': region_code }, \n",
    "                                    ignore_index=True )\n",
    "\n",
    "    # If intermediate region doesn't exist in regions dataframe already, add it\n",
    "    if ( intermediate_region_code != 0 ) & ( intermediate_region_code not in regions['region_code'].unique() ):\n",
    "        regions = regions.append( { 'region_code': intermediate_region_code, \n",
    "                                    'region_name': intermediate_region_name, \n",
    "                                    'parent_region_code': subregion_code }, \n",
    "                                    ignore_index=True )"
   ]
  },
  {
   "cell_type": "code",
   "execution_count": 93,
   "metadata": {},
   "outputs": [],
   "source": [
    "# Function to populate un_region field in countries dataframe\n",
    "# If intermediate_region_code is not 0, return the intermediate_region_code\n",
    "# Else return subregion_code \n",
    "# Note that one entry contains 0 in subregion_code: Antarctica\n",
    "# Antarctica was previously assigned a region_code of 0 so returning subregion_code of 0 will not cause problems\n",
    "def get_un_region( row ):\n",
    "    # If intermediate_region_code is not 0, return it\n",
    "    if row['intermediate_region_code'] != 0:\n",
    "        return row['intermediate_region_code']\n",
    "    else:\n",
    "        return row['subregion_code']\n",
    "\n",
    "countries['un_region'] = countries.apply( get_un_region, axis=1 )"
   ]
  },
  {
   "cell_type": "markdown",
   "metadata": {},
   "source": [
    "#### Test"
   ]
  },
  {
   "cell_type": "code",
   "execution_count": 94,
   "metadata": {
    "scrolled": true
   },
   "outputs": [
    {
     "data": {
      "text/html": [
       "<div>\n",
       "<style scoped>\n",
       "    .dataframe tbody tr th:only-of-type {\n",
       "        vertical-align: middle;\n",
       "    }\n",
       "\n",
       "    .dataframe tbody tr th {\n",
       "        vertical-align: top;\n",
       "    }\n",
       "\n",
       "    .dataframe thead th {\n",
       "        text-align: right;\n",
       "    }\n",
       "</style>\n",
       "<table border=\"1\" class=\"dataframe\">\n",
       "  <thead>\n",
       "    <tr style=\"text-align: right;\">\n",
       "      <th></th>\n",
       "      <th>region_code</th>\n",
       "      <th>region_name</th>\n",
       "      <th>parent_region_code</th>\n",
       "    </tr>\n",
       "  </thead>\n",
       "  <tbody>\n",
       "    <tr>\n",
       "      <th>0</th>\n",
       "      <td>2</td>\n",
       "      <td>Africa</td>\n",
       "      <td>0</td>\n",
       "    </tr>\n",
       "    <tr>\n",
       "      <th>12</th>\n",
       "      <td>19</td>\n",
       "      <td>Americas</td>\n",
       "      <td>0</td>\n",
       "    </tr>\n",
       "    <tr>\n",
       "      <th>9</th>\n",
       "      <td>9</td>\n",
       "      <td>Oceania</td>\n",
       "      <td>0</td>\n",
       "    </tr>\n",
       "    <tr>\n",
       "      <th>5</th>\n",
       "      <td>150</td>\n",
       "      <td>Europe</td>\n",
       "      <td>0</td>\n",
       "    </tr>\n",
       "    <tr>\n",
       "      <th>15</th>\n",
       "      <td>0</td>\n",
       "      <td>Antarctica</td>\n",
       "      <td>0</td>\n",
       "    </tr>\n",
       "    <tr>\n",
       "      <th>3</th>\n",
       "      <td>142</td>\n",
       "      <td>Asia</td>\n",
       "      <td>0</td>\n",
       "    </tr>\n",
       "    <tr>\n",
       "      <th>8</th>\n",
       "      <td>15</td>\n",
       "      <td>Northern Africa</td>\n",
       "      <td>2</td>\n",
       "    </tr>\n",
       "    <tr>\n",
       "      <th>1</th>\n",
       "      <td>202</td>\n",
       "      <td>Sub-Saharan Africa</td>\n",
       "      <td>2</td>\n",
       "    </tr>\n",
       "    <tr>\n",
       "      <th>28</th>\n",
       "      <td>57</td>\n",
       "      <td>Micronesia</td>\n",
       "      <td>9</td>\n",
       "    </tr>\n",
       "    <tr>\n",
       "      <th>27</th>\n",
       "      <td>54</td>\n",
       "      <td>Melanesia</td>\n",
       "      <td>9</td>\n",
       "    </tr>\n",
       "    <tr>\n",
       "      <th>10</th>\n",
       "      <td>61</td>\n",
       "      <td>Polynesia</td>\n",
       "      <td>9</td>\n",
       "    </tr>\n",
       "    <tr>\n",
       "      <th>18</th>\n",
       "      <td>53</td>\n",
       "      <td>Australia and New Zealand</td>\n",
       "      <td>9</td>\n",
       "    </tr>\n",
       "    <tr>\n",
       "      <th>13</th>\n",
       "      <td>419</td>\n",
       "      <td>Latin America and the Caribbean</td>\n",
       "      <td>19</td>\n",
       "    </tr>\n",
       "    <tr>\n",
       "      <th>22</th>\n",
       "      <td>21</td>\n",
       "      <td>Northern America</td>\n",
       "      <td>19</td>\n",
       "    </tr>\n",
       "    <tr>\n",
       "      <th>26</th>\n",
       "      <td>30</td>\n",
       "      <td>Eastern Asia</td>\n",
       "      <td>142</td>\n",
       "    </tr>\n",
       "    <tr>\n",
       "      <th>25</th>\n",
       "      <td>35</td>\n",
       "      <td>South-eastern Asia</td>\n",
       "      <td>142</td>\n",
       "    </tr>\n",
       "    <tr>\n",
       "      <th>4</th>\n",
       "      <td>34</td>\n",
       "      <td>Southern Asia</td>\n",
       "      <td>142</td>\n",
       "    </tr>\n",
       "    <tr>\n",
       "      <th>17</th>\n",
       "      <td>145</td>\n",
       "      <td>Western Asia</td>\n",
       "      <td>142</td>\n",
       "    </tr>\n",
       "    <tr>\n",
       "      <th>30</th>\n",
       "      <td>143</td>\n",
       "      <td>Central Asia</td>\n",
       "      <td>142</td>\n",
       "    </tr>\n",
       "    <tr>\n",
       "      <th>19</th>\n",
       "      <td>155</td>\n",
       "      <td>Western Europe</td>\n",
       "      <td>150</td>\n",
       "    </tr>\n",
       "    <tr>\n",
       "      <th>20</th>\n",
       "      <td>151</td>\n",
       "      <td>Eastern Europe</td>\n",
       "      <td>150</td>\n",
       "    </tr>\n",
       "    <tr>\n",
       "      <th>7</th>\n",
       "      <td>39</td>\n",
       "      <td>Southern Europe</td>\n",
       "      <td>150</td>\n",
       "    </tr>\n",
       "    <tr>\n",
       "      <th>6</th>\n",
       "      <td>154</td>\n",
       "      <td>Northern Europe</td>\n",
       "      <td>150</td>\n",
       "    </tr>\n",
       "    <tr>\n",
       "      <th>29</th>\n",
       "      <td>830</td>\n",
       "      <td>Channel Islands</td>\n",
       "      <td>154</td>\n",
       "    </tr>\n",
       "    <tr>\n",
       "      <th>23</th>\n",
       "      <td>18</td>\n",
       "      <td>Southern Africa</td>\n",
       "      <td>202</td>\n",
       "    </tr>\n",
       "    <tr>\n",
       "      <th>24</th>\n",
       "      <td>14</td>\n",
       "      <td>Eastern Africa</td>\n",
       "      <td>202</td>\n",
       "    </tr>\n",
       "    <tr>\n",
       "      <th>11</th>\n",
       "      <td>17</td>\n",
       "      <td>Middle Africa</td>\n",
       "      <td>202</td>\n",
       "    </tr>\n",
       "    <tr>\n",
       "      <th>2</th>\n",
       "      <td>11</td>\n",
       "      <td>Western Africa</td>\n",
       "      <td>202</td>\n",
       "    </tr>\n",
       "    <tr>\n",
       "      <th>21</th>\n",
       "      <td>13</td>\n",
       "      <td>Central America</td>\n",
       "      <td>419</td>\n",
       "    </tr>\n",
       "    <tr>\n",
       "      <th>14</th>\n",
       "      <td>29</td>\n",
       "      <td>Caribbean</td>\n",
       "      <td>419</td>\n",
       "    </tr>\n",
       "    <tr>\n",
       "      <th>16</th>\n",
       "      <td>5</td>\n",
       "      <td>South America</td>\n",
       "      <td>419</td>\n",
       "    </tr>\n",
       "  </tbody>\n",
       "</table>\n",
       "</div>"
      ],
      "text/plain": [
       "   region_code                      region_name parent_region_code\n",
       "0            2                           Africa                  0\n",
       "12          19                         Americas                  0\n",
       "9            9                          Oceania                  0\n",
       "5          150                           Europe                  0\n",
       "15           0                       Antarctica                  0\n",
       "3          142                             Asia                  0\n",
       "8           15                  Northern Africa                  2\n",
       "1          202               Sub-Saharan Africa                  2\n",
       "28          57                       Micronesia                  9\n",
       "27          54                        Melanesia                  9\n",
       "10          61                        Polynesia                  9\n",
       "18          53        Australia and New Zealand                  9\n",
       "13         419  Latin America and the Caribbean                 19\n",
       "22          21                 Northern America                 19\n",
       "26          30                     Eastern Asia                142\n",
       "25          35               South-eastern Asia                142\n",
       "4           34                    Southern Asia                142\n",
       "17         145                     Western Asia                142\n",
       "30         143                     Central Asia                142\n",
       "19         155                   Western Europe                150\n",
       "20         151                   Eastern Europe                150\n",
       "7           39                  Southern Europe                150\n",
       "6          154                  Northern Europe                150\n",
       "29         830                  Channel Islands                154\n",
       "23          18                  Southern Africa                202\n",
       "24          14                   Eastern Africa                202\n",
       "11          17                    Middle Africa                202\n",
       "2           11                   Western Africa                202\n",
       "21          13                  Central America                419\n",
       "14          29                        Caribbean                419\n",
       "16           5                    South America                419"
      ]
     },
     "execution_count": 94,
     "metadata": {},
     "output_type": "execute_result"
    }
   ],
   "source": [
    "regions.sort_values( 'parent_region_code' )"
   ]
  },
  {
   "cell_type": "code",
   "execution_count": 95,
   "metadata": {},
   "outputs": [
    {
     "data": {
      "text/html": [
       "<div>\n",
       "<style scoped>\n",
       "    .dataframe tbody tr th:only-of-type {\n",
       "        vertical-align: middle;\n",
       "    }\n",
       "\n",
       "    .dataframe tbody tr th {\n",
       "        vertical-align: top;\n",
       "    }\n",
       "\n",
       "    .dataframe thead th {\n",
       "        text-align: right;\n",
       "    }\n",
       "</style>\n",
       "<table border=\"1\" class=\"dataframe\">\n",
       "  <thead>\n",
       "    <tr style=\"text-align: right;\">\n",
       "      <th></th>\n",
       "      <th>subregion_code</th>\n",
       "      <th>intermediate_region_code</th>\n",
       "      <th>un_region</th>\n",
       "    </tr>\n",
       "  </thead>\n",
       "  <tbody>\n",
       "    <tr>\n",
       "      <th>44</th>\n",
       "      <td>202</td>\n",
       "      <td>17</td>\n",
       "      <td>17</td>\n",
       "    </tr>\n",
       "    <tr>\n",
       "      <th>183</th>\n",
       "      <td>202</td>\n",
       "      <td>14</td>\n",
       "      <td>14</td>\n",
       "    </tr>\n",
       "    <tr>\n",
       "      <th>86</th>\n",
       "      <td>39</td>\n",
       "      <td>0</td>\n",
       "      <td>39</td>\n",
       "    </tr>\n",
       "    <tr>\n",
       "      <th>73</th>\n",
       "      <td>419</td>\n",
       "      <td>5</td>\n",
       "      <td>5</td>\n",
       "    </tr>\n",
       "    <tr>\n",
       "      <th>229</th>\n",
       "      <td>419</td>\n",
       "      <td>29</td>\n",
       "      <td>29</td>\n",
       "    </tr>\n",
       "    <tr>\n",
       "      <th>102</th>\n",
       "      <td>154</td>\n",
       "      <td>0</td>\n",
       "      <td>154</td>\n",
       "    </tr>\n",
       "    <tr>\n",
       "      <th>216</th>\n",
       "      <td>145</td>\n",
       "      <td>0</td>\n",
       "      <td>145</td>\n",
       "    </tr>\n",
       "    <tr>\n",
       "      <th>207</th>\n",
       "      <td>30</td>\n",
       "      <td>0</td>\n",
       "      <td>30</td>\n",
       "    </tr>\n",
       "    <tr>\n",
       "      <th>186</th>\n",
       "      <td>419</td>\n",
       "      <td>29</td>\n",
       "      <td>29</td>\n",
       "    </tr>\n",
       "    <tr>\n",
       "      <th>237</th>\n",
       "      <td>419</td>\n",
       "      <td>5</td>\n",
       "      <td>5</td>\n",
       "    </tr>\n",
       "  </tbody>\n",
       "</table>\n",
       "</div>"
      ],
      "text/plain": [
       "     subregion_code  intermediate_region_code  un_region\n",
       "44              202                        17         17\n",
       "183             202                        14         14\n",
       "86               39                         0         39\n",
       "73              419                         5          5\n",
       "229             419                        29         29\n",
       "102             154                         0        154\n",
       "216             145                         0        145\n",
       "207              30                         0         30\n",
       "186             419                        29         29\n",
       "237             419                         5          5"
      ]
     },
     "execution_count": 95,
     "metadata": {},
     "output_type": "execute_result"
    }
   ],
   "source": [
    "countries[['subregion_code','intermediate_region_code','un_region']].sample(10)"
   ]
  },
  {
   "cell_type": "markdown",
   "metadata": {},
   "source": [
    "<a id='assess3'></a>\n",
    "## Assess, Part 3"
   ]
  },
  {
   "cell_type": "code",
   "execution_count": 96,
   "metadata": {},
   "outputs": [
    {
     "name": "stdout",
     "output_type": "stream",
     "text": [
      "<class 'pandas.core.frame.DataFrame'>\n",
      "RangeIndex: 249 entries, 0 to 248\n",
      "Data columns (total 17 columns):\n",
      "region_code                        249 non-null int64\n",
      "region_name                        248 non-null object\n",
      "subregion_code                     249 non-null int64\n",
      "subregion_name                     248 non-null object\n",
      "intermediate_region_code           249 non-null int64\n",
      "intermediate_region_name           108 non-null object\n",
      "country_common_name                249 non-null object\n",
      "country_official_name              249 non-null object\n",
      "capital                            243 non-null object\n",
      "territory_of                       48 non-null object\n",
      "un_m49                             249 non-null int64\n",
      "iso_alpha3                         248 non-null object\n",
      "least_developed_countries          249 non-null bool\n",
      "landlocked_developing_countries    249 non-null bool\n",
      "small_island_developing_states     249 non-null bool\n",
      "developed_developing_countries     248 non-null object\n",
      "un_region                          249 non-null int64\n",
      "dtypes: bool(3), int64(5), object(9)\n",
      "memory usage: 28.0+ KB\n"
     ]
    }
   ],
   "source": [
    "countries.info()"
   ]
  },
  {
   "cell_type": "code",
   "execution_count": 97,
   "metadata": {},
   "outputs": [
    {
     "data": {
      "text/html": [
       "<div>\n",
       "<style scoped>\n",
       "    .dataframe tbody tr th:only-of-type {\n",
       "        vertical-align: middle;\n",
       "    }\n",
       "\n",
       "    .dataframe tbody tr th {\n",
       "        vertical-align: top;\n",
       "    }\n",
       "\n",
       "    .dataframe thead th {\n",
       "        text-align: right;\n",
       "    }\n",
       "</style>\n",
       "<table border=\"1\" class=\"dataframe\">\n",
       "  <thead>\n",
       "    <tr style=\"text-align: right;\">\n",
       "      <th></th>\n",
       "      <th>region_code</th>\n",
       "      <th>region_name</th>\n",
       "      <th>subregion_code</th>\n",
       "      <th>subregion_name</th>\n",
       "      <th>intermediate_region_code</th>\n",
       "      <th>intermediate_region_name</th>\n",
       "      <th>country_common_name</th>\n",
       "      <th>country_official_name</th>\n",
       "      <th>capital</th>\n",
       "      <th>territory_of</th>\n",
       "      <th>un_m49</th>\n",
       "      <th>iso_alpha3</th>\n",
       "      <th>least_developed_countries</th>\n",
       "      <th>landlocked_developing_countries</th>\n",
       "      <th>small_island_developing_states</th>\n",
       "      <th>developed_developing_countries</th>\n",
       "      <th>un_region</th>\n",
       "    </tr>\n",
       "  </thead>\n",
       "  <tbody>\n",
       "    <tr>\n",
       "      <th>193</th>\n",
       "      <td>150</td>\n",
       "      <td>Europe</td>\n",
       "      <td>154</td>\n",
       "      <td>Northern Europe</td>\n",
       "      <td>830</td>\n",
       "      <td>Channel Islands</td>\n",
       "      <td>Sark</td>\n",
       "      <td>Sark</td>\n",
       "      <td>NaN</td>\n",
       "      <td>United Kingdom</td>\n",
       "      <td>680</td>\n",
       "      <td>NaN</td>\n",
       "      <td>False</td>\n",
       "      <td>False</td>\n",
       "      <td>False</td>\n",
       "      <td>Developed</td>\n",
       "      <td>830</td>\n",
       "    </tr>\n",
       "  </tbody>\n",
       "</table>\n",
       "</div>"
      ],
      "text/plain": [
       "     region_code region_name  subregion_code   subregion_name  \\\n",
       "193          150      Europe             154  Northern Europe   \n",
       "\n",
       "     intermediate_region_code intermediate_region_name country_common_name  \\\n",
       "193                       830          Channel Islands                Sark   \n",
       "\n",
       "    country_official_name capital    territory_of  un_m49 iso_alpha3  \\\n",
       "193                  Sark     NaN  United Kingdom     680        NaN   \n",
       "\n",
       "     least_developed_countries  landlocked_developing_countries  \\\n",
       "193                      False                            False   \n",
       "\n",
       "     small_island_developing_states developed_developing_countries  un_region  \n",
       "193                           False                      Developed        830  "
      ]
     },
     "execution_count": 97,
     "metadata": {},
     "output_type": "execute_result"
    }
   ],
   "source": [
    "countries[ countries['iso_alpha3'].isnull() ]"
   ]
  },
  {
   "cell_type": "code",
   "execution_count": 98,
   "metadata": {
    "scrolled": true
   },
   "outputs": [
    {
     "data": {
      "text/html": [
       "<div>\n",
       "<style scoped>\n",
       "    .dataframe tbody tr th:only-of-type {\n",
       "        vertical-align: middle;\n",
       "    }\n",
       "\n",
       "    .dataframe tbody tr th {\n",
       "        vertical-align: top;\n",
       "    }\n",
       "\n",
       "    .dataframe thead th {\n",
       "        text-align: right;\n",
       "    }\n",
       "</style>\n",
       "<table border=\"1\" class=\"dataframe\">\n",
       "  <thead>\n",
       "    <tr style=\"text-align: right;\">\n",
       "      <th></th>\n",
       "      <th>region_code</th>\n",
       "      <th>region_name</th>\n",
       "      <th>subregion_code</th>\n",
       "      <th>subregion_name</th>\n",
       "      <th>intermediate_region_code</th>\n",
       "      <th>intermediate_region_name</th>\n",
       "      <th>country_common_name</th>\n",
       "      <th>country_official_name</th>\n",
       "      <th>capital</th>\n",
       "      <th>territory_of</th>\n",
       "      <th>un_m49</th>\n",
       "      <th>iso_alpha3</th>\n",
       "      <th>least_developed_countries</th>\n",
       "      <th>landlocked_developing_countries</th>\n",
       "      <th>small_island_developing_states</th>\n",
       "      <th>developed_developing_countries</th>\n",
       "      <th>un_region</th>\n",
       "    </tr>\n",
       "  </thead>\n",
       "  <tbody>\n",
       "    <tr>\n",
       "      <th>9</th>\n",
       "      <td>0</td>\n",
       "      <td>NaN</td>\n",
       "      <td>0</td>\n",
       "      <td>NaN</td>\n",
       "      <td>0</td>\n",
       "      <td>NaN</td>\n",
       "      <td>Antarctica</td>\n",
       "      <td>Antarctica</td>\n",
       "      <td>NaN</td>\n",
       "      <td>NaN</td>\n",
       "      <td>10</td>\n",
       "      <td>ATA</td>\n",
       "      <td>False</td>\n",
       "      <td>False</td>\n",
       "      <td>False</td>\n",
       "      <td>NaN</td>\n",
       "      <td>0</td>\n",
       "    </tr>\n",
       "  </tbody>\n",
       "</table>\n",
       "</div>"
      ],
      "text/plain": [
       "   region_code region_name  subregion_code subregion_name  \\\n",
       "9            0         NaN               0            NaN   \n",
       "\n",
       "   intermediate_region_code intermediate_region_name country_common_name  \\\n",
       "9                         0                      NaN          Antarctica   \n",
       "\n",
       "  country_official_name capital territory_of  un_m49 iso_alpha3  \\\n",
       "9            Antarctica     NaN          NaN      10        ATA   \n",
       "\n",
       "   least_developed_countries  landlocked_developing_countries  \\\n",
       "9                      False                            False   \n",
       "\n",
       "   small_island_developing_states developed_developing_countries  un_region  \n",
       "9                           False                            NaN          0  "
      ]
     },
     "execution_count": 98,
     "metadata": {},
     "output_type": "execute_result"
    }
   ],
   "source": [
    "countries[ countries['developed_developing_countries'].isnull() ]"
   ]
  },
  {
   "cell_type": "markdown",
   "metadata": {},
   "source": [
    "### Issues Found:\n",
    "#### Tidiness\n",
    "1) Drop 6 UN region columns: `region_code`,`region_name`,`subregion_code`,`subregion_name`,`intermediate_region_code`,`intermediate_region_name`\n",
    "\n",
    "2) Create two columns, `developed` and `developing`, from `developed_developing_countries` column. \n",
    "\n",
    "3) Set datatype of `developed` and `developing` to bool.\n",
    "\n",
    "4) Drop `developed_developing_countries`.\n",
    "\n",
    "#### Quality\n",
    "5) Replace NaN in `iso_alpha3` with 'NA'. The island of Sark has no ISO Alpha3 code.\n",
    "\n",
    "<a id='clean3'></a>\n",
    "## Clean, Part 3\n",
    "\n",
    "### 1) Drop 6 UN region columns\n",
    "Drop `region_code`,`region_name`,`subregion_code`,`subregion_name`,`intermediate_region_code`, and `intermediate_region_name`. These columns are no longer needed. This information is now contained in the `regions` dataframe to which each country is associated through the `un_region` column.\n",
    "\n",
    "#### Code"
   ]
  },
  {
   "cell_type": "code",
   "execution_count": 99,
   "metadata": {},
   "outputs": [],
   "source": [
    "countries.drop( columns=['region_code','region_name','subregion_code','subregion_name','intermediate_region_code','intermediate_region_name'], axis=1, inplace=True )"
   ]
  },
  {
   "cell_type": "markdown",
   "metadata": {},
   "source": [
    "#### Test"
   ]
  },
  {
   "cell_type": "code",
   "execution_count": 100,
   "metadata": {
    "scrolled": true
   },
   "outputs": [
    {
     "name": "stdout",
     "output_type": "stream",
     "text": [
      "<class 'pandas.core.frame.DataFrame'>\n",
      "RangeIndex: 249 entries, 0 to 248\n",
      "Data columns (total 11 columns):\n",
      "country_common_name                249 non-null object\n",
      "country_official_name              249 non-null object\n",
      "capital                            243 non-null object\n",
      "territory_of                       48 non-null object\n",
      "un_m49                             249 non-null int64\n",
      "iso_alpha3                         248 non-null object\n",
      "least_developed_countries          249 non-null bool\n",
      "landlocked_developing_countries    249 non-null bool\n",
      "small_island_developing_states     249 non-null bool\n",
      "developed_developing_countries     248 non-null object\n",
      "un_region                          249 non-null int64\n",
      "dtypes: bool(3), int64(2), object(6)\n",
      "memory usage: 16.4+ KB\n"
     ]
    }
   ],
   "source": [
    "countries.info()"
   ]
  },
  {
   "cell_type": "markdown",
   "metadata": {},
   "source": [
    "### 2) Create `developed` and `developing` Columns\n",
    "\n",
    "`developed` will contain 1 if `developed_developing_countries` contains 'Developed', 0 otherwise<br/>\n",
    "`developing` will contain 1 if `developed_developing_countries` contains 'Developing', 0 otherwise\n",
    "\n",
    "#### Code"
   ]
  },
  {
   "cell_type": "code",
   "execution_count": 101,
   "metadata": {},
   "outputs": [],
   "source": [
    "countries['developed'] = countries['developed_developing_countries'].apply( lambda x: 1 if x == 'Developed' else 0 )\n",
    "countries['developing'] = countries['developed_developing_countries'].apply( lambda x: 1 if x == 'Developing' else 0 )"
   ]
  },
  {
   "cell_type": "markdown",
   "metadata": {},
   "source": [
    "#### Test"
   ]
  },
  {
   "cell_type": "code",
   "execution_count": 102,
   "metadata": {},
   "outputs": [
    {
     "data": {
      "text/html": [
       "<div>\n",
       "<style scoped>\n",
       "    .dataframe tbody tr th:only-of-type {\n",
       "        vertical-align: middle;\n",
       "    }\n",
       "\n",
       "    .dataframe tbody tr th {\n",
       "        vertical-align: top;\n",
       "    }\n",
       "\n",
       "    .dataframe thead th {\n",
       "        text-align: right;\n",
       "    }\n",
       "</style>\n",
       "<table border=\"1\" class=\"dataframe\">\n",
       "  <thead>\n",
       "    <tr style=\"text-align: right;\">\n",
       "      <th></th>\n",
       "      <th>developed</th>\n",
       "      <th>developing</th>\n",
       "      <th>developed_developing_countries</th>\n",
       "    </tr>\n",
       "  </thead>\n",
       "  <tbody>\n",
       "    <tr>\n",
       "      <th>205</th>\n",
       "      <td>0</td>\n",
       "      <td>1</td>\n",
       "      <td>Developing</td>\n",
       "    </tr>\n",
       "    <tr>\n",
       "      <th>187</th>\n",
       "      <td>0</td>\n",
       "      <td>1</td>\n",
       "      <td>Developing</td>\n",
       "    </tr>\n",
       "    <tr>\n",
       "      <th>17</th>\n",
       "      <td>0</td>\n",
       "      <td>1</td>\n",
       "      <td>Developing</td>\n",
       "    </tr>\n",
       "    <tr>\n",
       "      <th>136</th>\n",
       "      <td>1</td>\n",
       "      <td>0</td>\n",
       "      <td>Developed</td>\n",
       "    </tr>\n",
       "    <tr>\n",
       "      <th>74</th>\n",
       "      <td>1</td>\n",
       "      <td>0</td>\n",
       "      <td>Developed</td>\n",
       "    </tr>\n",
       "  </tbody>\n",
       "</table>\n",
       "</div>"
      ],
      "text/plain": [
       "     developed  developing developed_developing_countries\n",
       "205          0           1                     Developing\n",
       "187          0           1                     Developing\n",
       "17           0           1                     Developing\n",
       "136          1           0                      Developed\n",
       "74           1           0                      Developed"
      ]
     },
     "execution_count": 102,
     "metadata": {},
     "output_type": "execute_result"
    }
   ],
   "source": [
    "countries[['developed','developing','developed_developing_countries']].sample(5)"
   ]
  },
  {
   "cell_type": "markdown",
   "metadata": {},
   "source": [
    "### 3) Set datatype for `developed` and `developing` Columns to bool\n",
    "\n",
    "#### Code"
   ]
  },
  {
   "cell_type": "code",
   "execution_count": 103,
   "metadata": {},
   "outputs": [],
   "source": [
    "countries['developed'] = countries['developed'].astype('bool')\n",
    "countries['developing'] = countries['developing'].astype('bool')"
   ]
  },
  {
   "cell_type": "markdown",
   "metadata": {},
   "source": [
    "#### Test"
   ]
  },
  {
   "cell_type": "code",
   "execution_count": 104,
   "metadata": {},
   "outputs": [
    {
     "data": {
      "text/plain": [
       "False    183\n",
       "True      66\n",
       "Name: developed, dtype: int64"
      ]
     },
     "execution_count": 104,
     "metadata": {},
     "output_type": "execute_result"
    }
   ],
   "source": [
    "countries['developed'].value_counts()"
   ]
  },
  {
   "cell_type": "code",
   "execution_count": 105,
   "metadata": {},
   "outputs": [
    {
     "data": {
      "text/plain": [
       "True     182\n",
       "False     67\n",
       "Name: developing, dtype: int64"
      ]
     },
     "execution_count": 105,
     "metadata": {},
     "output_type": "execute_result"
    }
   ],
   "source": [
    "countries['developing'].value_counts()"
   ]
  },
  {
   "cell_type": "code",
   "execution_count": 106,
   "metadata": {},
   "outputs": [
    {
     "name": "stdout",
     "output_type": "stream",
     "text": [
      "<class 'pandas.core.frame.DataFrame'>\n",
      "RangeIndex: 249 entries, 0 to 248\n",
      "Data columns (total 13 columns):\n",
      "country_common_name                249 non-null object\n",
      "country_official_name              249 non-null object\n",
      "capital                            243 non-null object\n",
      "territory_of                       48 non-null object\n",
      "un_m49                             249 non-null int64\n",
      "iso_alpha3                         248 non-null object\n",
      "least_developed_countries          249 non-null bool\n",
      "landlocked_developing_countries    249 non-null bool\n",
      "small_island_developing_states     249 non-null bool\n",
      "developed_developing_countries     248 non-null object\n",
      "un_region                          249 non-null int64\n",
      "developed                          249 non-null bool\n",
      "developing                         249 non-null bool\n",
      "dtypes: bool(5), int64(2), object(6)\n",
      "memory usage: 16.9+ KB\n"
     ]
    }
   ],
   "source": [
    "countries.info()"
   ]
  },
  {
   "cell_type": "markdown",
   "metadata": {},
   "source": [
    "### 4) Drop `developed_developing_countries` Column\n",
    "\n",
    "#### Code"
   ]
  },
  {
   "cell_type": "code",
   "execution_count": 107,
   "metadata": {},
   "outputs": [],
   "source": [
    "countries.drop( columns=['developed_developing_countries'], inplace=True )"
   ]
  },
  {
   "cell_type": "markdown",
   "metadata": {},
   "source": [
    "#### Test"
   ]
  },
  {
   "cell_type": "code",
   "execution_count": 108,
   "metadata": {},
   "outputs": [
    {
     "name": "stdout",
     "output_type": "stream",
     "text": [
      "<class 'pandas.core.frame.DataFrame'>\n",
      "RangeIndex: 249 entries, 0 to 248\n",
      "Data columns (total 12 columns):\n",
      "country_common_name                249 non-null object\n",
      "country_official_name              249 non-null object\n",
      "capital                            243 non-null object\n",
      "territory_of                       48 non-null object\n",
      "un_m49                             249 non-null int64\n",
      "iso_alpha3                         248 non-null object\n",
      "least_developed_countries          249 non-null bool\n",
      "landlocked_developing_countries    249 non-null bool\n",
      "small_island_developing_states     249 non-null bool\n",
      "un_region                          249 non-null int64\n",
      "developed                          249 non-null bool\n",
      "developing                         249 non-null bool\n",
      "dtypes: bool(5), int64(2), object(5)\n",
      "memory usage: 14.9+ KB\n"
     ]
    }
   ],
   "source": [
    "countries.info()"
   ]
  },
  {
   "cell_type": "markdown",
   "metadata": {},
   "source": [
    "### 5) Replace NaN in `iso_alpha3` with 'NA'\n",
    "\n",
    "The island of Sark has no ISO Alpha3 code.\n",
    "\n",
    "#### Code"
   ]
  },
  {
   "cell_type": "code",
   "execution_count": 109,
   "metadata": {},
   "outputs": [],
   "source": [
    "countries['iso_alpha3'].fillna( 'NA', inplace=True )"
   ]
  },
  {
   "cell_type": "markdown",
   "metadata": {},
   "source": [
    "#### Test"
   ]
  },
  {
   "cell_type": "code",
   "execution_count": 110,
   "metadata": {},
   "outputs": [
    {
     "data": {
      "text/html": [
       "<div>\n",
       "<style scoped>\n",
       "    .dataframe tbody tr th:only-of-type {\n",
       "        vertical-align: middle;\n",
       "    }\n",
       "\n",
       "    .dataframe tbody tr th {\n",
       "        vertical-align: top;\n",
       "    }\n",
       "\n",
       "    .dataframe thead th {\n",
       "        text-align: right;\n",
       "    }\n",
       "</style>\n",
       "<table border=\"1\" class=\"dataframe\">\n",
       "  <thead>\n",
       "    <tr style=\"text-align: right;\">\n",
       "      <th></th>\n",
       "      <th>country_common_name</th>\n",
       "      <th>country_official_name</th>\n",
       "      <th>capital</th>\n",
       "      <th>territory_of</th>\n",
       "      <th>un_m49</th>\n",
       "      <th>iso_alpha3</th>\n",
       "      <th>least_developed_countries</th>\n",
       "      <th>landlocked_developing_countries</th>\n",
       "      <th>small_island_developing_states</th>\n",
       "      <th>un_region</th>\n",
       "      <th>developed</th>\n",
       "      <th>developing</th>\n",
       "    </tr>\n",
       "  </thead>\n",
       "  <tbody>\n",
       "  </tbody>\n",
       "</table>\n",
       "</div>"
      ],
      "text/plain": [
       "Empty DataFrame\n",
       "Columns: [country_common_name, country_official_name, capital, territory_of, un_m49, iso_alpha3, least_developed_countries, landlocked_developing_countries, small_island_developing_states, un_region, developed, developing]\n",
       "Index: []"
      ]
     },
     "execution_count": 110,
     "metadata": {},
     "output_type": "execute_result"
    }
   ],
   "source": [
    "countries[ countries['iso_alpha3'].isnull() ]"
   ]
  },
  {
   "cell_type": "markdown",
   "metadata": {},
   "source": [
    "<a id='extract-groups'></a>\n",
    "## UN Groupings Extraction\n",
    "Extract and rationalize information in the five \"Other Groupings\" columns: `least_developed_countries`, `landlocked_developing_countries`, `small_island_developing_states`, `developed`, and `developing`.  This information will be stored in 2 database tables. \n",
    "\n",
    "The first table will contain five grouping titles: 'Least Developed Countries', 'Landlocked Developing Countries', 'Small Island Developing States', 'Developed', and 'Developing'.\n",
    "\n",
    "The second table will contain mappings of country ID to grouping ID.\n",
    "\n",
    "#### Code"
   ]
  },
  {
   "cell_type": "code",
   "execution_count": 111,
   "metadata": {},
   "outputs": [],
   "source": [
    "# Create a dataframe for the Other Groupings\n",
    "group_names = ['Least Developed Countries', 'Landlocked Developing Countries', 'Small Island Developing States', 'Developed Countries', 'Developing Countries']\n",
    "un_groupings = pd.DataFrame( data=group_names, columns=['group_name'] )"
   ]
  },
  {
   "cell_type": "code",
   "execution_count": 112,
   "metadata": {
    "scrolled": true
   },
   "outputs": [],
   "source": [
    "# Get the indexes for the countries in each grouping\n",
    "least_developed = countries.query( 'least_developed_countries == True' ).index.to_list()\n",
    "landlocked = countries.query( 'landlocked_developing_countries == True' ).index.to_list()\n",
    "small_island = countries.query( 'small_island_developing_states == True' ).index.to_list()\n",
    "developed = countries.query( 'developed == True' ).index.to_list()\n",
    "developing = countries.query( 'developing == True' ).index.to_list()"
   ]
  },
  {
   "cell_type": "code",
   "execution_count": 113,
   "metadata": {},
   "outputs": [],
   "source": [
    "# Create a blank dataframe to contain the country to grouping mappings\n",
    "country_to_group = pd.DataFrame( columns=['country_id', 'group_id'] )\n",
    "\n",
    "groups = ['least_developed','landlocked','small_island','developed','developing']\n",
    "group_id = 0\n",
    "for variable_name in groups:\n",
    "    for value in eval( variable_name ):\n",
    "        country_to_group = country_to_group.append( { 'country_id': value,\n",
    "                                                      'group_id': group_id },\n",
    "                                                      ignore_index=True )\n",
    "    group_id += 1"
   ]
  },
  {
   "cell_type": "markdown",
   "metadata": {},
   "source": [
    "#### Test"
   ]
  },
  {
   "cell_type": "code",
   "execution_count": 114,
   "metadata": {},
   "outputs": [
    {
     "data": {
      "text/html": [
       "<div>\n",
       "<style scoped>\n",
       "    .dataframe tbody tr th:only-of-type {\n",
       "        vertical-align: middle;\n",
       "    }\n",
       "\n",
       "    .dataframe tbody tr th {\n",
       "        vertical-align: top;\n",
       "    }\n",
       "\n",
       "    .dataframe thead th {\n",
       "        text-align: right;\n",
       "    }\n",
       "</style>\n",
       "<table border=\"1\" class=\"dataframe\">\n",
       "  <thead>\n",
       "    <tr style=\"text-align: right;\">\n",
       "      <th></th>\n",
       "      <th>group_name</th>\n",
       "    </tr>\n",
       "  </thead>\n",
       "  <tbody>\n",
       "    <tr>\n",
       "      <th>0</th>\n",
       "      <td>Least Developed Countries</td>\n",
       "    </tr>\n",
       "    <tr>\n",
       "      <th>1</th>\n",
       "      <td>Landlocked Developing Countries</td>\n",
       "    </tr>\n",
       "    <tr>\n",
       "      <th>2</th>\n",
       "      <td>Small Island Developing States</td>\n",
       "    </tr>\n",
       "    <tr>\n",
       "      <th>3</th>\n",
       "      <td>Developed Countries</td>\n",
       "    </tr>\n",
       "    <tr>\n",
       "      <th>4</th>\n",
       "      <td>Developing Countries</td>\n",
       "    </tr>\n",
       "  </tbody>\n",
       "</table>\n",
       "</div>"
      ],
      "text/plain": [
       "                        group_name\n",
       "0        Least Developed Countries\n",
       "1  Landlocked Developing Countries\n",
       "2   Small Island Developing States\n",
       "3              Developed Countries\n",
       "4             Developing Countries"
      ]
     },
     "execution_count": 114,
     "metadata": {},
     "output_type": "execute_result"
    }
   ],
   "source": [
    "un_groupings"
   ]
  },
  {
   "cell_type": "code",
   "execution_count": 115,
   "metadata": {},
   "outputs": [
    {
     "data": {
      "text/html": [
       "<div>\n",
       "<style scoped>\n",
       "    .dataframe tbody tr th:only-of-type {\n",
       "        vertical-align: middle;\n",
       "    }\n",
       "\n",
       "    .dataframe tbody tr th {\n",
       "        vertical-align: top;\n",
       "    }\n",
       "\n",
       "    .dataframe thead th {\n",
       "        text-align: right;\n",
       "    }\n",
       "</style>\n",
       "<table border=\"1\" class=\"dataframe\">\n",
       "  <thead>\n",
       "    <tr style=\"text-align: right;\">\n",
       "      <th></th>\n",
       "      <th>country_id</th>\n",
       "      <th>group_id</th>\n",
       "    </tr>\n",
       "  </thead>\n",
       "  <tbody>\n",
       "    <tr>\n",
       "      <th>354</th>\n",
       "      <td>219</td>\n",
       "      <td>4</td>\n",
       "    </tr>\n",
       "    <tr>\n",
       "      <th>70</th>\n",
       "      <td>179</td>\n",
       "      <td>1</td>\n",
       "    </tr>\n",
       "    <tr>\n",
       "      <th>174</th>\n",
       "      <td>146</td>\n",
       "      <td>3</td>\n",
       "    </tr>\n",
       "    <tr>\n",
       "      <th>293</th>\n",
       "      <td>137</td>\n",
       "      <td>4</td>\n",
       "    </tr>\n",
       "    <tr>\n",
       "      <th>170</th>\n",
       "      <td>128</td>\n",
       "      <td>3</td>\n",
       "    </tr>\n",
       "    <tr>\n",
       "      <th>295</th>\n",
       "      <td>139</td>\n",
       "      <td>4</td>\n",
       "    </tr>\n",
       "    <tr>\n",
       "      <th>262</th>\n",
       "      <td>90</td>\n",
       "      <td>4</td>\n",
       "    </tr>\n",
       "    <tr>\n",
       "      <th>50</th>\n",
       "      <td>26</td>\n",
       "      <td>1</td>\n",
       "    </tr>\n",
       "    <tr>\n",
       "      <th>378</th>\n",
       "      <td>247</td>\n",
       "      <td>4</td>\n",
       "    </tr>\n",
       "    <tr>\n",
       "      <th>40</th>\n",
       "      <td>221</td>\n",
       "      <td>0</td>\n",
       "    </tr>\n",
       "  </tbody>\n",
       "</table>\n",
       "</div>"
      ],
      "text/plain": [
       "    country_id group_id\n",
       "354        219        4\n",
       "70         179        1\n",
       "174        146        3\n",
       "293        137        4\n",
       "170        128        3\n",
       "295        139        4\n",
       "262         90        4\n",
       "50          26        1\n",
       "378        247        4\n",
       "40         221        0"
      ]
     },
     "execution_count": 115,
     "metadata": {},
     "output_type": "execute_result"
    }
   ],
   "source": [
    "country_to_group.sample(10)"
   ]
  },
  {
   "cell_type": "code",
   "execution_count": 116,
   "metadata": {},
   "outputs": [
    {
     "data": {
      "text/html": [
       "<div>\n",
       "<style scoped>\n",
       "    .dataframe tbody tr th:only-of-type {\n",
       "        vertical-align: middle;\n",
       "    }\n",
       "\n",
       "    .dataframe tbody tr th {\n",
       "        vertical-align: top;\n",
       "    }\n",
       "\n",
       "    .dataframe thead th {\n",
       "        text-align: right;\n",
       "    }\n",
       "</style>\n",
       "<table border=\"1\" class=\"dataframe\">\n",
       "  <thead>\n",
       "    <tr style=\"text-align: right;\">\n",
       "      <th></th>\n",
       "      <th>country_id</th>\n",
       "      <th>group_id</th>\n",
       "    </tr>\n",
       "  </thead>\n",
       "  <tbody>\n",
       "    <tr>\n",
       "      <th>42</th>\n",
       "      <td>230</td>\n",
       "      <td>0</td>\n",
       "    </tr>\n",
       "    <tr>\n",
       "      <th>129</th>\n",
       "      <td>230</td>\n",
       "      <td>2</td>\n",
       "    </tr>\n",
       "    <tr>\n",
       "      <th>365</th>\n",
       "      <td>230</td>\n",
       "      <td>4</td>\n",
       "    </tr>\n",
       "  </tbody>\n",
       "</table>\n",
       "</div>"
      ],
      "text/plain": [
       "    country_id group_id\n",
       "42         230        0\n",
       "129        230        2\n",
       "365        230        4"
      ]
     },
     "execution_count": 116,
     "metadata": {},
     "output_type": "execute_result"
    }
   ],
   "source": [
    "# Found this one by luck\n",
    "country_to_group.query( 'country_id == 230' )"
   ]
  },
  {
   "cell_type": "code",
   "execution_count": 117,
   "metadata": {},
   "outputs": [
    {
     "data": {
      "text/html": [
       "<div>\n",
       "<style scoped>\n",
       "    .dataframe tbody tr th:only-of-type {\n",
       "        vertical-align: middle;\n",
       "    }\n",
       "\n",
       "    .dataframe tbody tr th {\n",
       "        vertical-align: top;\n",
       "    }\n",
       "\n",
       "    .dataframe thead th {\n",
       "        text-align: right;\n",
       "    }\n",
       "</style>\n",
       "<table border=\"1\" class=\"dataframe\">\n",
       "  <thead>\n",
       "    <tr style=\"text-align: right;\">\n",
       "      <th></th>\n",
       "      <th>country_common_name</th>\n",
       "      <th>country_official_name</th>\n",
       "      <th>capital</th>\n",
       "      <th>territory_of</th>\n",
       "      <th>un_m49</th>\n",
       "      <th>iso_alpha3</th>\n",
       "      <th>least_developed_countries</th>\n",
       "      <th>landlocked_developing_countries</th>\n",
       "      <th>small_island_developing_states</th>\n",
       "      <th>un_region</th>\n",
       "      <th>developed</th>\n",
       "      <th>developing</th>\n",
       "    </tr>\n",
       "  </thead>\n",
       "  <tbody>\n",
       "    <tr>\n",
       "      <th>230</th>\n",
       "      <td>Tuvalu</td>\n",
       "      <td>Ellice Islands</td>\n",
       "      <td>Funafuti</td>\n",
       "      <td>NaN</td>\n",
       "      <td>798</td>\n",
       "      <td>TUV</td>\n",
       "      <td>True</td>\n",
       "      <td>False</td>\n",
       "      <td>True</td>\n",
       "      <td>61</td>\n",
       "      <td>False</td>\n",
       "      <td>True</td>\n",
       "    </tr>\n",
       "  </tbody>\n",
       "</table>\n",
       "</div>"
      ],
      "text/plain": [
       "    country_common_name country_official_name   capital territory_of  un_m49  \\\n",
       "230              Tuvalu        Ellice Islands  Funafuti          NaN     798   \n",
       "\n",
       "    iso_alpha3  least_developed_countries  landlocked_developing_countries  \\\n",
       "230        TUV                       True                            False   \n",
       "\n",
       "     small_island_developing_states  un_region  developed  developing  \n",
       "230                            True         61      False        True  "
      ]
     },
     "execution_count": 117,
     "metadata": {},
     "output_type": "execute_result"
    }
   ],
   "source": [
    "# Is True in the correct columns?\n",
    "countries.query( 'index == 230' )"
   ]
  },
  {
   "cell_type": "markdown",
   "metadata": {},
   "source": [
    "<a id='assess4'></a>\n",
    "## Assess, Part 4"
   ]
  },
  {
   "cell_type": "code",
   "execution_count": 118,
   "metadata": {},
   "outputs": [
    {
     "name": "stdout",
     "output_type": "stream",
     "text": [
      "<class 'pandas.core.frame.DataFrame'>\n",
      "RangeIndex: 249 entries, 0 to 248\n",
      "Data columns (total 12 columns):\n",
      "country_common_name                249 non-null object\n",
      "country_official_name              249 non-null object\n",
      "capital                            243 non-null object\n",
      "territory_of                       48 non-null object\n",
      "un_m49                             249 non-null int64\n",
      "iso_alpha3                         249 non-null object\n",
      "least_developed_countries          249 non-null bool\n",
      "landlocked_developing_countries    249 non-null bool\n",
      "small_island_developing_states     249 non-null bool\n",
      "un_region                          249 non-null int64\n",
      "developed                          249 non-null bool\n",
      "developing                         249 non-null bool\n",
      "dtypes: bool(5), int64(2), object(5)\n",
      "memory usage: 14.9+ KB\n"
     ]
    }
   ],
   "source": [
    "countries.info()"
   ]
  },
  {
   "cell_type": "markdown",
   "metadata": {},
   "source": [
    "### Issues Found:\n",
    "#### Quality\n",
    "1) Remove quotes from Common and Official Names. Several entries contain \" in official name (ex: \"Bonaire, Sint Eustatius, and Saba\") due to commas in field breaking CSV formatting on input. Remove quotes.\n",
    "\n",
    "2) Change text input in `territory_of` to index of associated country. Ex: where `territory_of` is 'United Kingdom', change to 194.\n",
    "\n",
    "3) Fill NaN values in `territory_of` with 0. Set datatype of `territory_of` to int.\n",
    "\n",
    "#### Tidiness\n",
    "4) Drop 5 UN grouping columns: `least_developed_countries`,`landlocked_developing_countries`,`small_island_developing_states`,`developed`,`developing`\n",
    "\n",
    "<a id='clean4'></a>\n",
    "## Clean, Part 4\n",
    "\n",
    "### 1) Remove quotes from Official Names\n",
    "\n",
    "Several entries contain \" in official name (ex: \"Bonaire, Sint Eustatius, and Saba\") due to commas in field breaking CSV formatting on input. Remove quotes.\n",
    "\n",
    "#### Code"
   ]
  },
  {
   "cell_type": "code",
   "execution_count": 119,
   "metadata": {},
   "outputs": [
    {
     "data": {
      "text/html": [
       "<div>\n",
       "<style scoped>\n",
       "    .dataframe tbody tr th:only-of-type {\n",
       "        vertical-align: middle;\n",
       "    }\n",
       "\n",
       "    .dataframe tbody tr th {\n",
       "        vertical-align: top;\n",
       "    }\n",
       "\n",
       "    .dataframe thead th {\n",
       "        text-align: right;\n",
       "    }\n",
       "</style>\n",
       "<table border=\"1\" class=\"dataframe\">\n",
       "  <thead>\n",
       "    <tr style=\"text-align: right;\">\n",
       "      <th></th>\n",
       "      <th>country_common_name</th>\n",
       "      <th>country_official_name</th>\n",
       "      <th>capital</th>\n",
       "      <th>territory_of</th>\n",
       "      <th>un_m49</th>\n",
       "      <th>iso_alpha3</th>\n",
       "      <th>least_developed_countries</th>\n",
       "      <th>landlocked_developing_countries</th>\n",
       "      <th>small_island_developing_states</th>\n",
       "      <th>un_region</th>\n",
       "      <th>developed</th>\n",
       "      <th>developing</th>\n",
       "    </tr>\n",
       "  </thead>\n",
       "  <tbody>\n",
       "    <tr>\n",
       "      <th>0</th>\n",
       "      <td>\"Saint Helena, Ascension, and Tristan da Cunha\"</td>\n",
       "      <td>\"Saint Helena, Ascension, and Tristan da Cunha\"</td>\n",
       "      <td>Jamestown</td>\n",
       "      <td>United Kingdom</td>\n",
       "      <td>654</td>\n",
       "      <td>SHN</td>\n",
       "      <td>False</td>\n",
       "      <td>False</td>\n",
       "      <td>False</td>\n",
       "      <td>11</td>\n",
       "      <td>False</td>\n",
       "      <td>True</td>\n",
       "    </tr>\n",
       "    <tr>\n",
       "      <th>25</th>\n",
       "      <td>BES Islands</td>\n",
       "      <td>\"Bonaire, Sint Eustatius, and Saba\"</td>\n",
       "      <td>Kralendijk</td>\n",
       "      <td>Netherlands</td>\n",
       "      <td>535</td>\n",
       "      <td>BES</td>\n",
       "      <td>False</td>\n",
       "      <td>False</td>\n",
       "      <td>True</td>\n",
       "      <td>29</td>\n",
       "      <td>False</td>\n",
       "      <td>True</td>\n",
       "    </tr>\n",
       "  </tbody>\n",
       "</table>\n",
       "</div>"
      ],
      "text/plain": [
       "                                country_common_name  \\\n",
       "0   \"Saint Helena, Ascension, and Tristan da Cunha\"   \n",
       "25                                      BES Islands   \n",
       "\n",
       "                              country_official_name     capital  \\\n",
       "0   \"Saint Helena, Ascension, and Tristan da Cunha\"   Jamestown   \n",
       "25              \"Bonaire, Sint Eustatius, and Saba\"  Kralendijk   \n",
       "\n",
       "      territory_of  un_m49 iso_alpha3  least_developed_countries  \\\n",
       "0   United Kingdom     654        SHN                      False   \n",
       "25     Netherlands     535        BES                      False   \n",
       "\n",
       "    landlocked_developing_countries  small_island_developing_states  \\\n",
       "0                             False                           False   \n",
       "25                            False                            True   \n",
       "\n",
       "    un_region  developed  developing  \n",
       "0          11      False        True  \n",
       "25         29      False        True  "
      ]
     },
     "execution_count": 119,
     "metadata": {},
     "output_type": "execute_result"
    }
   ],
   "source": [
    "countries[ countries['country_official_name'].str.contains('\"') ]"
   ]
  },
  {
   "cell_type": "code",
   "execution_count": 121,
   "metadata": {},
   "outputs": [],
   "source": [
    "countries.loc[0,'country_official_name'] = \"Saint Helena, Ascension, and Tristan da Cunha\"\n",
    "countries.loc[0,'country_common_name'] = \"Saint Helena, Ascension, and Tristan da Cunha\"\n",
    "countries.loc[25,'country_official_name'] = \"Bonaire, Sint Eustatius, and Saba\""
   ]
  },
  {
   "cell_type": "markdown",
   "metadata": {},
   "source": [
    "#### Test"
   ]
  },
  {
   "cell_type": "code",
   "execution_count": 122,
   "metadata": {},
   "outputs": [
    {
     "data": {
      "text/html": [
       "<div>\n",
       "<style scoped>\n",
       "    .dataframe tbody tr th:only-of-type {\n",
       "        vertical-align: middle;\n",
       "    }\n",
       "\n",
       "    .dataframe tbody tr th {\n",
       "        vertical-align: top;\n",
       "    }\n",
       "\n",
       "    .dataframe thead th {\n",
       "        text-align: right;\n",
       "    }\n",
       "</style>\n",
       "<table border=\"1\" class=\"dataframe\">\n",
       "  <thead>\n",
       "    <tr style=\"text-align: right;\">\n",
       "      <th></th>\n",
       "      <th>country_common_name</th>\n",
       "      <th>country_official_name</th>\n",
       "      <th>capital</th>\n",
       "      <th>territory_of</th>\n",
       "      <th>un_m49</th>\n",
       "      <th>iso_alpha3</th>\n",
       "      <th>least_developed_countries</th>\n",
       "      <th>landlocked_developing_countries</th>\n",
       "      <th>small_island_developing_states</th>\n",
       "      <th>un_region</th>\n",
       "      <th>developed</th>\n",
       "      <th>developing</th>\n",
       "    </tr>\n",
       "  </thead>\n",
       "  <tbody>\n",
       "    <tr>\n",
       "      <th>0</th>\n",
       "      <td>Saint Helena, Ascension, and Tristan da Cunha</td>\n",
       "      <td>Saint Helena, Ascension, and Tristan da Cunha</td>\n",
       "      <td>Jamestown</td>\n",
       "      <td>United Kingdom</td>\n",
       "      <td>654</td>\n",
       "      <td>SHN</td>\n",
       "      <td>False</td>\n",
       "      <td>False</td>\n",
       "      <td>False</td>\n",
       "      <td>11</td>\n",
       "      <td>False</td>\n",
       "      <td>True</td>\n",
       "    </tr>\n",
       "    <tr>\n",
       "      <th>25</th>\n",
       "      <td>BES Islands</td>\n",
       "      <td>Bonaire, Sint Eustatius, and Saba</td>\n",
       "      <td>Kralendijk</td>\n",
       "      <td>Netherlands</td>\n",
       "      <td>535</td>\n",
       "      <td>BES</td>\n",
       "      <td>False</td>\n",
       "      <td>False</td>\n",
       "      <td>True</td>\n",
       "      <td>29</td>\n",
       "      <td>False</td>\n",
       "      <td>True</td>\n",
       "    </tr>\n",
       "  </tbody>\n",
       "</table>\n",
       "</div>"
      ],
      "text/plain": [
       "                              country_common_name  \\\n",
       "0   Saint Helena, Ascension, and Tristan da Cunha   \n",
       "25                                    BES Islands   \n",
       "\n",
       "                            country_official_name     capital    territory_of  \\\n",
       "0   Saint Helena, Ascension, and Tristan da Cunha   Jamestown  United Kingdom   \n",
       "25              Bonaire, Sint Eustatius, and Saba  Kralendijk     Netherlands   \n",
       "\n",
       "    un_m49 iso_alpha3  least_developed_countries  \\\n",
       "0      654        SHN                      False   \n",
       "25     535        BES                      False   \n",
       "\n",
       "    landlocked_developing_countries  small_island_developing_states  \\\n",
       "0                             False                           False   \n",
       "25                            False                            True   \n",
       "\n",
       "    un_region  developed  developing  \n",
       "0          11      False        True  \n",
       "25         29      False        True  "
      ]
     },
     "execution_count": 122,
     "metadata": {},
     "output_type": "execute_result"
    }
   ],
   "source": [
    "countries.query( '( country_common_name == \"BES Islands\" ) | ( country_common_name == \"Saint Helena, Ascension, and Tristan da Cunha\")' )"
   ]
  },
  {
   "cell_type": "markdown",
   "metadata": {},
   "source": [
    "### 2) Change Text Input in `territory_of` to Index value\n",
    "Ex: where `territory_of` is 'United Kingdom', change to 194.\n",
    "\n",
    "#### Code"
   ]
  },
  {
   "cell_type": "code",
   "execution_count": null,
   "metadata": {},
   "outputs": [],
   "source": []
  },
  {
   "cell_type": "markdown",
   "metadata": {},
   "source": [
    "#### Test"
   ]
  },
  {
   "cell_type": "code",
   "execution_count": null,
   "metadata": {},
   "outputs": [],
   "source": []
  },
  {
   "cell_type": "markdown",
   "metadata": {},
   "source": [
    "### 3) Fill NaN in `territory_of`with 0\n",
    "\n",
    "Fill NaN values in `territory_of` with 0. Set datatype of `territory_of` to int.\n",
    "\n",
    "#### Code"
   ]
  },
  {
   "cell_type": "code",
   "execution_count": null,
   "metadata": {},
   "outputs": [],
   "source": []
  },
  {
   "cell_type": "markdown",
   "metadata": {},
   "source": [
    "#### Test"
   ]
  },
  {
   "cell_type": "code",
   "execution_count": null,
   "metadata": {},
   "outputs": [],
   "source": []
  },
  {
   "cell_type": "markdown",
   "metadata": {},
   "source": [
    "### 4) Drop 5 UN grouping columns\n",
    "Drop `least_developed_countries`, `landlocked_developing_countries`, `small_island_developing_states`, `developed`, and `developing`. These columns are no longer needed. This information is now contained in the `un_groupings` and `country_to_group` dataframes.\n",
    "\n",
    "#### Code"
   ]
  },
  {
   "cell_type": "code",
   "execution_count": 57,
   "metadata": {},
   "outputs": [],
   "source": [
    "countries.drop( columns=['least_developed_countries','landlocked_developing_countries','small_island_developing_states','developed','developing'], axis=1, inplace=True )"
   ]
  },
  {
   "cell_type": "markdown",
   "metadata": {},
   "source": [
    "#### Test"
   ]
  },
  {
   "cell_type": "code",
   "execution_count": 58,
   "metadata": {},
   "outputs": [
    {
     "name": "stdout",
     "output_type": "stream",
     "text": [
      "<class 'pandas.core.frame.DataFrame'>\n",
      "RangeIndex: 249 entries, 0 to 248\n",
      "Data columns (total 7 columns):\n",
      "country_common_name      249 non-null object\n",
      "country_official_name    249 non-null object\n",
      "capital                  243 non-null object\n",
      "territory_of             51 non-null object\n",
      "un_m49                   249 non-null int64\n",
      "iso_alpha3               249 non-null object\n",
      "un_region                249 non-null int64\n",
      "dtypes: int64(2), object(5)\n",
      "memory usage: 13.7+ KB\n"
     ]
    }
   ],
   "source": [
    "countries.info()"
   ]
  },
  {
   "cell_type": "code",
   "execution_count": null,
   "metadata": {},
   "outputs": [],
   "source": []
  },
  {
   "cell_type": "code",
   "execution_count": null,
   "metadata": {},
   "outputs": [],
   "source": []
  },
  {
   "cell_type": "code",
   "execution_count": 61,
   "metadata": {},
   "outputs": [
    {
     "data": {
      "text/html": [
       "<div>\n",
       "<style scoped>\n",
       "    .dataframe tbody tr th:only-of-type {\n",
       "        vertical-align: middle;\n",
       "    }\n",
       "\n",
       "    .dataframe tbody tr th {\n",
       "        vertical-align: top;\n",
       "    }\n",
       "\n",
       "    .dataframe thead th {\n",
       "        text-align: right;\n",
       "    }\n",
       "</style>\n",
       "<table border=\"1\" class=\"dataframe\">\n",
       "  <thead>\n",
       "    <tr style=\"text-align: right;\">\n",
       "      <th></th>\n",
       "      <th>country_common_name</th>\n",
       "      <th>country_official_name</th>\n",
       "      <th>capital</th>\n",
       "      <th>territory_of</th>\n",
       "      <th>un_m49</th>\n",
       "      <th>iso_alpha3</th>\n",
       "      <th>un_region</th>\n",
       "    </tr>\n",
       "  </thead>\n",
       "  <tbody>\n",
       "    <tr>\n",
       "      <th>10</th>\n",
       "      <td>British Indian Ocean Territory</td>\n",
       "      <td>British Indian Ocean Territory</td>\n",
       "      <td>Camp Justice</td>\n",
       "      <td>United Kingdom</td>\n",
       "      <td>86</td>\n",
       "      <td>IOT</td>\n",
       "      <td>14</td>\n",
       "    </tr>\n",
       "    <tr>\n",
       "      <th>59</th>\n",
       "      <td>Saint Helena</td>\n",
       "      <td>Saint Helena</td>\n",
       "      <td>Jamestown</td>\n",
       "      <td>United Kingdom</td>\n",
       "      <td>654</td>\n",
       "      <td>SHN</td>\n",
       "      <td>11</td>\n",
       "    </tr>\n",
       "    <tr>\n",
       "      <th>63</th>\n",
       "      <td>Anguilla</td>\n",
       "      <td>Anguilla</td>\n",
       "      <td>The Valley</td>\n",
       "      <td>United Kingdom</td>\n",
       "      <td>660</td>\n",
       "      <td>AIA</td>\n",
       "      <td>29</td>\n",
       "    </tr>\n",
       "    <tr>\n",
       "      <th>68</th>\n",
       "      <td>British Virgin Islands</td>\n",
       "      <td>British Virgin Islands</td>\n",
       "      <td>Road Town</td>\n",
       "      <td>United Kingdom</td>\n",
       "      <td>92</td>\n",
       "      <td>VGB</td>\n",
       "      <td>29</td>\n",
       "    </tr>\n",
       "    <tr>\n",
       "      <th>69</th>\n",
       "      <td>Cayman Islands</td>\n",
       "      <td>Cayman Islands</td>\n",
       "      <td>George Town</td>\n",
       "      <td>United Kingdom</td>\n",
       "      <td>136</td>\n",
       "      <td>CYM</td>\n",
       "      <td>29</td>\n",
       "    </tr>\n",
       "    <tr>\n",
       "      <th>79</th>\n",
       "      <td>Montserrat</td>\n",
       "      <td>Montserrat</td>\n",
       "      <td>Plymouth</td>\n",
       "      <td>United Kingdom</td>\n",
       "      <td>500</td>\n",
       "      <td>MSR</td>\n",
       "      <td>29</td>\n",
       "    </tr>\n",
       "    <tr>\n",
       "      <th>105</th>\n",
       "      <td>Falkland Islands</td>\n",
       "      <td>Falkland Islands</td>\n",
       "      <td>Stanley</td>\n",
       "      <td>United Kingdom</td>\n",
       "      <td>238</td>\n",
       "      <td>FLK</td>\n",
       "      <td>5</td>\n",
       "    </tr>\n",
       "    <tr>\n",
       "      <th>110</th>\n",
       "      <td>South Georgia and the South Sandwich Islands</td>\n",
       "      <td>South Georgia and the South Sandwich Islands</td>\n",
       "      <td>King Edward Point</td>\n",
       "      <td>United Kingdom</td>\n",
       "      <td>239</td>\n",
       "      <td>SGS</td>\n",
       "      <td>5</td>\n",
       "    </tr>\n",
       "    <tr>\n",
       "      <th>114</th>\n",
       "      <td>Bermuda</td>\n",
       "      <td>Bermuda</td>\n",
       "      <td>Hamilton</td>\n",
       "      <td>United Kingdom</td>\n",
       "      <td>60</td>\n",
       "      <td>BMU</td>\n",
       "      <td>21</td>\n",
       "    </tr>\n",
       "    <tr>\n",
       "      <th>179</th>\n",
       "      <td>Guernsey</td>\n",
       "      <td>Guernsey</td>\n",
       "      <td>St Peter Port</td>\n",
       "      <td>United Kingdom</td>\n",
       "      <td>831</td>\n",
       "      <td>GGY</td>\n",
       "      <td>830</td>\n",
       "    </tr>\n",
       "    <tr>\n",
       "      <th>180</th>\n",
       "      <td>Jersey</td>\n",
       "      <td>Bailiwick of Jersey</td>\n",
       "      <td>Saint Helier</td>\n",
       "      <td>United Kingdom</td>\n",
       "      <td>832</td>\n",
       "      <td>JEY</td>\n",
       "      <td>830</td>\n",
       "    </tr>\n",
       "    <tr>\n",
       "      <th>181</th>\n",
       "      <td>Sark</td>\n",
       "      <td>Sark</td>\n",
       "      <td>NaN</td>\n",
       "      <td>United Kingdom</td>\n",
       "      <td>680</td>\n",
       "      <td>NA</td>\n",
       "      <td>830</td>\n",
       "    </tr>\n",
       "    <tr>\n",
       "      <th>188</th>\n",
       "      <td>Isle of Man</td>\n",
       "      <td>Isle of Man</td>\n",
       "      <td>Douglas</td>\n",
       "      <td>United Kingdom</td>\n",
       "      <td>833</td>\n",
       "      <td>IMN</td>\n",
       "      <td>154</td>\n",
       "    </tr>\n",
       "    <tr>\n",
       "      <th>199</th>\n",
       "      <td>Gibraltar</td>\n",
       "      <td>Gibraltar</td>\n",
       "      <td>Gibraltar</td>\n",
       "      <td>United Kingdom</td>\n",
       "      <td>292</td>\n",
       "      <td>GIB</td>\n",
       "      <td>39</td>\n",
       "    </tr>\n",
       "    <tr>\n",
       "      <th>243</th>\n",
       "      <td>Pitcairn</td>\n",
       "      <td>Pitcairn, Henderson, Ducie and Oeno Islands</td>\n",
       "      <td>Adamstown</td>\n",
       "      <td>United Kingdom</td>\n",
       "      <td>612</td>\n",
       "      <td>PCN</td>\n",
       "      <td>61</td>\n",
       "    </tr>\n",
       "  </tbody>\n",
       "</table>\n",
       "</div>"
      ],
      "text/plain": [
       "                              country_common_name  \\\n",
       "10                 British Indian Ocean Territory   \n",
       "59                                   Saint Helena   \n",
       "63                                       Anguilla   \n",
       "68                         British Virgin Islands   \n",
       "69                                 Cayman Islands   \n",
       "79                                     Montserrat   \n",
       "105                              Falkland Islands   \n",
       "110  South Georgia and the South Sandwich Islands   \n",
       "114                                       Bermuda   \n",
       "179                                      Guernsey   \n",
       "180                                        Jersey   \n",
       "181                                          Sark   \n",
       "188                                   Isle of Man   \n",
       "199                                     Gibraltar   \n",
       "243                                      Pitcairn   \n",
       "\n",
       "                            country_official_name            capital  \\\n",
       "10                 British Indian Ocean Territory       Camp Justice   \n",
       "59                                   Saint Helena          Jamestown   \n",
       "63                                       Anguilla         The Valley   \n",
       "68                         British Virgin Islands          Road Town   \n",
       "69                                 Cayman Islands        George Town   \n",
       "79                                     Montserrat           Plymouth   \n",
       "105                              Falkland Islands            Stanley   \n",
       "110  South Georgia and the South Sandwich Islands  King Edward Point   \n",
       "114                                       Bermuda           Hamilton   \n",
       "179                                      Guernsey      St Peter Port   \n",
       "180                           Bailiwick of Jersey       Saint Helier   \n",
       "181                                          Sark                NaN   \n",
       "188                                   Isle of Man            Douglas   \n",
       "199                                     Gibraltar          Gibraltar   \n",
       "243   Pitcairn, Henderson, Ducie and Oeno Islands          Adamstown   \n",
       "\n",
       "       territory_of  un_m49 iso_alpha3  un_region  \n",
       "10   United Kingdom      86        IOT         14  \n",
       "59   United Kingdom     654        SHN         11  \n",
       "63   United Kingdom     660        AIA         29  \n",
       "68   United Kingdom      92        VGB         29  \n",
       "69   United Kingdom     136        CYM         29  \n",
       "79   United Kingdom     500        MSR         29  \n",
       "105  United Kingdom     238        FLK          5  \n",
       "110  United Kingdom     239        SGS          5  \n",
       "114  United Kingdom      60        BMU         21  \n",
       "179  United Kingdom     831        GGY        830  \n",
       "180  United Kingdom     832        JEY        830  \n",
       "181  United Kingdom     680         NA        830  \n",
       "188  United Kingdom     833        IMN        154  \n",
       "199  United Kingdom     292        GIB         39  \n",
       "243  United Kingdom     612        PCN         61  "
      ]
     },
     "execution_count": 61,
     "metadata": {},
     "output_type": "execute_result"
    }
   ],
   "source": [
    "countries.query( 'territory_of == \"United Kingdom\"' )"
   ]
  },
  {
   "cell_type": "code",
   "execution_count": 60,
   "metadata": {},
   "outputs": [
    {
     "data": {
      "text/html": [
       "<div>\n",
       "<style scoped>\n",
       "    .dataframe tbody tr th:only-of-type {\n",
       "        vertical-align: middle;\n",
       "    }\n",
       "\n",
       "    .dataframe tbody tr th {\n",
       "        vertical-align: top;\n",
       "    }\n",
       "\n",
       "    .dataframe thead th {\n",
       "        text-align: right;\n",
       "    }\n",
       "</style>\n",
       "<table border=\"1\" class=\"dataframe\">\n",
       "  <thead>\n",
       "    <tr style=\"text-align: right;\">\n",
       "      <th></th>\n",
       "      <th>country_common_name</th>\n",
       "      <th>country_official_name</th>\n",
       "      <th>capital</th>\n",
       "      <th>territory_of</th>\n",
       "      <th>un_m49</th>\n",
       "      <th>iso_alpha3</th>\n",
       "      <th>un_region</th>\n",
       "    </tr>\n",
       "  </thead>\n",
       "  <tbody>\n",
       "    <tr>\n",
       "      <th>194</th>\n",
       "      <td>United Kingdom</td>\n",
       "      <td>United Kingdom of Great Britain and Northern I...</td>\n",
       "      <td>London</td>\n",
       "      <td>NaN</td>\n",
       "      <td>826</td>\n",
       "      <td>GBR</td>\n",
       "      <td>154</td>\n",
       "    </tr>\n",
       "  </tbody>\n",
       "</table>\n",
       "</div>"
      ],
      "text/plain": [
       "    country_common_name                              country_official_name  \\\n",
       "194      United Kingdom  United Kingdom of Great Britain and Northern I...   \n",
       "\n",
       "    capital territory_of  un_m49 iso_alpha3  un_region  \n",
       "194  London          NaN     826        GBR        154  "
      ]
     },
     "execution_count": 60,
     "metadata": {},
     "output_type": "execute_result"
    }
   ],
   "source": [
    "countries[ countries['country_common_name'] == 'United Kingdom' ]"
   ]
  }
 ],
 "metadata": {
  "kernelspec": {
   "display_name": "Python 3",
   "language": "python",
   "name": "python3"
  },
  "language_info": {
   "codemirror_mode": {
    "name": "ipython",
    "version": 3
   },
   "file_extension": ".py",
   "mimetype": "text/x-python",
   "name": "python",
   "nbconvert_exporter": "python",
   "pygments_lexer": "ipython3",
   "version": "3.7.3"
  }
 },
 "nbformat": 4,
 "nbformat_minor": 2
}
