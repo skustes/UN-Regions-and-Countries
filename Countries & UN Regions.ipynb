{
 "cells": [
  {
   "cell_type": "markdown",
   "metadata": {},
   "source": [
    "# Wrangling Countries & UN Regions\n",
    "## By: Scott Kustes\n",
    "\n",
    "### Objective:\n",
    "Wrangle UN regions and subregions and associated countries for insertion into website database.\n",
    "\n",
    "#### Dataset:\n",
    "The original dataset was downloaded here: https://unstats.un.org/unsd/methodology/m49/\n",
    "\n",
    "#### Contents\n",
    "- <a href='#gather'>Data Gathering</a>\n",
    "- <a href='#assess1'>Assess, Part 1</a>\n",
    "- <a href='#clean1'>Clean, Part 1</a>\n",
    "- <a href='#assess2'>Assess, Part 2</a>\n",
    "- <a href='#clean2'>Clean, Part 2</a>\n",
    "- <a href='#extract-un'>UN Regional Hierarchy Extraction</a>\n",
    "- <a href='#assess3'>Assess, Part 3</a>\n",
    "- <a href='#clean3'>Clean, Part 3</a>\n",
    "- <a href='#extract-groups'>UN Groupings Extraction</a>\n",
    "- <a href='#assess4'>Assess, Part 4</a>\n",
    "- <a href='#clean4'>Clean, Part 4</a>\n",
    "- <a href='#final'>Finished Dataframes</a>\n",
    "- <a href='#db'>Insert into Database</a>"
   ]
  },
  {
   "cell_type": "code",
   "execution_count": 1,
   "metadata": {},
   "outputs": [],
   "source": [
    "# Import necessary packages\n",
    "import pandas as pd"
   ]
  },
  {
   "cell_type": "markdown",
   "metadata": {},
   "source": [
    "<a id='gather'></a>\n",
    "## Gather"
   ]
  },
  {
   "cell_type": "code",
   "execution_count": 2,
   "metadata": {},
   "outputs": [
    {
     "data": {
      "text/html": [
       "<div>\n",
       "<style scoped>\n",
       "    .dataframe tbody tr th:only-of-type {\n",
       "        vertical-align: middle;\n",
       "    }\n",
       "\n",
       "    .dataframe tbody tr th {\n",
       "        vertical-align: top;\n",
       "    }\n",
       "\n",
       "    .dataframe thead th {\n",
       "        text-align: right;\n",
       "    }\n",
       "</style>\n",
       "<table border=\"1\" class=\"dataframe\">\n",
       "  <thead>\n",
       "    <tr style=\"text-align: right;\">\n",
       "      <th></th>\n",
       "      <th>Global Code</th>\n",
       "      <th>Global Name</th>\n",
       "      <th>Region Code</th>\n",
       "      <th>Region Name</th>\n",
       "      <th>Sub-region Code</th>\n",
       "      <th>Sub-region Name</th>\n",
       "      <th>Intermediate Region Code</th>\n",
       "      <th>Intermediate Region Name</th>\n",
       "      <th>Common Name</th>\n",
       "      <th>Official Name</th>\n",
       "      <th>Capital</th>\n",
       "      <th>M49 Code</th>\n",
       "      <th>ISO-alpha3 Code</th>\n",
       "      <th>Least Developed Countries (LDC)</th>\n",
       "      <th>Land Locked Developing Countries (LLDC)</th>\n",
       "      <th>Small Island Developing States (SIDS)</th>\n",
       "      <th>Developed / Developing Countries</th>\n",
       "    </tr>\n",
       "  </thead>\n",
       "  <tbody>\n",
       "    <tr>\n",
       "      <td>9</td>\n",
       "      <td>1</td>\n",
       "      <td>World</td>\n",
       "      <td>NaN</td>\n",
       "      <td>NaN</td>\n",
       "      <td>NaN</td>\n",
       "      <td>NaN</td>\n",
       "      <td>NaN</td>\n",
       "      <td>NaN</td>\n",
       "      <td>Antarctica</td>\n",
       "      <td>Antarctica</td>\n",
       "      <td>NaN</td>\n",
       "      <td>10</td>\n",
       "      <td>ATA</td>\n",
       "      <td>NaN</td>\n",
       "      <td>NaN</td>\n",
       "      <td>NaN</td>\n",
       "      <td>NaN</td>\n",
       "    </tr>\n",
       "    <tr>\n",
       "      <td>150</td>\n",
       "      <td>1</td>\n",
       "      <td>World</td>\n",
       "      <td>142.0</td>\n",
       "      <td>Asia</td>\n",
       "      <td>35.0</td>\n",
       "      <td>South-eastern Asia</td>\n",
       "      <td>NaN</td>\n",
       "      <td>NaN</td>\n",
       "      <td>Myanmar</td>\n",
       "      <td>Republic of the Union of Myanmar</td>\n",
       "      <td>Naypyidaw</td>\n",
       "      <td>104</td>\n",
       "      <td>MMR</td>\n",
       "      <td>x</td>\n",
       "      <td>NaN</td>\n",
       "      <td>NaN</td>\n",
       "      <td>Developing</td>\n",
       "    </tr>\n",
       "    <tr>\n",
       "      <td>239</td>\n",
       "      <td>1</td>\n",
       "      <td>World</td>\n",
       "      <td>142.0</td>\n",
       "      <td>Asia</td>\n",
       "      <td>143.0</td>\n",
       "      <td>Central Asia</td>\n",
       "      <td>NaN</td>\n",
       "      <td>NaN</td>\n",
       "      <td>Uzbekistan</td>\n",
       "      <td>Republic of Uzbekistan</td>\n",
       "      <td>Tashkent</td>\n",
       "      <td>860</td>\n",
       "      <td>UZB</td>\n",
       "      <td>NaN</td>\n",
       "      <td>x</td>\n",
       "      <td>NaN</td>\n",
       "      <td>Developing</td>\n",
       "    </tr>\n",
       "    <tr>\n",
       "      <td>219</td>\n",
       "      <td>1</td>\n",
       "      <td>World</td>\n",
       "      <td>19.0</td>\n",
       "      <td>Americas</td>\n",
       "      <td>419.0</td>\n",
       "      <td>Latin America and the Caribbean</td>\n",
       "      <td>29.0</td>\n",
       "      <td>Caribbean</td>\n",
       "      <td>The Bahamas</td>\n",
       "      <td>Commonwealth of The Bahamas</td>\n",
       "      <td>Nassau</td>\n",
       "      <td>44</td>\n",
       "      <td>BHS</td>\n",
       "      <td>NaN</td>\n",
       "      <td>NaN</td>\n",
       "      <td>x</td>\n",
       "      <td>Developing</td>\n",
       "    </tr>\n",
       "    <tr>\n",
       "      <td>174</td>\n",
       "      <td>1</td>\n",
       "      <td>World</td>\n",
       "      <td>150.0</td>\n",
       "      <td>Europe</td>\n",
       "      <td>151.0</td>\n",
       "      <td>Eastern Europe</td>\n",
       "      <td>NaN</td>\n",
       "      <td>NaN</td>\n",
       "      <td>Poland</td>\n",
       "      <td>Republic of Poland</td>\n",
       "      <td>Warsaw</td>\n",
       "      <td>616</td>\n",
       "      <td>POL</td>\n",
       "      <td>NaN</td>\n",
       "      <td>NaN</td>\n",
       "      <td>NaN</td>\n",
       "      <td>Developed</td>\n",
       "    </tr>\n",
       "  </tbody>\n",
       "</table>\n",
       "</div>"
      ],
      "text/plain": [
       "     Global Code Global Name  Region Code Region Name  Sub-region Code  \\\n",
       "9              1       World          NaN         NaN              NaN   \n",
       "150            1       World        142.0        Asia             35.0   \n",
       "239            1       World        142.0        Asia            143.0   \n",
       "219            1       World         19.0    Americas            419.0   \n",
       "174            1       World        150.0      Europe            151.0   \n",
       "\n",
       "                     Sub-region Name  Intermediate Region Code  \\\n",
       "9                                NaN                       NaN   \n",
       "150               South-eastern Asia                       NaN   \n",
       "239                     Central Asia                       NaN   \n",
       "219  Latin America and the Caribbean                      29.0   \n",
       "174                   Eastern Europe                       NaN   \n",
       "\n",
       "    Intermediate Region Name  Common Name                     Official Name  \\\n",
       "9                        NaN   Antarctica                        Antarctica   \n",
       "150                      NaN      Myanmar  Republic of the Union of Myanmar   \n",
       "239                      NaN   Uzbekistan            Republic of Uzbekistan   \n",
       "219                Caribbean  The Bahamas       Commonwealth of The Bahamas   \n",
       "174                      NaN       Poland                Republic of Poland   \n",
       "\n",
       "       Capital  M49 Code ISO-alpha3 Code Least Developed Countries (LDC)  \\\n",
       "9          NaN        10             ATA                             NaN   \n",
       "150  Naypyidaw       104             MMR                               x   \n",
       "239   Tashkent       860             UZB                             NaN   \n",
       "219     Nassau        44             BHS                             NaN   \n",
       "174     Warsaw       616             POL                             NaN   \n",
       "\n",
       "    Land Locked Developing Countries (LLDC)  \\\n",
       "9                                       NaN   \n",
       "150                                     NaN   \n",
       "239                                       x   \n",
       "219                                     NaN   \n",
       "174                                     NaN   \n",
       "\n",
       "    Small Island Developing States (SIDS) Developed / Developing Countries  \n",
       "9                                     NaN                              NaN  \n",
       "150                                   NaN                       Developing  \n",
       "239                                   NaN                       Developing  \n",
       "219                                     x                       Developing  \n",
       "174                                   NaN                        Developed  "
      ]
     },
     "execution_count": 2,
     "metadata": {},
     "output_type": "execute_result"
    }
   ],
   "source": [
    "countries = pd.read_csv( 'countries.csv' )\n",
    "countries.sample(5)"
   ]
  },
  {
   "cell_type": "markdown",
   "metadata": {},
   "source": [
    "<a id='assess1'></a>\n",
    "## Assess, Part 1"
   ]
  },
  {
   "cell_type": "code",
   "execution_count": 3,
   "metadata": {},
   "outputs": [
    {
     "data": {
      "text/plain": [
       "array([1], dtype=int64)"
      ]
     },
     "execution_count": 3,
     "metadata": {},
     "output_type": "execute_result"
    }
   ],
   "source": [
    "countries['Global Code'].unique()"
   ]
  },
  {
   "cell_type": "code",
   "execution_count": 4,
   "metadata": {},
   "outputs": [
    {
     "data": {
      "text/plain": [
       "array(['World'], dtype=object)"
      ]
     },
     "execution_count": 4,
     "metadata": {},
     "output_type": "execute_result"
    }
   ],
   "source": [
    "countries['Global Name'].unique()"
   ]
  },
  {
   "cell_type": "markdown",
   "metadata": {},
   "source": [
    "### Issues Found:\n",
    "1) Drop columns: `Global Code` and `Global Name` - only 1 unique value\n",
    "\n",
    "2) Rename columns: replace spaces with underscores, replace uppercase with lowercase\n",
    "\n",
    "<a id='clean1'></a>\n",
    "## Clean, Part 1\n",
    "### 1) Drop columns `Global Code` and `Global Name`\n",
    "\n",
    "Drop `Global Code` and `Global Name` columns due to each having only 1 unique value (1 and World, respectively).\n",
    "\n",
    "#### Code"
   ]
  },
  {
   "cell_type": "code",
   "execution_count": 5,
   "metadata": {},
   "outputs": [],
   "source": [
    "countries.drop( columns=['Global Code','Global Name'], axis=1, inplace=True )"
   ]
  },
  {
   "cell_type": "markdown",
   "metadata": {},
   "source": [
    "#### Test"
   ]
  },
  {
   "cell_type": "code",
   "execution_count": 6,
   "metadata": {},
   "outputs": [
    {
     "name": "stdout",
     "output_type": "stream",
     "text": [
      "<class 'pandas.core.frame.DataFrame'>\n",
      "RangeIndex: 249 entries, 0 to 248\n",
      "Data columns (total 15 columns):\n",
      "Region Code                                248 non-null float64\n",
      "Region Name                                248 non-null object\n",
      "Sub-region Code                            248 non-null float64\n",
      "Sub-region Name                            248 non-null object\n",
      "Intermediate Region Code                   108 non-null float64\n",
      "Intermediate Region Name                   108 non-null object\n",
      "Common Name                                249 non-null object\n",
      "Official Name                              249 non-null object\n",
      "Capital                                    243 non-null object\n",
      "M49 Code                                   249 non-null int64\n",
      "ISO-alpha3 Code                            248 non-null object\n",
      "Least Developed Countries (LDC)            47 non-null object\n",
      "Land Locked Developing Countries (LLDC)    32 non-null object\n",
      "Small Island Developing States (SIDS)      53 non-null object\n",
      "Developed / Developing Countries           248 non-null object\n",
      "dtypes: float64(3), int64(1), object(11)\n",
      "memory usage: 29.3+ KB\n"
     ]
    }
   ],
   "source": [
    "countries.info()"
   ]
  },
  {
   "cell_type": "markdown",
   "metadata": {},
   "source": [
    "### 2) Rename Columns\n",
    "Replace spaces with underscores, replace uppercase letters with lowercase\n",
    "\n",
    "#### Code"
   ]
  },
  {
   "cell_type": "code",
   "execution_count": 7,
   "metadata": {},
   "outputs": [],
   "source": [
    "# Dictionary of new column names\n",
    "column_names = {\n",
    "    'Region Code': 'region_code',\n",
    "    'Region Name': 'region_name',\n",
    "    'Sub-region Code': 'subregion_code',\n",
    "    'Sub-region Name': 'subregion_name',\n",
    "    'Intermediate Region Code': 'intermediate_region_code',\n",
    "    'Intermediate Region Name': 'intermediate_region_name',\n",
    "    'Common Name': 'common_name',\n",
    "    'Official Name': 'official_name',\n",
    "    'Capital': 'capital',\n",
    "    'Territory of': 'territory_of',\n",
    "    'M49 Code': 'un_m49',\n",
    "    'ISO-alpha3 Code': 'iso_alpha3',\n",
    "    'Least Developed Countries (LDC)': 'least_developed_countries',\n",
    "    'Land Locked Developing Countries (LLDC)': 'landlocked_developing_countries',\n",
    "    'Small Island Developing States (SIDS)': 'small_island_developing_states',\n",
    "    'Developed / Developing Countries': 'developed_developing_countries'\n",
    "}\n",
    "\n",
    "countries.rename( mapper=column_names, axis=1, inplace=True )"
   ]
  },
  {
   "cell_type": "markdown",
   "metadata": {},
   "source": [
    "#### Test"
   ]
  },
  {
   "cell_type": "code",
   "execution_count": 8,
   "metadata": {},
   "outputs": [
    {
     "name": "stdout",
     "output_type": "stream",
     "text": [
      "<class 'pandas.core.frame.DataFrame'>\n",
      "RangeIndex: 249 entries, 0 to 248\n",
      "Data columns (total 15 columns):\n",
      "region_code                        248 non-null float64\n",
      "region_name                        248 non-null object\n",
      "subregion_code                     248 non-null float64\n",
      "subregion_name                     248 non-null object\n",
      "intermediate_region_code           108 non-null float64\n",
      "intermediate_region_name           108 non-null object\n",
      "common_name                        249 non-null object\n",
      "official_name                      249 non-null object\n",
      "capital                            243 non-null object\n",
      "un_m49                             249 non-null int64\n",
      "iso_alpha3                         248 non-null object\n",
      "least_developed_countries          47 non-null object\n",
      "landlocked_developing_countries    32 non-null object\n",
      "small_island_developing_states     53 non-null object\n",
      "developed_developing_countries     248 non-null object\n",
      "dtypes: float64(3), int64(1), object(11)\n",
      "memory usage: 29.3+ KB\n"
     ]
    }
   ],
   "source": [
    "countries.info()"
   ]
  },
  {
   "cell_type": "markdown",
   "metadata": {},
   "source": [
    "<a id='assess2'></a>\n",
    "## Assess, Part 2"
   ]
  },
  {
   "cell_type": "code",
   "execution_count": 9,
   "metadata": {},
   "outputs": [
    {
     "data": {
      "text/plain": [
       "array([  2., 142., 150.,   9.,  19.,  nan])"
      ]
     },
     "execution_count": 9,
     "metadata": {},
     "output_type": "execute_result"
    }
   ],
   "source": [
    "countries['region_code'].unique()"
   ]
  },
  {
   "cell_type": "code",
   "execution_count": 10,
   "metadata": {},
   "outputs": [
    {
     "data": {
      "text/plain": [
       "array(['Africa', 'Asia', 'Europe', 'Oceania', 'Americas', nan],\n",
       "      dtype=object)"
      ]
     },
     "execution_count": 10,
     "metadata": {},
     "output_type": "execute_result"
    }
   ],
   "source": [
    "countries['region_name'].unique()"
   ]
  },
  {
   "cell_type": "code",
   "execution_count": 11,
   "metadata": {},
   "outputs": [
    {
     "data": {
      "text/html": [
       "<div>\n",
       "<style scoped>\n",
       "    .dataframe tbody tr th:only-of-type {\n",
       "        vertical-align: middle;\n",
       "    }\n",
       "\n",
       "    .dataframe tbody tr th {\n",
       "        vertical-align: top;\n",
       "    }\n",
       "\n",
       "    .dataframe thead th {\n",
       "        text-align: right;\n",
       "    }\n",
       "</style>\n",
       "<table border=\"1\" class=\"dataframe\">\n",
       "  <thead>\n",
       "    <tr style=\"text-align: right;\">\n",
       "      <th></th>\n",
       "      <th>region_code</th>\n",
       "      <th>region_name</th>\n",
       "      <th>subregion_code</th>\n",
       "      <th>subregion_name</th>\n",
       "      <th>intermediate_region_code</th>\n",
       "      <th>intermediate_region_name</th>\n",
       "      <th>common_name</th>\n",
       "      <th>official_name</th>\n",
       "      <th>capital</th>\n",
       "      <th>un_m49</th>\n",
       "      <th>iso_alpha3</th>\n",
       "      <th>least_developed_countries</th>\n",
       "      <th>landlocked_developing_countries</th>\n",
       "      <th>small_island_developing_states</th>\n",
       "      <th>developed_developing_countries</th>\n",
       "    </tr>\n",
       "  </thead>\n",
       "  <tbody>\n",
       "    <tr>\n",
       "      <td>9</td>\n",
       "      <td>NaN</td>\n",
       "      <td>NaN</td>\n",
       "      <td>NaN</td>\n",
       "      <td>NaN</td>\n",
       "      <td>NaN</td>\n",
       "      <td>NaN</td>\n",
       "      <td>Antarctica</td>\n",
       "      <td>Antarctica</td>\n",
       "      <td>NaN</td>\n",
       "      <td>10</td>\n",
       "      <td>ATA</td>\n",
       "      <td>NaN</td>\n",
       "      <td>NaN</td>\n",
       "      <td>NaN</td>\n",
       "      <td>NaN</td>\n",
       "    </tr>\n",
       "  </tbody>\n",
       "</table>\n",
       "</div>"
      ],
      "text/plain": [
       "   region_code region_name  subregion_code subregion_name  \\\n",
       "9          NaN         NaN             NaN            NaN   \n",
       "\n",
       "   intermediate_region_code intermediate_region_name common_name  \\\n",
       "9                       NaN                      NaN  Antarctica   \n",
       "\n",
       "  official_name capital  un_m49 iso_alpha3 least_developed_countries  \\\n",
       "9    Antarctica     NaN      10        ATA                       NaN   \n",
       "\n",
       "  landlocked_developing_countries small_island_developing_states  \\\n",
       "9                             NaN                            NaN   \n",
       "\n",
       "  developed_developing_countries  \n",
       "9                            NaN  "
      ]
     },
     "execution_count": 11,
     "metadata": {},
     "output_type": "execute_result"
    }
   ],
   "source": [
    "countries[ countries['region_code'].isnull() ]"
   ]
  },
  {
   "cell_type": "code",
   "execution_count": 12,
   "metadata": {},
   "outputs": [
    {
     "data": {
      "text/plain": [
       "array(['Developing', 'Developed', nan], dtype=object)"
      ]
     },
     "execution_count": 12,
     "metadata": {},
     "output_type": "execute_result"
    }
   ],
   "source": [
    "countries['developed_developing_countries'].unique()"
   ]
  },
  {
   "cell_type": "code",
   "execution_count": 13,
   "metadata": {},
   "outputs": [
    {
     "data": {
      "text/plain": [
       "array(['Western Africa', nan, 'Middle Africa', 'Caribbean',\n",
       "       'South America', 'Central America', 'Southern Africa',\n",
       "       'Eastern Africa', 'Channel Islands'], dtype=object)"
      ]
     },
     "execution_count": 13,
     "metadata": {},
     "output_type": "execute_result"
    }
   ],
   "source": [
    "countries['intermediate_region_name'].unique()"
   ]
  },
  {
   "cell_type": "code",
   "execution_count": 14,
   "metadata": {},
   "outputs": [
    {
     "data": {
      "text/plain": [
       "array(['Africa', 'Asia', 'Europe', 'Oceania', 'Americas', nan],\n",
       "      dtype=object)"
      ]
     },
     "execution_count": 14,
     "metadata": {},
     "output_type": "execute_result"
    }
   ],
   "source": [
    "countries['region_name'].unique()"
   ]
  },
  {
   "cell_type": "code",
   "execution_count": 15,
   "metadata": {},
   "outputs": [
    {
     "data": {
      "text/plain": [
       "array(['Sub-Saharan Africa', 'Southern Asia', 'Northern Europe',\n",
       "       'Southern Europe', 'Northern Africa', 'Polynesia',\n",
       "       'Latin America and the Caribbean', nan, 'Western Asia',\n",
       "       'Australia and New Zealand', 'Western Europe', 'Eastern Europe',\n",
       "       'Northern America', 'South-eastern Asia', 'Eastern Asia',\n",
       "       'Melanesia', 'Micronesia', 'Central Asia'], dtype=object)"
      ]
     },
     "execution_count": 15,
     "metadata": {},
     "output_type": "execute_result"
    }
   ],
   "source": [
    "countries['subregion_name'].unique()"
   ]
  },
  {
   "cell_type": "markdown",
   "metadata": {},
   "source": [
    "### Issues Found:\n",
    "1) Replace NaN with 0 in `region_code`, `subregion_code`, and `intermediate_region_code`\n",
    "\n",
    "2) Replace NaN with 0 and 'x' with 1 in `least_developed_countries`, `landlocked_developing_countries`, and `small_island_developing_states`\n",
    "\n",
    "3) Set datatypes:\n",
    "- <strong>str:</strong> `region_code`, `subregion_code`, `intermediate_region_code`, padded with zeroes to three characters</li>\n",
    "- <strong>bool:</strong> `least_developed_countries`, `landlocked_developing_countries`, `small_island_developing_states`\n",
    "\n",
    "4) Set Antarctica's `region_code`, `subregion_code`, and `intermediate_region_code` to 999.\n",
    "\n",
    "5) Replace NaN with empty string in `capital`\n",
    "\n",
    "<a id='clean2'></a>\n",
    "## Clean, Part 2\n",
    "### 1) Fix Values in Columns with Region Codes\n",
    "Replace NaN with 0 in region_code, subregion_code, and intermediate_region_code\n",
    "\n",
    "#### Code"
   ]
  },
  {
   "cell_type": "code",
   "execution_count": 16,
   "metadata": {},
   "outputs": [],
   "source": [
    "countries['region_code'].fillna( 0, inplace=True )\n",
    "countries['subregion_code'].fillna( 0, inplace=True )\n",
    "countries['intermediate_region_code'].fillna( 0, inplace=True )"
   ]
  },
  {
   "cell_type": "markdown",
   "metadata": {},
   "source": [
    "#### Test"
   ]
  },
  {
   "cell_type": "code",
   "execution_count": 17,
   "metadata": {},
   "outputs": [
    {
     "data": {
      "text/plain": [
       "array([  2., 142., 150.,   9.,  19.,   0.])"
      ]
     },
     "execution_count": 17,
     "metadata": {},
     "output_type": "execute_result"
    }
   ],
   "source": [
    "countries['region_code'].unique()"
   ]
  },
  {
   "cell_type": "code",
   "execution_count": 18,
   "metadata": {},
   "outputs": [
    {
     "data": {
      "text/plain": [
       "array([202.,  34., 154.,  39.,  15.,  61., 419.,   0., 145.,  53., 155.,\n",
       "       151.,  21.,  35.,  30.,  54.,  57., 143.])"
      ]
     },
     "execution_count": 18,
     "metadata": {},
     "output_type": "execute_result"
    }
   ],
   "source": [
    "countries['subregion_code'].unique()"
   ]
  },
  {
   "cell_type": "code",
   "execution_count": 19,
   "metadata": {},
   "outputs": [
    {
     "data": {
      "text/plain": [
       "array([ 11.,   0.,  17.,  29.,   5.,  13.,  18.,  14., 830.])"
      ]
     },
     "execution_count": 19,
     "metadata": {},
     "output_type": "execute_result"
    }
   ],
   "source": [
    "countries['intermediate_region_code'].unique()"
   ]
  },
  {
   "cell_type": "markdown",
   "metadata": {},
   "source": [
    "### 2) Fix Values in 'Other Groupings'\n",
    "Replace NaN with 0 and 'x' with 1 in `least_developed_countries`, `landlocked_developing_countries`, and `small_island_developing_states`\n",
    "\n",
    "#### Code"
   ]
  },
  {
   "cell_type": "code",
   "execution_count": 20,
   "metadata": {},
   "outputs": [],
   "source": [
    "countries['least_developed_countries'].fillna( 0, inplace=True )\n",
    "countries['least_developed_countries'].replace( 'x', 1, inplace=True )\n",
    "\n",
    "countries['landlocked_developing_countries'].fillna( 0, inplace=True )\n",
    "countries['landlocked_developing_countries'].replace( 'x', 1, inplace=True )\n",
    "\n",
    "countries['small_island_developing_states'].fillna( 0, inplace=True )\n",
    "countries['small_island_developing_states'].replace( 'x', 1, inplace=True )"
   ]
  },
  {
   "cell_type": "markdown",
   "metadata": {},
   "source": [
    "#### Test"
   ]
  },
  {
   "cell_type": "code",
   "execution_count": 21,
   "metadata": {},
   "outputs": [
    {
     "data": {
      "text/plain": [
       "array([0, 1], dtype=int64)"
      ]
     },
     "execution_count": 21,
     "metadata": {},
     "output_type": "execute_result"
    }
   ],
   "source": [
    "countries['least_developed_countries'].unique()"
   ]
  },
  {
   "cell_type": "code",
   "execution_count": 22,
   "metadata": {},
   "outputs": [
    {
     "data": {
      "text/plain": [
       "array([0, 1], dtype=int64)"
      ]
     },
     "execution_count": 22,
     "metadata": {},
     "output_type": "execute_result"
    }
   ],
   "source": [
    "countries['landlocked_developing_countries'].unique()"
   ]
  },
  {
   "cell_type": "code",
   "execution_count": 23,
   "metadata": {},
   "outputs": [
    {
     "data": {
      "text/plain": [
       "array([0, 1], dtype=int64)"
      ]
     },
     "execution_count": 23,
     "metadata": {},
     "output_type": "execute_result"
    }
   ],
   "source": [
    "countries['small_island_developing_states'].unique()"
   ]
  },
  {
   "cell_type": "markdown",
   "metadata": {},
   "source": [
    "### 3) Set Datatypes\n",
    "- <strong>str:</strong> `region_code`, `subregion_code`, `intermediate_region_code`, `un_m49` padded with zeroes to 3 characters\n",
    "- <strong>bool:</strong> `least_developed_countries`, `landlocked_developing_countries`, and `small_island_developing_states`\n",
    "\n",
    "#### Code"
   ]
  },
  {
   "cell_type": "code",
   "execution_count": 24,
   "metadata": {},
   "outputs": [],
   "source": [
    "# Set str columns, convert to int64 first to remove decimal and following zero\n",
    "countries['region_code'] = countries['region_code'].astype( 'int64' ).astype( 'str' )\n",
    "countries['subregion_code'] = countries['subregion_code'].astype( 'int64' ).astype( 'str' )\n",
    "countries['intermediate_region_code'] = countries['intermediate_region_code'].astype( 'int64' ).astype( 'str' )\n",
    "countries['un_m49'] = countries['un_m49'].astype( 'int64' ).astype( 'str' )\n",
    "\n",
    "# Pad with zeroes to three characters\n",
    "countries['region_code'] = countries['region_code'].apply( lambda x: x.zfill(3) )\n",
    "countries['subregion_code'] = countries['subregion_code'].apply( lambda x: x.zfill(3) )\n",
    "countries['intermediate_region_code'] = countries['intermediate_region_code'].apply( lambda x: x.zfill(3) )\n",
    "countries['un_m49'] = countries['un_m49'].apply( lambda x: x.zfill(3) )"
   ]
  },
  {
   "cell_type": "code",
   "execution_count": 25,
   "metadata": {},
   "outputs": [],
   "source": [
    "# Set bool columns\n",
    "countries['least_developed_countries'] = countries['least_developed_countries'].astype( 'bool' )\n",
    "countries['landlocked_developing_countries'] = countries['landlocked_developing_countries'].astype( 'bool' )\n",
    "countries['small_island_developing_states'] = countries['small_island_developing_states'].astype( 'bool' )"
   ]
  },
  {
   "cell_type": "markdown",
   "metadata": {},
   "source": [
    "#### Test"
   ]
  },
  {
   "cell_type": "code",
   "execution_count": 26,
   "metadata": {},
   "outputs": [
    {
     "data": {
      "text/plain": [
       "array(['002', '142', '150', '009', '019', '000'], dtype=object)"
      ]
     },
     "execution_count": 26,
     "metadata": {},
     "output_type": "execute_result"
    }
   ],
   "source": [
    "countries['region_code'].unique()"
   ]
  },
  {
   "cell_type": "code",
   "execution_count": 27,
   "metadata": {},
   "outputs": [
    {
     "data": {
      "text/plain": [
       "array(['202', '034', '154', '039', '015', '061', '419', '000', '145',\n",
       "       '053', '155', '151', '021', '035', '030', '054', '057', '143'],\n",
       "      dtype=object)"
      ]
     },
     "execution_count": 27,
     "metadata": {},
     "output_type": "execute_result"
    }
   ],
   "source": [
    "countries['subregion_code'].unique()"
   ]
  },
  {
   "cell_type": "code",
   "execution_count": 28,
   "metadata": {},
   "outputs": [
    {
     "data": {
      "text/plain": [
       "array(['011', '000', '017', '029', '005', '013', '018', '014', '830'],\n",
       "      dtype=object)"
      ]
     },
     "execution_count": 28,
     "metadata": {},
     "output_type": "execute_result"
    }
   ],
   "source": [
    "countries['intermediate_region_code'].unique()"
   ]
  },
  {
   "cell_type": "code",
   "execution_count": 29,
   "metadata": {},
   "outputs": [
    {
     "data": {
      "text/plain": [
       "171    604\n",
       "242    862\n",
       "79     258\n",
       "54     384\n",
       "74     234\n",
       "Name: un_m49, dtype: object"
      ]
     },
     "execution_count": 29,
     "metadata": {},
     "output_type": "execute_result"
    }
   ],
   "source": [
    "countries['un_m49'].sample(5)"
   ]
  },
  {
   "cell_type": "code",
   "execution_count": 30,
   "metadata": {},
   "outputs": [
    {
     "name": "stdout",
     "output_type": "stream",
     "text": [
      "<class 'pandas.core.frame.DataFrame'>\n",
      "RangeIndex: 249 entries, 0 to 248\n",
      "Data columns (total 15 columns):\n",
      "region_code                        249 non-null object\n",
      "region_name                        248 non-null object\n",
      "subregion_code                     249 non-null object\n",
      "subregion_name                     248 non-null object\n",
      "intermediate_region_code           249 non-null object\n",
      "intermediate_region_name           108 non-null object\n",
      "common_name                        249 non-null object\n",
      "official_name                      249 non-null object\n",
      "capital                            243 non-null object\n",
      "un_m49                             249 non-null object\n",
      "iso_alpha3                         248 non-null object\n",
      "least_developed_countries          249 non-null bool\n",
      "landlocked_developing_countries    249 non-null bool\n",
      "small_island_developing_states     249 non-null bool\n",
      "developed_developing_countries     248 non-null object\n",
      "dtypes: bool(3), object(12)\n",
      "memory usage: 24.2+ KB\n"
     ]
    }
   ],
   "source": [
    "countries.info()"
   ]
  },
  {
   "cell_type": "markdown",
   "metadata": {},
   "source": [
    "### 4) Set Antarctica's Region, Subregion, and Intermediate Region Codes to 999\n",
    "\n",
    "#### Code"
   ]
  },
  {
   "cell_type": "code",
   "execution_count": 31,
   "metadata": {},
   "outputs": [],
   "source": [
    "countries.loc[9,'region_code'] = '999'\n",
    "countries.loc[9,'subregion_code'] = '999'\n",
    "countries.loc[9,'intermediate_region_code'] = '999'"
   ]
  },
  {
   "cell_type": "markdown",
   "metadata": {},
   "source": [
    "#### Test"
   ]
  },
  {
   "cell_type": "code",
   "execution_count": 32,
   "metadata": {
    "scrolled": true
   },
   "outputs": [
    {
     "data": {
      "text/html": [
       "<div>\n",
       "<style scoped>\n",
       "    .dataframe tbody tr th:only-of-type {\n",
       "        vertical-align: middle;\n",
       "    }\n",
       "\n",
       "    .dataframe tbody tr th {\n",
       "        vertical-align: top;\n",
       "    }\n",
       "\n",
       "    .dataframe thead th {\n",
       "        text-align: right;\n",
       "    }\n",
       "</style>\n",
       "<table border=\"1\" class=\"dataframe\">\n",
       "  <thead>\n",
       "    <tr style=\"text-align: right;\">\n",
       "      <th></th>\n",
       "      <th>region_code</th>\n",
       "      <th>region_name</th>\n",
       "      <th>subregion_code</th>\n",
       "      <th>subregion_name</th>\n",
       "      <th>intermediate_region_code</th>\n",
       "      <th>intermediate_region_name</th>\n",
       "      <th>common_name</th>\n",
       "      <th>official_name</th>\n",
       "      <th>capital</th>\n",
       "      <th>un_m49</th>\n",
       "      <th>iso_alpha3</th>\n",
       "      <th>least_developed_countries</th>\n",
       "      <th>landlocked_developing_countries</th>\n",
       "      <th>small_island_developing_states</th>\n",
       "      <th>developed_developing_countries</th>\n",
       "    </tr>\n",
       "  </thead>\n",
       "  <tbody>\n",
       "    <tr>\n",
       "      <td>9</td>\n",
       "      <td>999</td>\n",
       "      <td>NaN</td>\n",
       "      <td>999</td>\n",
       "      <td>NaN</td>\n",
       "      <td>999</td>\n",
       "      <td>NaN</td>\n",
       "      <td>Antarctica</td>\n",
       "      <td>Antarctica</td>\n",
       "      <td>NaN</td>\n",
       "      <td>010</td>\n",
       "      <td>ATA</td>\n",
       "      <td>False</td>\n",
       "      <td>False</td>\n",
       "      <td>False</td>\n",
       "      <td>NaN</td>\n",
       "    </tr>\n",
       "  </tbody>\n",
       "</table>\n",
       "</div>"
      ],
      "text/plain": [
       "  region_code region_name subregion_code subregion_name  \\\n",
       "9         999         NaN            999            NaN   \n",
       "\n",
       "  intermediate_region_code intermediate_region_name common_name official_name  \\\n",
       "9                      999                      NaN  Antarctica    Antarctica   \n",
       "\n",
       "  capital un_m49 iso_alpha3  least_developed_countries  \\\n",
       "9     NaN    010        ATA                      False   \n",
       "\n",
       "   landlocked_developing_countries  small_island_developing_states  \\\n",
       "9                            False                           False   \n",
       "\n",
       "  developed_developing_countries  \n",
       "9                            NaN  "
      ]
     },
     "execution_count": 32,
     "metadata": {},
     "output_type": "execute_result"
    }
   ],
   "source": [
    "countries.query( 'common_name == \"Antarctica\"' )"
   ]
  },
  {
   "cell_type": "markdown",
   "metadata": {},
   "source": [
    "### 5) Fix NaN in Capital\n",
    "Set NaN values to empty string.\n",
    "\n",
    "#### Code"
   ]
  },
  {
   "cell_type": "code",
   "execution_count": 33,
   "metadata": {},
   "outputs": [],
   "source": [
    "countries['capital'].fillna( '', inplace=True )"
   ]
  },
  {
   "cell_type": "markdown",
   "metadata": {},
   "source": [
    "#### Test"
   ]
  },
  {
   "cell_type": "code",
   "execution_count": 34,
   "metadata": {
    "scrolled": true
   },
   "outputs": [
    {
     "data": {
      "text/html": [
       "<div>\n",
       "<style scoped>\n",
       "    .dataframe tbody tr th:only-of-type {\n",
       "        vertical-align: middle;\n",
       "    }\n",
       "\n",
       "    .dataframe tbody tr th {\n",
       "        vertical-align: top;\n",
       "    }\n",
       "\n",
       "    .dataframe thead th {\n",
       "        text-align: right;\n",
       "    }\n",
       "</style>\n",
       "<table border=\"1\" class=\"dataframe\">\n",
       "  <thead>\n",
       "    <tr style=\"text-align: right;\">\n",
       "      <th></th>\n",
       "      <th>region_code</th>\n",
       "      <th>region_name</th>\n",
       "      <th>subregion_code</th>\n",
       "      <th>subregion_name</th>\n",
       "      <th>intermediate_region_code</th>\n",
       "      <th>intermediate_region_name</th>\n",
       "      <th>common_name</th>\n",
       "      <th>official_name</th>\n",
       "      <th>capital</th>\n",
       "      <th>un_m49</th>\n",
       "      <th>iso_alpha3</th>\n",
       "      <th>least_developed_countries</th>\n",
       "      <th>landlocked_developing_countries</th>\n",
       "      <th>small_island_developing_states</th>\n",
       "      <th>developed_developing_countries</th>\n",
       "    </tr>\n",
       "  </thead>\n",
       "  <tbody>\n",
       "  </tbody>\n",
       "</table>\n",
       "</div>"
      ],
      "text/plain": [
       "Empty DataFrame\n",
       "Columns: [region_code, region_name, subregion_code, subregion_name, intermediate_region_code, intermediate_region_name, common_name, official_name, capital, un_m49, iso_alpha3, least_developed_countries, landlocked_developing_countries, small_island_developing_states, developed_developing_countries]\n",
       "Index: []"
      ]
     },
     "execution_count": 34,
     "metadata": {},
     "output_type": "execute_result"
    }
   ],
   "source": [
    "countries[ countries['capital'].isnull() ]"
   ]
  },
  {
   "cell_type": "markdown",
   "metadata": {},
   "source": [
    "<a id='extract-un'></a>\n",
    "## UN Regional Hierarchy Extraction\n",
    "Extract UN Regional hierarchy and rationalize for insertion into website database.\n",
    "\n",
    "### Create UN Region Hierarchy\n",
    "In the UN Geoscheme, a region is made up of 1 or more subregions and a subregion is made up of 0 or more intermediate regions. Countries/areas are assigned at either the subregional or intermediate regional level (with Antarctica as the sole exception, having no regional assignment). Hierarchy levels are as follows: `Region -> Subregion -> Intermediate Region`\n",
    "\n",
    "Antarctica is assigned to `region_code` 999.\n",
    "\n",
    "The `countries` dataframe contains redundant information across the region, subregion, and intermediate region columns. Extract these values to create a hierarchy of UN regions in a new dataframe called `regions`. This new dataframe will contain 3 columns: \n",
    "- `region_code`: the value from the `region_code`, `subregion_code`, or `intermediate_region_code` column\n",
    "- `region_name`: the value from the `region_name`, `subregion_name`, or `intermediate_region_name` column\n",
    "- `parent_region_code`: the `region_code` for the region or subregion one level above in the hierarchy\n",
    "\n",
    "In the `countries` dataframe, create a new column called `un_region` to hold the subregion or intermediate region to which each country is assigned.\n",
    "\n",
    "#### Code"
   ]
  },
  {
   "cell_type": "code",
   "execution_count": 35,
   "metadata": {},
   "outputs": [],
   "source": [
    "# Create an empty dataframe for holding the regions\n",
    "regions = pd.DataFrame( columns=['region_code','region_name','parent_region_code'] )\n",
    "\n",
    "# Iterate through the countries to extract the UN region information\n",
    "for row in countries.itertuples():\n",
    "    # Get the region information from this row\n",
    "    region_code = row.region_code\n",
    "    region_name = row.region_name if region_code != '999' else 'Antarctica' # Antarctica is the sole exception so make it a top-level region\n",
    "    subregion_code = row.subregion_code\n",
    "    subregion_name = row.subregion_name\n",
    "    intermediate_region_code = row.intermediate_region_code\n",
    "    intermediate_region_name = row.intermediate_region_name\n",
    "    \n",
    "    # If region doesn't exist in regions dataframe already, add it\n",
    "    if region_code not in regions['region_code'].unique():\n",
    "        regions = regions.append( { 'region_code': region_code, \n",
    "                                    'region_name': region_name, \n",
    "                                    'parent_region_code': '000' }, \n",
    "                                    ignore_index=True )\n",
    "    \n",
    "    # If subregion doesn't exist in regions dataframe already, add it\n",
    "    if ( subregion_code != '000' ) & ( subregion_code not in regions['region_code'].unique() ):\n",
    "        regions = regions.append( { 'region_code': subregion_code, \n",
    "                                    'region_name': subregion_name, \n",
    "                                    'parent_region_code': region_code }, \n",
    "                                    ignore_index=True )\n",
    "\n",
    "    # If intermediate region doesn't exist in regions dataframe already, add it\n",
    "    if ( intermediate_region_code != '000' ) & ( intermediate_region_code not in regions['region_code'].unique() ):\n",
    "        regions = regions.append( { 'region_code': intermediate_region_code, \n",
    "                                    'region_name': intermediate_region_name, \n",
    "                                    'parent_region_code': subregion_code }, \n",
    "                                    ignore_index=True )"
   ]
  },
  {
   "cell_type": "code",
   "execution_count": 36,
   "metadata": {},
   "outputs": [],
   "source": [
    "# Function to populate un_region field in countries dataframe\n",
    "# All assignments to regions are at the subregion or intermediate region level\n",
    "# If intermediate_region_code is not 000, return the intermediate_region_code\n",
    "# Otherwise return subregion_code\n",
    "def get_un_region( row ):\n",
    "    # If intermediate_region_code is not 000, return it\n",
    "    return row['intermediate_region_code'] if row['intermediate_region_code'] != '000' else row['subregion_code']\n",
    "\n",
    "countries['un_region'] = countries.apply( get_un_region, axis=1 )"
   ]
  },
  {
   "cell_type": "markdown",
   "metadata": {},
   "source": [
    "#### Test"
   ]
  },
  {
   "cell_type": "code",
   "execution_count": 37,
   "metadata": {
    "scrolled": true
   },
   "outputs": [
    {
     "data": {
      "text/html": [
       "<div>\n",
       "<style scoped>\n",
       "    .dataframe tbody tr th:only-of-type {\n",
       "        vertical-align: middle;\n",
       "    }\n",
       "\n",
       "    .dataframe tbody tr th {\n",
       "        vertical-align: top;\n",
       "    }\n",
       "\n",
       "    .dataframe thead th {\n",
       "        text-align: right;\n",
       "    }\n",
       "</style>\n",
       "<table border=\"1\" class=\"dataframe\">\n",
       "  <thead>\n",
       "    <tr style=\"text-align: right;\">\n",
       "      <th></th>\n",
       "      <th>region_code</th>\n",
       "      <th>region_name</th>\n",
       "      <th>parent_region_code</th>\n",
       "    </tr>\n",
       "  </thead>\n",
       "  <tbody>\n",
       "    <tr>\n",
       "      <td>0</td>\n",
       "      <td>002</td>\n",
       "      <td>Africa</td>\n",
       "      <td>000</td>\n",
       "    </tr>\n",
       "    <tr>\n",
       "      <td>12</td>\n",
       "      <td>019</td>\n",
       "      <td>Americas</td>\n",
       "      <td>000</td>\n",
       "    </tr>\n",
       "    <tr>\n",
       "      <td>9</td>\n",
       "      <td>009</td>\n",
       "      <td>Oceania</td>\n",
       "      <td>000</td>\n",
       "    </tr>\n",
       "    <tr>\n",
       "      <td>5</td>\n",
       "      <td>150</td>\n",
       "      <td>Europe</td>\n",
       "      <td>000</td>\n",
       "    </tr>\n",
       "    <tr>\n",
       "      <td>15</td>\n",
       "      <td>999</td>\n",
       "      <td>Antarctica</td>\n",
       "      <td>000</td>\n",
       "    </tr>\n",
       "    <tr>\n",
       "      <td>3</td>\n",
       "      <td>142</td>\n",
       "      <td>Asia</td>\n",
       "      <td>000</td>\n",
       "    </tr>\n",
       "    <tr>\n",
       "      <td>8</td>\n",
       "      <td>015</td>\n",
       "      <td>Northern Africa</td>\n",
       "      <td>002</td>\n",
       "    </tr>\n",
       "    <tr>\n",
       "      <td>1</td>\n",
       "      <td>202</td>\n",
       "      <td>Sub-Saharan Africa</td>\n",
       "      <td>002</td>\n",
       "    </tr>\n",
       "    <tr>\n",
       "      <td>28</td>\n",
       "      <td>057</td>\n",
       "      <td>Micronesia</td>\n",
       "      <td>009</td>\n",
       "    </tr>\n",
       "    <tr>\n",
       "      <td>27</td>\n",
       "      <td>054</td>\n",
       "      <td>Melanesia</td>\n",
       "      <td>009</td>\n",
       "    </tr>\n",
       "    <tr>\n",
       "      <td>10</td>\n",
       "      <td>061</td>\n",
       "      <td>Polynesia</td>\n",
       "      <td>009</td>\n",
       "    </tr>\n",
       "    <tr>\n",
       "      <td>18</td>\n",
       "      <td>053</td>\n",
       "      <td>Australia and New Zealand</td>\n",
       "      <td>009</td>\n",
       "    </tr>\n",
       "    <tr>\n",
       "      <td>13</td>\n",
       "      <td>419</td>\n",
       "      <td>Latin America and the Caribbean</td>\n",
       "      <td>019</td>\n",
       "    </tr>\n",
       "    <tr>\n",
       "      <td>22</td>\n",
       "      <td>021</td>\n",
       "      <td>Northern America</td>\n",
       "      <td>019</td>\n",
       "    </tr>\n",
       "    <tr>\n",
       "      <td>26</td>\n",
       "      <td>030</td>\n",
       "      <td>Eastern Asia</td>\n",
       "      <td>142</td>\n",
       "    </tr>\n",
       "    <tr>\n",
       "      <td>25</td>\n",
       "      <td>035</td>\n",
       "      <td>South-eastern Asia</td>\n",
       "      <td>142</td>\n",
       "    </tr>\n",
       "    <tr>\n",
       "      <td>4</td>\n",
       "      <td>034</td>\n",
       "      <td>Southern Asia</td>\n",
       "      <td>142</td>\n",
       "    </tr>\n",
       "    <tr>\n",
       "      <td>17</td>\n",
       "      <td>145</td>\n",
       "      <td>Western Asia</td>\n",
       "      <td>142</td>\n",
       "    </tr>\n",
       "    <tr>\n",
       "      <td>30</td>\n",
       "      <td>143</td>\n",
       "      <td>Central Asia</td>\n",
       "      <td>142</td>\n",
       "    </tr>\n",
       "    <tr>\n",
       "      <td>19</td>\n",
       "      <td>155</td>\n",
       "      <td>Western Europe</td>\n",
       "      <td>150</td>\n",
       "    </tr>\n",
       "    <tr>\n",
       "      <td>20</td>\n",
       "      <td>151</td>\n",
       "      <td>Eastern Europe</td>\n",
       "      <td>150</td>\n",
       "    </tr>\n",
       "    <tr>\n",
       "      <td>7</td>\n",
       "      <td>039</td>\n",
       "      <td>Southern Europe</td>\n",
       "      <td>150</td>\n",
       "    </tr>\n",
       "    <tr>\n",
       "      <td>6</td>\n",
       "      <td>154</td>\n",
       "      <td>Northern Europe</td>\n",
       "      <td>150</td>\n",
       "    </tr>\n",
       "    <tr>\n",
       "      <td>29</td>\n",
       "      <td>830</td>\n",
       "      <td>Channel Islands</td>\n",
       "      <td>154</td>\n",
       "    </tr>\n",
       "    <tr>\n",
       "      <td>23</td>\n",
       "      <td>018</td>\n",
       "      <td>Southern Africa</td>\n",
       "      <td>202</td>\n",
       "    </tr>\n",
       "    <tr>\n",
       "      <td>24</td>\n",
       "      <td>014</td>\n",
       "      <td>Eastern Africa</td>\n",
       "      <td>202</td>\n",
       "    </tr>\n",
       "    <tr>\n",
       "      <td>11</td>\n",
       "      <td>017</td>\n",
       "      <td>Middle Africa</td>\n",
       "      <td>202</td>\n",
       "    </tr>\n",
       "    <tr>\n",
       "      <td>2</td>\n",
       "      <td>011</td>\n",
       "      <td>Western Africa</td>\n",
       "      <td>202</td>\n",
       "    </tr>\n",
       "    <tr>\n",
       "      <td>21</td>\n",
       "      <td>013</td>\n",
       "      <td>Central America</td>\n",
       "      <td>419</td>\n",
       "    </tr>\n",
       "    <tr>\n",
       "      <td>14</td>\n",
       "      <td>029</td>\n",
       "      <td>Caribbean</td>\n",
       "      <td>419</td>\n",
       "    </tr>\n",
       "    <tr>\n",
       "      <td>16</td>\n",
       "      <td>005</td>\n",
       "      <td>South America</td>\n",
       "      <td>419</td>\n",
       "    </tr>\n",
       "  </tbody>\n",
       "</table>\n",
       "</div>"
      ],
      "text/plain": [
       "   region_code                      region_name parent_region_code\n",
       "0          002                           Africa                000\n",
       "12         019                         Americas                000\n",
       "9          009                          Oceania                000\n",
       "5          150                           Europe                000\n",
       "15         999                       Antarctica                000\n",
       "3          142                             Asia                000\n",
       "8          015                  Northern Africa                002\n",
       "1          202               Sub-Saharan Africa                002\n",
       "28         057                       Micronesia                009\n",
       "27         054                        Melanesia                009\n",
       "10         061                        Polynesia                009\n",
       "18         053        Australia and New Zealand                009\n",
       "13         419  Latin America and the Caribbean                019\n",
       "22         021                 Northern America                019\n",
       "26         030                     Eastern Asia                142\n",
       "25         035               South-eastern Asia                142\n",
       "4          034                    Southern Asia                142\n",
       "17         145                     Western Asia                142\n",
       "30         143                     Central Asia                142\n",
       "19         155                   Western Europe                150\n",
       "20         151                   Eastern Europe                150\n",
       "7          039                  Southern Europe                150\n",
       "6          154                  Northern Europe                150\n",
       "29         830                  Channel Islands                154\n",
       "23         018                  Southern Africa                202\n",
       "24         014                   Eastern Africa                202\n",
       "11         017                    Middle Africa                202\n",
       "2          011                   Western Africa                202\n",
       "21         013                  Central America                419\n",
       "14         029                        Caribbean                419\n",
       "16         005                    South America                419"
      ]
     },
     "execution_count": 37,
     "metadata": {},
     "output_type": "execute_result"
    }
   ],
   "source": [
    "regions.sort_values( 'parent_region_code' )"
   ]
  },
  {
   "cell_type": "code",
   "execution_count": 38,
   "metadata": {},
   "outputs": [
    {
     "data": {
      "text/html": [
       "<div>\n",
       "<style scoped>\n",
       "    .dataframe tbody tr th:only-of-type {\n",
       "        vertical-align: middle;\n",
       "    }\n",
       "\n",
       "    .dataframe tbody tr th {\n",
       "        vertical-align: top;\n",
       "    }\n",
       "\n",
       "    .dataframe thead th {\n",
       "        text-align: right;\n",
       "    }\n",
       "</style>\n",
       "<table border=\"1\" class=\"dataframe\">\n",
       "  <thead>\n",
       "    <tr style=\"text-align: right;\">\n",
       "      <th></th>\n",
       "      <th>subregion_code</th>\n",
       "      <th>intermediate_region_code</th>\n",
       "      <th>un_region</th>\n",
       "    </tr>\n",
       "  </thead>\n",
       "  <tbody>\n",
       "    <tr>\n",
       "      <td>126</td>\n",
       "      <td>155</td>\n",
       "      <td>000</td>\n",
       "      <td>155</td>\n",
       "    </tr>\n",
       "    <tr>\n",
       "      <td>84</td>\n",
       "      <td>155</td>\n",
       "      <td>000</td>\n",
       "      <td>155</td>\n",
       "    </tr>\n",
       "    <tr>\n",
       "      <td>73</td>\n",
       "      <td>419</td>\n",
       "      <td>005</td>\n",
       "      <td>005</td>\n",
       "    </tr>\n",
       "    <tr>\n",
       "      <td>86</td>\n",
       "      <td>039</td>\n",
       "      <td>000</td>\n",
       "      <td>039</td>\n",
       "    </tr>\n",
       "    <tr>\n",
       "      <td>106</td>\n",
       "      <td>145</td>\n",
       "      <td>000</td>\n",
       "      <td>145</td>\n",
       "    </tr>\n",
       "    <tr>\n",
       "      <td>12</td>\n",
       "      <td>145</td>\n",
       "      <td>000</td>\n",
       "      <td>145</td>\n",
       "    </tr>\n",
       "    <tr>\n",
       "      <td>118</td>\n",
       "      <td>145</td>\n",
       "      <td>000</td>\n",
       "      <td>145</td>\n",
       "    </tr>\n",
       "    <tr>\n",
       "      <td>161</td>\n",
       "      <td>030</td>\n",
       "      <td>000</td>\n",
       "      <td>030</td>\n",
       "    </tr>\n",
       "    <tr>\n",
       "      <td>67</td>\n",
       "      <td>419</td>\n",
       "      <td>013</td>\n",
       "      <td>013</td>\n",
       "    </tr>\n",
       "    <tr>\n",
       "      <td>25</td>\n",
       "      <td>419</td>\n",
       "      <td>029</td>\n",
       "      <td>029</td>\n",
       "    </tr>\n",
       "  </tbody>\n",
       "</table>\n",
       "</div>"
      ],
      "text/plain": [
       "    subregion_code intermediate_region_code un_region\n",
       "126            155                      000       155\n",
       "84             155                      000       155\n",
       "73             419                      005       005\n",
       "86             039                      000       039\n",
       "106            145                      000       145\n",
       "12             145                      000       145\n",
       "118            145                      000       145\n",
       "161            030                      000       030\n",
       "67             419                      013       013\n",
       "25             419                      029       029"
      ]
     },
     "execution_count": 38,
     "metadata": {},
     "output_type": "execute_result"
    }
   ],
   "source": [
    "countries[['subregion_code','intermediate_region_code','un_region']].sample(10)"
   ]
  },
  {
   "cell_type": "markdown",
   "metadata": {},
   "source": [
    "<a id='assess3'></a>\n",
    "## Assess, Part 3"
   ]
  },
  {
   "cell_type": "code",
   "execution_count": 39,
   "metadata": {},
   "outputs": [
    {
     "name": "stdout",
     "output_type": "stream",
     "text": [
      "<class 'pandas.core.frame.DataFrame'>\n",
      "RangeIndex: 249 entries, 0 to 248\n",
      "Data columns (total 16 columns):\n",
      "region_code                        249 non-null object\n",
      "region_name                        248 non-null object\n",
      "subregion_code                     249 non-null object\n",
      "subregion_name                     248 non-null object\n",
      "intermediate_region_code           249 non-null object\n",
      "intermediate_region_name           108 non-null object\n",
      "common_name                        249 non-null object\n",
      "official_name                      249 non-null object\n",
      "capital                            249 non-null object\n",
      "un_m49                             249 non-null object\n",
      "iso_alpha3                         248 non-null object\n",
      "least_developed_countries          249 non-null bool\n",
      "landlocked_developing_countries    249 non-null bool\n",
      "small_island_developing_states     249 non-null bool\n",
      "developed_developing_countries     248 non-null object\n",
      "un_region                          249 non-null object\n",
      "dtypes: bool(3), object(13)\n",
      "memory usage: 26.1+ KB\n"
     ]
    }
   ],
   "source": [
    "countries.info()"
   ]
  },
  {
   "cell_type": "code",
   "execution_count": 40,
   "metadata": {},
   "outputs": [
    {
     "data": {
      "text/html": [
       "<div>\n",
       "<style scoped>\n",
       "    .dataframe tbody tr th:only-of-type {\n",
       "        vertical-align: middle;\n",
       "    }\n",
       "\n",
       "    .dataframe tbody tr th {\n",
       "        vertical-align: top;\n",
       "    }\n",
       "\n",
       "    .dataframe thead th {\n",
       "        text-align: right;\n",
       "    }\n",
       "</style>\n",
       "<table border=\"1\" class=\"dataframe\">\n",
       "  <thead>\n",
       "    <tr style=\"text-align: right;\">\n",
       "      <th></th>\n",
       "      <th>region_code</th>\n",
       "      <th>region_name</th>\n",
       "      <th>subregion_code</th>\n",
       "      <th>subregion_name</th>\n",
       "      <th>intermediate_region_code</th>\n",
       "      <th>intermediate_region_name</th>\n",
       "      <th>common_name</th>\n",
       "      <th>official_name</th>\n",
       "      <th>capital</th>\n",
       "      <th>un_m49</th>\n",
       "      <th>iso_alpha3</th>\n",
       "      <th>least_developed_countries</th>\n",
       "      <th>landlocked_developing_countries</th>\n",
       "      <th>small_island_developing_states</th>\n",
       "      <th>developed_developing_countries</th>\n",
       "      <th>un_region</th>\n",
       "    </tr>\n",
       "  </thead>\n",
       "  <tbody>\n",
       "    <tr>\n",
       "      <td>192</td>\n",
       "      <td>150</td>\n",
       "      <td>Europe</td>\n",
       "      <td>154</td>\n",
       "      <td>Northern Europe</td>\n",
       "      <td>830</td>\n",
       "      <td>Channel Islands</td>\n",
       "      <td>Sark</td>\n",
       "      <td>Sark</td>\n",
       "      <td></td>\n",
       "      <td>680</td>\n",
       "      <td>NaN</td>\n",
       "      <td>False</td>\n",
       "      <td>False</td>\n",
       "      <td>False</td>\n",
       "      <td>Developed</td>\n",
       "      <td>830</td>\n",
       "    </tr>\n",
       "  </tbody>\n",
       "</table>\n",
       "</div>"
      ],
      "text/plain": [
       "    region_code region_name subregion_code   subregion_name  \\\n",
       "192         150      Europe            154  Northern Europe   \n",
       "\n",
       "    intermediate_region_code intermediate_region_name common_name  \\\n",
       "192                      830          Channel Islands        Sark   \n",
       "\n",
       "    official_name capital un_m49 iso_alpha3  least_developed_countries  \\\n",
       "192          Sark            680        NaN                      False   \n",
       "\n",
       "     landlocked_developing_countries  small_island_developing_states  \\\n",
       "192                            False                           False   \n",
       "\n",
       "    developed_developing_countries un_region  \n",
       "192                      Developed       830  "
      ]
     },
     "execution_count": 40,
     "metadata": {},
     "output_type": "execute_result"
    }
   ],
   "source": [
    "countries[ countries['iso_alpha3'].isnull() ]"
   ]
  },
  {
   "cell_type": "code",
   "execution_count": 41,
   "metadata": {
    "scrolled": true
   },
   "outputs": [
    {
     "data": {
      "text/html": [
       "<div>\n",
       "<style scoped>\n",
       "    .dataframe tbody tr th:only-of-type {\n",
       "        vertical-align: middle;\n",
       "    }\n",
       "\n",
       "    .dataframe tbody tr th {\n",
       "        vertical-align: top;\n",
       "    }\n",
       "\n",
       "    .dataframe thead th {\n",
       "        text-align: right;\n",
       "    }\n",
       "</style>\n",
       "<table border=\"1\" class=\"dataframe\">\n",
       "  <thead>\n",
       "    <tr style=\"text-align: right;\">\n",
       "      <th></th>\n",
       "      <th>region_code</th>\n",
       "      <th>region_name</th>\n",
       "      <th>subregion_code</th>\n",
       "      <th>subregion_name</th>\n",
       "      <th>intermediate_region_code</th>\n",
       "      <th>intermediate_region_name</th>\n",
       "      <th>common_name</th>\n",
       "      <th>official_name</th>\n",
       "      <th>capital</th>\n",
       "      <th>un_m49</th>\n",
       "      <th>iso_alpha3</th>\n",
       "      <th>least_developed_countries</th>\n",
       "      <th>landlocked_developing_countries</th>\n",
       "      <th>small_island_developing_states</th>\n",
       "      <th>developed_developing_countries</th>\n",
       "      <th>un_region</th>\n",
       "    </tr>\n",
       "  </thead>\n",
       "  <tbody>\n",
       "    <tr>\n",
       "      <td>9</td>\n",
       "      <td>999</td>\n",
       "      <td>NaN</td>\n",
       "      <td>999</td>\n",
       "      <td>NaN</td>\n",
       "      <td>999</td>\n",
       "      <td>NaN</td>\n",
       "      <td>Antarctica</td>\n",
       "      <td>Antarctica</td>\n",
       "      <td></td>\n",
       "      <td>010</td>\n",
       "      <td>ATA</td>\n",
       "      <td>False</td>\n",
       "      <td>False</td>\n",
       "      <td>False</td>\n",
       "      <td>NaN</td>\n",
       "      <td>999</td>\n",
       "    </tr>\n",
       "  </tbody>\n",
       "</table>\n",
       "</div>"
      ],
      "text/plain": [
       "  region_code region_name subregion_code subregion_name  \\\n",
       "9         999         NaN            999            NaN   \n",
       "\n",
       "  intermediate_region_code intermediate_region_name common_name official_name  \\\n",
       "9                      999                      NaN  Antarctica    Antarctica   \n",
       "\n",
       "  capital un_m49 iso_alpha3  least_developed_countries  \\\n",
       "9            010        ATA                      False   \n",
       "\n",
       "   landlocked_developing_countries  small_island_developing_states  \\\n",
       "9                            False                           False   \n",
       "\n",
       "  developed_developing_countries un_region  \n",
       "9                            NaN       999  "
      ]
     },
     "execution_count": 41,
     "metadata": {},
     "output_type": "execute_result"
    }
   ],
   "source": [
    "countries[ countries['developed_developing_countries'].isnull() ]"
   ]
  },
  {
   "cell_type": "markdown",
   "metadata": {},
   "source": [
    "### Issues Found:\n",
    "#### Tidiness\n",
    "1) Drop 6 UN region columns: `region_code`,`region_name`,`subregion_code`,`subregion_name`,`intermediate_region_code`,`intermediate_region_name`\n",
    "\n",
    "2) Create two columns, `developed` and `developing`, from `developed_developing_countries` column. \n",
    "\n",
    "3) Set datatype of `developed` and `developing` to bool.\n",
    "\n",
    "4) Drop `developed_developing_countries`.\n",
    "\n",
    "#### Quality\n",
    "5) Replace NaN in `iso_alpha3` with 'NA'. The island of Sark has no ISO Alpha3 code.\n",
    "\n",
    "<a id='clean3'></a>\n",
    "## Clean, Part 3\n",
    "\n",
    "### 1) Drop 6 UN region columns\n",
    "Drop `region_code`,`region_name`,`subregion_code`,`subregion_name`,`intermediate_region_code`, and `intermediate_region_name`. These columns are no longer needed. This information is now contained in the `regions` dataframe to which each country is associated through the `un_region` column.\n",
    "\n",
    "#### Code"
   ]
  },
  {
   "cell_type": "code",
   "execution_count": 42,
   "metadata": {},
   "outputs": [],
   "source": [
    "countries.drop( columns=['region_code','region_name','subregion_code','subregion_name','intermediate_region_code','intermediate_region_name'], axis=1, inplace=True )"
   ]
  },
  {
   "cell_type": "markdown",
   "metadata": {},
   "source": [
    "#### Test"
   ]
  },
  {
   "cell_type": "code",
   "execution_count": 43,
   "metadata": {
    "scrolled": true
   },
   "outputs": [
    {
     "name": "stdout",
     "output_type": "stream",
     "text": [
      "<class 'pandas.core.frame.DataFrame'>\n",
      "RangeIndex: 249 entries, 0 to 248\n",
      "Data columns (total 10 columns):\n",
      "common_name                        249 non-null object\n",
      "official_name                      249 non-null object\n",
      "capital                            249 non-null object\n",
      "un_m49                             249 non-null object\n",
      "iso_alpha3                         248 non-null object\n",
      "least_developed_countries          249 non-null bool\n",
      "landlocked_developing_countries    249 non-null bool\n",
      "small_island_developing_states     249 non-null bool\n",
      "developed_developing_countries     248 non-null object\n",
      "un_region                          249 non-null object\n",
      "dtypes: bool(3), object(7)\n",
      "memory usage: 14.5+ KB\n"
     ]
    }
   ],
   "source": [
    "countries.info()"
   ]
  },
  {
   "cell_type": "markdown",
   "metadata": {},
   "source": [
    "### 2) Create `developed` and `developing` Columns\n",
    "\n",
    "`developed` will contain 1 if `developed_developing_countries` contains 'Developed', 0 otherwise<br/>\n",
    "`developing` will contain 1 if `developed_developing_countries` contains 'Developing', 0 otherwise\n",
    "\n",
    "#### Code"
   ]
  },
  {
   "cell_type": "code",
   "execution_count": 44,
   "metadata": {},
   "outputs": [],
   "source": [
    "countries['developed'] = countries['developed_developing_countries'].apply( lambda x: 1 if x == 'Developed' else 0 )\n",
    "countries['developing'] = countries['developed_developing_countries'].apply( lambda x: 1 if x == 'Developing' else 0 )"
   ]
  },
  {
   "cell_type": "markdown",
   "metadata": {},
   "source": [
    "#### Test"
   ]
  },
  {
   "cell_type": "code",
   "execution_count": 45,
   "metadata": {},
   "outputs": [
    {
     "data": {
      "text/html": [
       "<div>\n",
       "<style scoped>\n",
       "    .dataframe tbody tr th:only-of-type {\n",
       "        vertical-align: middle;\n",
       "    }\n",
       "\n",
       "    .dataframe tbody tr th {\n",
       "        vertical-align: top;\n",
       "    }\n",
       "\n",
       "    .dataframe thead th {\n",
       "        text-align: right;\n",
       "    }\n",
       "</style>\n",
       "<table border=\"1\" class=\"dataframe\">\n",
       "  <thead>\n",
       "    <tr style=\"text-align: right;\">\n",
       "      <th></th>\n",
       "      <th>developed</th>\n",
       "      <th>developing</th>\n",
       "      <th>developed_developing_countries</th>\n",
       "    </tr>\n",
       "  </thead>\n",
       "  <tbody>\n",
       "    <tr>\n",
       "      <td>107</td>\n",
       "      <td>1</td>\n",
       "      <td>0</td>\n",
       "      <td>Developed</td>\n",
       "    </tr>\n",
       "    <tr>\n",
       "      <td>124</td>\n",
       "      <td>0</td>\n",
       "      <td>1</td>\n",
       "      <td>Developing</td>\n",
       "    </tr>\n",
       "    <tr>\n",
       "      <td>45</td>\n",
       "      <td>0</td>\n",
       "      <td>1</td>\n",
       "      <td>Developing</td>\n",
       "    </tr>\n",
       "    <tr>\n",
       "      <td>109</td>\n",
       "      <td>1</td>\n",
       "      <td>0</td>\n",
       "      <td>Developed</td>\n",
       "    </tr>\n",
       "    <tr>\n",
       "      <td>114</td>\n",
       "      <td>0</td>\n",
       "      <td>1</td>\n",
       "      <td>Developing</td>\n",
       "    </tr>\n",
       "  </tbody>\n",
       "</table>\n",
       "</div>"
      ],
      "text/plain": [
       "     developed  developing developed_developing_countries\n",
       "107          1           0                      Developed\n",
       "124          0           1                     Developing\n",
       "45           0           1                     Developing\n",
       "109          1           0                      Developed\n",
       "114          0           1                     Developing"
      ]
     },
     "execution_count": 45,
     "metadata": {},
     "output_type": "execute_result"
    }
   ],
   "source": [
    "countries[['developed','developing','developed_developing_countries']].sample(5)"
   ]
  },
  {
   "cell_type": "markdown",
   "metadata": {},
   "source": [
    "### 3) Set datatype for `developed` and `developing` Columns to bool\n",
    "\n",
    "#### Code"
   ]
  },
  {
   "cell_type": "code",
   "execution_count": 46,
   "metadata": {},
   "outputs": [],
   "source": [
    "countries['developed'] = countries['developed'].astype('bool')\n",
    "countries['developing'] = countries['developing'].astype('bool')"
   ]
  },
  {
   "cell_type": "markdown",
   "metadata": {},
   "source": [
    "#### Test"
   ]
  },
  {
   "cell_type": "code",
   "execution_count": 47,
   "metadata": {},
   "outputs": [
    {
     "data": {
      "text/plain": [
       "False    183\n",
       "True      66\n",
       "Name: developed, dtype: int64"
      ]
     },
     "execution_count": 47,
     "metadata": {},
     "output_type": "execute_result"
    }
   ],
   "source": [
    "countries['developed'].value_counts()"
   ]
  },
  {
   "cell_type": "code",
   "execution_count": 48,
   "metadata": {},
   "outputs": [
    {
     "data": {
      "text/plain": [
       "True     182\n",
       "False     67\n",
       "Name: developing, dtype: int64"
      ]
     },
     "execution_count": 48,
     "metadata": {},
     "output_type": "execute_result"
    }
   ],
   "source": [
    "countries['developing'].value_counts()"
   ]
  },
  {
   "cell_type": "code",
   "execution_count": 49,
   "metadata": {},
   "outputs": [
    {
     "name": "stdout",
     "output_type": "stream",
     "text": [
      "<class 'pandas.core.frame.DataFrame'>\n",
      "RangeIndex: 249 entries, 0 to 248\n",
      "Data columns (total 12 columns):\n",
      "common_name                        249 non-null object\n",
      "official_name                      249 non-null object\n",
      "capital                            249 non-null object\n",
      "un_m49                             249 non-null object\n",
      "iso_alpha3                         248 non-null object\n",
      "least_developed_countries          249 non-null bool\n",
      "landlocked_developing_countries    249 non-null bool\n",
      "small_island_developing_states     249 non-null bool\n",
      "developed_developing_countries     248 non-null object\n",
      "un_region                          249 non-null object\n",
      "developed                          249 non-null bool\n",
      "developing                         249 non-null bool\n",
      "dtypes: bool(5), object(7)\n",
      "memory usage: 15.0+ KB\n"
     ]
    }
   ],
   "source": [
    "countries.info()"
   ]
  },
  {
   "cell_type": "markdown",
   "metadata": {},
   "source": [
    "### 4) Drop `developed_developing_countries` Column\n",
    "\n",
    "#### Code"
   ]
  },
  {
   "cell_type": "code",
   "execution_count": 50,
   "metadata": {},
   "outputs": [],
   "source": [
    "countries.drop( columns=['developed_developing_countries'], inplace=True )"
   ]
  },
  {
   "cell_type": "markdown",
   "metadata": {},
   "source": [
    "#### Test"
   ]
  },
  {
   "cell_type": "code",
   "execution_count": 51,
   "metadata": {},
   "outputs": [
    {
     "name": "stdout",
     "output_type": "stream",
     "text": [
      "<class 'pandas.core.frame.DataFrame'>\n",
      "RangeIndex: 249 entries, 0 to 248\n",
      "Data columns (total 11 columns):\n",
      "common_name                        249 non-null object\n",
      "official_name                      249 non-null object\n",
      "capital                            249 non-null object\n",
      "un_m49                             249 non-null object\n",
      "iso_alpha3                         248 non-null object\n",
      "least_developed_countries          249 non-null bool\n",
      "landlocked_developing_countries    249 non-null bool\n",
      "small_island_developing_states     249 non-null bool\n",
      "un_region                          249 non-null object\n",
      "developed                          249 non-null bool\n",
      "developing                         249 non-null bool\n",
      "dtypes: bool(5), object(6)\n",
      "memory usage: 13.0+ KB\n"
     ]
    }
   ],
   "source": [
    "countries.info()"
   ]
  },
  {
   "cell_type": "markdown",
   "metadata": {},
   "source": [
    "### 5) Replace NaN in `iso_alpha3` with empty string\n",
    "\n",
    "The island of Sark has no ISO Alpha3 code.\n",
    "\n",
    "#### Code"
   ]
  },
  {
   "cell_type": "code",
   "execution_count": 52,
   "metadata": {},
   "outputs": [],
   "source": [
    "countries['iso_alpha3'].fillna( '', inplace=True )"
   ]
  },
  {
   "cell_type": "markdown",
   "metadata": {},
   "source": [
    "#### Test"
   ]
  },
  {
   "cell_type": "code",
   "execution_count": 53,
   "metadata": {},
   "outputs": [
    {
     "data": {
      "text/html": [
       "<div>\n",
       "<style scoped>\n",
       "    .dataframe tbody tr th:only-of-type {\n",
       "        vertical-align: middle;\n",
       "    }\n",
       "\n",
       "    .dataframe tbody tr th {\n",
       "        vertical-align: top;\n",
       "    }\n",
       "\n",
       "    .dataframe thead th {\n",
       "        text-align: right;\n",
       "    }\n",
       "</style>\n",
       "<table border=\"1\" class=\"dataframe\">\n",
       "  <thead>\n",
       "    <tr style=\"text-align: right;\">\n",
       "      <th></th>\n",
       "      <th>common_name</th>\n",
       "      <th>official_name</th>\n",
       "      <th>capital</th>\n",
       "      <th>un_m49</th>\n",
       "      <th>iso_alpha3</th>\n",
       "      <th>least_developed_countries</th>\n",
       "      <th>landlocked_developing_countries</th>\n",
       "      <th>small_island_developing_states</th>\n",
       "      <th>un_region</th>\n",
       "      <th>developed</th>\n",
       "      <th>developing</th>\n",
       "    </tr>\n",
       "  </thead>\n",
       "  <tbody>\n",
       "  </tbody>\n",
       "</table>\n",
       "</div>"
      ],
      "text/plain": [
       "Empty DataFrame\n",
       "Columns: [common_name, official_name, capital, un_m49, iso_alpha3, least_developed_countries, landlocked_developing_countries, small_island_developing_states, un_region, developed, developing]\n",
       "Index: []"
      ]
     },
     "execution_count": 53,
     "metadata": {},
     "output_type": "execute_result"
    }
   ],
   "source": [
    "countries[ countries['iso_alpha3'].isnull() ]"
   ]
  },
  {
   "cell_type": "markdown",
   "metadata": {},
   "source": [
    "<a id='extract-groups'></a>\n",
    "## UN Groupings Extraction\n",
    "Extract and rationalize information in the five \"Other Groupings\" columns: `least_developed_countries`, `landlocked_developing_countries`, `small_island_developing_states`, `developed`, and `developing`.  This information will be stored in 2 database tables. \n",
    "\n",
    "The first table will contain five grouping titles: 'Least Developed Countries', 'Landlocked Developing Countries', 'Small Island Developing States', 'Developed', and 'Developing'.\n",
    "\n",
    "The second table will contain mappings of country ID to grouping ID.\n",
    "\n",
    "#### Code"
   ]
  },
  {
   "cell_type": "code",
   "execution_count": 54,
   "metadata": {},
   "outputs": [],
   "source": [
    "# Create a dataframe for the Other Groupings\n",
    "group_names = ['Least Developed Countries', 'Landlocked Developing Countries', 'Small Island Developing States', 'Developed Countries', 'Developing Countries']\n",
    "un_groupings = pd.DataFrame( data=group_names, columns=['society_group_name'] )\n",
    "\n",
    "# Set the Society Group Type to 1, which is the ID for \"UN Stats Grouping\" in society_group_types table\n",
    "# At the time of this analysis, this is the only entry in society_group_types table\n",
    "un_groupings['society_group_type'] = 1"
   ]
  },
  {
   "cell_type": "code",
   "execution_count": 55,
   "metadata": {
    "scrolled": true
   },
   "outputs": [],
   "source": [
    "# Get the Common Name for the countries in each grouping\n",
    "# Using Common Name here because the indexes of the current dataframes \n",
    "# are not the same as what the database ID will be once inserted\n",
    "least_developed = countries.query( 'least_developed_countries == True' )['common_name'].to_list()\n",
    "landlocked = countries.query( 'landlocked_developing_countries == True' )['common_name'].to_list()\n",
    "small_island = countries.query( 'small_island_developing_states == True' )['common_name'].to_list()\n",
    "developed = countries.query( 'developed == True' )['common_name'].to_list()\n",
    "developing = countries.query( 'developing == True' )['common_name'].to_list()"
   ]
  },
  {
   "cell_type": "code",
   "execution_count": 56,
   "metadata": {},
   "outputs": [],
   "source": [
    "# Create a blank dataframe to contain the country to grouping mappings\n",
    "country_to_group = pd.DataFrame( columns=['country_name', 'group_name'] )\n",
    "\n",
    "groups = ['least_developed','landlocked','small_island','developed','developing']\n",
    "for index, variable_name in enumerate( groups ):\n",
    "    for value in eval( variable_name ):\n",
    "        country_to_group = country_to_group.append( { 'country_name': value,\n",
    "                                                      'group_name': group_names[index] },\n",
    "                                                      ignore_index=True )"
   ]
  },
  {
   "cell_type": "markdown",
   "metadata": {},
   "source": [
    "#### Test"
   ]
  },
  {
   "cell_type": "code",
   "execution_count": 57,
   "metadata": {},
   "outputs": [
    {
     "data": {
      "text/html": [
       "<div>\n",
       "<style scoped>\n",
       "    .dataframe tbody tr th:only-of-type {\n",
       "        vertical-align: middle;\n",
       "    }\n",
       "\n",
       "    .dataframe tbody tr th {\n",
       "        vertical-align: top;\n",
       "    }\n",
       "\n",
       "    .dataframe thead th {\n",
       "        text-align: right;\n",
       "    }\n",
       "</style>\n",
       "<table border=\"1\" class=\"dataframe\">\n",
       "  <thead>\n",
       "    <tr style=\"text-align: right;\">\n",
       "      <th></th>\n",
       "      <th>society_group_name</th>\n",
       "      <th>society_group_type</th>\n",
       "    </tr>\n",
       "  </thead>\n",
       "  <tbody>\n",
       "    <tr>\n",
       "      <td>0</td>\n",
       "      <td>Least Developed Countries</td>\n",
       "      <td>1</td>\n",
       "    </tr>\n",
       "    <tr>\n",
       "      <td>1</td>\n",
       "      <td>Landlocked Developing Countries</td>\n",
       "      <td>1</td>\n",
       "    </tr>\n",
       "    <tr>\n",
       "      <td>2</td>\n",
       "      <td>Small Island Developing States</td>\n",
       "      <td>1</td>\n",
       "    </tr>\n",
       "    <tr>\n",
       "      <td>3</td>\n",
       "      <td>Developed Countries</td>\n",
       "      <td>1</td>\n",
       "    </tr>\n",
       "    <tr>\n",
       "      <td>4</td>\n",
       "      <td>Developing Countries</td>\n",
       "      <td>1</td>\n",
       "    </tr>\n",
       "  </tbody>\n",
       "</table>\n",
       "</div>"
      ],
      "text/plain": [
       "                society_group_name  society_group_type\n",
       "0        Least Developed Countries                   1\n",
       "1  Landlocked Developing Countries                   1\n",
       "2   Small Island Developing States                   1\n",
       "3              Developed Countries                   1\n",
       "4             Developing Countries                   1"
      ]
     },
     "execution_count": 57,
     "metadata": {},
     "output_type": "execute_result"
    }
   ],
   "source": [
    "un_groupings"
   ]
  },
  {
   "cell_type": "code",
   "execution_count": 58,
   "metadata": {},
   "outputs": [
    {
     "data": {
      "text/html": [
       "<div>\n",
       "<style scoped>\n",
       "    .dataframe tbody tr th:only-of-type {\n",
       "        vertical-align: middle;\n",
       "    }\n",
       "\n",
       "    .dataframe tbody tr th {\n",
       "        vertical-align: top;\n",
       "    }\n",
       "\n",
       "    .dataframe thead th {\n",
       "        text-align: right;\n",
       "    }\n",
       "</style>\n",
       "<table border=\"1\" class=\"dataframe\">\n",
       "  <thead>\n",
       "    <tr style=\"text-align: right;\">\n",
       "      <th></th>\n",
       "      <th>country_name</th>\n",
       "      <th>group_name</th>\n",
       "    </tr>\n",
       "  </thead>\n",
       "  <tbody>\n",
       "    <tr>\n",
       "      <td>133</td>\n",
       "      <td>Albania</td>\n",
       "      <td>Developed Countries</td>\n",
       "    </tr>\n",
       "    <tr>\n",
       "      <td>264</td>\n",
       "      <td>Guatemala</td>\n",
       "      <td>Developing Countries</td>\n",
       "    </tr>\n",
       "    <tr>\n",
       "      <td>344</td>\n",
       "      <td>South Africa</td>\n",
       "      <td>Developing Countries</td>\n",
       "    </tr>\n",
       "    <tr>\n",
       "      <td>372</td>\n",
       "      <td>Vanuatu</td>\n",
       "      <td>Developing Countries</td>\n",
       "    </tr>\n",
       "    <tr>\n",
       "      <td>174</td>\n",
       "      <td>Montenegro</td>\n",
       "      <td>Developed Countries</td>\n",
       "    </tr>\n",
       "    <tr>\n",
       "      <td>146</td>\n",
       "      <td>Cyprus</td>\n",
       "      <td>Developed Countries</td>\n",
       "    </tr>\n",
       "    <tr>\n",
       "      <td>333</td>\n",
       "      <td>Saint Vincent and the Grenadines</td>\n",
       "      <td>Developing Countries</td>\n",
       "    </tr>\n",
       "    <tr>\n",
       "      <td>208</td>\n",
       "      <td>Azerbaijan</td>\n",
       "      <td>Developing Countries</td>\n",
       "    </tr>\n",
       "    <tr>\n",
       "      <td>153</td>\n",
       "      <td>Germany</td>\n",
       "      <td>Developed Countries</td>\n",
       "    </tr>\n",
       "    <tr>\n",
       "      <td>99</td>\n",
       "      <td>Guyana</td>\n",
       "      <td>Small Island Developing States</td>\n",
       "    </tr>\n",
       "  </tbody>\n",
       "</table>\n",
       "</div>"
      ],
      "text/plain": [
       "                         country_name                      group_name\n",
       "133                           Albania             Developed Countries\n",
       "264                         Guatemala            Developing Countries\n",
       "344                      South Africa            Developing Countries\n",
       "372                           Vanuatu            Developing Countries\n",
       "174                        Montenegro             Developed Countries\n",
       "146                            Cyprus             Developed Countries\n",
       "333  Saint Vincent and the Grenadines            Developing Countries\n",
       "208                        Azerbaijan            Developing Countries\n",
       "153                           Germany             Developed Countries\n",
       "99                             Guyana  Small Island Developing States"
      ]
     },
     "execution_count": 58,
     "metadata": {},
     "output_type": "execute_result"
    }
   ],
   "source": [
    "country_to_group.sample(10)"
   ]
  },
  {
   "cell_type": "code",
   "execution_count": 59,
   "metadata": {},
   "outputs": [
    {
     "data": {
      "text/html": [
       "<div>\n",
       "<style scoped>\n",
       "    .dataframe tbody tr th:only-of-type {\n",
       "        vertical-align: middle;\n",
       "    }\n",
       "\n",
       "    .dataframe tbody tr th {\n",
       "        vertical-align: top;\n",
       "    }\n",
       "\n",
       "    .dataframe thead th {\n",
       "        text-align: right;\n",
       "    }\n",
       "</style>\n",
       "<table border=\"1\" class=\"dataframe\">\n",
       "  <thead>\n",
       "    <tr style=\"text-align: right;\">\n",
       "      <th></th>\n",
       "      <th>country_name</th>\n",
       "      <th>group_name</th>\n",
       "    </tr>\n",
       "  </thead>\n",
       "  <tbody>\n",
       "    <tr>\n",
       "      <td>42</td>\n",
       "      <td>Tuvalu</td>\n",
       "      <td>Least Developed Countries</td>\n",
       "    </tr>\n",
       "    <tr>\n",
       "      <td>129</td>\n",
       "      <td>Tuvalu</td>\n",
       "      <td>Small Island Developing States</td>\n",
       "    </tr>\n",
       "    <tr>\n",
       "      <td>365</td>\n",
       "      <td>Tuvalu</td>\n",
       "      <td>Developing Countries</td>\n",
       "    </tr>\n",
       "  </tbody>\n",
       "</table>\n",
       "</div>"
      ],
      "text/plain": [
       "    country_name                      group_name\n",
       "42        Tuvalu       Least Developed Countries\n",
       "129       Tuvalu  Small Island Developing States\n",
       "365       Tuvalu            Developing Countries"
      ]
     },
     "execution_count": 59,
     "metadata": {},
     "output_type": "execute_result"
    }
   ],
   "source": [
    "# Found this one by luck\n",
    "country_to_group.query( 'country_name == \"Tuvalu\"' )"
   ]
  },
  {
   "cell_type": "code",
   "execution_count": 60,
   "metadata": {},
   "outputs": [
    {
     "data": {
      "text/html": [
       "<div>\n",
       "<style scoped>\n",
       "    .dataframe tbody tr th:only-of-type {\n",
       "        vertical-align: middle;\n",
       "    }\n",
       "\n",
       "    .dataframe tbody tr th {\n",
       "        vertical-align: top;\n",
       "    }\n",
       "\n",
       "    .dataframe thead th {\n",
       "        text-align: right;\n",
       "    }\n",
       "</style>\n",
       "<table border=\"1\" class=\"dataframe\">\n",
       "  <thead>\n",
       "    <tr style=\"text-align: right;\">\n",
       "      <th></th>\n",
       "      <th>common_name</th>\n",
       "      <th>official_name</th>\n",
       "      <th>capital</th>\n",
       "      <th>un_m49</th>\n",
       "      <th>iso_alpha3</th>\n",
       "      <th>least_developed_countries</th>\n",
       "      <th>landlocked_developing_countries</th>\n",
       "      <th>small_island_developing_states</th>\n",
       "      <th>un_region</th>\n",
       "      <th>developed</th>\n",
       "      <th>developing</th>\n",
       "    </tr>\n",
       "  </thead>\n",
       "  <tbody>\n",
       "    <tr>\n",
       "      <td>230</td>\n",
       "      <td>Tuvalu</td>\n",
       "      <td>Ellice Islands</td>\n",
       "      <td>Funafuti</td>\n",
       "      <td>798</td>\n",
       "      <td>TUV</td>\n",
       "      <td>True</td>\n",
       "      <td>False</td>\n",
       "      <td>True</td>\n",
       "      <td>061</td>\n",
       "      <td>False</td>\n",
       "      <td>True</td>\n",
       "    </tr>\n",
       "  </tbody>\n",
       "</table>\n",
       "</div>"
      ],
      "text/plain": [
       "    common_name   official_name   capital un_m49 iso_alpha3  \\\n",
       "230      Tuvalu  Ellice Islands  Funafuti    798        TUV   \n",
       "\n",
       "     least_developed_countries  landlocked_developing_countries  \\\n",
       "230                       True                            False   \n",
       "\n",
       "     small_island_developing_states un_region  developed  developing  \n",
       "230                            True       061      False        True  "
      ]
     },
     "execution_count": 60,
     "metadata": {},
     "output_type": "execute_result"
    }
   ],
   "source": [
    "# Is True in the correct columns?\n",
    "countries.query( 'index == 230' )"
   ]
  },
  {
   "cell_type": "markdown",
   "metadata": {},
   "source": [
    "<a id='assess4'></a>\n",
    "## Assess, Part 4"
   ]
  },
  {
   "cell_type": "code",
   "execution_count": 61,
   "metadata": {},
   "outputs": [
    {
     "name": "stdout",
     "output_type": "stream",
     "text": [
      "<class 'pandas.core.frame.DataFrame'>\n",
      "RangeIndex: 249 entries, 0 to 248\n",
      "Data columns (total 11 columns):\n",
      "common_name                        249 non-null object\n",
      "official_name                      249 non-null object\n",
      "capital                            249 non-null object\n",
      "un_m49                             249 non-null object\n",
      "iso_alpha3                         249 non-null object\n",
      "least_developed_countries          249 non-null bool\n",
      "landlocked_developing_countries    249 non-null bool\n",
      "small_island_developing_states     249 non-null bool\n",
      "un_region                          249 non-null object\n",
      "developed                          249 non-null bool\n",
      "developing                         249 non-null bool\n",
      "dtypes: bool(5), object(6)\n",
      "memory usage: 13.0+ KB\n"
     ]
    }
   ],
   "source": [
    "countries.info()"
   ]
  },
  {
   "cell_type": "markdown",
   "metadata": {},
   "source": [
    "### Issues Found:\n",
    "#### Quality\n",
    "1) Remove quotes from Common Name, Official Name and Capital. Several entries contain double quotes (ex: \"Bonaire, Sint Eustatius, and Saba\") due to commas in string breaking CSV formatting on input. Remove quotes.\n",
    "\n",
    "2) Fix Moldova. Update Common Name to Moldova instead of Republic of Moldova (official name). Update Capital to Chișinău instead of Chișinau.\n",
    "\n",
    "3) Add `society_type_id` feature and set to 1 (society_type_id for \"Country\"). \n",
    "\n",
    "#### Tidiness\n",
    "4) Drop 5 UN grouping columns: `least_developed_countries`,`landlocked_developing_countries`,`small_island_developing_states`,`developed`,`developing`\n",
    "\n",
    "<a id='clean4'></a>\n",
    "## Clean, Part 4\n",
    "\n",
    "### 1) Remove quotes from Official Names\n",
    "\n",
    "Several entries contain \" in official name (ex: \"Bonaire, Sint Eustatius, and Saba\") due to commas in field breaking CSV formatting on input. Remove quotes.\n",
    "\n",
    "Also, the official name for Sri Lanka contains an odd space character that breaks on read. Fix it.\n",
    "\n",
    "#### Code"
   ]
  },
  {
   "cell_type": "code",
   "execution_count": 62,
   "metadata": {},
   "outputs": [
    {
     "data": {
      "text/html": [
       "<div>\n",
       "<style scoped>\n",
       "    .dataframe tbody tr th:only-of-type {\n",
       "        vertical-align: middle;\n",
       "    }\n",
       "\n",
       "    .dataframe tbody tr th {\n",
       "        vertical-align: top;\n",
       "    }\n",
       "\n",
       "    .dataframe thead th {\n",
       "        text-align: right;\n",
       "    }\n",
       "</style>\n",
       "<table border=\"1\" class=\"dataframe\">\n",
       "  <thead>\n",
       "    <tr style=\"text-align: right;\">\n",
       "      <th></th>\n",
       "      <th>common_name</th>\n",
       "      <th>official_name</th>\n",
       "      <th>capital</th>\n",
       "      <th>un_m49</th>\n",
       "      <th>iso_alpha3</th>\n",
       "      <th>least_developed_countries</th>\n",
       "      <th>landlocked_developing_countries</th>\n",
       "      <th>small_island_developing_states</th>\n",
       "      <th>un_region</th>\n",
       "      <th>developed</th>\n",
       "      <th>developing</th>\n",
       "    </tr>\n",
       "  </thead>\n",
       "  <tbody>\n",
       "    <tr>\n",
       "      <td>0</td>\n",
       "      <td>\"Saint Helena, Ascension, and Tristan da Cunha\"</td>\n",
       "      <td>\"Saint Helena, Ascension, and Tristan da Cunha\"</td>\n",
       "      <td>Jamestown</td>\n",
       "      <td>654</td>\n",
       "      <td>SHN</td>\n",
       "      <td>False</td>\n",
       "      <td>False</td>\n",
       "      <td>False</td>\n",
       "      <td>011</td>\n",
       "      <td>False</td>\n",
       "      <td>True</td>\n",
       "    </tr>\n",
       "    <tr>\n",
       "      <td>25</td>\n",
       "      <td>BES Islands</td>\n",
       "      <td>\"Bonaire, Sint Eustatius, and Saba\"</td>\n",
       "      <td>Kralendijk</td>\n",
       "      <td>535</td>\n",
       "      <td>BES</td>\n",
       "      <td>False</td>\n",
       "      <td>False</td>\n",
       "      <td>True</td>\n",
       "      <td>029</td>\n",
       "      <td>False</td>\n",
       "      <td>True</td>\n",
       "    </tr>\n",
       "    <tr>\n",
       "      <td>238</td>\n",
       "      <td>USA</td>\n",
       "      <td>United States of America</td>\n",
       "      <td>\"Washington, D.C.\"</td>\n",
       "      <td>840</td>\n",
       "      <td>USA</td>\n",
       "      <td>False</td>\n",
       "      <td>False</td>\n",
       "      <td>False</td>\n",
       "      <td>021</td>\n",
       "      <td>True</td>\n",
       "      <td>False</td>\n",
       "    </tr>\n",
       "  </tbody>\n",
       "</table>\n",
       "</div>"
      ],
      "text/plain": [
       "                                         common_name  \\\n",
       "0    \"Saint Helena, Ascension, and Tristan da Cunha\"   \n",
       "25                                       BES Islands   \n",
       "238                                              USA   \n",
       "\n",
       "                                       official_name             capital  \\\n",
       "0    \"Saint Helena, Ascension, and Tristan da Cunha\"           Jamestown   \n",
       "25               \"Bonaire, Sint Eustatius, and Saba\"          Kralendijk   \n",
       "238                         United States of America  \"Washington, D.C.\"   \n",
       "\n",
       "    un_m49 iso_alpha3  least_developed_countries  \\\n",
       "0      654        SHN                      False   \n",
       "25     535        BES                      False   \n",
       "238    840        USA                      False   \n",
       "\n",
       "     landlocked_developing_countries  small_island_developing_states  \\\n",
       "0                              False                           False   \n",
       "25                             False                            True   \n",
       "238                            False                           False   \n",
       "\n",
       "    un_region  developed  developing  \n",
       "0         011      False        True  \n",
       "25        029      False        True  \n",
       "238       021       True       False  "
      ]
     },
     "execution_count": 62,
     "metadata": {},
     "output_type": "execute_result"
    }
   ],
   "source": [
    "countries[ countries['official_name'].str.contains('\"') | countries['capital'].str.contains('\"') ]"
   ]
  },
  {
   "cell_type": "code",
   "execution_count": 63,
   "metadata": {},
   "outputs": [],
   "source": [
    "countries.loc[0,'official_name'] = \"Saint Helena, Ascension, and Tristan da Cunha\"\n",
    "countries.loc[0,'common_name'] = \"Saint Helena, Ascension, and Tristan da Cunha\"\n",
    "countries.loc[25,'official_name'] = \"Bonaire, Sint Eustatius, and Saba\"\n",
    "countries.loc[209,'official_name'] = \"Democratic Socialist Republic of Sri Lanka\"\n",
    "countries.loc[238,'capital'] = \"Washington, D.C.\""
   ]
  },
  {
   "cell_type": "markdown",
   "metadata": {},
   "source": [
    "#### Test"
   ]
  },
  {
   "cell_type": "code",
   "execution_count": 64,
   "metadata": {},
   "outputs": [
    {
     "data": {
      "text/html": [
       "<div>\n",
       "<style scoped>\n",
       "    .dataframe tbody tr th:only-of-type {\n",
       "        vertical-align: middle;\n",
       "    }\n",
       "\n",
       "    .dataframe tbody tr th {\n",
       "        vertical-align: top;\n",
       "    }\n",
       "\n",
       "    .dataframe thead th {\n",
       "        text-align: right;\n",
       "    }\n",
       "</style>\n",
       "<table border=\"1\" class=\"dataframe\">\n",
       "  <thead>\n",
       "    <tr style=\"text-align: right;\">\n",
       "      <th></th>\n",
       "      <th>common_name</th>\n",
       "      <th>official_name</th>\n",
       "      <th>capital</th>\n",
       "      <th>un_m49</th>\n",
       "      <th>iso_alpha3</th>\n",
       "      <th>least_developed_countries</th>\n",
       "      <th>landlocked_developing_countries</th>\n",
       "      <th>small_island_developing_states</th>\n",
       "      <th>un_region</th>\n",
       "      <th>developed</th>\n",
       "      <th>developing</th>\n",
       "    </tr>\n",
       "  </thead>\n",
       "  <tbody>\n",
       "    <tr>\n",
       "      <td>0</td>\n",
       "      <td>Saint Helena, Ascension, and Tristan da Cunha</td>\n",
       "      <td>Saint Helena, Ascension, and Tristan da Cunha</td>\n",
       "      <td>Jamestown</td>\n",
       "      <td>654</td>\n",
       "      <td>SHN</td>\n",
       "      <td>False</td>\n",
       "      <td>False</td>\n",
       "      <td>False</td>\n",
       "      <td>011</td>\n",
       "      <td>False</td>\n",
       "      <td>True</td>\n",
       "    </tr>\n",
       "    <tr>\n",
       "      <td>25</td>\n",
       "      <td>BES Islands</td>\n",
       "      <td>Bonaire, Sint Eustatius, and Saba</td>\n",
       "      <td>Kralendijk</td>\n",
       "      <td>535</td>\n",
       "      <td>BES</td>\n",
       "      <td>False</td>\n",
       "      <td>False</td>\n",
       "      <td>True</td>\n",
       "      <td>029</td>\n",
       "      <td>False</td>\n",
       "      <td>True</td>\n",
       "    </tr>\n",
       "    <tr>\n",
       "      <td>209</td>\n",
       "      <td>Sri Lanka</td>\n",
       "      <td>Democratic Socialist Republic of Sri Lanka</td>\n",
       "      <td>Sri Jayawardenepura Kotte</td>\n",
       "      <td>144</td>\n",
       "      <td>LKA</td>\n",
       "      <td>False</td>\n",
       "      <td>False</td>\n",
       "      <td>False</td>\n",
       "      <td>034</td>\n",
       "      <td>False</td>\n",
       "      <td>True</td>\n",
       "    </tr>\n",
       "    <tr>\n",
       "      <td>238</td>\n",
       "      <td>USA</td>\n",
       "      <td>United States of America</td>\n",
       "      <td>Washington, D.C.</td>\n",
       "      <td>840</td>\n",
       "      <td>USA</td>\n",
       "      <td>False</td>\n",
       "      <td>False</td>\n",
       "      <td>False</td>\n",
       "      <td>021</td>\n",
       "      <td>True</td>\n",
       "      <td>False</td>\n",
       "    </tr>\n",
       "  </tbody>\n",
       "</table>\n",
       "</div>"
      ],
      "text/plain": [
       "                                       common_name  \\\n",
       "0    Saint Helena, Ascension, and Tristan da Cunha   \n",
       "25                                     BES Islands   \n",
       "209                                      Sri Lanka   \n",
       "238                                            USA   \n",
       "\n",
       "                                     official_name                    capital  \\\n",
       "0    Saint Helena, Ascension, and Tristan da Cunha                  Jamestown   \n",
       "25               Bonaire, Sint Eustatius, and Saba                 Kralendijk   \n",
       "209     Democratic Socialist Republic of Sri Lanka  Sri Jayawardenepura Kotte   \n",
       "238                       United States of America           Washington, D.C.   \n",
       "\n",
       "    un_m49 iso_alpha3  least_developed_countries  \\\n",
       "0      654        SHN                      False   \n",
       "25     535        BES                      False   \n",
       "209    144        LKA                      False   \n",
       "238    840        USA                      False   \n",
       "\n",
       "     landlocked_developing_countries  small_island_developing_states  \\\n",
       "0                              False                           False   \n",
       "25                             False                            True   \n",
       "209                            False                           False   \n",
       "238                            False                           False   \n",
       "\n",
       "    un_region  developed  developing  \n",
       "0         011      False        True  \n",
       "25        029      False        True  \n",
       "209       034      False        True  \n",
       "238       021       True       False  "
      ]
     },
     "execution_count": 64,
     "metadata": {},
     "output_type": "execute_result"
    }
   ],
   "source": [
    "names = ['BES Islands','Saint Helena, Ascension, and Tristan da Cunha','Sri Lanka','USA']\n",
    "countries.query( 'common_name in @names' )"
   ]
  },
  {
   "cell_type": "markdown",
   "metadata": {},
   "source": [
    "### 2) Fix Moldova\n",
    "Update Common Name to Moldova instead of Republic of Moldova (official name). Update Capital to Chișinău instead of Chișinau\n",
    "\n",
    "#### Code"
   ]
  },
  {
   "cell_type": "code",
   "execution_count": 65,
   "metadata": {},
   "outputs": [],
   "source": [
    "moldova = countries.query('common_name == \"Republic of Moldova\"').index.to_list()\n",
    "countries.loc[moldova,'common_name'] = 'Moldova'\n",
    "countries.loc[moldova,'capital'] = 'Chișinău'"
   ]
  },
  {
   "cell_type": "markdown",
   "metadata": {},
   "source": [
    "#### Test"
   ]
  },
  {
   "cell_type": "code",
   "execution_count": 66,
   "metadata": {},
   "outputs": [
    {
     "data": {
      "text/html": [
       "<div>\n",
       "<style scoped>\n",
       "    .dataframe tbody tr th:only-of-type {\n",
       "        vertical-align: middle;\n",
       "    }\n",
       "\n",
       "    .dataframe tbody tr th {\n",
       "        vertical-align: top;\n",
       "    }\n",
       "\n",
       "    .dataframe thead th {\n",
       "        text-align: right;\n",
       "    }\n",
       "</style>\n",
       "<table border=\"1\" class=\"dataframe\">\n",
       "  <thead>\n",
       "    <tr style=\"text-align: right;\">\n",
       "      <th></th>\n",
       "      <th>common_name</th>\n",
       "      <th>official_name</th>\n",
       "      <th>capital</th>\n",
       "      <th>un_m49</th>\n",
       "      <th>iso_alpha3</th>\n",
       "      <th>least_developed_countries</th>\n",
       "      <th>landlocked_developing_countries</th>\n",
       "      <th>small_island_developing_states</th>\n",
       "      <th>un_region</th>\n",
       "      <th>developed</th>\n",
       "      <th>developing</th>\n",
       "    </tr>\n",
       "  </thead>\n",
       "  <tbody>\n",
       "    <tr>\n",
       "      <td>178</td>\n",
       "      <td>Moldova</td>\n",
       "      <td>Republic of Moldova</td>\n",
       "      <td>Chișinău</td>\n",
       "      <td>498</td>\n",
       "      <td>MDA</td>\n",
       "      <td>False</td>\n",
       "      <td>True</td>\n",
       "      <td>False</td>\n",
       "      <td>151</td>\n",
       "      <td>True</td>\n",
       "      <td>False</td>\n",
       "    </tr>\n",
       "  </tbody>\n",
       "</table>\n",
       "</div>"
      ],
      "text/plain": [
       "    common_name        official_name   capital un_m49 iso_alpha3  \\\n",
       "178     Moldova  Republic of Moldova  Chișinău    498        MDA   \n",
       "\n",
       "     least_developed_countries  landlocked_developing_countries  \\\n",
       "178                      False                             True   \n",
       "\n",
       "     small_island_developing_states un_region  developed  developing  \n",
       "178                           False       151       True       False  "
      ]
     },
     "execution_count": 66,
     "metadata": {},
     "output_type": "execute_result"
    }
   ],
   "source": [
    "countries.loc[moldova]"
   ]
  },
  {
   "cell_type": "markdown",
   "metadata": {},
   "source": [
    "### 3) Add `society_type_id` and Set to 1\n",
    "Create a new feature `society_type_id` and set it to 1 for all countries. This corresponds to the society_type_id for \"Country\".\n",
    "\n",
    "#### Code"
   ]
  },
  {
   "cell_type": "code",
   "execution_count": 67,
   "metadata": {},
   "outputs": [],
   "source": [
    "countries['society_type_id'] = 1"
   ]
  },
  {
   "cell_type": "markdown",
   "metadata": {},
   "source": [
    "#### Test"
   ]
  },
  {
   "cell_type": "code",
   "execution_count": 68,
   "metadata": {},
   "outputs": [
    {
     "data": {
      "text/html": [
       "<div>\n",
       "<style scoped>\n",
       "    .dataframe tbody tr th:only-of-type {\n",
       "        vertical-align: middle;\n",
       "    }\n",
       "\n",
       "    .dataframe tbody tr th {\n",
       "        vertical-align: top;\n",
       "    }\n",
       "\n",
       "    .dataframe thead th {\n",
       "        text-align: right;\n",
       "    }\n",
       "</style>\n",
       "<table border=\"1\" class=\"dataframe\">\n",
       "  <thead>\n",
       "    <tr style=\"text-align: right;\">\n",
       "      <th></th>\n",
       "      <th>common_name</th>\n",
       "      <th>official_name</th>\n",
       "      <th>capital</th>\n",
       "      <th>un_m49</th>\n",
       "      <th>iso_alpha3</th>\n",
       "      <th>least_developed_countries</th>\n",
       "      <th>landlocked_developing_countries</th>\n",
       "      <th>small_island_developing_states</th>\n",
       "      <th>un_region</th>\n",
       "      <th>developed</th>\n",
       "      <th>developing</th>\n",
       "      <th>society_type_id</th>\n",
       "    </tr>\n",
       "  </thead>\n",
       "  <tbody>\n",
       "    <tr>\n",
       "      <td>45</td>\n",
       "      <td>Chile</td>\n",
       "      <td>Republic of Chile</td>\n",
       "      <td>Santiago</td>\n",
       "      <td>152</td>\n",
       "      <td>CHL</td>\n",
       "      <td>False</td>\n",
       "      <td>False</td>\n",
       "      <td>False</td>\n",
       "      <td>005</td>\n",
       "      <td>False</td>\n",
       "      <td>True</td>\n",
       "      <td>1</td>\n",
       "    </tr>\n",
       "    <tr>\n",
       "      <td>31</td>\n",
       "      <td>Brazil</td>\n",
       "      <td>Federative Republic of Brazil</td>\n",
       "      <td>Brasília</td>\n",
       "      <td>076</td>\n",
       "      <td>BRA</td>\n",
       "      <td>False</td>\n",
       "      <td>False</td>\n",
       "      <td>False</td>\n",
       "      <td>005</td>\n",
       "      <td>False</td>\n",
       "      <td>True</td>\n",
       "      <td>1</td>\n",
       "    </tr>\n",
       "    <tr>\n",
       "      <td>147</td>\n",
       "      <td>Montserrat</td>\n",
       "      <td>Montserrat</td>\n",
       "      <td>Plymouth</td>\n",
       "      <td>500</td>\n",
       "      <td>MSR</td>\n",
       "      <td>False</td>\n",
       "      <td>False</td>\n",
       "      <td>True</td>\n",
       "      <td>029</td>\n",
       "      <td>False</td>\n",
       "      <td>True</td>\n",
       "      <td>1</td>\n",
       "    </tr>\n",
       "    <tr>\n",
       "      <td>205</td>\n",
       "      <td>South Georgia and the South Sandwich Islands</td>\n",
       "      <td>South Georgia and the South Sandwich Islands</td>\n",
       "      <td>King Edward Point</td>\n",
       "      <td>239</td>\n",
       "      <td>SGS</td>\n",
       "      <td>False</td>\n",
       "      <td>False</td>\n",
       "      <td>False</td>\n",
       "      <td>005</td>\n",
       "      <td>False</td>\n",
       "      <td>True</td>\n",
       "      <td>1</td>\n",
       "    </tr>\n",
       "    <tr>\n",
       "      <td>200</td>\n",
       "      <td>Slovakia</td>\n",
       "      <td>Slovak Republic</td>\n",
       "      <td>Bratislava</td>\n",
       "      <td>703</td>\n",
       "      <td>SVK</td>\n",
       "      <td>False</td>\n",
       "      <td>False</td>\n",
       "      <td>False</td>\n",
       "      <td>151</td>\n",
       "      <td>True</td>\n",
       "      <td>False</td>\n",
       "      <td>1</td>\n",
       "    </tr>\n",
       "  </tbody>\n",
       "</table>\n",
       "</div>"
      ],
      "text/plain": [
       "                                      common_name  \\\n",
       "45                                          Chile   \n",
       "31                                         Brazil   \n",
       "147                                    Montserrat   \n",
       "205  South Georgia and the South Sandwich Islands   \n",
       "200                                      Slovakia   \n",
       "\n",
       "                                    official_name            capital un_m49  \\\n",
       "45                              Republic of Chile           Santiago    152   \n",
       "31                  Federative Republic of Brazil           Brasília    076   \n",
       "147                                    Montserrat           Plymouth    500   \n",
       "205  South Georgia and the South Sandwich Islands  King Edward Point    239   \n",
       "200                               Slovak Republic         Bratislava    703   \n",
       "\n",
       "    iso_alpha3  least_developed_countries  landlocked_developing_countries  \\\n",
       "45         CHL                      False                            False   \n",
       "31         BRA                      False                            False   \n",
       "147        MSR                      False                            False   \n",
       "205        SGS                      False                            False   \n",
       "200        SVK                      False                            False   \n",
       "\n",
       "     small_island_developing_states un_region  developed  developing  \\\n",
       "45                            False       005      False        True   \n",
       "31                            False       005      False        True   \n",
       "147                            True       029      False        True   \n",
       "205                           False       005      False        True   \n",
       "200                           False       151       True       False   \n",
       "\n",
       "     society_type_id  \n",
       "45                 1  \n",
       "31                 1  \n",
       "147                1  \n",
       "205                1  \n",
       "200                1  "
      ]
     },
     "execution_count": 68,
     "metadata": {},
     "output_type": "execute_result"
    }
   ],
   "source": [
    "countries.sample(5)"
   ]
  },
  {
   "cell_type": "markdown",
   "metadata": {},
   "source": [
    "### 4) Drop 5 UN grouping columns\n",
    "Drop `least_developed_countries`, `landlocked_developing_countries`, `small_island_developing_states`, `developed`, and `developing`. These columns are no longer needed. This information is now contained in the `un_groupings` and `country_to_group` dataframes.\n",
    "\n",
    "#### Code"
   ]
  },
  {
   "cell_type": "code",
   "execution_count": 69,
   "metadata": {},
   "outputs": [],
   "source": [
    "countries.drop( columns=['least_developed_countries','landlocked_developing_countries','small_island_developing_states','developed','developing'], axis=1, inplace=True )"
   ]
  },
  {
   "cell_type": "markdown",
   "metadata": {},
   "source": [
    "#### Test"
   ]
  },
  {
   "cell_type": "code",
   "execution_count": 70,
   "metadata": {},
   "outputs": [
    {
     "name": "stdout",
     "output_type": "stream",
     "text": [
      "<class 'pandas.core.frame.DataFrame'>\n",
      "RangeIndex: 249 entries, 0 to 248\n",
      "Data columns (total 7 columns):\n",
      "common_name        249 non-null object\n",
      "official_name      249 non-null object\n",
      "capital            249 non-null object\n",
      "un_m49             249 non-null object\n",
      "iso_alpha3         249 non-null object\n",
      "un_region          249 non-null object\n",
      "society_type_id    249 non-null int64\n",
      "dtypes: int64(1), object(6)\n",
      "memory usage: 13.7+ KB\n"
     ]
    }
   ],
   "source": [
    "countries.info()"
   ]
  },
  {
   "cell_type": "markdown",
   "metadata": {},
   "source": [
    "<a id='final'></a>\n",
    "## Finished Dataframes\n",
    "\n",
    "These dataframes are ready for database insertion."
   ]
  },
  {
   "cell_type": "code",
   "execution_count": 71,
   "metadata": {},
   "outputs": [
    {
     "data": {
      "text/html": [
       "<div>\n",
       "<style scoped>\n",
       "    .dataframe tbody tr th:only-of-type {\n",
       "        vertical-align: middle;\n",
       "    }\n",
       "\n",
       "    .dataframe tbody tr th {\n",
       "        vertical-align: top;\n",
       "    }\n",
       "\n",
       "    .dataframe thead th {\n",
       "        text-align: right;\n",
       "    }\n",
       "</style>\n",
       "<table border=\"1\" class=\"dataframe\">\n",
       "  <thead>\n",
       "    <tr style=\"text-align: right;\">\n",
       "      <th></th>\n",
       "      <th>common_name</th>\n",
       "      <th>official_name</th>\n",
       "      <th>capital</th>\n",
       "      <th>un_m49</th>\n",
       "      <th>iso_alpha3</th>\n",
       "      <th>un_region</th>\n",
       "      <th>society_type_id</th>\n",
       "    </tr>\n",
       "  </thead>\n",
       "  <tbody>\n",
       "    <tr>\n",
       "      <td>230</td>\n",
       "      <td>Tuvalu</td>\n",
       "      <td>Ellice Islands</td>\n",
       "      <td>Funafuti</td>\n",
       "      <td>798</td>\n",
       "      <td>TUV</td>\n",
       "      <td>061</td>\n",
       "      <td>1</td>\n",
       "    </tr>\n",
       "    <tr>\n",
       "      <td>246</td>\n",
       "      <td>Yemen</td>\n",
       "      <td>Republic of Yemen</td>\n",
       "      <td>Sana'a</td>\n",
       "      <td>887</td>\n",
       "      <td>YEM</td>\n",
       "      <td>145</td>\n",
       "      <td>1</td>\n",
       "    </tr>\n",
       "    <tr>\n",
       "      <td>185</td>\n",
       "      <td>Saint Lucia</td>\n",
       "      <td>Saint Lucia</td>\n",
       "      <td>Castries</td>\n",
       "      <td>662</td>\n",
       "      <td>LCA</td>\n",
       "      <td>029</td>\n",
       "      <td>1</td>\n",
       "    </tr>\n",
       "    <tr>\n",
       "      <td>182</td>\n",
       "      <td>Rwanda</td>\n",
       "      <td>Republic of Rwanda</td>\n",
       "      <td>Kigali</td>\n",
       "      <td>646</td>\n",
       "      <td>RWA</td>\n",
       "      <td>014</td>\n",
       "      <td>1</td>\n",
       "    </tr>\n",
       "    <tr>\n",
       "      <td>98</td>\n",
       "      <td>Heard and McDonald Islands</td>\n",
       "      <td>Territory of Heard and McDonald Islands</td>\n",
       "      <td></td>\n",
       "      <td>334</td>\n",
       "      <td>HMD</td>\n",
       "      <td>053</td>\n",
       "      <td>1</td>\n",
       "    </tr>\n",
       "  </tbody>\n",
       "</table>\n",
       "</div>"
      ],
      "text/plain": [
       "                    common_name                            official_name  \\\n",
       "230                      Tuvalu                           Ellice Islands   \n",
       "246                       Yemen                        Republic of Yemen   \n",
       "185                 Saint Lucia                              Saint Lucia   \n",
       "182                      Rwanda                       Republic of Rwanda   \n",
       "98   Heard and McDonald Islands  Territory of Heard and McDonald Islands   \n",
       "\n",
       "      capital un_m49 iso_alpha3 un_region  society_type_id  \n",
       "230  Funafuti    798        TUV       061                1  \n",
       "246    Sana'a    887        YEM       145                1  \n",
       "185  Castries    662        LCA       029                1  \n",
       "182    Kigali    646        RWA       014                1  \n",
       "98               334        HMD       053                1  "
      ]
     },
     "execution_count": 71,
     "metadata": {},
     "output_type": "execute_result"
    }
   ],
   "source": [
    "# Sort by common_name, then output to csv\n",
    "countries.sort_values( 'common_name', inplace=True )\n",
    "countries.to_csv( 'countries_clean.csv', encoding='utf-16', index=False )\n",
    "countries.sample(5)"
   ]
  },
  {
   "cell_type": "code",
   "execution_count": 72,
   "metadata": {},
   "outputs": [
    {
     "data": {
      "text/html": [
       "<div>\n",
       "<style scoped>\n",
       "    .dataframe tbody tr th:only-of-type {\n",
       "        vertical-align: middle;\n",
       "    }\n",
       "\n",
       "    .dataframe tbody tr th {\n",
       "        vertical-align: top;\n",
       "    }\n",
       "\n",
       "    .dataframe thead th {\n",
       "        text-align: right;\n",
       "    }\n",
       "</style>\n",
       "<table border=\"1\" class=\"dataframe\">\n",
       "  <thead>\n",
       "    <tr style=\"text-align: right;\">\n",
       "      <th></th>\n",
       "      <th>region_code</th>\n",
       "      <th>region_name</th>\n",
       "      <th>parent_region_code</th>\n",
       "    </tr>\n",
       "  </thead>\n",
       "  <tbody>\n",
       "    <tr>\n",
       "      <td>15</td>\n",
       "      <td>999</td>\n",
       "      <td>Antarctica</td>\n",
       "      <td>000</td>\n",
       "    </tr>\n",
       "    <tr>\n",
       "      <td>25</td>\n",
       "      <td>035</td>\n",
       "      <td>South-eastern Asia</td>\n",
       "      <td>142</td>\n",
       "    </tr>\n",
       "    <tr>\n",
       "      <td>4</td>\n",
       "      <td>034</td>\n",
       "      <td>Southern Asia</td>\n",
       "      <td>142</td>\n",
       "    </tr>\n",
       "    <tr>\n",
       "      <td>22</td>\n",
       "      <td>021</td>\n",
       "      <td>Northern America</td>\n",
       "      <td>019</td>\n",
       "    </tr>\n",
       "    <tr>\n",
       "      <td>24</td>\n",
       "      <td>014</td>\n",
       "      <td>Eastern Africa</td>\n",
       "      <td>202</td>\n",
       "    </tr>\n",
       "    <tr>\n",
       "      <td>9</td>\n",
       "      <td>009</td>\n",
       "      <td>Oceania</td>\n",
       "      <td>000</td>\n",
       "    </tr>\n",
       "    <tr>\n",
       "      <td>18</td>\n",
       "      <td>053</td>\n",
       "      <td>Australia and New Zealand</td>\n",
       "      <td>009</td>\n",
       "    </tr>\n",
       "    <tr>\n",
       "      <td>30</td>\n",
       "      <td>143</td>\n",
       "      <td>Central Asia</td>\n",
       "      <td>142</td>\n",
       "    </tr>\n",
       "    <tr>\n",
       "      <td>3</td>\n",
       "      <td>142</td>\n",
       "      <td>Asia</td>\n",
       "      <td>000</td>\n",
       "    </tr>\n",
       "    <tr>\n",
       "      <td>8</td>\n",
       "      <td>015</td>\n",
       "      <td>Northern Africa</td>\n",
       "      <td>002</td>\n",
       "    </tr>\n",
       "  </tbody>\n",
       "</table>\n",
       "</div>"
      ],
      "text/plain": [
       "   region_code                region_name parent_region_code\n",
       "15         999                 Antarctica                000\n",
       "25         035         South-eastern Asia                142\n",
       "4          034              Southern Asia                142\n",
       "22         021           Northern America                019\n",
       "24         014             Eastern Africa                202\n",
       "9          009                    Oceania                000\n",
       "18         053  Australia and New Zealand                009\n",
       "30         143               Central Asia                142\n",
       "3          142                       Asia                000\n",
       "8          015            Northern Africa                002"
      ]
     },
     "execution_count": 72,
     "metadata": {},
     "output_type": "execute_result"
    }
   ],
   "source": [
    "# Sort by parent_region_code, then output to csv\n",
    "regions.sort_values( 'parent_region_code', inplace=True )\n",
    "regions.to_csv( 'un_regions.csv', index=False )\n",
    "regions.sample(10)"
   ]
  },
  {
   "cell_type": "code",
   "execution_count": 73,
   "metadata": {},
   "outputs": [
    {
     "data": {
      "text/html": [
       "<div>\n",
       "<style scoped>\n",
       "    .dataframe tbody tr th:only-of-type {\n",
       "        vertical-align: middle;\n",
       "    }\n",
       "\n",
       "    .dataframe tbody tr th {\n",
       "        vertical-align: top;\n",
       "    }\n",
       "\n",
       "    .dataframe thead th {\n",
       "        text-align: right;\n",
       "    }\n",
       "</style>\n",
       "<table border=\"1\" class=\"dataframe\">\n",
       "  <thead>\n",
       "    <tr style=\"text-align: right;\">\n",
       "      <th></th>\n",
       "      <th>society_group_name</th>\n",
       "      <th>society_group_type</th>\n",
       "    </tr>\n",
       "  </thead>\n",
       "  <tbody>\n",
       "    <tr>\n",
       "      <td>0</td>\n",
       "      <td>Least Developed Countries</td>\n",
       "      <td>1</td>\n",
       "    </tr>\n",
       "    <tr>\n",
       "      <td>1</td>\n",
       "      <td>Landlocked Developing Countries</td>\n",
       "      <td>1</td>\n",
       "    </tr>\n",
       "    <tr>\n",
       "      <td>2</td>\n",
       "      <td>Small Island Developing States</td>\n",
       "      <td>1</td>\n",
       "    </tr>\n",
       "    <tr>\n",
       "      <td>3</td>\n",
       "      <td>Developed Countries</td>\n",
       "      <td>1</td>\n",
       "    </tr>\n",
       "    <tr>\n",
       "      <td>4</td>\n",
       "      <td>Developing Countries</td>\n",
       "      <td>1</td>\n",
       "    </tr>\n",
       "  </tbody>\n",
       "</table>\n",
       "</div>"
      ],
      "text/plain": [
       "                society_group_name  society_group_type\n",
       "0        Least Developed Countries                   1\n",
       "1  Landlocked Developing Countries                   1\n",
       "2   Small Island Developing States                   1\n",
       "3              Developed Countries                   1\n",
       "4             Developing Countries                   1"
      ]
     },
     "execution_count": 73,
     "metadata": {},
     "output_type": "execute_result"
    }
   ],
   "source": [
    "un_groupings.to_csv( 'groupings.csv', index=False )\n",
    "un_groupings"
   ]
  },
  {
   "cell_type": "code",
   "execution_count": 74,
   "metadata": {
    "scrolled": true
   },
   "outputs": [
    {
     "data": {
      "text/html": [
       "<div>\n",
       "<style scoped>\n",
       "    .dataframe tbody tr th:only-of-type {\n",
       "        vertical-align: middle;\n",
       "    }\n",
       "\n",
       "    .dataframe tbody tr th {\n",
       "        vertical-align: top;\n",
       "    }\n",
       "\n",
       "    .dataframe thead th {\n",
       "        text-align: right;\n",
       "    }\n",
       "</style>\n",
       "<table border=\"1\" class=\"dataframe\">\n",
       "  <thead>\n",
       "    <tr style=\"text-align: right;\">\n",
       "      <th></th>\n",
       "      <th>country_name</th>\n",
       "      <th>group_name</th>\n",
       "    </tr>\n",
       "  </thead>\n",
       "  <tbody>\n",
       "    <tr>\n",
       "      <td>195</td>\n",
       "      <td>United Kingdom</td>\n",
       "      <td>Developed Countries</td>\n",
       "    </tr>\n",
       "    <tr>\n",
       "      <td>15</td>\n",
       "      <td>Gambia</td>\n",
       "      <td>Least Developed Countries</td>\n",
       "    </tr>\n",
       "    <tr>\n",
       "      <td>68</td>\n",
       "      <td>Niger</td>\n",
       "      <td>Landlocked Developing Countries</td>\n",
       "    </tr>\n",
       "    <tr>\n",
       "      <td>123</td>\n",
       "      <td>Solomon Islands</td>\n",
       "      <td>Small Island Developing States</td>\n",
       "    </tr>\n",
       "    <tr>\n",
       "      <td>215</td>\n",
       "      <td>Bhutan</td>\n",
       "      <td>Developing Countries</td>\n",
       "    </tr>\n",
       "    <tr>\n",
       "      <td>160</td>\n",
       "      <td>Iceland</td>\n",
       "      <td>Developed Countries</td>\n",
       "    </tr>\n",
       "    <tr>\n",
       "      <td>85</td>\n",
       "      <td>BES Islands</td>\n",
       "      <td>Small Island Developing States</td>\n",
       "    </tr>\n",
       "    <tr>\n",
       "      <td>157</td>\n",
       "      <td>Guernsey</td>\n",
       "      <td>Developed Countries</td>\n",
       "    </tr>\n",
       "    <tr>\n",
       "      <td>288</td>\n",
       "      <td>Madagascar</td>\n",
       "      <td>Developing Countries</td>\n",
       "    </tr>\n",
       "    <tr>\n",
       "      <td>305</td>\n",
       "      <td>Namibia</td>\n",
       "      <td>Developing Countries</td>\n",
       "    </tr>\n",
       "  </tbody>\n",
       "</table>\n",
       "</div>"
      ],
      "text/plain": [
       "        country_name                       group_name\n",
       "195   United Kingdom              Developed Countries\n",
       "15            Gambia        Least Developed Countries\n",
       "68             Niger  Landlocked Developing Countries\n",
       "123  Solomon Islands   Small Island Developing States\n",
       "215           Bhutan             Developing Countries\n",
       "160          Iceland              Developed Countries\n",
       "85       BES Islands   Small Island Developing States\n",
       "157         Guernsey              Developed Countries\n",
       "288       Madagascar             Developing Countries\n",
       "305          Namibia             Developing Countries"
      ]
     },
     "execution_count": 74,
     "metadata": {},
     "output_type": "execute_result"
    }
   ],
   "source": [
    "country_to_group.to_csv( 'country_to_group.csv', index=False )\n",
    "country_to_group.sample(10)"
   ]
  },
  {
   "cell_type": "markdown",
   "metadata": {},
   "source": [
    "<a id='db'></a>\n",
    "# Insert Into Database\n",
    "Last run on Nov 22, 2019"
   ]
  },
  {
   "cell_type": "code",
   "execution_count": 75,
   "metadata": {},
   "outputs": [],
   "source": [
    "# Import classes and functions needed for this analysis from config module\n",
    "# These are only available on my computer\n",
    "from config import dbaccess, validator, error_dict_to_string, un_region, society, society_group\n",
    "\n",
    "# Create an instance of the DBAccess class for running queries\n",
    "db = dbaccess.DBAccess()\n",
    "\n",
    "# Create an instance of the Validator class for validating data prior to inserting/updating database\n",
    "val = validator.Validator()"
   ]
  },
  {
   "cell_type": "code",
   "execution_count": 76,
   "metadata": {},
   "outputs": [
    {
     "data": {
      "text/plain": [
       "{'error': 0, 'rows': 0}"
      ]
     },
     "execution_count": 76,
     "metadata": {},
     "output_type": "execute_result"
    }
   ],
   "source": [
    "db.truncate_table('un_m49_region')\n",
    "db.truncate_table('society_group')\n",
    "db.truncate_table('society')"
   ]
  },
  {
   "cell_type": "markdown",
   "metadata": {},
   "source": [
    "## UN Regions\n",
    "### Code"
   ]
  },
  {
   "cell_type": "code",
   "execution_count": 77,
   "metadata": {
    "scrolled": true
   },
   "outputs": [
    {
     "name": "stdout",
     "output_type": "stream",
     "text": [
      "No errors\n"
     ]
    }
   ],
   "source": [
    "# Check for errors in the UN Regions dataframe before insertion\n",
    "print( error_dict_to_string(un_region.UNRegion.validate_regions(regions, db, val)) )"
   ]
  },
  {
   "cell_type": "code",
   "execution_count": 78,
   "metadata": {},
   "outputs": [
    {
     "name": "stdout",
     "output_type": "stream",
     "text": [
      "Expecting to insert: 31 rows\n",
      "31 records inserted\n"
     ]
    }
   ],
   "source": [
    "# Insert UN Regions\n",
    "print( 'Expecting to insert:', regions.shape[0], 'rows' ) # How many rows am I expecting to be inserted?\n",
    "insert_un_regions = db.run_query(db.build_insert_query('un_m49_region', regions))\n",
    "print( insert_un_regions['rows'], 'records inserted' )"
   ]
  },
  {
   "cell_type": "markdown",
   "metadata": {},
   "source": [
    "### Test"
   ]
  },
  {
   "cell_type": "code",
   "execution_count": 79,
   "metadata": {},
   "outputs": [
    {
     "data": {
      "text/html": [
       "<div>\n",
       "<style scoped>\n",
       "    .dataframe tbody tr th:only-of-type {\n",
       "        vertical-align: middle;\n",
       "    }\n",
       "\n",
       "    .dataframe tbody tr th {\n",
       "        vertical-align: top;\n",
       "    }\n",
       "\n",
       "    .dataframe thead th {\n",
       "        text-align: right;\n",
       "    }\n",
       "</style>\n",
       "<table border=\"1\" class=\"dataframe\">\n",
       "  <thead>\n",
       "    <tr style=\"text-align: right;\">\n",
       "      <th></th>\n",
       "      <th>region_code</th>\n",
       "      <th>region_name</th>\n",
       "      <th>parent_region_code</th>\n",
       "    </tr>\n",
       "  </thead>\n",
       "  <tbody>\n",
       "    <tr>\n",
       "      <td>3</td>\n",
       "      <td>150</td>\n",
       "      <td>Europe</td>\n",
       "      <td>000</td>\n",
       "    </tr>\n",
       "    <tr>\n",
       "      <td>11</td>\n",
       "      <td>053</td>\n",
       "      <td>Australia and New Zealand</td>\n",
       "      <td>009</td>\n",
       "    </tr>\n",
       "    <tr>\n",
       "      <td>12</td>\n",
       "      <td>419</td>\n",
       "      <td>Latin America and the Caribbean</td>\n",
       "      <td>019</td>\n",
       "    </tr>\n",
       "    <tr>\n",
       "      <td>4</td>\n",
       "      <td>999</td>\n",
       "      <td>Antarctica</td>\n",
       "      <td>000</td>\n",
       "    </tr>\n",
       "    <tr>\n",
       "      <td>23</td>\n",
       "      <td>830</td>\n",
       "      <td>Channel Islands</td>\n",
       "      <td>154</td>\n",
       "    </tr>\n",
       "  </tbody>\n",
       "</table>\n",
       "</div>"
      ],
      "text/plain": [
       "   region_code                      region_name parent_region_code\n",
       "3          150                           Europe                000\n",
       "11         053        Australia and New Zealand                009\n",
       "12         419  Latin America and the Caribbean                019\n",
       "4          999                       Antarctica                000\n",
       "23         830                  Channel Islands                154"
      ]
     },
     "execution_count": 79,
     "metadata": {},
     "output_type": "execute_result"
    }
   ],
   "source": [
    "un_regions_query = db.run_query( 'SELECT * FROM un_m49_region' )\n",
    "un_regions = pd.DataFrame.from_dict( un_regions_query['data'] )\n",
    "un_regions.sample(5)"
   ]
  },
  {
   "cell_type": "markdown",
   "metadata": {},
   "source": [
    "## UN Groupings\n",
    "### Code"
   ]
  },
  {
   "cell_type": "code",
   "execution_count": 80,
   "metadata": {},
   "outputs": [
    {
     "name": "stdout",
     "output_type": "stream",
     "text": [
      "No errors\n"
     ]
    }
   ],
   "source": [
    "# Check for errors in the Society Groups dataframe before insertion\n",
    "print( error_dict_to_string(society_group.SocietyGroup.validate_society_groups(un_groupings, db, val)) )"
   ]
  },
  {
   "cell_type": "code",
   "execution_count": 81,
   "metadata": {},
   "outputs": [
    {
     "name": "stdout",
     "output_type": "stream",
     "text": [
      "Expecting to insert: 5 rows\n",
      "5 records inserted\n"
     ]
    }
   ],
   "source": [
    "print( 'Expecting to insert:', un_groupings.shape[0], 'rows' ) # How many rows am I expecting to be inserted?\n",
    "insert_groupings = db.run_query(db.build_insert_query('society_group', un_groupings))\n",
    "print( insert_groupings['rows'], 'records inserted' )"
   ]
  },
  {
   "cell_type": "markdown",
   "metadata": {},
   "source": [
    "### Test"
   ]
  },
  {
   "cell_type": "code",
   "execution_count": 82,
   "metadata": {},
   "outputs": [
    {
     "data": {
      "text/html": [
       "<div>\n",
       "<style scoped>\n",
       "    .dataframe tbody tr th:only-of-type {\n",
       "        vertical-align: middle;\n",
       "    }\n",
       "\n",
       "    .dataframe tbody tr th {\n",
       "        vertical-align: top;\n",
       "    }\n",
       "\n",
       "    .dataframe thead th {\n",
       "        text-align: right;\n",
       "    }\n",
       "</style>\n",
       "<table border=\"1\" class=\"dataframe\">\n",
       "  <thead>\n",
       "    <tr style=\"text-align: right;\">\n",
       "      <th></th>\n",
       "      <th>society_group_id</th>\n",
       "      <th>society_group_name</th>\n",
       "      <th>society_group_type</th>\n",
       "    </tr>\n",
       "  </thead>\n",
       "  <tbody>\n",
       "    <tr>\n",
       "      <td>3</td>\n",
       "      <td>4</td>\n",
       "      <td>Developed Countries</td>\n",
       "      <td>1</td>\n",
       "    </tr>\n",
       "    <tr>\n",
       "      <td>1</td>\n",
       "      <td>2</td>\n",
       "      <td>Landlocked Developing Countries</td>\n",
       "      <td>1</td>\n",
       "    </tr>\n",
       "    <tr>\n",
       "      <td>4</td>\n",
       "      <td>5</td>\n",
       "      <td>Developing Countries</td>\n",
       "      <td>1</td>\n",
       "    </tr>\n",
       "    <tr>\n",
       "      <td>0</td>\n",
       "      <td>1</td>\n",
       "      <td>Least Developed Countries</td>\n",
       "      <td>1</td>\n",
       "    </tr>\n",
       "    <tr>\n",
       "      <td>2</td>\n",
       "      <td>3</td>\n",
       "      <td>Small Island Developing States</td>\n",
       "      <td>1</td>\n",
       "    </tr>\n",
       "  </tbody>\n",
       "</table>\n",
       "</div>"
      ],
      "text/plain": [
       "   society_group_id               society_group_name  society_group_type\n",
       "3                 4              Developed Countries                   1\n",
       "1                 2  Landlocked Developing Countries                   1\n",
       "4                 5             Developing Countries                   1\n",
       "0                 1        Least Developed Countries                   1\n",
       "2                 3   Small Island Developing States                   1"
      ]
     },
     "execution_count": 82,
     "metadata": {},
     "output_type": "execute_result"
    }
   ],
   "source": [
    "# Get all records in the society_group table and set into a dataframe\n",
    "society_groups_query = db.run_query('SELECT * FROM society_group')\n",
    "society_groups = pd.DataFrame.from_dict(society_groups_query['data'])\n",
    "society_groups.sample(5)"
   ]
  },
  {
   "cell_type": "markdown",
   "metadata": {},
   "source": [
    "## Countries (Societies)\n",
    "Insert countries into `society` table. \n",
    "\n",
    "### Code"
   ]
  },
  {
   "cell_type": "code",
   "execution_count": 83,
   "metadata": {
    "scrolled": true
   },
   "outputs": [
    {
     "name": "stdout",
     "output_type": "stream",
     "text": [
      "No errors\n"
     ]
    }
   ],
   "source": [
    "# Check for errors in the Countries dataframe before insertion\n",
    "print( error_dict_to_string(society.Society.validate_societies(countries, db, val)) )"
   ]
  },
  {
   "cell_type": "code",
   "execution_count": 84,
   "metadata": {},
   "outputs": [
    {
     "name": "stdout",
     "output_type": "stream",
     "text": [
      "Expecting to insert: 249 rows\n",
      "249 records inserted\n"
     ]
    }
   ],
   "source": [
    "# Insert Societies\n",
    "print( 'Expecting to insert:', countries.shape[0], 'rows' ) # How many rows am I expecting to be inserted?\n",
    "insert_countries = db.run_query(db.build_insert_query('society', countries))\n",
    "print( insert_countries['rows'], 'records inserted' )"
   ]
  },
  {
   "cell_type": "markdown",
   "metadata": {},
   "source": [
    "### Test"
   ]
  },
  {
   "cell_type": "code",
   "execution_count": 85,
   "metadata": {},
   "outputs": [
    {
     "data": {
      "text/html": [
       "<div>\n",
       "<style scoped>\n",
       "    .dataframe tbody tr th:only-of-type {\n",
       "        vertical-align: middle;\n",
       "    }\n",
       "\n",
       "    .dataframe tbody tr th {\n",
       "        vertical-align: top;\n",
       "    }\n",
       "\n",
       "    .dataframe thead th {\n",
       "        text-align: right;\n",
       "    }\n",
       "</style>\n",
       "<table border=\"1\" class=\"dataframe\">\n",
       "  <thead>\n",
       "    <tr style=\"text-align: right;\">\n",
       "      <th></th>\n",
       "      <th>society_id</th>\n",
       "      <th>common_name</th>\n",
       "      <th>official_name</th>\n",
       "      <th>capital</th>\n",
       "      <th>society_type_id</th>\n",
       "      <th>un_m49</th>\n",
       "      <th>iso_alpha3</th>\n",
       "      <th>un_region</th>\n",
       "      <th>cow_code</th>\n",
       "    </tr>\n",
       "  </thead>\n",
       "  <tbody>\n",
       "    <tr>\n",
       "      <td>223</td>\n",
       "      <td>224</td>\n",
       "      <td>Tonga</td>\n",
       "      <td>Kingdom of Tonga</td>\n",
       "      <td>Nuku'alofa</td>\n",
       "      <td>1</td>\n",
       "      <td>776</td>\n",
       "      <td>TON</td>\n",
       "      <td>061</td>\n",
       "      <td>0</td>\n",
       "    </tr>\n",
       "    <tr>\n",
       "      <td>121</td>\n",
       "      <td>122</td>\n",
       "      <td>Lesotho</td>\n",
       "      <td>Kingdom of Lesotho</td>\n",
       "      <td>Maseru</td>\n",
       "      <td>1</td>\n",
       "      <td>426</td>\n",
       "      <td>LSO</td>\n",
       "      <td>018</td>\n",
       "      <td>0</td>\n",
       "    </tr>\n",
       "    <tr>\n",
       "      <td>207</td>\n",
       "      <td>208</td>\n",
       "      <td>Sri Lanka</td>\n",
       "      <td>Democratic Socialist Republic of Sri Lanka</td>\n",
       "      <td>Sri Jayawardenepura Kotte</td>\n",
       "      <td>1</td>\n",
       "      <td>144</td>\n",
       "      <td>LKA</td>\n",
       "      <td>034</td>\n",
       "      <td>0</td>\n",
       "    </tr>\n",
       "    <tr>\n",
       "      <td>119</td>\n",
       "      <td>120</td>\n",
       "      <td>Latvia</td>\n",
       "      <td>Republic of Latvia</td>\n",
       "      <td>Riga</td>\n",
       "      <td>1</td>\n",
       "      <td>428</td>\n",
       "      <td>LVA</td>\n",
       "      <td>154</td>\n",
       "      <td>0</td>\n",
       "    </tr>\n",
       "    <tr>\n",
       "      <td>243</td>\n",
       "      <td>244</td>\n",
       "      <td>Wallis and Futuna Islands</td>\n",
       "      <td>Territory of the Wallis and Futuna Islands</td>\n",
       "      <td>Mata Utu</td>\n",
       "      <td>1</td>\n",
       "      <td>876</td>\n",
       "      <td>WLF</td>\n",
       "      <td>061</td>\n",
       "      <td>0</td>\n",
       "    </tr>\n",
       "  </tbody>\n",
       "</table>\n",
       "</div>"
      ],
      "text/plain": [
       "     society_id                common_name  \\\n",
       "223         224                      Tonga   \n",
       "121         122                    Lesotho   \n",
       "207         208                  Sri Lanka   \n",
       "119         120                     Latvia   \n",
       "243         244  Wallis and Futuna Islands   \n",
       "\n",
       "                                  official_name                    capital  \\\n",
       "223                            Kingdom of Tonga                 Nuku'alofa   \n",
       "121                          Kingdom of Lesotho                     Maseru   \n",
       "207  Democratic Socialist Republic of Sri Lanka  Sri Jayawardenepura Kotte   \n",
       "119                          Republic of Latvia                       Riga   \n",
       "243  Territory of the Wallis and Futuna Islands                   Mata Utu   \n",
       "\n",
       "     society_type_id un_m49 iso_alpha3 un_region  cow_code  \n",
       "223                1    776        TON       061         0  \n",
       "121                1    426        LSO       018         0  \n",
       "207                1    144        LKA       034         0  \n",
       "119                1    428        LVA       154         0  \n",
       "243                1    876        WLF       061         0  "
      ]
     },
     "execution_count": 85,
     "metadata": {},
     "output_type": "execute_result"
    }
   ],
   "source": [
    "# Get all records in the society table and set into a dataframe\n",
    "societies_query = db.run_query('SELECT * FROM society')\n",
    "societies = pd.DataFrame.from_dict(societies_query['data'])\n",
    "societies.sample(5)"
   ]
  },
  {
   "cell_type": "markdown",
   "metadata": {},
   "source": [
    "## Countries to Groups\n",
    "\n",
    "### Code"
   ]
  },
  {
   "cell_type": "code",
   "execution_count": 86,
   "metadata": {},
   "outputs": [
    {
     "data": {
      "text/html": [
       "<div>\n",
       "<style scoped>\n",
       "    .dataframe tbody tr th:only-of-type {\n",
       "        vertical-align: middle;\n",
       "    }\n",
       "\n",
       "    .dataframe tbody tr th {\n",
       "        vertical-align: top;\n",
       "    }\n",
       "\n",
       "    .dataframe thead th {\n",
       "        text-align: right;\n",
       "    }\n",
       "</style>\n",
       "<table border=\"1\" class=\"dataframe\">\n",
       "  <thead>\n",
       "    <tr style=\"text-align: right;\">\n",
       "      <th></th>\n",
       "      <th>society_id</th>\n",
       "      <th>society_group_id</th>\n",
       "    </tr>\n",
       "  </thead>\n",
       "  <tbody>\n",
       "    <tr>\n",
       "      <td>358</td>\n",
       "      <td>174</td>\n",
       "      <td>4</td>\n",
       "    </tr>\n",
       "    <tr>\n",
       "      <td>134</td>\n",
       "      <td>216</td>\n",
       "      <td>5</td>\n",
       "    </tr>\n",
       "    <tr>\n",
       "      <td>6</td>\n",
       "      <td>36</td>\n",
       "      <td>1</td>\n",
       "    </tr>\n",
       "    <tr>\n",
       "      <td>100</td>\n",
       "      <td>123</td>\n",
       "      <td>5</td>\n",
       "    </tr>\n",
       "    <tr>\n",
       "      <td>130</td>\n",
       "      <td>114</td>\n",
       "      <td>5</td>\n",
       "    </tr>\n",
       "  </tbody>\n",
       "</table>\n",
       "</div>"
      ],
      "text/plain": [
       "     society_id  society_group_id\n",
       "358         174                 4\n",
       "134         216                 5\n",
       "6            36                 1\n",
       "100         123                 5\n",
       "130         114                 5"
      ]
     },
     "execution_count": 86,
     "metadata": {},
     "output_type": "execute_result"
    }
   ],
   "source": [
    "# To insert, we need society_id and society_group_id corresponding to the auto-increment IDs given in the database\n",
    "# These are now in the dataframes societies and society_groups\n",
    "# Join the values to this dataframe and drop the country_name and group_name columns\n",
    "country_to_group = country_to_group.merge(societies[['society_id','common_name']], left_on='country_name', right_on='common_name')\n",
    "country_to_group = country_to_group.merge(society_groups[['society_group_id','society_group_name']], left_on='group_name', right_on='society_group_name')\n",
    "country_to_group.drop(columns=['country_name','group_name','common_name','society_group_name'], axis=1, inplace=True)\n",
    "country_to_group.sample(5)"
   ]
  },
  {
   "cell_type": "code",
   "execution_count": 87,
   "metadata": {},
   "outputs": [
    {
     "name": "stdout",
     "output_type": "stream",
     "text": [
      "Expecting to insert: 377 rows\n",
      "377 records inserted\n"
     ]
    }
   ],
   "source": [
    "# Insert Society to Society Group pairings\n",
    "print( 'Expecting to insert:', country_to_group.shape[0], 'rows' ) # How many rows am I expecting to be inserted?\n",
    "insert_group_pairings = db.run_query(db.build_insert_query('society_to_society_group', country_to_group))\n",
    "print( insert_group_pairings['rows'], 'records inserted' )"
   ]
  },
  {
   "cell_type": "markdown",
   "metadata": {},
   "source": [
    "### Test"
   ]
  },
  {
   "cell_type": "code",
   "execution_count": 88,
   "metadata": {},
   "outputs": [
    {
     "data": {
      "text/html": [
       "<div>\n",
       "<style scoped>\n",
       "    .dataframe tbody tr th:only-of-type {\n",
       "        vertical-align: middle;\n",
       "    }\n",
       "\n",
       "    .dataframe tbody tr th {\n",
       "        vertical-align: top;\n",
       "    }\n",
       "\n",
       "    .dataframe thead th {\n",
       "        text-align: right;\n",
       "    }\n",
       "</style>\n",
       "<table border=\"1\" class=\"dataframe\">\n",
       "  <thead>\n",
       "    <tr style=\"text-align: right;\">\n",
       "      <th></th>\n",
       "      <th>society_id</th>\n",
       "      <th>common_name</th>\n",
       "      <th>society_group_id</th>\n",
       "      <th>society_group_name</th>\n",
       "    </tr>\n",
       "  </thead>\n",
       "  <tbody>\n",
       "    <tr>\n",
       "      <td>67</td>\n",
       "      <td>153</td>\n",
       "      <td>Nepal</td>\n",
       "      <td>2</td>\n",
       "      <td>Landlocked Developing Countries</td>\n",
       "    </tr>\n",
       "    <tr>\n",
       "      <td>189</td>\n",
       "      <td>213</td>\n",
       "      <td>Switzerland</td>\n",
       "      <td>4</td>\n",
       "      <td>Developed Countries</td>\n",
       "    </tr>\n",
       "    <tr>\n",
       "      <td>42</td>\n",
       "      <td>230</td>\n",
       "      <td>Tuvalu</td>\n",
       "      <td>1</td>\n",
       "      <td>Least Developed Countries</td>\n",
       "    </tr>\n",
       "    <tr>\n",
       "      <td>294</td>\n",
       "      <td>140</td>\n",
       "      <td>Mayotte</td>\n",
       "      <td>5</td>\n",
       "      <td>Developing Countries</td>\n",
       "    </tr>\n",
       "    <tr>\n",
       "      <td>302</td>\n",
       "      <td>151</td>\n",
       "      <td>Namibia</td>\n",
       "      <td>5</td>\n",
       "      <td>Developing Countries</td>\n",
       "    </tr>\n",
       "    <tr>\n",
       "      <td>222</td>\n",
       "      <td>37</td>\n",
       "      <td>Cabo Verde</td>\n",
       "      <td>5</td>\n",
       "      <td>Developing Countries</td>\n",
       "    </tr>\n",
       "    <tr>\n",
       "      <td>201</td>\n",
       "      <td>9</td>\n",
       "      <td>Antigua and Barbuda</td>\n",
       "      <td>5</td>\n",
       "      <td>Developing Countries</td>\n",
       "    </tr>\n",
       "    <tr>\n",
       "      <td>237</td>\n",
       "      <td>58</td>\n",
       "      <td>Côte d’Ivoire</td>\n",
       "      <td>5</td>\n",
       "      <td>Developing Countries</td>\n",
       "    </tr>\n",
       "    <tr>\n",
       "      <td>2</td>\n",
       "      <td>18</td>\n",
       "      <td>Bangladesh</td>\n",
       "      <td>1</td>\n",
       "      <td>Least Developed Countries</td>\n",
       "    </tr>\n",
       "    <tr>\n",
       "      <td>324</td>\n",
       "      <td>180</td>\n",
       "      <td>Rwanda</td>\n",
       "      <td>5</td>\n",
       "      <td>Developing Countries</td>\n",
       "    </tr>\n",
       "    <tr>\n",
       "      <td>6</td>\n",
       "      <td>36</td>\n",
       "      <td>Burundi</td>\n",
       "      <td>1</td>\n",
       "      <td>Least Developed Countries</td>\n",
       "    </tr>\n",
       "    <tr>\n",
       "      <td>311</td>\n",
       "      <td>162</td>\n",
       "      <td>Northern Mariana Islands</td>\n",
       "      <td>5</td>\n",
       "      <td>Developing Countries</td>\n",
       "    </tr>\n",
       "    <tr>\n",
       "      <td>266</td>\n",
       "      <td>98</td>\n",
       "      <td>Honduras</td>\n",
       "      <td>5</td>\n",
       "      <td>Developing Countries</td>\n",
       "    </tr>\n",
       "    <tr>\n",
       "      <td>199</td>\n",
       "      <td>6</td>\n",
       "      <td>Angola</td>\n",
       "      <td>5</td>\n",
       "      <td>Developing Countries</td>\n",
       "    </tr>\n",
       "    <tr>\n",
       "      <td>178</td>\n",
       "      <td>178</td>\n",
       "      <td>Romania</td>\n",
       "      <td>4</td>\n",
       "      <td>Developed Countries</td>\n",
       "    </tr>\n",
       "    <tr>\n",
       "      <td>242</td>\n",
       "      <td>64</td>\n",
       "      <td>Ecuador</td>\n",
       "      <td>5</td>\n",
       "      <td>Developing Countries</td>\n",
       "    </tr>\n",
       "    <tr>\n",
       "      <td>350</td>\n",
       "      <td>217</td>\n",
       "      <td>Tanzania</td>\n",
       "      <td>5</td>\n",
       "      <td>Developing Countries</td>\n",
       "    </tr>\n",
       "    <tr>\n",
       "      <td>96</td>\n",
       "      <td>90</td>\n",
       "      <td>Guam</td>\n",
       "      <td>3</td>\n",
       "      <td>Small Island Developing States</td>\n",
       "    </tr>\n",
       "    <tr>\n",
       "      <td>220</td>\n",
       "      <td>35</td>\n",
       "      <td>Burkina Faso</td>\n",
       "      <td>5</td>\n",
       "      <td>Developing Countries</td>\n",
       "    </tr>\n",
       "    <tr>\n",
       "      <td>31</td>\n",
       "      <td>180</td>\n",
       "      <td>Rwanda</td>\n",
       "      <td>1</td>\n",
       "      <td>Least Developed Countries</td>\n",
       "    </tr>\n",
       "  </tbody>\n",
       "</table>\n",
       "</div>"
      ],
      "text/plain": [
       "     society_id               common_name  society_group_id  \\\n",
       "67          153                     Nepal                 2   \n",
       "189         213               Switzerland                 4   \n",
       "42          230                    Tuvalu                 1   \n",
       "294         140                   Mayotte                 5   \n",
       "302         151                   Namibia                 5   \n",
       "222          37                Cabo Verde                 5   \n",
       "201           9       Antigua and Barbuda                 5   \n",
       "237          58             Côte d’Ivoire                 5   \n",
       "2            18                Bangladesh                 1   \n",
       "324         180                    Rwanda                 5   \n",
       "6            36                   Burundi                 1   \n",
       "311         162  Northern Mariana Islands                 5   \n",
       "266          98                  Honduras                 5   \n",
       "199           6                    Angola                 5   \n",
       "178         178                   Romania                 4   \n",
       "242          64                   Ecuador                 5   \n",
       "350         217                  Tanzania                 5   \n",
       "96           90                      Guam                 3   \n",
       "220          35              Burkina Faso                 5   \n",
       "31          180                    Rwanda                 1   \n",
       "\n",
       "                  society_group_name  \n",
       "67   Landlocked Developing Countries  \n",
       "189              Developed Countries  \n",
       "42         Least Developed Countries  \n",
       "294             Developing Countries  \n",
       "302             Developing Countries  \n",
       "222             Developing Countries  \n",
       "201             Developing Countries  \n",
       "237             Developing Countries  \n",
       "2          Least Developed Countries  \n",
       "324             Developing Countries  \n",
       "6          Least Developed Countries  \n",
       "311             Developing Countries  \n",
       "266             Developing Countries  \n",
       "199             Developing Countries  \n",
       "178              Developed Countries  \n",
       "242             Developing Countries  \n",
       "350             Developing Countries  \n",
       "96    Small Island Developing States  \n",
       "220             Developing Countries  \n",
       "31         Least Developed Countries  "
      ]
     },
     "execution_count": 88,
     "metadata": {},
     "output_type": "execute_result"
    }
   ],
   "source": [
    "# Get all records in the society table and set into a dataframe\n",
    "query = \"\"\"SELECT soc.society_id, soc.common_name, grp.society_group_id, grp.society_group_name \n",
    "        FROM `society_to_society_group` soc2grp \n",
    "        INNER JOIN `society` soc ON soc2grp.society_id = soc.society_id \n",
    "        INNER JOIN `society_group` grp ON soc2grp.society_group_id = grp.society_group_id\"\"\"\n",
    "societies_to_groups_query = db.run_query(query)\n",
    "societies_to_groups = pd.DataFrame.from_dict(societies_to_groups_query['data'])\n",
    "societies_to_groups.sample(20)"
   ]
  }
 ],
 "metadata": {
  "kernelspec": {
   "display_name": "Python 3",
   "language": "python",
   "name": "python3"
  },
  "language_info": {
   "codemirror_mode": {
    "name": "ipython",
    "version": 3
   },
   "file_extension": ".py",
   "mimetype": "text/x-python",
   "name": "python",
   "nbconvert_exporter": "python",
   "pygments_lexer": "ipython3",
   "version": "3.7.4"
  }
 },
 "nbformat": 4,
 "nbformat_minor": 2
}
