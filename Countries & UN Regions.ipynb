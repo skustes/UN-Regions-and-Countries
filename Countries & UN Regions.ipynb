{
 "cells": [
  {
   "cell_type": "markdown",
   "metadata": {},
   "source": [
    "# Wrangling Countries & UN Regions\n",
    "## By: Scott Kustes\n",
    "\n",
    "### Objective:\n",
    "Wrangle UN regions and subregions and associated countries for insertion into website database.\n",
    "\n",
    "#### Dataset:\n",
    "The original dataset was downloaded here: https://unstats.un.org/unsd/methodology/m49/\n",
    "\n",
    "#### Contents\n",
    "- <a href='#gather'>Data Gathering</a>\n",
    "- <a href='#assess1'>Assess, Part 1</a>\n",
    "- <a href='#clean1'>Clean, Part 1</a>\n",
    "- <a href='#assess2'>Assess, Part 2</a>\n",
    "- <a href='#clean2'>Clean, Part 2</a>\n",
    "- <a href='#extract-un'>UN Regional Hierarchy Extraction</a>\n",
    "- <a href='#assess3'>Assess, Part 3</a>\n",
    "- <a href='#clean3'>Clean, Part 3</a>\n",
    "- <a href='#extract-groups'>UN Groupings Extraction</a>\n",
    "- <a href='#assess4'>Assess, Part 4</a>\n",
    "- <a href='#clean4'>Clean, Part 4</a>\n",
    "- <a href='#final'>Finished Dataframes</a>\n",
    "- <a href='#db'>Insert into Database</a>"
   ]
  },
  {
   "cell_type": "code",
   "execution_count": 1,
   "metadata": {},
   "outputs": [],
   "source": [
    "# Import necessary packages\n",
    "import pandas as pd"
   ]
  },
  {
   "cell_type": "markdown",
   "metadata": {},
   "source": [
    "<a id='gather'></a>\n",
    "## Gather"
   ]
  },
  {
   "cell_type": "code",
   "execution_count": 2,
   "metadata": {},
   "outputs": [
    {
     "data": {
      "text/html": [
       "<div>\n",
       "<style scoped>\n",
       "    .dataframe tbody tr th:only-of-type {\n",
       "        vertical-align: middle;\n",
       "    }\n",
       "\n",
       "    .dataframe tbody tr th {\n",
       "        vertical-align: top;\n",
       "    }\n",
       "\n",
       "    .dataframe thead th {\n",
       "        text-align: right;\n",
       "    }\n",
       "</style>\n",
       "<table border=\"1\" class=\"dataframe\">\n",
       "  <thead>\n",
       "    <tr style=\"text-align: right;\">\n",
       "      <th></th>\n",
       "      <th>Global Code</th>\n",
       "      <th>Global Name</th>\n",
       "      <th>Region Code</th>\n",
       "      <th>Region Name</th>\n",
       "      <th>Sub-region Code</th>\n",
       "      <th>Sub-region Name</th>\n",
       "      <th>Intermediate Region Code</th>\n",
       "      <th>Intermediate Region Name</th>\n",
       "      <th>Common Name</th>\n",
       "      <th>Official Name</th>\n",
       "      <th>Capital</th>\n",
       "      <th>M49 Code</th>\n",
       "      <th>ISO-alpha3 Code</th>\n",
       "      <th>Least Developed Countries (LDC)</th>\n",
       "      <th>Land Locked Developing Countries (LLDC)</th>\n",
       "      <th>Small Island Developing States (SIDS)</th>\n",
       "      <th>Developed / Developing Countries</th>\n",
       "    </tr>\n",
       "  </thead>\n",
       "  <tbody>\n",
       "    <tr>\n",
       "      <th>24</th>\n",
       "      <td>1</td>\n",
       "      <td>World</td>\n",
       "      <td>19.0</td>\n",
       "      <td>Americas</td>\n",
       "      <td>21.0</td>\n",
       "      <td>Northern America</td>\n",
       "      <td>NaN</td>\n",
       "      <td>NaN</td>\n",
       "      <td>Bermuda</td>\n",
       "      <td>Bermuda</td>\n",
       "      <td>Hamilton</td>\n",
       "      <td>60</td>\n",
       "      <td>BMU</td>\n",
       "      <td>NaN</td>\n",
       "      <td>NaN</td>\n",
       "      <td>NaN</td>\n",
       "      <td>Developed</td>\n",
       "    </tr>\n",
       "    <tr>\n",
       "      <th>30</th>\n",
       "      <td>1</td>\n",
       "      <td>World</td>\n",
       "      <td>19.0</td>\n",
       "      <td>Americas</td>\n",
       "      <td>419.0</td>\n",
       "      <td>Latin America and the Caribbean</td>\n",
       "      <td>5.0</td>\n",
       "      <td>South America</td>\n",
       "      <td>Bouvet Island</td>\n",
       "      <td>Bouvet Island</td>\n",
       "      <td>NaN</td>\n",
       "      <td>74</td>\n",
       "      <td>BVT</td>\n",
       "      <td>NaN</td>\n",
       "      <td>NaN</td>\n",
       "      <td>NaN</td>\n",
       "      <td>Developing</td>\n",
       "    </tr>\n",
       "    <tr>\n",
       "      <th>6</th>\n",
       "      <td>1</td>\n",
       "      <td>World</td>\n",
       "      <td>150.0</td>\n",
       "      <td>Europe</td>\n",
       "      <td>39.0</td>\n",
       "      <td>Southern Europe</td>\n",
       "      <td>NaN</td>\n",
       "      <td>NaN</td>\n",
       "      <td>Andorra</td>\n",
       "      <td>Principality of Andorra</td>\n",
       "      <td>Andorra la Vella</td>\n",
       "      <td>20</td>\n",
       "      <td>AND</td>\n",
       "      <td>NaN</td>\n",
       "      <td>NaN</td>\n",
       "      <td>NaN</td>\n",
       "      <td>Developed</td>\n",
       "    </tr>\n",
       "    <tr>\n",
       "      <th>114</th>\n",
       "      <td>1</td>\n",
       "      <td>World</td>\n",
       "      <td>142.0</td>\n",
       "      <td>Asia</td>\n",
       "      <td>145.0</td>\n",
       "      <td>Western Asia</td>\n",
       "      <td>NaN</td>\n",
       "      <td>NaN</td>\n",
       "      <td>Jordan</td>\n",
       "      <td>Hashemite Kingdom of Jordan</td>\n",
       "      <td>Amman</td>\n",
       "      <td>400</td>\n",
       "      <td>JOR</td>\n",
       "      <td>NaN</td>\n",
       "      <td>NaN</td>\n",
       "      <td>NaN</td>\n",
       "      <td>Developing</td>\n",
       "    </tr>\n",
       "    <tr>\n",
       "      <th>61</th>\n",
       "      <td>1</td>\n",
       "      <td>World</td>\n",
       "      <td>2.0</td>\n",
       "      <td>Africa</td>\n",
       "      <td>202.0</td>\n",
       "      <td>Sub-Saharan Africa</td>\n",
       "      <td>14.0</td>\n",
       "      <td>Eastern Africa</td>\n",
       "      <td>Djibouti</td>\n",
       "      <td>Republic of Djibouti</td>\n",
       "      <td>Djibouti</td>\n",
       "      <td>262</td>\n",
       "      <td>DJI</td>\n",
       "      <td>x</td>\n",
       "      <td>NaN</td>\n",
       "      <td>NaN</td>\n",
       "      <td>Developing</td>\n",
       "    </tr>\n",
       "  </tbody>\n",
       "</table>\n",
       "</div>"
      ],
      "text/plain": [
       "     Global Code Global Name  Region Code Region Name  Sub-region Code  \\\n",
       "24             1       World         19.0    Americas             21.0   \n",
       "30             1       World         19.0    Americas            419.0   \n",
       "6              1       World        150.0      Europe             39.0   \n",
       "114            1       World        142.0        Asia            145.0   \n",
       "61             1       World          2.0      Africa            202.0   \n",
       "\n",
       "                     Sub-region Name  Intermediate Region Code  \\\n",
       "24                  Northern America                       NaN   \n",
       "30   Latin America and the Caribbean                       5.0   \n",
       "6                    Southern Europe                       NaN   \n",
       "114                     Western Asia                       NaN   \n",
       "61                Sub-Saharan Africa                      14.0   \n",
       "\n",
       "    Intermediate Region Name    Common Name                Official Name  \\\n",
       "24                       NaN        Bermuda                      Bermuda   \n",
       "30             South America  Bouvet Island                Bouvet Island   \n",
       "6                        NaN        Andorra      Principality of Andorra   \n",
       "114                      NaN         Jordan  Hashemite Kingdom of Jordan   \n",
       "61            Eastern Africa       Djibouti         Republic of Djibouti   \n",
       "\n",
       "              Capital  M49 Code ISO-alpha3 Code  \\\n",
       "24           Hamilton        60             BMU   \n",
       "30                NaN        74             BVT   \n",
       "6    Andorra la Vella        20             AND   \n",
       "114             Amman       400             JOR   \n",
       "61           Djibouti       262             DJI   \n",
       "\n",
       "    Least Developed Countries (LDC) Land Locked Developing Countries (LLDC)  \\\n",
       "24                              NaN                                     NaN   \n",
       "30                              NaN                                     NaN   \n",
       "6                               NaN                                     NaN   \n",
       "114                             NaN                                     NaN   \n",
       "61                                x                                     NaN   \n",
       "\n",
       "    Small Island Developing States (SIDS) Developed / Developing Countries  \n",
       "24                                    NaN                        Developed  \n",
       "30                                    NaN                       Developing  \n",
       "6                                     NaN                        Developed  \n",
       "114                                   NaN                       Developing  \n",
       "61                                    NaN                       Developing  "
      ]
     },
     "execution_count": 2,
     "metadata": {},
     "output_type": "execute_result"
    }
   ],
   "source": [
    "countries = pd.read_csv('countries.csv')\n",
    "countries.sample(5)"
   ]
  },
  {
   "cell_type": "markdown",
   "metadata": {},
   "source": [
    "<a id='assess1'></a>\n",
    "## Assess, Part 1"
   ]
  },
  {
   "cell_type": "code",
   "execution_count": 3,
   "metadata": {},
   "outputs": [
    {
     "data": {
      "text/plain": [
       "array([1], dtype=int64)"
      ]
     },
     "execution_count": 3,
     "metadata": {},
     "output_type": "execute_result"
    }
   ],
   "source": [
    "countries['Global Code'].unique()"
   ]
  },
  {
   "cell_type": "code",
   "execution_count": 4,
   "metadata": {},
   "outputs": [
    {
     "data": {
      "text/plain": [
       "array(['World'], dtype=object)"
      ]
     },
     "execution_count": 4,
     "metadata": {},
     "output_type": "execute_result"
    }
   ],
   "source": [
    "countries['Global Name'].unique()"
   ]
  },
  {
   "cell_type": "markdown",
   "metadata": {},
   "source": [
    "### Issues Found:\n",
    "1) Drop columns: `Global Code` and `Global Name` - only 1 unique value\n",
    "\n",
    "2) Rename columns: replace spaces with underscores, replace uppercase with lowercase\n",
    "\n",
    "<a id='clean1'></a>\n",
    "## Clean, Part 1\n",
    "### 1) Drop columns `Global Code` and `Global Name`\n",
    "\n",
    "Drop `Global Code` and `Global Name` columns due to each having only 1 unique value (1 and World, respectively).\n",
    "\n",
    "#### Code"
   ]
  },
  {
   "cell_type": "code",
   "execution_count": 5,
   "metadata": {},
   "outputs": [],
   "source": [
    "countries.drop( columns=['Global Code','Global Name'], axis=1, inplace=True )"
   ]
  },
  {
   "cell_type": "markdown",
   "metadata": {},
   "source": [
    "#### Test"
   ]
  },
  {
   "cell_type": "code",
   "execution_count": 6,
   "metadata": {},
   "outputs": [
    {
     "name": "stdout",
     "output_type": "stream",
     "text": [
      "<class 'pandas.core.frame.DataFrame'>\n",
      "RangeIndex: 249 entries, 0 to 248\n",
      "Data columns (total 15 columns):\n",
      " #   Column                                   Non-Null Count  Dtype  \n",
      "---  ------                                   --------------  -----  \n",
      " 0   Region Code                              248 non-null    float64\n",
      " 1   Region Name                              248 non-null    object \n",
      " 2   Sub-region Code                          248 non-null    float64\n",
      " 3   Sub-region Name                          248 non-null    object \n",
      " 4   Intermediate Region Code                 108 non-null    float64\n",
      " 5   Intermediate Region Name                 108 non-null    object \n",
      " 6   Common Name                              249 non-null    object \n",
      " 7   Official Name                            249 non-null    object \n",
      " 8   Capital                                  243 non-null    object \n",
      " 9   M49 Code                                 249 non-null    int64  \n",
      " 10  ISO-alpha3 Code                          248 non-null    object \n",
      " 11  Least Developed Countries (LDC)          47 non-null     object \n",
      " 12  Land Locked Developing Countries (LLDC)  32 non-null     object \n",
      " 13  Small Island Developing States (SIDS)    53 non-null     object \n",
      " 14  Developed / Developing Countries         248 non-null    object \n",
      "dtypes: float64(3), int64(1), object(11)\n",
      "memory usage: 29.3+ KB\n"
     ]
    }
   ],
   "source": [
    "countries.info()"
   ]
  },
  {
   "cell_type": "markdown",
   "metadata": {},
   "source": [
    "### 2) Rename Columns\n",
    "Replace spaces with underscores, replace uppercase letters with lowercase\n",
    "\n",
    "#### Code"
   ]
  },
  {
   "cell_type": "code",
   "execution_count": 7,
   "metadata": {},
   "outputs": [],
   "source": [
    "# Dictionary of new column names\n",
    "column_names = {\n",
    "    'Region Code': 'region_code',\n",
    "    'Region Name': 'region_name',\n",
    "    'Sub-region Code': 'subregion_code',\n",
    "    'Sub-region Name': 'subregion_name',\n",
    "    'Intermediate Region Code': 'intermediate_region_code',\n",
    "    'Intermediate Region Name': 'intermediate_region_name',\n",
    "    'Common Name': 'common_name',\n",
    "    'Official Name': 'official_name',\n",
    "    'Capital': 'capital',\n",
    "    'Territory of': 'territory_of',\n",
    "    'M49 Code': 'un_m49',\n",
    "    'ISO-alpha3 Code': 'iso_alpha3',\n",
    "    'Least Developed Countries (LDC)': 'least_developed_countries',\n",
    "    'Land Locked Developing Countries (LLDC)': 'landlocked_developing_countries',\n",
    "    'Small Island Developing States (SIDS)': 'small_island_developing_states',\n",
    "    'Developed / Developing Countries': 'developed_developing_countries'\n",
    "}\n",
    "\n",
    "countries.rename(mapper=column_names, axis=1, inplace=True)"
   ]
  },
  {
   "cell_type": "markdown",
   "metadata": {},
   "source": [
    "#### Test"
   ]
  },
  {
   "cell_type": "code",
   "execution_count": 8,
   "metadata": {},
   "outputs": [
    {
     "name": "stdout",
     "output_type": "stream",
     "text": [
      "<class 'pandas.core.frame.DataFrame'>\n",
      "RangeIndex: 249 entries, 0 to 248\n",
      "Data columns (total 15 columns):\n",
      " #   Column                           Non-Null Count  Dtype  \n",
      "---  ------                           --------------  -----  \n",
      " 0   region_code                      248 non-null    float64\n",
      " 1   region_name                      248 non-null    object \n",
      " 2   subregion_code                   248 non-null    float64\n",
      " 3   subregion_name                   248 non-null    object \n",
      " 4   intermediate_region_code         108 non-null    float64\n",
      " 5   intermediate_region_name         108 non-null    object \n",
      " 6   common_name                      249 non-null    object \n",
      " 7   official_name                    249 non-null    object \n",
      " 8   capital                          243 non-null    object \n",
      " 9   un_m49                           249 non-null    int64  \n",
      " 10  iso_alpha3                       248 non-null    object \n",
      " 11  least_developed_countries        47 non-null     object \n",
      " 12  landlocked_developing_countries  32 non-null     object \n",
      " 13  small_island_developing_states   53 non-null     object \n",
      " 14  developed_developing_countries   248 non-null    object \n",
      "dtypes: float64(3), int64(1), object(11)\n",
      "memory usage: 29.3+ KB\n"
     ]
    }
   ],
   "source": [
    "countries.info()"
   ]
  },
  {
   "cell_type": "markdown",
   "metadata": {},
   "source": [
    "<a id='assess2'></a>\n",
    "## Assess, Part 2"
   ]
  },
  {
   "cell_type": "code",
   "execution_count": 9,
   "metadata": {},
   "outputs": [
    {
     "data": {
      "text/plain": [
       "array([  2., 142., 150.,   9.,  19.,  nan])"
      ]
     },
     "execution_count": 9,
     "metadata": {},
     "output_type": "execute_result"
    }
   ],
   "source": [
    "countries['region_code'].unique()"
   ]
  },
  {
   "cell_type": "code",
   "execution_count": 10,
   "metadata": {},
   "outputs": [
    {
     "data": {
      "text/plain": [
       "array(['Africa', 'Asia', 'Europe', 'Oceania', 'Americas', nan],\n",
       "      dtype=object)"
      ]
     },
     "execution_count": 10,
     "metadata": {},
     "output_type": "execute_result"
    }
   ],
   "source": [
    "countries['region_name'].unique()"
   ]
  },
  {
   "cell_type": "code",
   "execution_count": 11,
   "metadata": {},
   "outputs": [
    {
     "data": {
      "text/html": [
       "<div>\n",
       "<style scoped>\n",
       "    .dataframe tbody tr th:only-of-type {\n",
       "        vertical-align: middle;\n",
       "    }\n",
       "\n",
       "    .dataframe tbody tr th {\n",
       "        vertical-align: top;\n",
       "    }\n",
       "\n",
       "    .dataframe thead th {\n",
       "        text-align: right;\n",
       "    }\n",
       "</style>\n",
       "<table border=\"1\" class=\"dataframe\">\n",
       "  <thead>\n",
       "    <tr style=\"text-align: right;\">\n",
       "      <th></th>\n",
       "      <th>region_code</th>\n",
       "      <th>region_name</th>\n",
       "      <th>subregion_code</th>\n",
       "      <th>subregion_name</th>\n",
       "      <th>intermediate_region_code</th>\n",
       "      <th>intermediate_region_name</th>\n",
       "      <th>common_name</th>\n",
       "      <th>official_name</th>\n",
       "      <th>capital</th>\n",
       "      <th>un_m49</th>\n",
       "      <th>iso_alpha3</th>\n",
       "      <th>least_developed_countries</th>\n",
       "      <th>landlocked_developing_countries</th>\n",
       "      <th>small_island_developing_states</th>\n",
       "      <th>developed_developing_countries</th>\n",
       "    </tr>\n",
       "  </thead>\n",
       "  <tbody>\n",
       "    <tr>\n",
       "      <th>9</th>\n",
       "      <td>NaN</td>\n",
       "      <td>NaN</td>\n",
       "      <td>NaN</td>\n",
       "      <td>NaN</td>\n",
       "      <td>NaN</td>\n",
       "      <td>NaN</td>\n",
       "      <td>Antarctica</td>\n",
       "      <td>Antarctica</td>\n",
       "      <td>NaN</td>\n",
       "      <td>10</td>\n",
       "      <td>ATA</td>\n",
       "      <td>NaN</td>\n",
       "      <td>NaN</td>\n",
       "      <td>NaN</td>\n",
       "      <td>NaN</td>\n",
       "    </tr>\n",
       "  </tbody>\n",
       "</table>\n",
       "</div>"
      ],
      "text/plain": [
       "   region_code region_name  subregion_code subregion_name  \\\n",
       "9          NaN         NaN             NaN            NaN   \n",
       "\n",
       "   intermediate_region_code intermediate_region_name common_name  \\\n",
       "9                       NaN                      NaN  Antarctica   \n",
       "\n",
       "  official_name capital  un_m49 iso_alpha3 least_developed_countries  \\\n",
       "9    Antarctica     NaN      10        ATA                       NaN   \n",
       "\n",
       "  landlocked_developing_countries small_island_developing_states  \\\n",
       "9                             NaN                            NaN   \n",
       "\n",
       "  developed_developing_countries  \n",
       "9                            NaN  "
      ]
     },
     "execution_count": 11,
     "metadata": {},
     "output_type": "execute_result"
    }
   ],
   "source": [
    "countries[countries['region_code'].isnull()]"
   ]
  },
  {
   "cell_type": "code",
   "execution_count": 12,
   "metadata": {},
   "outputs": [
    {
     "data": {
      "text/plain": [
       "array(['Developing', 'Developed', nan], dtype=object)"
      ]
     },
     "execution_count": 12,
     "metadata": {},
     "output_type": "execute_result"
    }
   ],
   "source": [
    "countries['developed_developing_countries'].unique()"
   ]
  },
  {
   "cell_type": "code",
   "execution_count": 13,
   "metadata": {},
   "outputs": [
    {
     "data": {
      "text/plain": [
       "array(['Western Africa', nan, 'Middle Africa', 'Caribbean',\n",
       "       'South America', 'Central America', 'Southern Africa',\n",
       "       'Eastern Africa', 'Channel Islands'], dtype=object)"
      ]
     },
     "execution_count": 13,
     "metadata": {},
     "output_type": "execute_result"
    }
   ],
   "source": [
    "countries['intermediate_region_name'].unique()"
   ]
  },
  {
   "cell_type": "code",
   "execution_count": 14,
   "metadata": {},
   "outputs": [
    {
     "data": {
      "text/plain": [
       "array(['Africa', 'Asia', 'Europe', 'Oceania', 'Americas', nan],\n",
       "      dtype=object)"
      ]
     },
     "execution_count": 14,
     "metadata": {},
     "output_type": "execute_result"
    }
   ],
   "source": [
    "countries['region_name'].unique()"
   ]
  },
  {
   "cell_type": "code",
   "execution_count": 15,
   "metadata": {},
   "outputs": [
    {
     "data": {
      "text/plain": [
       "array(['Sub-Saharan Africa', 'Southern Asia', 'Northern Europe',\n",
       "       'Southern Europe', 'Northern Africa', 'Polynesia',\n",
       "       'Latin America and the Caribbean', nan, 'Western Asia',\n",
       "       'Australia and New Zealand', 'Western Europe', 'Eastern Europe',\n",
       "       'Northern America', 'South-eastern Asia', 'Eastern Asia',\n",
       "       'Melanesia', 'Micronesia', 'Central Asia'], dtype=object)"
      ]
     },
     "execution_count": 15,
     "metadata": {},
     "output_type": "execute_result"
    }
   ],
   "source": [
    "countries['subregion_name'].unique()"
   ]
  },
  {
   "cell_type": "markdown",
   "metadata": {},
   "source": [
    "### Issues Found:\n",
    "1) Replace NaN with 0 in `region_code`, `subregion_code`, and `intermediate_region_code`\n",
    "\n",
    "2) Replace NaN with 0 and 'x' with 1 in `least_developed_countries`, `landlocked_developing_countries`, and `small_island_developing_states`\n",
    "\n",
    "3) Set datatypes:\n",
    "- <strong>str:</strong> `region_code`, `subregion_code`, `intermediate_region_code`, padded with zeroes to three characters</li>\n",
    "- <strong>bool:</strong> `least_developed_countries`, `landlocked_developing_countries`, `small_island_developing_states`\n",
    "\n",
    "4) Set Antarctica's `region_code`, `subregion_code`, and `intermediate_region_code` to 999.\n",
    "\n",
    "5) Replace NaN with empty string in `capital`\n",
    "\n",
    "<a id='clean2'></a>\n",
    "## Clean, Part 2\n",
    "### 1) Fix Values in Columns with Region Codes\n",
    "Replace NaN with 0 in region_code, subregion_code, and intermediate_region_code\n",
    "\n",
    "#### Code"
   ]
  },
  {
   "cell_type": "code",
   "execution_count": 16,
   "metadata": {},
   "outputs": [],
   "source": [
    "countries['region_code'].fillna(0, inplace=True)\n",
    "countries['subregion_code'].fillna(0, inplace=True)\n",
    "countries['intermediate_region_code'].fillna(0, inplace=True)"
   ]
  },
  {
   "cell_type": "markdown",
   "metadata": {},
   "source": [
    "#### Test"
   ]
  },
  {
   "cell_type": "code",
   "execution_count": 17,
   "metadata": {},
   "outputs": [
    {
     "data": {
      "text/plain": [
       "array([  2., 142., 150.,   9.,  19.,   0.])"
      ]
     },
     "execution_count": 17,
     "metadata": {},
     "output_type": "execute_result"
    }
   ],
   "source": [
    "countries['region_code'].unique()"
   ]
  },
  {
   "cell_type": "code",
   "execution_count": 18,
   "metadata": {},
   "outputs": [
    {
     "data": {
      "text/plain": [
       "array([202.,  34., 154.,  39.,  15.,  61., 419.,   0., 145.,  53., 155.,\n",
       "       151.,  21.,  35.,  30.,  54.,  57., 143.])"
      ]
     },
     "execution_count": 18,
     "metadata": {},
     "output_type": "execute_result"
    }
   ],
   "source": [
    "countries['subregion_code'].unique()"
   ]
  },
  {
   "cell_type": "code",
   "execution_count": 19,
   "metadata": {},
   "outputs": [
    {
     "data": {
      "text/plain": [
       "array([ 11.,   0.,  17.,  29.,   5.,  13.,  18.,  14., 830.])"
      ]
     },
     "execution_count": 19,
     "metadata": {},
     "output_type": "execute_result"
    }
   ],
   "source": [
    "countries['intermediate_region_code'].unique()"
   ]
  },
  {
   "cell_type": "markdown",
   "metadata": {},
   "source": [
    "### 2) Fix Values in 'Other Groupings'\n",
    "Replace NaN with 0 and 'x' with 1 in `least_developed_countries`, `landlocked_developing_countries`, and `small_island_developing_states`\n",
    "\n",
    "#### Code"
   ]
  },
  {
   "cell_type": "code",
   "execution_count": 20,
   "metadata": {},
   "outputs": [],
   "source": [
    "countries['least_developed_countries'].fillna(0, inplace=True)\n",
    "countries['least_developed_countries'].replace('x', 1, inplace=True)\n",
    "\n",
    "countries['landlocked_developing_countries'].fillna(0, inplace=True)\n",
    "countries['landlocked_developing_countries'].replace('x', 1, inplace=True)\n",
    "\n",
    "countries['small_island_developing_states'].fillna(0, inplace=True)\n",
    "countries['small_island_developing_states'].replace('x', 1, inplace=True)"
   ]
  },
  {
   "cell_type": "markdown",
   "metadata": {},
   "source": [
    "#### Test"
   ]
  },
  {
   "cell_type": "code",
   "execution_count": 21,
   "metadata": {},
   "outputs": [
    {
     "data": {
      "text/plain": [
       "array([0, 1], dtype=int64)"
      ]
     },
     "execution_count": 21,
     "metadata": {},
     "output_type": "execute_result"
    }
   ],
   "source": [
    "countries['least_developed_countries'].unique()"
   ]
  },
  {
   "cell_type": "code",
   "execution_count": 22,
   "metadata": {},
   "outputs": [
    {
     "data": {
      "text/plain": [
       "array([0, 1], dtype=int64)"
      ]
     },
     "execution_count": 22,
     "metadata": {},
     "output_type": "execute_result"
    }
   ],
   "source": [
    "countries['landlocked_developing_countries'].unique()"
   ]
  },
  {
   "cell_type": "code",
   "execution_count": 23,
   "metadata": {},
   "outputs": [
    {
     "data": {
      "text/plain": [
       "array([0, 1], dtype=int64)"
      ]
     },
     "execution_count": 23,
     "metadata": {},
     "output_type": "execute_result"
    }
   ],
   "source": [
    "countries['small_island_developing_states'].unique()"
   ]
  },
  {
   "cell_type": "markdown",
   "metadata": {},
   "source": [
    "### 3) Set Datatypes\n",
    "- <strong>str:</strong> `region_code`, `subregion_code`, `intermediate_region_code`, `un_m49` padded with zeroes to 3 characters\n",
    "- <strong>bool:</strong> `least_developed_countries`, `landlocked_developing_countries`, and `small_island_developing_states`\n",
    "\n",
    "#### Code"
   ]
  },
  {
   "cell_type": "code",
   "execution_count": 24,
   "metadata": {},
   "outputs": [],
   "source": [
    "# Set str columns, convert to int64 first to remove decimal and following zero\n",
    "countries['region_code'] = countries['region_code'].astype('int64').astype('str')\n",
    "countries['subregion_code'] = countries['subregion_code'].astype('int64').astype('str')\n",
    "countries['intermediate_region_code'] = countries['intermediate_region_code'].astype('int64').astype('str')\n",
    "countries['un_m49'] = countries['un_m49'].astype('int64').astype('str')\n",
    "\n",
    "# Pad with zeroes to three characters\n",
    "countries['region_code'] = countries['region_code'].apply(lambda x: x.zfill(3))\n",
    "countries['subregion_code'] = countries['subregion_code'].apply(lambda x: x.zfill(3))\n",
    "countries['intermediate_region_code'] = countries['intermediate_region_code'].apply(lambda x: x.zfill(3))\n",
    "countries['un_m49'] = countries['un_m49'].apply(lambda x: x.zfill(3))"
   ]
  },
  {
   "cell_type": "code",
   "execution_count": 25,
   "metadata": {},
   "outputs": [],
   "source": [
    "# Set bool columns\n",
    "countries['least_developed_countries'] = countries['least_developed_countries'].astype('bool')\n",
    "countries['landlocked_developing_countries'] = countries['landlocked_developing_countries'].astype('bool')\n",
    "countries['small_island_developing_states'] = countries['small_island_developing_states'].astype('bool')"
   ]
  },
  {
   "cell_type": "markdown",
   "metadata": {},
   "source": [
    "#### Test"
   ]
  },
  {
   "cell_type": "code",
   "execution_count": 26,
   "metadata": {},
   "outputs": [
    {
     "data": {
      "text/plain": [
       "array(['002', '142', '150', '009', '019', '000'], dtype=object)"
      ]
     },
     "execution_count": 26,
     "metadata": {},
     "output_type": "execute_result"
    }
   ],
   "source": [
    "countries['region_code'].unique()"
   ]
  },
  {
   "cell_type": "code",
   "execution_count": 27,
   "metadata": {},
   "outputs": [
    {
     "data": {
      "text/plain": [
       "array(['202', '034', '154', '039', '015', '061', '419', '000', '145',\n",
       "       '053', '155', '151', '021', '035', '030', '054', '057', '143'],\n",
       "      dtype=object)"
      ]
     },
     "execution_count": 27,
     "metadata": {},
     "output_type": "execute_result"
    }
   ],
   "source": [
    "countries['subregion_code'].unique()"
   ]
  },
  {
   "cell_type": "code",
   "execution_count": 28,
   "metadata": {},
   "outputs": [
    {
     "data": {
      "text/plain": [
       "array(['011', '000', '017', '029', '005', '013', '018', '014', '830'],\n",
       "      dtype=object)"
      ]
     },
     "execution_count": 28,
     "metadata": {},
     "output_type": "execute_result"
    }
   ],
   "source": [
    "countries['intermediate_region_code'].unique()"
   ]
  },
  {
   "cell_type": "code",
   "execution_count": 29,
   "metadata": {},
   "outputs": [
    {
     "data": {
      "text/plain": [
       "53     188\n",
       "126    438\n",
       "206    410\n",
       "94     324\n",
       "193    682\n",
       "Name: un_m49, dtype: object"
      ]
     },
     "execution_count": 29,
     "metadata": {},
     "output_type": "execute_result"
    }
   ],
   "source": [
    "countries['un_m49'].sample(5)"
   ]
  },
  {
   "cell_type": "code",
   "execution_count": 30,
   "metadata": {},
   "outputs": [
    {
     "name": "stdout",
     "output_type": "stream",
     "text": [
      "<class 'pandas.core.frame.DataFrame'>\n",
      "RangeIndex: 249 entries, 0 to 248\n",
      "Data columns (total 15 columns):\n",
      " #   Column                           Non-Null Count  Dtype \n",
      "---  ------                           --------------  ----- \n",
      " 0   region_code                      249 non-null    object\n",
      " 1   region_name                      248 non-null    object\n",
      " 2   subregion_code                   249 non-null    object\n",
      " 3   subregion_name                   248 non-null    object\n",
      " 4   intermediate_region_code         249 non-null    object\n",
      " 5   intermediate_region_name         108 non-null    object\n",
      " 6   common_name                      249 non-null    object\n",
      " 7   official_name                    249 non-null    object\n",
      " 8   capital                          243 non-null    object\n",
      " 9   un_m49                           249 non-null    object\n",
      " 10  iso_alpha3                       248 non-null    object\n",
      " 11  least_developed_countries        249 non-null    bool  \n",
      " 12  landlocked_developing_countries  249 non-null    bool  \n",
      " 13  small_island_developing_states   249 non-null    bool  \n",
      " 14  developed_developing_countries   248 non-null    object\n",
      "dtypes: bool(3), object(12)\n",
      "memory usage: 24.2+ KB\n"
     ]
    }
   ],
   "source": [
    "countries.info()"
   ]
  },
  {
   "cell_type": "markdown",
   "metadata": {},
   "source": [
    "### 4) Set Antarctica's Region, Subregion, and Intermediate Region Codes to 999\n",
    "\n",
    "#### Code"
   ]
  },
  {
   "cell_type": "code",
   "execution_count": 31,
   "metadata": {},
   "outputs": [],
   "source": [
    "countries.loc[9,'region_code'] = '999'\n",
    "countries.loc[9,'subregion_code'] = '999'\n",
    "countries.loc[9,'intermediate_region_code'] = '999'"
   ]
  },
  {
   "cell_type": "markdown",
   "metadata": {},
   "source": [
    "#### Test"
   ]
  },
  {
   "cell_type": "code",
   "execution_count": 32,
   "metadata": {
    "scrolled": true
   },
   "outputs": [
    {
     "data": {
      "text/html": [
       "<div>\n",
       "<style scoped>\n",
       "    .dataframe tbody tr th:only-of-type {\n",
       "        vertical-align: middle;\n",
       "    }\n",
       "\n",
       "    .dataframe tbody tr th {\n",
       "        vertical-align: top;\n",
       "    }\n",
       "\n",
       "    .dataframe thead th {\n",
       "        text-align: right;\n",
       "    }\n",
       "</style>\n",
       "<table border=\"1\" class=\"dataframe\">\n",
       "  <thead>\n",
       "    <tr style=\"text-align: right;\">\n",
       "      <th></th>\n",
       "      <th>region_code</th>\n",
       "      <th>region_name</th>\n",
       "      <th>subregion_code</th>\n",
       "      <th>subregion_name</th>\n",
       "      <th>intermediate_region_code</th>\n",
       "      <th>intermediate_region_name</th>\n",
       "      <th>common_name</th>\n",
       "      <th>official_name</th>\n",
       "      <th>capital</th>\n",
       "      <th>un_m49</th>\n",
       "      <th>iso_alpha3</th>\n",
       "      <th>least_developed_countries</th>\n",
       "      <th>landlocked_developing_countries</th>\n",
       "      <th>small_island_developing_states</th>\n",
       "      <th>developed_developing_countries</th>\n",
       "    </tr>\n",
       "  </thead>\n",
       "  <tbody>\n",
       "    <tr>\n",
       "      <th>9</th>\n",
       "      <td>999</td>\n",
       "      <td>NaN</td>\n",
       "      <td>999</td>\n",
       "      <td>NaN</td>\n",
       "      <td>999</td>\n",
       "      <td>NaN</td>\n",
       "      <td>Antarctica</td>\n",
       "      <td>Antarctica</td>\n",
       "      <td>NaN</td>\n",
       "      <td>010</td>\n",
       "      <td>ATA</td>\n",
       "      <td>False</td>\n",
       "      <td>False</td>\n",
       "      <td>False</td>\n",
       "      <td>NaN</td>\n",
       "    </tr>\n",
       "  </tbody>\n",
       "</table>\n",
       "</div>"
      ],
      "text/plain": [
       "  region_code region_name subregion_code subregion_name  \\\n",
       "9         999         NaN            999            NaN   \n",
       "\n",
       "  intermediate_region_code intermediate_region_name common_name official_name  \\\n",
       "9                      999                      NaN  Antarctica    Antarctica   \n",
       "\n",
       "  capital un_m49 iso_alpha3  least_developed_countries  \\\n",
       "9     NaN    010        ATA                      False   \n",
       "\n",
       "   landlocked_developing_countries  small_island_developing_states  \\\n",
       "9                            False                           False   \n",
       "\n",
       "  developed_developing_countries  \n",
       "9                            NaN  "
      ]
     },
     "execution_count": 32,
     "metadata": {},
     "output_type": "execute_result"
    }
   ],
   "source": [
    "countries.query('common_name == \"Antarctica\"')"
   ]
  },
  {
   "cell_type": "markdown",
   "metadata": {},
   "source": [
    "### 5) Fix NaN in Capital\n",
    "Set NaN values to empty string.\n",
    "\n",
    "#### Code"
   ]
  },
  {
   "cell_type": "code",
   "execution_count": 33,
   "metadata": {},
   "outputs": [],
   "source": [
    "countries['capital'].fillna('', inplace=True)"
   ]
  },
  {
   "cell_type": "markdown",
   "metadata": {},
   "source": [
    "#### Test"
   ]
  },
  {
   "cell_type": "code",
   "execution_count": 34,
   "metadata": {
    "scrolled": true
   },
   "outputs": [
    {
     "data": {
      "text/html": [
       "<div>\n",
       "<style scoped>\n",
       "    .dataframe tbody tr th:only-of-type {\n",
       "        vertical-align: middle;\n",
       "    }\n",
       "\n",
       "    .dataframe tbody tr th {\n",
       "        vertical-align: top;\n",
       "    }\n",
       "\n",
       "    .dataframe thead th {\n",
       "        text-align: right;\n",
       "    }\n",
       "</style>\n",
       "<table border=\"1\" class=\"dataframe\">\n",
       "  <thead>\n",
       "    <tr style=\"text-align: right;\">\n",
       "      <th></th>\n",
       "      <th>region_code</th>\n",
       "      <th>region_name</th>\n",
       "      <th>subregion_code</th>\n",
       "      <th>subregion_name</th>\n",
       "      <th>intermediate_region_code</th>\n",
       "      <th>intermediate_region_name</th>\n",
       "      <th>common_name</th>\n",
       "      <th>official_name</th>\n",
       "      <th>capital</th>\n",
       "      <th>un_m49</th>\n",
       "      <th>iso_alpha3</th>\n",
       "      <th>least_developed_countries</th>\n",
       "      <th>landlocked_developing_countries</th>\n",
       "      <th>small_island_developing_states</th>\n",
       "      <th>developed_developing_countries</th>\n",
       "    </tr>\n",
       "  </thead>\n",
       "  <tbody>\n",
       "  </tbody>\n",
       "</table>\n",
       "</div>"
      ],
      "text/plain": [
       "Empty DataFrame\n",
       "Columns: [region_code, region_name, subregion_code, subregion_name, intermediate_region_code, intermediate_region_name, common_name, official_name, capital, un_m49, iso_alpha3, least_developed_countries, landlocked_developing_countries, small_island_developing_states, developed_developing_countries]\n",
       "Index: []"
      ]
     },
     "execution_count": 34,
     "metadata": {},
     "output_type": "execute_result"
    }
   ],
   "source": [
    "countries[countries['capital'].isnull()]"
   ]
  },
  {
   "cell_type": "markdown",
   "metadata": {},
   "source": [
    "<a id='extract-un'></a>\n",
    "## UN Regional Hierarchy Extraction\n",
    "Extract UN Regional hierarchy and rationalize for insertion into website database.\n",
    "\n",
    "### Create UN Region Hierarchy\n",
    "In the UN Geoscheme, a region is made up of 1 or more subregions and a subregion is made up of 0 or more intermediate regions. Countries/areas are assigned at either the subregional or intermediate regional level (with Antarctica as the sole exception, having no regional assignment). Hierarchy levels are as follows: `Region -> Subregion -> Intermediate Region`\n",
    "\n",
    "Antarctica is assigned to `region_code` 999.\n",
    "\n",
    "The `countries` dataframe contains redundant information across the region, subregion, and intermediate region columns. Extract these values to create a hierarchy of UN regions in a new dataframe called `regions`. This new dataframe will contain 3 columns: \n",
    "- `region_code`: the value from the `region_code`, `subregion_code`, or `intermediate_region_code` column\n",
    "- `region_name`: the value from the `region_name`, `subregion_name`, or `intermediate_region_name` column\n",
    "- `parent_region_code`: the `region_code` for the region or subregion one level above in the hierarchy\n",
    "\n",
    "In the `countries` dataframe, create a new column called `un_region` to hold the subregion or intermediate region to which each country is assigned.\n",
    "\n",
    "#### Code"
   ]
  },
  {
   "cell_type": "code",
   "execution_count": 35,
   "metadata": {},
   "outputs": [],
   "source": [
    "# Create an empty dataframe for holding the regions\n",
    "regions = pd.DataFrame(columns=['region_code','region_name','parent_region_code'])\n",
    "\n",
    "# Iterate through the countries to extract the UN region information\n",
    "for row in countries.itertuples():\n",
    "    # Get the region information from this row\n",
    "    region_code = row.region_code\n",
    "    region_name = row.region_name if region_code != '999' else 'Antarctica' # Antarctica is the sole exception so make it a top-level region\n",
    "    subregion_code = row.subregion_code\n",
    "    subregion_name = row.subregion_name\n",
    "    intermediate_region_code = row.intermediate_region_code\n",
    "    intermediate_region_name = row.intermediate_region_name\n",
    "    \n",
    "    # If region doesn't exist in regions dataframe already, add it\n",
    "    if region_code not in regions['region_code'].unique():\n",
    "        regions = regions.append({'region_code': region_code, \n",
    "                                    'region_name': region_name, \n",
    "                                    'parent_region_code': '000'}, \n",
    "                                    ignore_index=True)\n",
    "    \n",
    "    # If subregion doesn't exist in regions dataframe already, add it\n",
    "    if (subregion_code != '000') & (subregion_code not in regions['region_code'].unique()):\n",
    "        regions = regions.append({'region_code': subregion_code, \n",
    "                                    'region_name': subregion_name, \n",
    "                                    'parent_region_code': region_code}, \n",
    "                                    ignore_index=True)\n",
    "\n",
    "    # If intermediate region doesn't exist in regions dataframe already, add it\n",
    "    if (intermediate_region_code != '000') & (intermediate_region_code not in regions['region_code'].unique()):\n",
    "        regions = regions.append({'region_code': intermediate_region_code, \n",
    "                                    'region_name': intermediate_region_name, \n",
    "                                    'parent_region_code': subregion_code}, \n",
    "                                    ignore_index=True)"
   ]
  },
  {
   "cell_type": "code",
   "execution_count": 36,
   "metadata": {},
   "outputs": [],
   "source": [
    "# Function to populate un_region field in countries dataframe\n",
    "# All assignments to regions are at the subregion or intermediate region level\n",
    "# If intermediate_region_code is not 000, return the intermediate_region_code\n",
    "# Otherwise return subregion_code\n",
    "def get_un_region( row ):\n",
    "    # If intermediate_region_code is not 000, return it\n",
    "    return row['intermediate_region_code'] if row['intermediate_region_code'] != '000' else row['subregion_code']\n",
    "\n",
    "countries['un_region'] = countries.apply(get_un_region, axis=1)"
   ]
  },
  {
   "cell_type": "markdown",
   "metadata": {},
   "source": [
    "#### Test"
   ]
  },
  {
   "cell_type": "code",
   "execution_count": 37,
   "metadata": {
    "scrolled": true
   },
   "outputs": [
    {
     "data": {
      "text/html": [
       "<div>\n",
       "<style scoped>\n",
       "    .dataframe tbody tr th:only-of-type {\n",
       "        vertical-align: middle;\n",
       "    }\n",
       "\n",
       "    .dataframe tbody tr th {\n",
       "        vertical-align: top;\n",
       "    }\n",
       "\n",
       "    .dataframe thead th {\n",
       "        text-align: right;\n",
       "    }\n",
       "</style>\n",
       "<table border=\"1\" class=\"dataframe\">\n",
       "  <thead>\n",
       "    <tr style=\"text-align: right;\">\n",
       "      <th></th>\n",
       "      <th>region_code</th>\n",
       "      <th>region_name</th>\n",
       "      <th>parent_region_code</th>\n",
       "    </tr>\n",
       "  </thead>\n",
       "  <tbody>\n",
       "    <tr>\n",
       "      <th>0</th>\n",
       "      <td>002</td>\n",
       "      <td>Africa</td>\n",
       "      <td>000</td>\n",
       "    </tr>\n",
       "    <tr>\n",
       "      <th>12</th>\n",
       "      <td>019</td>\n",
       "      <td>Americas</td>\n",
       "      <td>000</td>\n",
       "    </tr>\n",
       "    <tr>\n",
       "      <th>9</th>\n",
       "      <td>009</td>\n",
       "      <td>Oceania</td>\n",
       "      <td>000</td>\n",
       "    </tr>\n",
       "    <tr>\n",
       "      <th>5</th>\n",
       "      <td>150</td>\n",
       "      <td>Europe</td>\n",
       "      <td>000</td>\n",
       "    </tr>\n",
       "    <tr>\n",
       "      <th>15</th>\n",
       "      <td>999</td>\n",
       "      <td>Antarctica</td>\n",
       "      <td>000</td>\n",
       "    </tr>\n",
       "    <tr>\n",
       "      <th>3</th>\n",
       "      <td>142</td>\n",
       "      <td>Asia</td>\n",
       "      <td>000</td>\n",
       "    </tr>\n",
       "    <tr>\n",
       "      <th>8</th>\n",
       "      <td>015</td>\n",
       "      <td>Northern Africa</td>\n",
       "      <td>002</td>\n",
       "    </tr>\n",
       "    <tr>\n",
       "      <th>1</th>\n",
       "      <td>202</td>\n",
       "      <td>Sub-Saharan Africa</td>\n",
       "      <td>002</td>\n",
       "    </tr>\n",
       "    <tr>\n",
       "      <th>28</th>\n",
       "      <td>057</td>\n",
       "      <td>Micronesia</td>\n",
       "      <td>009</td>\n",
       "    </tr>\n",
       "    <tr>\n",
       "      <th>27</th>\n",
       "      <td>054</td>\n",
       "      <td>Melanesia</td>\n",
       "      <td>009</td>\n",
       "    </tr>\n",
       "    <tr>\n",
       "      <th>10</th>\n",
       "      <td>061</td>\n",
       "      <td>Polynesia</td>\n",
       "      <td>009</td>\n",
       "    </tr>\n",
       "    <tr>\n",
       "      <th>18</th>\n",
       "      <td>053</td>\n",
       "      <td>Australia and New Zealand</td>\n",
       "      <td>009</td>\n",
       "    </tr>\n",
       "    <tr>\n",
       "      <th>13</th>\n",
       "      <td>419</td>\n",
       "      <td>Latin America and the Caribbean</td>\n",
       "      <td>019</td>\n",
       "    </tr>\n",
       "    <tr>\n",
       "      <th>22</th>\n",
       "      <td>021</td>\n",
       "      <td>Northern America</td>\n",
       "      <td>019</td>\n",
       "    </tr>\n",
       "    <tr>\n",
       "      <th>26</th>\n",
       "      <td>030</td>\n",
       "      <td>Eastern Asia</td>\n",
       "      <td>142</td>\n",
       "    </tr>\n",
       "    <tr>\n",
       "      <th>25</th>\n",
       "      <td>035</td>\n",
       "      <td>South-eastern Asia</td>\n",
       "      <td>142</td>\n",
       "    </tr>\n",
       "    <tr>\n",
       "      <th>4</th>\n",
       "      <td>034</td>\n",
       "      <td>Southern Asia</td>\n",
       "      <td>142</td>\n",
       "    </tr>\n",
       "    <tr>\n",
       "      <th>17</th>\n",
       "      <td>145</td>\n",
       "      <td>Western Asia</td>\n",
       "      <td>142</td>\n",
       "    </tr>\n",
       "    <tr>\n",
       "      <th>30</th>\n",
       "      <td>143</td>\n",
       "      <td>Central Asia</td>\n",
       "      <td>142</td>\n",
       "    </tr>\n",
       "    <tr>\n",
       "      <th>19</th>\n",
       "      <td>155</td>\n",
       "      <td>Western Europe</td>\n",
       "      <td>150</td>\n",
       "    </tr>\n",
       "    <tr>\n",
       "      <th>20</th>\n",
       "      <td>151</td>\n",
       "      <td>Eastern Europe</td>\n",
       "      <td>150</td>\n",
       "    </tr>\n",
       "    <tr>\n",
       "      <th>7</th>\n",
       "      <td>039</td>\n",
       "      <td>Southern Europe</td>\n",
       "      <td>150</td>\n",
       "    </tr>\n",
       "    <tr>\n",
       "      <th>6</th>\n",
       "      <td>154</td>\n",
       "      <td>Northern Europe</td>\n",
       "      <td>150</td>\n",
       "    </tr>\n",
       "    <tr>\n",
       "      <th>29</th>\n",
       "      <td>830</td>\n",
       "      <td>Channel Islands</td>\n",
       "      <td>154</td>\n",
       "    </tr>\n",
       "    <tr>\n",
       "      <th>23</th>\n",
       "      <td>018</td>\n",
       "      <td>Southern Africa</td>\n",
       "      <td>202</td>\n",
       "    </tr>\n",
       "    <tr>\n",
       "      <th>24</th>\n",
       "      <td>014</td>\n",
       "      <td>Eastern Africa</td>\n",
       "      <td>202</td>\n",
       "    </tr>\n",
       "    <tr>\n",
       "      <th>11</th>\n",
       "      <td>017</td>\n",
       "      <td>Middle Africa</td>\n",
       "      <td>202</td>\n",
       "    </tr>\n",
       "    <tr>\n",
       "      <th>2</th>\n",
       "      <td>011</td>\n",
       "      <td>Western Africa</td>\n",
       "      <td>202</td>\n",
       "    </tr>\n",
       "    <tr>\n",
       "      <th>21</th>\n",
       "      <td>013</td>\n",
       "      <td>Central America</td>\n",
       "      <td>419</td>\n",
       "    </tr>\n",
       "    <tr>\n",
       "      <th>14</th>\n",
       "      <td>029</td>\n",
       "      <td>Caribbean</td>\n",
       "      <td>419</td>\n",
       "    </tr>\n",
       "    <tr>\n",
       "      <th>16</th>\n",
       "      <td>005</td>\n",
       "      <td>South America</td>\n",
       "      <td>419</td>\n",
       "    </tr>\n",
       "  </tbody>\n",
       "</table>\n",
       "</div>"
      ],
      "text/plain": [
       "   region_code                      region_name parent_region_code\n",
       "0          002                           Africa                000\n",
       "12         019                         Americas                000\n",
       "9          009                          Oceania                000\n",
       "5          150                           Europe                000\n",
       "15         999                       Antarctica                000\n",
       "3          142                             Asia                000\n",
       "8          015                  Northern Africa                002\n",
       "1          202               Sub-Saharan Africa                002\n",
       "28         057                       Micronesia                009\n",
       "27         054                        Melanesia                009\n",
       "10         061                        Polynesia                009\n",
       "18         053        Australia and New Zealand                009\n",
       "13         419  Latin America and the Caribbean                019\n",
       "22         021                 Northern America                019\n",
       "26         030                     Eastern Asia                142\n",
       "25         035               South-eastern Asia                142\n",
       "4          034                    Southern Asia                142\n",
       "17         145                     Western Asia                142\n",
       "30         143                     Central Asia                142\n",
       "19         155                   Western Europe                150\n",
       "20         151                   Eastern Europe                150\n",
       "7          039                  Southern Europe                150\n",
       "6          154                  Northern Europe                150\n",
       "29         830                  Channel Islands                154\n",
       "23         018                  Southern Africa                202\n",
       "24         014                   Eastern Africa                202\n",
       "11         017                    Middle Africa                202\n",
       "2          011                   Western Africa                202\n",
       "21         013                  Central America                419\n",
       "14         029                        Caribbean                419\n",
       "16         005                    South America                419"
      ]
     },
     "execution_count": 37,
     "metadata": {},
     "output_type": "execute_result"
    }
   ],
   "source": [
    "regions.sort_values('parent_region_code')"
   ]
  },
  {
   "cell_type": "code",
   "execution_count": 38,
   "metadata": {},
   "outputs": [
    {
     "data": {
      "text/html": [
       "<div>\n",
       "<style scoped>\n",
       "    .dataframe tbody tr th:only-of-type {\n",
       "        vertical-align: middle;\n",
       "    }\n",
       "\n",
       "    .dataframe tbody tr th {\n",
       "        vertical-align: top;\n",
       "    }\n",
       "\n",
       "    .dataframe thead th {\n",
       "        text-align: right;\n",
       "    }\n",
       "</style>\n",
       "<table border=\"1\" class=\"dataframe\">\n",
       "  <thead>\n",
       "    <tr style=\"text-align: right;\">\n",
       "      <th></th>\n",
       "      <th>subregion_code</th>\n",
       "      <th>intermediate_region_code</th>\n",
       "      <th>un_region</th>\n",
       "    </tr>\n",
       "  </thead>\n",
       "  <tbody>\n",
       "    <tr>\n",
       "      <th>104</th>\n",
       "      <td>035</td>\n",
       "      <td>000</td>\n",
       "      <td>035</td>\n",
       "    </tr>\n",
       "    <tr>\n",
       "      <th>152</th>\n",
       "      <td>057</td>\n",
       "      <td>000</td>\n",
       "      <td>057</td>\n",
       "    </tr>\n",
       "    <tr>\n",
       "      <th>228</th>\n",
       "      <td>143</td>\n",
       "      <td>000</td>\n",
       "      <td>143</td>\n",
       "    </tr>\n",
       "    <tr>\n",
       "      <th>225</th>\n",
       "      <td>419</td>\n",
       "      <td>029</td>\n",
       "      <td>029</td>\n",
       "    </tr>\n",
       "    <tr>\n",
       "      <th>247</th>\n",
       "      <td>202</td>\n",
       "      <td>014</td>\n",
       "      <td>014</td>\n",
       "    </tr>\n",
       "    <tr>\n",
       "      <th>204</th>\n",
       "      <td>202</td>\n",
       "      <td>018</td>\n",
       "      <td>018</td>\n",
       "    </tr>\n",
       "    <tr>\n",
       "      <th>147</th>\n",
       "      <td>419</td>\n",
       "      <td>029</td>\n",
       "      <td>029</td>\n",
       "    </tr>\n",
       "    <tr>\n",
       "      <th>76</th>\n",
       "      <td>154</td>\n",
       "      <td>000</td>\n",
       "      <td>154</td>\n",
       "    </tr>\n",
       "    <tr>\n",
       "      <th>94</th>\n",
       "      <td>202</td>\n",
       "      <td>011</td>\n",
       "      <td>011</td>\n",
       "    </tr>\n",
       "    <tr>\n",
       "      <th>111</th>\n",
       "      <td>419</td>\n",
       "      <td>029</td>\n",
       "      <td>029</td>\n",
       "    </tr>\n",
       "  </tbody>\n",
       "</table>\n",
       "</div>"
      ],
      "text/plain": [
       "    subregion_code intermediate_region_code un_region\n",
       "104            035                      000       035\n",
       "152            057                      000       057\n",
       "228            143                      000       143\n",
       "225            419                      029       029\n",
       "247            202                      014       014\n",
       "204            202                      018       018\n",
       "147            419                      029       029\n",
       "76             154                      000       154\n",
       "94             202                      011       011\n",
       "111            419                      029       029"
      ]
     },
     "execution_count": 38,
     "metadata": {},
     "output_type": "execute_result"
    }
   ],
   "source": [
    "countries[['subregion_code','intermediate_region_code','un_region']].sample(10)"
   ]
  },
  {
   "cell_type": "markdown",
   "metadata": {},
   "source": [
    "<a id='assess3'></a>\n",
    "## Assess, Part 3"
   ]
  },
  {
   "cell_type": "code",
   "execution_count": 39,
   "metadata": {},
   "outputs": [
    {
     "name": "stdout",
     "output_type": "stream",
     "text": [
      "<class 'pandas.core.frame.DataFrame'>\n",
      "RangeIndex: 249 entries, 0 to 248\n",
      "Data columns (total 16 columns):\n",
      " #   Column                           Non-Null Count  Dtype \n",
      "---  ------                           --------------  ----- \n",
      " 0   region_code                      249 non-null    object\n",
      " 1   region_name                      248 non-null    object\n",
      " 2   subregion_code                   249 non-null    object\n",
      " 3   subregion_name                   248 non-null    object\n",
      " 4   intermediate_region_code         249 non-null    object\n",
      " 5   intermediate_region_name         108 non-null    object\n",
      " 6   common_name                      249 non-null    object\n",
      " 7   official_name                    249 non-null    object\n",
      " 8   capital                          249 non-null    object\n",
      " 9   un_m49                           249 non-null    object\n",
      " 10  iso_alpha3                       248 non-null    object\n",
      " 11  least_developed_countries        249 non-null    bool  \n",
      " 12  landlocked_developing_countries  249 non-null    bool  \n",
      " 13  small_island_developing_states   249 non-null    bool  \n",
      " 14  developed_developing_countries   248 non-null    object\n",
      " 15  un_region                        249 non-null    object\n",
      "dtypes: bool(3), object(13)\n",
      "memory usage: 26.1+ KB\n"
     ]
    }
   ],
   "source": [
    "countries.info()"
   ]
  },
  {
   "cell_type": "code",
   "execution_count": 40,
   "metadata": {},
   "outputs": [
    {
     "data": {
      "text/html": [
       "<div>\n",
       "<style scoped>\n",
       "    .dataframe tbody tr th:only-of-type {\n",
       "        vertical-align: middle;\n",
       "    }\n",
       "\n",
       "    .dataframe tbody tr th {\n",
       "        vertical-align: top;\n",
       "    }\n",
       "\n",
       "    .dataframe thead th {\n",
       "        text-align: right;\n",
       "    }\n",
       "</style>\n",
       "<table border=\"1\" class=\"dataframe\">\n",
       "  <thead>\n",
       "    <tr style=\"text-align: right;\">\n",
       "      <th></th>\n",
       "      <th>region_code</th>\n",
       "      <th>region_name</th>\n",
       "      <th>subregion_code</th>\n",
       "      <th>subregion_name</th>\n",
       "      <th>intermediate_region_code</th>\n",
       "      <th>intermediate_region_name</th>\n",
       "      <th>common_name</th>\n",
       "      <th>official_name</th>\n",
       "      <th>capital</th>\n",
       "      <th>un_m49</th>\n",
       "      <th>iso_alpha3</th>\n",
       "      <th>least_developed_countries</th>\n",
       "      <th>landlocked_developing_countries</th>\n",
       "      <th>small_island_developing_states</th>\n",
       "      <th>developed_developing_countries</th>\n",
       "      <th>un_region</th>\n",
       "    </tr>\n",
       "  </thead>\n",
       "  <tbody>\n",
       "    <tr>\n",
       "      <th>192</th>\n",
       "      <td>150</td>\n",
       "      <td>Europe</td>\n",
       "      <td>154</td>\n",
       "      <td>Northern Europe</td>\n",
       "      <td>830</td>\n",
       "      <td>Channel Islands</td>\n",
       "      <td>Sark</td>\n",
       "      <td>Sark</td>\n",
       "      <td></td>\n",
       "      <td>680</td>\n",
       "      <td>NaN</td>\n",
       "      <td>False</td>\n",
       "      <td>False</td>\n",
       "      <td>False</td>\n",
       "      <td>Developed</td>\n",
       "      <td>830</td>\n",
       "    </tr>\n",
       "  </tbody>\n",
       "</table>\n",
       "</div>"
      ],
      "text/plain": [
       "    region_code region_name subregion_code   subregion_name  \\\n",
       "192         150      Europe            154  Northern Europe   \n",
       "\n",
       "    intermediate_region_code intermediate_region_name common_name  \\\n",
       "192                      830          Channel Islands        Sark   \n",
       "\n",
       "    official_name capital un_m49 iso_alpha3  least_developed_countries  \\\n",
       "192          Sark            680        NaN                      False   \n",
       "\n",
       "     landlocked_developing_countries  small_island_developing_states  \\\n",
       "192                            False                           False   \n",
       "\n",
       "    developed_developing_countries un_region  \n",
       "192                      Developed       830  "
      ]
     },
     "execution_count": 40,
     "metadata": {},
     "output_type": "execute_result"
    }
   ],
   "source": [
    "countries[countries['iso_alpha3'].isnull()]"
   ]
  },
  {
   "cell_type": "code",
   "execution_count": 41,
   "metadata": {
    "scrolled": true
   },
   "outputs": [
    {
     "data": {
      "text/html": [
       "<div>\n",
       "<style scoped>\n",
       "    .dataframe tbody tr th:only-of-type {\n",
       "        vertical-align: middle;\n",
       "    }\n",
       "\n",
       "    .dataframe tbody tr th {\n",
       "        vertical-align: top;\n",
       "    }\n",
       "\n",
       "    .dataframe thead th {\n",
       "        text-align: right;\n",
       "    }\n",
       "</style>\n",
       "<table border=\"1\" class=\"dataframe\">\n",
       "  <thead>\n",
       "    <tr style=\"text-align: right;\">\n",
       "      <th></th>\n",
       "      <th>region_code</th>\n",
       "      <th>region_name</th>\n",
       "      <th>subregion_code</th>\n",
       "      <th>subregion_name</th>\n",
       "      <th>intermediate_region_code</th>\n",
       "      <th>intermediate_region_name</th>\n",
       "      <th>common_name</th>\n",
       "      <th>official_name</th>\n",
       "      <th>capital</th>\n",
       "      <th>un_m49</th>\n",
       "      <th>iso_alpha3</th>\n",
       "      <th>least_developed_countries</th>\n",
       "      <th>landlocked_developing_countries</th>\n",
       "      <th>small_island_developing_states</th>\n",
       "      <th>developed_developing_countries</th>\n",
       "      <th>un_region</th>\n",
       "    </tr>\n",
       "  </thead>\n",
       "  <tbody>\n",
       "    <tr>\n",
       "      <th>9</th>\n",
       "      <td>999</td>\n",
       "      <td>NaN</td>\n",
       "      <td>999</td>\n",
       "      <td>NaN</td>\n",
       "      <td>999</td>\n",
       "      <td>NaN</td>\n",
       "      <td>Antarctica</td>\n",
       "      <td>Antarctica</td>\n",
       "      <td></td>\n",
       "      <td>010</td>\n",
       "      <td>ATA</td>\n",
       "      <td>False</td>\n",
       "      <td>False</td>\n",
       "      <td>False</td>\n",
       "      <td>NaN</td>\n",
       "      <td>999</td>\n",
       "    </tr>\n",
       "  </tbody>\n",
       "</table>\n",
       "</div>"
      ],
      "text/plain": [
       "  region_code region_name subregion_code subregion_name  \\\n",
       "9         999         NaN            999            NaN   \n",
       "\n",
       "  intermediate_region_code intermediate_region_name common_name official_name  \\\n",
       "9                      999                      NaN  Antarctica    Antarctica   \n",
       "\n",
       "  capital un_m49 iso_alpha3  least_developed_countries  \\\n",
       "9            010        ATA                      False   \n",
       "\n",
       "   landlocked_developing_countries  small_island_developing_states  \\\n",
       "9                            False                           False   \n",
       "\n",
       "  developed_developing_countries un_region  \n",
       "9                            NaN       999  "
      ]
     },
     "execution_count": 41,
     "metadata": {},
     "output_type": "execute_result"
    }
   ],
   "source": [
    "countries[countries['developed_developing_countries'].isnull()]"
   ]
  },
  {
   "cell_type": "markdown",
   "metadata": {},
   "source": [
    "### Issues Found:\n",
    "#### Tidiness\n",
    "1) Drop 6 UN region columns: `region_code`,`region_name`,`subregion_code`,`subregion_name`,`intermediate_region_code`,`intermediate_region_name`\n",
    "\n",
    "2) Create two columns, `developed` and `developing`, from `developed_developing_countries` column. \n",
    "\n",
    "3) Set datatype of `developed` and `developing` to bool.\n",
    "\n",
    "4) Drop `developed_developing_countries`.\n",
    "\n",
    "#### Quality\n",
    "5) Replace NaN in `iso_alpha3` with 'NA'. The island of Sark has no ISO Alpha3 code.\n",
    "\n",
    "<a id='clean3'></a>\n",
    "## Clean, Part 3\n",
    "\n",
    "### 1) Drop 6 UN region columns\n",
    "Drop `region_code`,`region_name`,`subregion_code`,`subregion_name`,`intermediate_region_code`, and `intermediate_region_name`. These columns are no longer needed. This information is now contained in the `regions` dataframe to which each country is associated through the `un_region` column.\n",
    "\n",
    "#### Code"
   ]
  },
  {
   "cell_type": "code",
   "execution_count": 42,
   "metadata": {},
   "outputs": [],
   "source": [
    "countries.drop(columns=['region_code','region_name','subregion_code','subregion_name','intermediate_region_code','intermediate_region_name'], axis=1, inplace=True)"
   ]
  },
  {
   "cell_type": "markdown",
   "metadata": {},
   "source": [
    "#### Test"
   ]
  },
  {
   "cell_type": "code",
   "execution_count": 43,
   "metadata": {
    "scrolled": true
   },
   "outputs": [
    {
     "name": "stdout",
     "output_type": "stream",
     "text": [
      "<class 'pandas.core.frame.DataFrame'>\n",
      "RangeIndex: 249 entries, 0 to 248\n",
      "Data columns (total 10 columns):\n",
      " #   Column                           Non-Null Count  Dtype \n",
      "---  ------                           --------------  ----- \n",
      " 0   common_name                      249 non-null    object\n",
      " 1   official_name                    249 non-null    object\n",
      " 2   capital                          249 non-null    object\n",
      " 3   un_m49                           249 non-null    object\n",
      " 4   iso_alpha3                       248 non-null    object\n",
      " 5   least_developed_countries        249 non-null    bool  \n",
      " 6   landlocked_developing_countries  249 non-null    bool  \n",
      " 7   small_island_developing_states   249 non-null    bool  \n",
      " 8   developed_developing_countries   248 non-null    object\n",
      " 9   un_region                        249 non-null    object\n",
      "dtypes: bool(3), object(7)\n",
      "memory usage: 14.5+ KB\n"
     ]
    }
   ],
   "source": [
    "countries.info()"
   ]
  },
  {
   "cell_type": "markdown",
   "metadata": {},
   "source": [
    "### 2) Create `developed` and `developing` Columns\n",
    "\n",
    "`developed` will contain 1 if `developed_developing_countries` contains 'Developed', 0 otherwise<br/>\n",
    "`developing` will contain 1 if `developed_developing_countries` contains 'Developing', 0 otherwise\n",
    "\n",
    "#### Code"
   ]
  },
  {
   "cell_type": "code",
   "execution_count": 44,
   "metadata": {},
   "outputs": [],
   "source": [
    "countries['developed'] = countries['developed_developing_countries'].apply(lambda x: 1 if x == 'Developed' else 0)\n",
    "countries['developing'] = countries['developed_developing_countries'].apply(lambda x: 1 if x == 'Developing' else 0)"
   ]
  },
  {
   "cell_type": "markdown",
   "metadata": {},
   "source": [
    "#### Test"
   ]
  },
  {
   "cell_type": "code",
   "execution_count": 45,
   "metadata": {},
   "outputs": [
    {
     "data": {
      "text/html": [
       "<div>\n",
       "<style scoped>\n",
       "    .dataframe tbody tr th:only-of-type {\n",
       "        vertical-align: middle;\n",
       "    }\n",
       "\n",
       "    .dataframe tbody tr th {\n",
       "        vertical-align: top;\n",
       "    }\n",
       "\n",
       "    .dataframe thead th {\n",
       "        text-align: right;\n",
       "    }\n",
       "</style>\n",
       "<table border=\"1\" class=\"dataframe\">\n",
       "  <thead>\n",
       "    <tr style=\"text-align: right;\">\n",
       "      <th></th>\n",
       "      <th>developed</th>\n",
       "      <th>developing</th>\n",
       "      <th>developed_developing_countries</th>\n",
       "    </tr>\n",
       "  </thead>\n",
       "  <tbody>\n",
       "    <tr>\n",
       "      <th>236</th>\n",
       "      <td>0</td>\n",
       "      <td>1</td>\n",
       "      <td>Developing</td>\n",
       "    </tr>\n",
       "    <tr>\n",
       "      <th>39</th>\n",
       "      <td>0</td>\n",
       "      <td>1</td>\n",
       "      <td>Developing</td>\n",
       "    </tr>\n",
       "    <tr>\n",
       "      <th>56</th>\n",
       "      <td>0</td>\n",
       "      <td>1</td>\n",
       "      <td>Developing</td>\n",
       "    </tr>\n",
       "    <tr>\n",
       "      <th>4</th>\n",
       "      <td>0</td>\n",
       "      <td>1</td>\n",
       "      <td>Developing</td>\n",
       "    </tr>\n",
       "    <tr>\n",
       "      <th>113</th>\n",
       "      <td>1</td>\n",
       "      <td>0</td>\n",
       "      <td>Developed</td>\n",
       "    </tr>\n",
       "  </tbody>\n",
       "</table>\n",
       "</div>"
      ],
      "text/plain": [
       "     developed  developing developed_developing_countries\n",
       "236          0           1                     Developing\n",
       "39           0           1                     Developing\n",
       "56           0           1                     Developing\n",
       "4            0           1                     Developing\n",
       "113          1           0                      Developed"
      ]
     },
     "execution_count": 45,
     "metadata": {},
     "output_type": "execute_result"
    }
   ],
   "source": [
    "countries[['developed','developing','developed_developing_countries']].sample(5)"
   ]
  },
  {
   "cell_type": "markdown",
   "metadata": {},
   "source": [
    "### 3) Set datatype for `developed` and `developing` Columns to bool\n",
    "\n",
    "#### Code"
   ]
  },
  {
   "cell_type": "code",
   "execution_count": 46,
   "metadata": {},
   "outputs": [],
   "source": [
    "countries['developed'] = countries['developed'].astype('bool')\n",
    "countries['developing'] = countries['developing'].astype('bool')"
   ]
  },
  {
   "cell_type": "markdown",
   "metadata": {},
   "source": [
    "#### Test"
   ]
  },
  {
   "cell_type": "code",
   "execution_count": 47,
   "metadata": {},
   "outputs": [
    {
     "data": {
      "text/plain": [
       "False    183\n",
       "True      66\n",
       "Name: developed, dtype: int64"
      ]
     },
     "execution_count": 47,
     "metadata": {},
     "output_type": "execute_result"
    }
   ],
   "source": [
    "countries['developed'].value_counts()"
   ]
  },
  {
   "cell_type": "code",
   "execution_count": 48,
   "metadata": {},
   "outputs": [
    {
     "data": {
      "text/plain": [
       "True     182\n",
       "False     67\n",
       "Name: developing, dtype: int64"
      ]
     },
     "execution_count": 48,
     "metadata": {},
     "output_type": "execute_result"
    }
   ],
   "source": [
    "countries['developing'].value_counts()"
   ]
  },
  {
   "cell_type": "code",
   "execution_count": 49,
   "metadata": {},
   "outputs": [
    {
     "name": "stdout",
     "output_type": "stream",
     "text": [
      "<class 'pandas.core.frame.DataFrame'>\n",
      "RangeIndex: 249 entries, 0 to 248\n",
      "Data columns (total 12 columns):\n",
      " #   Column                           Non-Null Count  Dtype \n",
      "---  ------                           --------------  ----- \n",
      " 0   common_name                      249 non-null    object\n",
      " 1   official_name                    249 non-null    object\n",
      " 2   capital                          249 non-null    object\n",
      " 3   un_m49                           249 non-null    object\n",
      " 4   iso_alpha3                       248 non-null    object\n",
      " 5   least_developed_countries        249 non-null    bool  \n",
      " 6   landlocked_developing_countries  249 non-null    bool  \n",
      " 7   small_island_developing_states   249 non-null    bool  \n",
      " 8   developed_developing_countries   248 non-null    object\n",
      " 9   un_region                        249 non-null    object\n",
      " 10  developed                        249 non-null    bool  \n",
      " 11  developing                       249 non-null    bool  \n",
      "dtypes: bool(5), object(7)\n",
      "memory usage: 15.0+ KB\n"
     ]
    }
   ],
   "source": [
    "countries.info()"
   ]
  },
  {
   "cell_type": "markdown",
   "metadata": {},
   "source": [
    "### 4) Drop `developed_developing_countries` Column\n",
    "\n",
    "#### Code"
   ]
  },
  {
   "cell_type": "code",
   "execution_count": 50,
   "metadata": {},
   "outputs": [],
   "source": [
    "countries.drop(columns=['developed_developing_countries'], inplace=True)"
   ]
  },
  {
   "cell_type": "markdown",
   "metadata": {},
   "source": [
    "#### Test"
   ]
  },
  {
   "cell_type": "code",
   "execution_count": 51,
   "metadata": {},
   "outputs": [
    {
     "name": "stdout",
     "output_type": "stream",
     "text": [
      "<class 'pandas.core.frame.DataFrame'>\n",
      "RangeIndex: 249 entries, 0 to 248\n",
      "Data columns (total 11 columns):\n",
      " #   Column                           Non-Null Count  Dtype \n",
      "---  ------                           --------------  ----- \n",
      " 0   common_name                      249 non-null    object\n",
      " 1   official_name                    249 non-null    object\n",
      " 2   capital                          249 non-null    object\n",
      " 3   un_m49                           249 non-null    object\n",
      " 4   iso_alpha3                       248 non-null    object\n",
      " 5   least_developed_countries        249 non-null    bool  \n",
      " 6   landlocked_developing_countries  249 non-null    bool  \n",
      " 7   small_island_developing_states   249 non-null    bool  \n",
      " 8   un_region                        249 non-null    object\n",
      " 9   developed                        249 non-null    bool  \n",
      " 10  developing                       249 non-null    bool  \n",
      "dtypes: bool(5), object(6)\n",
      "memory usage: 13.0+ KB\n"
     ]
    }
   ],
   "source": [
    "countries.info()"
   ]
  },
  {
   "cell_type": "markdown",
   "metadata": {},
   "source": [
    "### 5) Replace NaN in `iso_alpha3` with empty string\n",
    "\n",
    "The island of Sark has no ISO Alpha3 code.\n",
    "\n",
    "#### Code"
   ]
  },
  {
   "cell_type": "code",
   "execution_count": 52,
   "metadata": {},
   "outputs": [],
   "source": [
    "countries['iso_alpha3'].fillna('', inplace=True)"
   ]
  },
  {
   "cell_type": "markdown",
   "metadata": {},
   "source": [
    "#### Test"
   ]
  },
  {
   "cell_type": "code",
   "execution_count": 53,
   "metadata": {},
   "outputs": [
    {
     "data": {
      "text/html": [
       "<div>\n",
       "<style scoped>\n",
       "    .dataframe tbody tr th:only-of-type {\n",
       "        vertical-align: middle;\n",
       "    }\n",
       "\n",
       "    .dataframe tbody tr th {\n",
       "        vertical-align: top;\n",
       "    }\n",
       "\n",
       "    .dataframe thead th {\n",
       "        text-align: right;\n",
       "    }\n",
       "</style>\n",
       "<table border=\"1\" class=\"dataframe\">\n",
       "  <thead>\n",
       "    <tr style=\"text-align: right;\">\n",
       "      <th></th>\n",
       "      <th>common_name</th>\n",
       "      <th>official_name</th>\n",
       "      <th>capital</th>\n",
       "      <th>un_m49</th>\n",
       "      <th>iso_alpha3</th>\n",
       "      <th>least_developed_countries</th>\n",
       "      <th>landlocked_developing_countries</th>\n",
       "      <th>small_island_developing_states</th>\n",
       "      <th>un_region</th>\n",
       "      <th>developed</th>\n",
       "      <th>developing</th>\n",
       "    </tr>\n",
       "  </thead>\n",
       "  <tbody>\n",
       "  </tbody>\n",
       "</table>\n",
       "</div>"
      ],
      "text/plain": [
       "Empty DataFrame\n",
       "Columns: [common_name, official_name, capital, un_m49, iso_alpha3, least_developed_countries, landlocked_developing_countries, small_island_developing_states, un_region, developed, developing]\n",
       "Index: []"
      ]
     },
     "execution_count": 53,
     "metadata": {},
     "output_type": "execute_result"
    }
   ],
   "source": [
    "countries[countries['iso_alpha3'].isnull()]"
   ]
  },
  {
   "cell_type": "markdown",
   "metadata": {},
   "source": [
    "<a id='extract-groups'></a>\n",
    "## UN Groupings Extraction\n",
    "Extract and rationalize information in the five \"Other Groupings\" columns: `least_developed_countries`, `landlocked_developing_countries`, `small_island_developing_states`, `developed`, and `developing`.  This information will be stored in 2 database tables. \n",
    "\n",
    "The first table will contain five grouping titles: 'Least Developed Countries', 'Landlocked Developing Countries', 'Small Island Developing States', 'Developed', and 'Developing'.\n",
    "\n",
    "The second table will contain mappings of country ID to grouping ID.\n",
    "\n",
    "#### Code"
   ]
  },
  {
   "cell_type": "code",
   "execution_count": 54,
   "metadata": {},
   "outputs": [],
   "source": [
    "# Create a dataframe for the Other Groupings\n",
    "group_names = ['Least Developed Countries', 'Landlocked Developing Countries', 'Small Island Developing States', 'Developed Countries', 'Developing Countries']\n",
    "un_groupings = pd.DataFrame(data=group_names, columns=['society_group_name'])\n",
    "\n",
    "# Set the Society Group Type to 1, which is the ID for \"UN Stats Grouping\" in society_group_types table\n",
    "# At the time of this analysis, this is the only entry in society_group_types table\n",
    "un_groupings['society_group_type'] = 1"
   ]
  },
  {
   "cell_type": "code",
   "execution_count": 55,
   "metadata": {
    "scrolled": true
   },
   "outputs": [],
   "source": [
    "# Get the Common Name for the countries in each grouping\n",
    "# Using Common Name here because the indexes of the current dataframes \n",
    "# are not the same as what the database ID will be once inserted\n",
    "least_developed = countries.query('least_developed_countries == True')['common_name'].to_list()\n",
    "landlocked = countries.query('landlocked_developing_countries == True')['common_name'].to_list()\n",
    "small_island = countries.query('small_island_developing_states == True')['common_name'].to_list()\n",
    "developed = countries.query('developed == True')['common_name'].to_list()\n",
    "developing = countries.query('developing == True')['common_name'].to_list()"
   ]
  },
  {
   "cell_type": "code",
   "execution_count": 56,
   "metadata": {},
   "outputs": [],
   "source": [
    "# Create a blank dataframe to contain the country to grouping mappings\n",
    "country_to_group = pd.DataFrame(columns=['country_name', 'group_name'])\n",
    "\n",
    "groups = ['least_developed','landlocked','small_island','developed','developing']\n",
    "for index, variable_name in enumerate(groups):\n",
    "    for value in eval(variable_name):\n",
    "        country_to_group = country_to_group.append({'country_name': value,\n",
    "                                                    'group_name': group_names[index]},\n",
    "                                                    ignore_index=True)"
   ]
  },
  {
   "cell_type": "markdown",
   "metadata": {},
   "source": [
    "#### Test"
   ]
  },
  {
   "cell_type": "code",
   "execution_count": 57,
   "metadata": {},
   "outputs": [
    {
     "data": {
      "text/html": [
       "<div>\n",
       "<style scoped>\n",
       "    .dataframe tbody tr th:only-of-type {\n",
       "        vertical-align: middle;\n",
       "    }\n",
       "\n",
       "    .dataframe tbody tr th {\n",
       "        vertical-align: top;\n",
       "    }\n",
       "\n",
       "    .dataframe thead th {\n",
       "        text-align: right;\n",
       "    }\n",
       "</style>\n",
       "<table border=\"1\" class=\"dataframe\">\n",
       "  <thead>\n",
       "    <tr style=\"text-align: right;\">\n",
       "      <th></th>\n",
       "      <th>society_group_name</th>\n",
       "      <th>society_group_type</th>\n",
       "    </tr>\n",
       "  </thead>\n",
       "  <tbody>\n",
       "    <tr>\n",
       "      <th>0</th>\n",
       "      <td>Least Developed Countries</td>\n",
       "      <td>1</td>\n",
       "    </tr>\n",
       "    <tr>\n",
       "      <th>1</th>\n",
       "      <td>Landlocked Developing Countries</td>\n",
       "      <td>1</td>\n",
       "    </tr>\n",
       "    <tr>\n",
       "      <th>2</th>\n",
       "      <td>Small Island Developing States</td>\n",
       "      <td>1</td>\n",
       "    </tr>\n",
       "    <tr>\n",
       "      <th>3</th>\n",
       "      <td>Developed Countries</td>\n",
       "      <td>1</td>\n",
       "    </tr>\n",
       "    <tr>\n",
       "      <th>4</th>\n",
       "      <td>Developing Countries</td>\n",
       "      <td>1</td>\n",
       "    </tr>\n",
       "  </tbody>\n",
       "</table>\n",
       "</div>"
      ],
      "text/plain": [
       "                society_group_name  society_group_type\n",
       "0        Least Developed Countries                   1\n",
       "1  Landlocked Developing Countries                   1\n",
       "2   Small Island Developing States                   1\n",
       "3              Developed Countries                   1\n",
       "4             Developing Countries                   1"
      ]
     },
     "execution_count": 57,
     "metadata": {},
     "output_type": "execute_result"
    }
   ],
   "source": [
    "un_groupings"
   ]
  },
  {
   "cell_type": "code",
   "execution_count": 58,
   "metadata": {},
   "outputs": [
    {
     "data": {
      "text/html": [
       "<div>\n",
       "<style scoped>\n",
       "    .dataframe tbody tr th:only-of-type {\n",
       "        vertical-align: middle;\n",
       "    }\n",
       "\n",
       "    .dataframe tbody tr th {\n",
       "        vertical-align: top;\n",
       "    }\n",
       "\n",
       "    .dataframe thead th {\n",
       "        text-align: right;\n",
       "    }\n",
       "</style>\n",
       "<table border=\"1\" class=\"dataframe\">\n",
       "  <thead>\n",
       "    <tr style=\"text-align: right;\">\n",
       "      <th></th>\n",
       "      <th>country_name</th>\n",
       "      <th>group_name</th>\n",
       "    </tr>\n",
       "  </thead>\n",
       "  <tbody>\n",
       "    <tr>\n",
       "      <th>194</th>\n",
       "      <td>Ukraine</td>\n",
       "      <td>Developed Countries</td>\n",
       "    </tr>\n",
       "    <tr>\n",
       "      <th>199</th>\n",
       "      <td>Afghanistan</td>\n",
       "      <td>Developing Countries</td>\n",
       "    </tr>\n",
       "    <tr>\n",
       "      <th>63</th>\n",
       "      <td>Macedonia</td>\n",
       "      <td>Landlocked Developing Countries</td>\n",
       "    </tr>\n",
       "    <tr>\n",
       "      <th>125</th>\n",
       "      <td>The Bahamas</td>\n",
       "      <td>Small Island Developing States</td>\n",
       "    </tr>\n",
       "    <tr>\n",
       "      <th>57</th>\n",
       "      <td>Eswatini</td>\n",
       "      <td>Landlocked Developing Countries</td>\n",
       "    </tr>\n",
       "    <tr>\n",
       "      <th>263</th>\n",
       "      <td>Guam</td>\n",
       "      <td>Developing Countries</td>\n",
       "    </tr>\n",
       "    <tr>\n",
       "      <th>105</th>\n",
       "      <td>Mauritius</td>\n",
       "      <td>Small Island Developing States</td>\n",
       "    </tr>\n",
       "    <tr>\n",
       "      <th>225</th>\n",
       "      <td>Cabo Verde</td>\n",
       "      <td>Developing Countries</td>\n",
       "    </tr>\n",
       "    <tr>\n",
       "      <th>34</th>\n",
       "      <td>Sierra Leone</td>\n",
       "      <td>Least Developed Countries</td>\n",
       "    </tr>\n",
       "    <tr>\n",
       "      <th>89</th>\n",
       "      <td>Cook Islands</td>\n",
       "      <td>Small Island Developing States</td>\n",
       "    </tr>\n",
       "  </tbody>\n",
       "</table>\n",
       "</div>"
      ],
      "text/plain": [
       "     country_name                       group_name\n",
       "194       Ukraine              Developed Countries\n",
       "199   Afghanistan             Developing Countries\n",
       "63      Macedonia  Landlocked Developing Countries\n",
       "125   The Bahamas   Small Island Developing States\n",
       "57       Eswatini  Landlocked Developing Countries\n",
       "263          Guam             Developing Countries\n",
       "105     Mauritius   Small Island Developing States\n",
       "225    Cabo Verde             Developing Countries\n",
       "34   Sierra Leone        Least Developed Countries\n",
       "89   Cook Islands   Small Island Developing States"
      ]
     },
     "execution_count": 58,
     "metadata": {},
     "output_type": "execute_result"
    }
   ],
   "source": [
    "country_to_group.sample(10)"
   ]
  },
  {
   "cell_type": "code",
   "execution_count": 59,
   "metadata": {},
   "outputs": [
    {
     "data": {
      "text/html": [
       "<div>\n",
       "<style scoped>\n",
       "    .dataframe tbody tr th:only-of-type {\n",
       "        vertical-align: middle;\n",
       "    }\n",
       "\n",
       "    .dataframe tbody tr th {\n",
       "        vertical-align: top;\n",
       "    }\n",
       "\n",
       "    .dataframe thead th {\n",
       "        text-align: right;\n",
       "    }\n",
       "</style>\n",
       "<table border=\"1\" class=\"dataframe\">\n",
       "  <thead>\n",
       "    <tr style=\"text-align: right;\">\n",
       "      <th></th>\n",
       "      <th>country_name</th>\n",
       "      <th>group_name</th>\n",
       "    </tr>\n",
       "  </thead>\n",
       "  <tbody>\n",
       "    <tr>\n",
       "      <th>42</th>\n",
       "      <td>Tuvalu</td>\n",
       "      <td>Least Developed Countries</td>\n",
       "    </tr>\n",
       "    <tr>\n",
       "      <th>129</th>\n",
       "      <td>Tuvalu</td>\n",
       "      <td>Small Island Developing States</td>\n",
       "    </tr>\n",
       "    <tr>\n",
       "      <th>365</th>\n",
       "      <td>Tuvalu</td>\n",
       "      <td>Developing Countries</td>\n",
       "    </tr>\n",
       "  </tbody>\n",
       "</table>\n",
       "</div>"
      ],
      "text/plain": [
       "    country_name                      group_name\n",
       "42        Tuvalu       Least Developed Countries\n",
       "129       Tuvalu  Small Island Developing States\n",
       "365       Tuvalu            Developing Countries"
      ]
     },
     "execution_count": 59,
     "metadata": {},
     "output_type": "execute_result"
    }
   ],
   "source": [
    "# Found this one by luck\n",
    "country_to_group.query('country_name == \"Tuvalu\"')"
   ]
  },
  {
   "cell_type": "code",
   "execution_count": 60,
   "metadata": {},
   "outputs": [
    {
     "data": {
      "text/html": [
       "<div>\n",
       "<style scoped>\n",
       "    .dataframe tbody tr th:only-of-type {\n",
       "        vertical-align: middle;\n",
       "    }\n",
       "\n",
       "    .dataframe tbody tr th {\n",
       "        vertical-align: top;\n",
       "    }\n",
       "\n",
       "    .dataframe thead th {\n",
       "        text-align: right;\n",
       "    }\n",
       "</style>\n",
       "<table border=\"1\" class=\"dataframe\">\n",
       "  <thead>\n",
       "    <tr style=\"text-align: right;\">\n",
       "      <th></th>\n",
       "      <th>common_name</th>\n",
       "      <th>official_name</th>\n",
       "      <th>capital</th>\n",
       "      <th>un_m49</th>\n",
       "      <th>iso_alpha3</th>\n",
       "      <th>least_developed_countries</th>\n",
       "      <th>landlocked_developing_countries</th>\n",
       "      <th>small_island_developing_states</th>\n",
       "      <th>un_region</th>\n",
       "      <th>developed</th>\n",
       "      <th>developing</th>\n",
       "    </tr>\n",
       "  </thead>\n",
       "  <tbody>\n",
       "    <tr>\n",
       "      <th>230</th>\n",
       "      <td>Tuvalu</td>\n",
       "      <td>Ellice Islands</td>\n",
       "      <td>Funafuti</td>\n",
       "      <td>798</td>\n",
       "      <td>TUV</td>\n",
       "      <td>True</td>\n",
       "      <td>False</td>\n",
       "      <td>True</td>\n",
       "      <td>061</td>\n",
       "      <td>False</td>\n",
       "      <td>True</td>\n",
       "    </tr>\n",
       "  </tbody>\n",
       "</table>\n",
       "</div>"
      ],
      "text/plain": [
       "    common_name   official_name   capital un_m49 iso_alpha3  \\\n",
       "230      Tuvalu  Ellice Islands  Funafuti    798        TUV   \n",
       "\n",
       "     least_developed_countries  landlocked_developing_countries  \\\n",
       "230                       True                            False   \n",
       "\n",
       "     small_island_developing_states un_region  developed  developing  \n",
       "230                            True       061      False        True  "
      ]
     },
     "execution_count": 60,
     "metadata": {},
     "output_type": "execute_result"
    }
   ],
   "source": [
    "# Is True in the correct columns?\n",
    "countries.query('index == 230')"
   ]
  },
  {
   "cell_type": "markdown",
   "metadata": {},
   "source": [
    "<a id='assess4'></a>\n",
    "## Assess, Part 4"
   ]
  },
  {
   "cell_type": "code",
   "execution_count": 61,
   "metadata": {},
   "outputs": [
    {
     "name": "stdout",
     "output_type": "stream",
     "text": [
      "<class 'pandas.core.frame.DataFrame'>\n",
      "RangeIndex: 249 entries, 0 to 248\n",
      "Data columns (total 11 columns):\n",
      " #   Column                           Non-Null Count  Dtype \n",
      "---  ------                           --------------  ----- \n",
      " 0   common_name                      249 non-null    object\n",
      " 1   official_name                    249 non-null    object\n",
      " 2   capital                          249 non-null    object\n",
      " 3   un_m49                           249 non-null    object\n",
      " 4   iso_alpha3                       249 non-null    object\n",
      " 5   least_developed_countries        249 non-null    bool  \n",
      " 6   landlocked_developing_countries  249 non-null    bool  \n",
      " 7   small_island_developing_states   249 non-null    bool  \n",
      " 8   un_region                        249 non-null    object\n",
      " 9   developed                        249 non-null    bool  \n",
      " 10  developing                       249 non-null    bool  \n",
      "dtypes: bool(5), object(6)\n",
      "memory usage: 13.0+ KB\n"
     ]
    }
   ],
   "source": [
    "countries.info()"
   ]
  },
  {
   "cell_type": "markdown",
   "metadata": {},
   "source": [
    "### Issues Found:\n",
    "#### Quality\n",
    "1) Remove quotes from Common Name, Official Name and Capital. Several entries contain double quotes (ex: \"Bonaire, Sint Eustatius, and Saba\") due to commas in string breaking CSV formatting on input. Remove quotes.\n",
    "\n",
    "2) Fix Moldova. Update Common Name to Moldova instead of Republic of Moldova (official name). Update Capital to Chișinău instead of Chișinau.\n",
    "\n",
    "3) Add `society_type_id` feature and set to 1 (society_type_id for \"Country\"). \n",
    "\n",
    "#### Tidiness\n",
    "4) Drop 5 UN grouping columns: `least_developed_countries`,`landlocked_developing_countries`,`small_island_developing_states`,`developed`,`developing`\n",
    "\n",
    "<a id='clean4'></a>\n",
    "## Clean, Part 4\n",
    "\n",
    "### 1) Remove quotes from Official Names\n",
    "\n",
    "Several entries contain \" in official name (ex: \"Bonaire, Sint Eustatius, and Saba\") due to commas in field breaking CSV formatting on input. Remove quotes.\n",
    "\n",
    "Also, the official name for Sri Lanka contains an odd space character that breaks on read. Fix it.\n",
    "\n",
    "#### Code"
   ]
  },
  {
   "cell_type": "code",
   "execution_count": 62,
   "metadata": {},
   "outputs": [
    {
     "data": {
      "text/html": [
       "<div>\n",
       "<style scoped>\n",
       "    .dataframe tbody tr th:only-of-type {\n",
       "        vertical-align: middle;\n",
       "    }\n",
       "\n",
       "    .dataframe tbody tr th {\n",
       "        vertical-align: top;\n",
       "    }\n",
       "\n",
       "    .dataframe thead th {\n",
       "        text-align: right;\n",
       "    }\n",
       "</style>\n",
       "<table border=\"1\" class=\"dataframe\">\n",
       "  <thead>\n",
       "    <tr style=\"text-align: right;\">\n",
       "      <th></th>\n",
       "      <th>common_name</th>\n",
       "      <th>official_name</th>\n",
       "      <th>capital</th>\n",
       "      <th>un_m49</th>\n",
       "      <th>iso_alpha3</th>\n",
       "      <th>least_developed_countries</th>\n",
       "      <th>landlocked_developing_countries</th>\n",
       "      <th>small_island_developing_states</th>\n",
       "      <th>un_region</th>\n",
       "      <th>developed</th>\n",
       "      <th>developing</th>\n",
       "    </tr>\n",
       "  </thead>\n",
       "  <tbody>\n",
       "    <tr>\n",
       "      <th>0</th>\n",
       "      <td>\"Saint Helena, Ascension, and Tristan da Cunha\"</td>\n",
       "      <td>\"Saint Helena, Ascension, and Tristan da Cunha\"</td>\n",
       "      <td>Jamestown</td>\n",
       "      <td>654</td>\n",
       "      <td>SHN</td>\n",
       "      <td>False</td>\n",
       "      <td>False</td>\n",
       "      <td>False</td>\n",
       "      <td>011</td>\n",
       "      <td>False</td>\n",
       "      <td>True</td>\n",
       "    </tr>\n",
       "    <tr>\n",
       "      <th>25</th>\n",
       "      <td>BES Islands</td>\n",
       "      <td>\"Bonaire, Sint Eustatius, and Saba\"</td>\n",
       "      <td>Kralendijk</td>\n",
       "      <td>535</td>\n",
       "      <td>BES</td>\n",
       "      <td>False</td>\n",
       "      <td>False</td>\n",
       "      <td>True</td>\n",
       "      <td>029</td>\n",
       "      <td>False</td>\n",
       "      <td>True</td>\n",
       "    </tr>\n",
       "    <tr>\n",
       "      <th>238</th>\n",
       "      <td>USA</td>\n",
       "      <td>United States of America</td>\n",
       "      <td>\"Washington, D.C.\"</td>\n",
       "      <td>840</td>\n",
       "      <td>USA</td>\n",
       "      <td>False</td>\n",
       "      <td>False</td>\n",
       "      <td>False</td>\n",
       "      <td>021</td>\n",
       "      <td>True</td>\n",
       "      <td>False</td>\n",
       "    </tr>\n",
       "  </tbody>\n",
       "</table>\n",
       "</div>"
      ],
      "text/plain": [
       "                                         common_name  \\\n",
       "0    \"Saint Helena, Ascension, and Tristan da Cunha\"   \n",
       "25                                       BES Islands   \n",
       "238                                              USA   \n",
       "\n",
       "                                       official_name             capital  \\\n",
       "0    \"Saint Helena, Ascension, and Tristan da Cunha\"           Jamestown   \n",
       "25               \"Bonaire, Sint Eustatius, and Saba\"          Kralendijk   \n",
       "238                         United States of America  \"Washington, D.C.\"   \n",
       "\n",
       "    un_m49 iso_alpha3  least_developed_countries  \\\n",
       "0      654        SHN                      False   \n",
       "25     535        BES                      False   \n",
       "238    840        USA                      False   \n",
       "\n",
       "     landlocked_developing_countries  small_island_developing_states  \\\n",
       "0                              False                           False   \n",
       "25                             False                            True   \n",
       "238                            False                           False   \n",
       "\n",
       "    un_region  developed  developing  \n",
       "0         011      False        True  \n",
       "25        029      False        True  \n",
       "238       021       True       False  "
      ]
     },
     "execution_count": 62,
     "metadata": {},
     "output_type": "execute_result"
    }
   ],
   "source": [
    "countries[countries['official_name'].str.contains('\"') | countries['capital'].str.contains('\"')]"
   ]
  },
  {
   "cell_type": "code",
   "execution_count": 63,
   "metadata": {},
   "outputs": [],
   "source": [
    "countries.loc[0,'official_name'] = \"Saint Helena, Ascension, and Tristan da Cunha\"\n",
    "countries.loc[0,'common_name'] = \"Saint Helena, Ascension, and Tristan da Cunha\"\n",
    "countries.loc[25,'official_name'] = \"Bonaire, Sint Eustatius, and Saba\"\n",
    "countries.loc[209,'official_name'] = \"Democratic Socialist Republic of Sri Lanka\"\n",
    "countries.loc[238,'capital'] = \"Washington, D.C.\""
   ]
  },
  {
   "cell_type": "markdown",
   "metadata": {},
   "source": [
    "#### Test"
   ]
  },
  {
   "cell_type": "code",
   "execution_count": 64,
   "metadata": {},
   "outputs": [
    {
     "data": {
      "text/html": [
       "<div>\n",
       "<style scoped>\n",
       "    .dataframe tbody tr th:only-of-type {\n",
       "        vertical-align: middle;\n",
       "    }\n",
       "\n",
       "    .dataframe tbody tr th {\n",
       "        vertical-align: top;\n",
       "    }\n",
       "\n",
       "    .dataframe thead th {\n",
       "        text-align: right;\n",
       "    }\n",
       "</style>\n",
       "<table border=\"1\" class=\"dataframe\">\n",
       "  <thead>\n",
       "    <tr style=\"text-align: right;\">\n",
       "      <th></th>\n",
       "      <th>common_name</th>\n",
       "      <th>official_name</th>\n",
       "      <th>capital</th>\n",
       "      <th>un_m49</th>\n",
       "      <th>iso_alpha3</th>\n",
       "      <th>least_developed_countries</th>\n",
       "      <th>landlocked_developing_countries</th>\n",
       "      <th>small_island_developing_states</th>\n",
       "      <th>un_region</th>\n",
       "      <th>developed</th>\n",
       "      <th>developing</th>\n",
       "    </tr>\n",
       "  </thead>\n",
       "  <tbody>\n",
       "    <tr>\n",
       "      <th>0</th>\n",
       "      <td>Saint Helena, Ascension, and Tristan da Cunha</td>\n",
       "      <td>Saint Helena, Ascension, and Tristan da Cunha</td>\n",
       "      <td>Jamestown</td>\n",
       "      <td>654</td>\n",
       "      <td>SHN</td>\n",
       "      <td>False</td>\n",
       "      <td>False</td>\n",
       "      <td>False</td>\n",
       "      <td>011</td>\n",
       "      <td>False</td>\n",
       "      <td>True</td>\n",
       "    </tr>\n",
       "    <tr>\n",
       "      <th>25</th>\n",
       "      <td>BES Islands</td>\n",
       "      <td>Bonaire, Sint Eustatius, and Saba</td>\n",
       "      <td>Kralendijk</td>\n",
       "      <td>535</td>\n",
       "      <td>BES</td>\n",
       "      <td>False</td>\n",
       "      <td>False</td>\n",
       "      <td>True</td>\n",
       "      <td>029</td>\n",
       "      <td>False</td>\n",
       "      <td>True</td>\n",
       "    </tr>\n",
       "    <tr>\n",
       "      <th>209</th>\n",
       "      <td>Sri Lanka</td>\n",
       "      <td>Democratic Socialist Republic of Sri Lanka</td>\n",
       "      <td>Sri Jayawardenepura Kotte</td>\n",
       "      <td>144</td>\n",
       "      <td>LKA</td>\n",
       "      <td>False</td>\n",
       "      <td>False</td>\n",
       "      <td>False</td>\n",
       "      <td>034</td>\n",
       "      <td>False</td>\n",
       "      <td>True</td>\n",
       "    </tr>\n",
       "    <tr>\n",
       "      <th>238</th>\n",
       "      <td>USA</td>\n",
       "      <td>United States of America</td>\n",
       "      <td>Washington, D.C.</td>\n",
       "      <td>840</td>\n",
       "      <td>USA</td>\n",
       "      <td>False</td>\n",
       "      <td>False</td>\n",
       "      <td>False</td>\n",
       "      <td>021</td>\n",
       "      <td>True</td>\n",
       "      <td>False</td>\n",
       "    </tr>\n",
       "  </tbody>\n",
       "</table>\n",
       "</div>"
      ],
      "text/plain": [
       "                                       common_name  \\\n",
       "0    Saint Helena, Ascension, and Tristan da Cunha   \n",
       "25                                     BES Islands   \n",
       "209                                      Sri Lanka   \n",
       "238                                            USA   \n",
       "\n",
       "                                     official_name                    capital  \\\n",
       "0    Saint Helena, Ascension, and Tristan da Cunha                  Jamestown   \n",
       "25               Bonaire, Sint Eustatius, and Saba                 Kralendijk   \n",
       "209     Democratic Socialist Republic of Sri Lanka  Sri Jayawardenepura Kotte   \n",
       "238                       United States of America           Washington, D.C.   \n",
       "\n",
       "    un_m49 iso_alpha3  least_developed_countries  \\\n",
       "0      654        SHN                      False   \n",
       "25     535        BES                      False   \n",
       "209    144        LKA                      False   \n",
       "238    840        USA                      False   \n",
       "\n",
       "     landlocked_developing_countries  small_island_developing_states  \\\n",
       "0                              False                           False   \n",
       "25                             False                            True   \n",
       "209                            False                           False   \n",
       "238                            False                           False   \n",
       "\n",
       "    un_region  developed  developing  \n",
       "0         011      False        True  \n",
       "25        029      False        True  \n",
       "209       034      False        True  \n",
       "238       021       True       False  "
      ]
     },
     "execution_count": 64,
     "metadata": {},
     "output_type": "execute_result"
    }
   ],
   "source": [
    "names = ['BES Islands','Saint Helena, Ascension, and Tristan da Cunha','Sri Lanka','USA']\n",
    "countries.query('common_name in @names')"
   ]
  },
  {
   "cell_type": "markdown",
   "metadata": {},
   "source": [
    "### 2) Fix Moldova\n",
    "Update Common Name to Moldova instead of Republic of Moldova (official name). Update Capital to Chișinău instead of Chișinau\n",
    "\n",
    "#### Code"
   ]
  },
  {
   "cell_type": "code",
   "execution_count": 65,
   "metadata": {},
   "outputs": [],
   "source": [
    "moldova = countries.query('common_name == \"Republic of Moldova\"').index.to_list()\n",
    "countries.loc[moldova,'common_name'] = 'Moldova'\n",
    "countries.loc[moldova,'capital'] = 'Chișinău'"
   ]
  },
  {
   "cell_type": "markdown",
   "metadata": {},
   "source": [
    "#### Test"
   ]
  },
  {
   "cell_type": "code",
   "execution_count": 66,
   "metadata": {},
   "outputs": [
    {
     "data": {
      "text/html": [
       "<div>\n",
       "<style scoped>\n",
       "    .dataframe tbody tr th:only-of-type {\n",
       "        vertical-align: middle;\n",
       "    }\n",
       "\n",
       "    .dataframe tbody tr th {\n",
       "        vertical-align: top;\n",
       "    }\n",
       "\n",
       "    .dataframe thead th {\n",
       "        text-align: right;\n",
       "    }\n",
       "</style>\n",
       "<table border=\"1\" class=\"dataframe\">\n",
       "  <thead>\n",
       "    <tr style=\"text-align: right;\">\n",
       "      <th></th>\n",
       "      <th>common_name</th>\n",
       "      <th>official_name</th>\n",
       "      <th>capital</th>\n",
       "      <th>un_m49</th>\n",
       "      <th>iso_alpha3</th>\n",
       "      <th>least_developed_countries</th>\n",
       "      <th>landlocked_developing_countries</th>\n",
       "      <th>small_island_developing_states</th>\n",
       "      <th>un_region</th>\n",
       "      <th>developed</th>\n",
       "      <th>developing</th>\n",
       "    </tr>\n",
       "  </thead>\n",
       "  <tbody>\n",
       "    <tr>\n",
       "      <th>178</th>\n",
       "      <td>Moldova</td>\n",
       "      <td>Republic of Moldova</td>\n",
       "      <td>Chișinău</td>\n",
       "      <td>498</td>\n",
       "      <td>MDA</td>\n",
       "      <td>False</td>\n",
       "      <td>True</td>\n",
       "      <td>False</td>\n",
       "      <td>151</td>\n",
       "      <td>True</td>\n",
       "      <td>False</td>\n",
       "    </tr>\n",
       "  </tbody>\n",
       "</table>\n",
       "</div>"
      ],
      "text/plain": [
       "    common_name        official_name   capital un_m49 iso_alpha3  \\\n",
       "178     Moldova  Republic of Moldova  Chișinău    498        MDA   \n",
       "\n",
       "     least_developed_countries  landlocked_developing_countries  \\\n",
       "178                      False                             True   \n",
       "\n",
       "     small_island_developing_states un_region  developed  developing  \n",
       "178                           False       151       True       False  "
      ]
     },
     "execution_count": 66,
     "metadata": {},
     "output_type": "execute_result"
    }
   ],
   "source": [
    "countries.loc[moldova]"
   ]
  },
  {
   "cell_type": "markdown",
   "metadata": {},
   "source": [
    "### 3) Add `society_type_id` and Set to 1\n",
    "Create a new feature `society_type_id` and set it to 1 for all countries. This corresponds to the society_type_id for \"Country\".\n",
    "\n",
    "#### Code"
   ]
  },
  {
   "cell_type": "code",
   "execution_count": 67,
   "metadata": {},
   "outputs": [],
   "source": [
    "countries['society_type_id'] = 1"
   ]
  },
  {
   "cell_type": "markdown",
   "metadata": {},
   "source": [
    "#### Test"
   ]
  },
  {
   "cell_type": "code",
   "execution_count": 68,
   "metadata": {},
   "outputs": [
    {
     "data": {
      "text/html": [
       "<div>\n",
       "<style scoped>\n",
       "    .dataframe tbody tr th:only-of-type {\n",
       "        vertical-align: middle;\n",
       "    }\n",
       "\n",
       "    .dataframe tbody tr th {\n",
       "        vertical-align: top;\n",
       "    }\n",
       "\n",
       "    .dataframe thead th {\n",
       "        text-align: right;\n",
       "    }\n",
       "</style>\n",
       "<table border=\"1\" class=\"dataframe\">\n",
       "  <thead>\n",
       "    <tr style=\"text-align: right;\">\n",
       "      <th></th>\n",
       "      <th>common_name</th>\n",
       "      <th>official_name</th>\n",
       "      <th>capital</th>\n",
       "      <th>un_m49</th>\n",
       "      <th>iso_alpha3</th>\n",
       "      <th>least_developed_countries</th>\n",
       "      <th>landlocked_developing_countries</th>\n",
       "      <th>small_island_developing_states</th>\n",
       "      <th>un_region</th>\n",
       "      <th>developed</th>\n",
       "      <th>developing</th>\n",
       "      <th>society_type_id</th>\n",
       "    </tr>\n",
       "  </thead>\n",
       "  <tbody>\n",
       "    <tr>\n",
       "      <th>207</th>\n",
       "      <td>South Sudan</td>\n",
       "      <td>Republic of South Sudan</td>\n",
       "      <td>Juba</td>\n",
       "      <td>728</td>\n",
       "      <td>SSD</td>\n",
       "      <td>True</td>\n",
       "      <td>True</td>\n",
       "      <td>False</td>\n",
       "      <td>014</td>\n",
       "      <td>False</td>\n",
       "      <td>True</td>\n",
       "      <td>1</td>\n",
       "    </tr>\n",
       "    <tr>\n",
       "      <th>67</th>\n",
       "      <td>El Salvador</td>\n",
       "      <td>Republic of El Salvador</td>\n",
       "      <td>San Salvador</td>\n",
       "      <td>222</td>\n",
       "      <td>SLV</td>\n",
       "      <td>False</td>\n",
       "      <td>False</td>\n",
       "      <td>False</td>\n",
       "      <td>013</td>\n",
       "      <td>False</td>\n",
       "      <td>True</td>\n",
       "      <td>1</td>\n",
       "    </tr>\n",
       "    <tr>\n",
       "      <th>66</th>\n",
       "      <td>Egypt</td>\n",
       "      <td>Arab Republic of Egypt</td>\n",
       "      <td>Cairo</td>\n",
       "      <td>818</td>\n",
       "      <td>EGY</td>\n",
       "      <td>False</td>\n",
       "      <td>False</td>\n",
       "      <td>False</td>\n",
       "      <td>015</td>\n",
       "      <td>False</td>\n",
       "      <td>True</td>\n",
       "      <td>1</td>\n",
       "    </tr>\n",
       "    <tr>\n",
       "      <th>142</th>\n",
       "      <td>Mexico</td>\n",
       "      <td>United Mexican States</td>\n",
       "      <td>Mexico City</td>\n",
       "      <td>484</td>\n",
       "      <td>MEX</td>\n",
       "      <td>False</td>\n",
       "      <td>False</td>\n",
       "      <td>False</td>\n",
       "      <td>013</td>\n",
       "      <td>False</td>\n",
       "      <td>True</td>\n",
       "      <td>1</td>\n",
       "    </tr>\n",
       "    <tr>\n",
       "      <th>75</th>\n",
       "      <td>Fiji</td>\n",
       "      <td>Republic of Fiji</td>\n",
       "      <td>Suva</td>\n",
       "      <td>242</td>\n",
       "      <td>FJI</td>\n",
       "      <td>False</td>\n",
       "      <td>False</td>\n",
       "      <td>True</td>\n",
       "      <td>054</td>\n",
       "      <td>False</td>\n",
       "      <td>True</td>\n",
       "      <td>1</td>\n",
       "    </tr>\n",
       "  </tbody>\n",
       "</table>\n",
       "</div>"
      ],
      "text/plain": [
       "     common_name            official_name       capital un_m49 iso_alpha3  \\\n",
       "207  South Sudan  Republic of South Sudan          Juba    728        SSD   \n",
       "67   El Salvador  Republic of El Salvador  San Salvador    222        SLV   \n",
       "66         Egypt   Arab Republic of Egypt         Cairo    818        EGY   \n",
       "142       Mexico    United Mexican States   Mexico City    484        MEX   \n",
       "75          Fiji         Republic of Fiji          Suva    242        FJI   \n",
       "\n",
       "     least_developed_countries  landlocked_developing_countries  \\\n",
       "207                       True                             True   \n",
       "67                       False                            False   \n",
       "66                       False                            False   \n",
       "142                      False                            False   \n",
       "75                       False                            False   \n",
       "\n",
       "     small_island_developing_states un_region  developed  developing  \\\n",
       "207                           False       014      False        True   \n",
       "67                            False       013      False        True   \n",
       "66                            False       015      False        True   \n",
       "142                           False       013      False        True   \n",
       "75                             True       054      False        True   \n",
       "\n",
       "     society_type_id  \n",
       "207                1  \n",
       "67                 1  \n",
       "66                 1  \n",
       "142                1  \n",
       "75                 1  "
      ]
     },
     "execution_count": 68,
     "metadata": {},
     "output_type": "execute_result"
    }
   ],
   "source": [
    "countries.sample(5)"
   ]
  },
  {
   "cell_type": "markdown",
   "metadata": {},
   "source": [
    "### 4) Drop 5 UN grouping columns\n",
    "Drop `least_developed_countries`, `landlocked_developing_countries`, `small_island_developing_states`, `developed`, and `developing`. These columns are no longer needed. This information is now contained in the `un_groupings` and `country_to_group` dataframes.\n",
    "\n",
    "#### Code"
   ]
  },
  {
   "cell_type": "code",
   "execution_count": 69,
   "metadata": {},
   "outputs": [],
   "source": [
    "countries.drop(columns=['least_developed_countries','landlocked_developing_countries','small_island_developing_states','developed','developing'], axis=1, inplace=True)"
   ]
  },
  {
   "cell_type": "markdown",
   "metadata": {},
   "source": [
    "#### Test"
   ]
  },
  {
   "cell_type": "code",
   "execution_count": 70,
   "metadata": {},
   "outputs": [
    {
     "name": "stdout",
     "output_type": "stream",
     "text": [
      "<class 'pandas.core.frame.DataFrame'>\n",
      "RangeIndex: 249 entries, 0 to 248\n",
      "Data columns (total 7 columns):\n",
      " #   Column           Non-Null Count  Dtype \n",
      "---  ------           --------------  ----- \n",
      " 0   common_name      249 non-null    object\n",
      " 1   official_name    249 non-null    object\n",
      " 2   capital          249 non-null    object\n",
      " 3   un_m49           249 non-null    object\n",
      " 4   iso_alpha3       249 non-null    object\n",
      " 5   un_region        249 non-null    object\n",
      " 6   society_type_id  249 non-null    int64 \n",
      "dtypes: int64(1), object(6)\n",
      "memory usage: 13.7+ KB\n"
     ]
    }
   ],
   "source": [
    "countries.info()"
   ]
  },
  {
   "cell_type": "markdown",
   "metadata": {},
   "source": [
    "<a id='final'></a>\n",
    "## Finished Dataframes\n",
    "\n",
    "These dataframes are ready for database insertion."
   ]
  },
  {
   "cell_type": "code",
   "execution_count": 71,
   "metadata": {},
   "outputs": [
    {
     "data": {
      "text/html": [
       "<div>\n",
       "<style scoped>\n",
       "    .dataframe tbody tr th:only-of-type {\n",
       "        vertical-align: middle;\n",
       "    }\n",
       "\n",
       "    .dataframe tbody tr th {\n",
       "        vertical-align: top;\n",
       "    }\n",
       "\n",
       "    .dataframe thead th {\n",
       "        text-align: right;\n",
       "    }\n",
       "</style>\n",
       "<table border=\"1\" class=\"dataframe\">\n",
       "  <thead>\n",
       "    <tr style=\"text-align: right;\">\n",
       "      <th></th>\n",
       "      <th>common_name</th>\n",
       "      <th>official_name</th>\n",
       "      <th>capital</th>\n",
       "      <th>un_m49</th>\n",
       "      <th>iso_alpha3</th>\n",
       "      <th>un_region</th>\n",
       "      <th>society_type_id</th>\n",
       "    </tr>\n",
       "  </thead>\n",
       "  <tbody>\n",
       "    <tr>\n",
       "      <th>138</th>\n",
       "      <td>Martinique</td>\n",
       "      <td>Martinique</td>\n",
       "      <td>Fort-de-France</td>\n",
       "      <td>474</td>\n",
       "      <td>MTQ</td>\n",
       "      <td>029</td>\n",
       "      <td>1</td>\n",
       "    </tr>\n",
       "    <tr>\n",
       "      <th>244</th>\n",
       "      <td>Wallis and Futuna Islands</td>\n",
       "      <td>Territory of the Wallis and Futuna Islands</td>\n",
       "      <td>Mata Utu</td>\n",
       "      <td>876</td>\n",
       "      <td>WLF</td>\n",
       "      <td>061</td>\n",
       "      <td>1</td>\n",
       "    </tr>\n",
       "    <tr>\n",
       "      <th>114</th>\n",
       "      <td>Jordan</td>\n",
       "      <td>Hashemite Kingdom of Jordan</td>\n",
       "      <td>Amman</td>\n",
       "      <td>400</td>\n",
       "      <td>JOR</td>\n",
       "      <td>145</td>\n",
       "      <td>1</td>\n",
       "    </tr>\n",
       "    <tr>\n",
       "      <th>81</th>\n",
       "      <td>Gabon</td>\n",
       "      <td>Gabonese Republic</td>\n",
       "      <td>Libreville</td>\n",
       "      <td>266</td>\n",
       "      <td>GAB</td>\n",
       "      <td>017</td>\n",
       "      <td>1</td>\n",
       "    </tr>\n",
       "    <tr>\n",
       "      <th>238</th>\n",
       "      <td>USA</td>\n",
       "      <td>United States of America</td>\n",
       "      <td>Washington, D.C.</td>\n",
       "      <td>840</td>\n",
       "      <td>USA</td>\n",
       "      <td>021</td>\n",
       "      <td>1</td>\n",
       "    </tr>\n",
       "  </tbody>\n",
       "</table>\n",
       "</div>"
      ],
      "text/plain": [
       "                   common_name                               official_name  \\\n",
       "138                 Martinique                                  Martinique   \n",
       "244  Wallis and Futuna Islands  Territory of the Wallis and Futuna Islands   \n",
       "114                     Jordan                 Hashemite Kingdom of Jordan   \n",
       "81                       Gabon                           Gabonese Republic   \n",
       "238                        USA                    United States of America   \n",
       "\n",
       "              capital un_m49 iso_alpha3 un_region  society_type_id  \n",
       "138    Fort-de-France    474        MTQ       029                1  \n",
       "244          Mata Utu    876        WLF       061                1  \n",
       "114             Amman    400        JOR       145                1  \n",
       "81         Libreville    266        GAB       017                1  \n",
       "238  Washington, D.C.    840        USA       021                1  "
      ]
     },
     "execution_count": 71,
     "metadata": {},
     "output_type": "execute_result"
    }
   ],
   "source": [
    "# Sort by common_name, then output to csv\n",
    "countries.sort_values('common_name', inplace=True)\n",
    "countries.to_csv('countries_clean.csv', encoding='utf-16', index=False)\n",
    "countries.sample(5)"
   ]
  },
  {
   "cell_type": "code",
   "execution_count": 72,
   "metadata": {},
   "outputs": [
    {
     "data": {
      "text/html": [
       "<div>\n",
       "<style scoped>\n",
       "    .dataframe tbody tr th:only-of-type {\n",
       "        vertical-align: middle;\n",
       "    }\n",
       "\n",
       "    .dataframe tbody tr th {\n",
       "        vertical-align: top;\n",
       "    }\n",
       "\n",
       "    .dataframe thead th {\n",
       "        text-align: right;\n",
       "    }\n",
       "</style>\n",
       "<table border=\"1\" class=\"dataframe\">\n",
       "  <thead>\n",
       "    <tr style=\"text-align: right;\">\n",
       "      <th></th>\n",
       "      <th>region_code</th>\n",
       "      <th>region_name</th>\n",
       "      <th>parent_region_code</th>\n",
       "    </tr>\n",
       "  </thead>\n",
       "  <tbody>\n",
       "    <tr>\n",
       "      <th>0</th>\n",
       "      <td>002</td>\n",
       "      <td>Africa</td>\n",
       "      <td>000</td>\n",
       "    </tr>\n",
       "    <tr>\n",
       "      <th>21</th>\n",
       "      <td>013</td>\n",
       "      <td>Central America</td>\n",
       "      <td>419</td>\n",
       "    </tr>\n",
       "    <tr>\n",
       "      <th>20</th>\n",
       "      <td>151</td>\n",
       "      <td>Eastern Europe</td>\n",
       "      <td>150</td>\n",
       "    </tr>\n",
       "    <tr>\n",
       "      <th>12</th>\n",
       "      <td>019</td>\n",
       "      <td>Americas</td>\n",
       "      <td>000</td>\n",
       "    </tr>\n",
       "    <tr>\n",
       "      <th>10</th>\n",
       "      <td>061</td>\n",
       "      <td>Polynesia</td>\n",
       "      <td>009</td>\n",
       "    </tr>\n",
       "    <tr>\n",
       "      <th>11</th>\n",
       "      <td>017</td>\n",
       "      <td>Middle Africa</td>\n",
       "      <td>202</td>\n",
       "    </tr>\n",
       "    <tr>\n",
       "      <th>22</th>\n",
       "      <td>021</td>\n",
       "      <td>Northern America</td>\n",
       "      <td>019</td>\n",
       "    </tr>\n",
       "    <tr>\n",
       "      <th>15</th>\n",
       "      <td>999</td>\n",
       "      <td>Antarctica</td>\n",
       "      <td>000</td>\n",
       "    </tr>\n",
       "    <tr>\n",
       "      <th>28</th>\n",
       "      <td>057</td>\n",
       "      <td>Micronesia</td>\n",
       "      <td>009</td>\n",
       "    </tr>\n",
       "    <tr>\n",
       "      <th>9</th>\n",
       "      <td>009</td>\n",
       "      <td>Oceania</td>\n",
       "      <td>000</td>\n",
       "    </tr>\n",
       "  </tbody>\n",
       "</table>\n",
       "</div>"
      ],
      "text/plain": [
       "   region_code       region_name parent_region_code\n",
       "0          002            Africa                000\n",
       "21         013   Central America                419\n",
       "20         151    Eastern Europe                150\n",
       "12         019          Americas                000\n",
       "10         061         Polynesia                009\n",
       "11         017     Middle Africa                202\n",
       "22         021  Northern America                019\n",
       "15         999        Antarctica                000\n",
       "28         057        Micronesia                009\n",
       "9          009           Oceania                000"
      ]
     },
     "execution_count": 72,
     "metadata": {},
     "output_type": "execute_result"
    }
   ],
   "source": [
    "# Sort by parent_region_code, then output to csv\n",
    "regions.sort_values('parent_region_code', inplace=True)\n",
    "regions.to_csv('un_regions.csv', index=False)\n",
    "regions.sample(10)"
   ]
  },
  {
   "cell_type": "code",
   "execution_count": 73,
   "metadata": {},
   "outputs": [
    {
     "data": {
      "text/html": [
       "<div>\n",
       "<style scoped>\n",
       "    .dataframe tbody tr th:only-of-type {\n",
       "        vertical-align: middle;\n",
       "    }\n",
       "\n",
       "    .dataframe tbody tr th {\n",
       "        vertical-align: top;\n",
       "    }\n",
       "\n",
       "    .dataframe thead th {\n",
       "        text-align: right;\n",
       "    }\n",
       "</style>\n",
       "<table border=\"1\" class=\"dataframe\">\n",
       "  <thead>\n",
       "    <tr style=\"text-align: right;\">\n",
       "      <th></th>\n",
       "      <th>society_group_name</th>\n",
       "      <th>society_group_type</th>\n",
       "    </tr>\n",
       "  </thead>\n",
       "  <tbody>\n",
       "    <tr>\n",
       "      <th>0</th>\n",
       "      <td>Least Developed Countries</td>\n",
       "      <td>1</td>\n",
       "    </tr>\n",
       "    <tr>\n",
       "      <th>1</th>\n",
       "      <td>Landlocked Developing Countries</td>\n",
       "      <td>1</td>\n",
       "    </tr>\n",
       "    <tr>\n",
       "      <th>2</th>\n",
       "      <td>Small Island Developing States</td>\n",
       "      <td>1</td>\n",
       "    </tr>\n",
       "    <tr>\n",
       "      <th>3</th>\n",
       "      <td>Developed Countries</td>\n",
       "      <td>1</td>\n",
       "    </tr>\n",
       "    <tr>\n",
       "      <th>4</th>\n",
       "      <td>Developing Countries</td>\n",
       "      <td>1</td>\n",
       "    </tr>\n",
       "  </tbody>\n",
       "</table>\n",
       "</div>"
      ],
      "text/plain": [
       "                society_group_name  society_group_type\n",
       "0        Least Developed Countries                   1\n",
       "1  Landlocked Developing Countries                   1\n",
       "2   Small Island Developing States                   1\n",
       "3              Developed Countries                   1\n",
       "4             Developing Countries                   1"
      ]
     },
     "execution_count": 73,
     "metadata": {},
     "output_type": "execute_result"
    }
   ],
   "source": [
    "un_groupings.to_csv('groupings.csv', index=False)\n",
    "un_groupings"
   ]
  },
  {
   "cell_type": "code",
   "execution_count": 74,
   "metadata": {
    "scrolled": true
   },
   "outputs": [
    {
     "data": {
      "text/html": [
       "<div>\n",
       "<style scoped>\n",
       "    .dataframe tbody tr th:only-of-type {\n",
       "        vertical-align: middle;\n",
       "    }\n",
       "\n",
       "    .dataframe tbody tr th {\n",
       "        vertical-align: top;\n",
       "    }\n",
       "\n",
       "    .dataframe thead th {\n",
       "        text-align: right;\n",
       "    }\n",
       "</style>\n",
       "<table border=\"1\" class=\"dataframe\">\n",
       "  <thead>\n",
       "    <tr style=\"text-align: right;\">\n",
       "      <th></th>\n",
       "      <th>country_name</th>\n",
       "      <th>group_name</th>\n",
       "    </tr>\n",
       "  </thead>\n",
       "  <tbody>\n",
       "    <tr>\n",
       "      <th>88</th>\n",
       "      <td>Comoros</td>\n",
       "      <td>Small Island Developing States</td>\n",
       "    </tr>\n",
       "    <tr>\n",
       "      <th>343</th>\n",
       "      <td>Somalia</td>\n",
       "      <td>Developing Countries</td>\n",
       "    </tr>\n",
       "    <tr>\n",
       "      <th>76</th>\n",
       "      <td>Uzbekistan</td>\n",
       "      <td>Landlocked Developing Countries</td>\n",
       "    </tr>\n",
       "    <tr>\n",
       "      <th>66</th>\n",
       "      <td>Mongolia</td>\n",
       "      <td>Landlocked Developing Countries</td>\n",
       "    </tr>\n",
       "    <tr>\n",
       "      <th>39</th>\n",
       "      <td>Tanzania</td>\n",
       "      <td>Least Developed Countries</td>\n",
       "    </tr>\n",
       "    <tr>\n",
       "      <th>38</th>\n",
       "      <td>Sudan</td>\n",
       "      <td>Least Developed Countries</td>\n",
       "    </tr>\n",
       "    <tr>\n",
       "      <th>30</th>\n",
       "      <td>Niger</td>\n",
       "      <td>Least Developed Countries</td>\n",
       "    </tr>\n",
       "    <tr>\n",
       "      <th>290</th>\n",
       "      <td>Malaysia</td>\n",
       "      <td>Developing Countries</td>\n",
       "    </tr>\n",
       "    <tr>\n",
       "      <th>106</th>\n",
       "      <td>Micronesia</td>\n",
       "      <td>Small Island Developing States</td>\n",
       "    </tr>\n",
       "    <tr>\n",
       "      <th>178</th>\n",
       "      <td>Poland</td>\n",
       "      <td>Developed Countries</td>\n",
       "    </tr>\n",
       "  </tbody>\n",
       "</table>\n",
       "</div>"
      ],
      "text/plain": [
       "    country_name                       group_name\n",
       "88       Comoros   Small Island Developing States\n",
       "343      Somalia             Developing Countries\n",
       "76    Uzbekistan  Landlocked Developing Countries\n",
       "66      Mongolia  Landlocked Developing Countries\n",
       "39      Tanzania        Least Developed Countries\n",
       "38         Sudan        Least Developed Countries\n",
       "30         Niger        Least Developed Countries\n",
       "290     Malaysia             Developing Countries\n",
       "106   Micronesia   Small Island Developing States\n",
       "178       Poland              Developed Countries"
      ]
     },
     "execution_count": 74,
     "metadata": {},
     "output_type": "execute_result"
    }
   ],
   "source": [
    "country_to_group.to_csv('country_to_group.csv', index=False)\n",
    "country_to_group.sample(10)"
   ]
  },
  {
   "cell_type": "markdown",
   "metadata": {},
   "source": [
    "<a id='db'></a>\n",
    "# Insert Into Database\n",
    "Last run on Apr 25, 2020"
   ]
  },
  {
   "cell_type": "code",
   "execution_count": 75,
   "metadata": {},
   "outputs": [],
   "source": [
    "# Import classes and functions needed for this analysis from config module\n",
    "# These are only available on my computer\n",
    "from config import dbaccess, validator, error_dict_to_string, un_region, society, society_group\n",
    "\n",
    "# Create an instance of the DBAccess class for running queries\n",
    "db = dbaccess.DBAccess()\n",
    "\n",
    "# Create an instance of the Validator class for validating data prior to inserting/updating database\n",
    "val = validator.Validator()\n",
    "\n",
    "# Create an instance of other classes\n",
    "un = un_region\n",
    "soc = society\n",
    "sg = society_group"
   ]
  },
  {
   "cell_type": "markdown",
   "metadata": {},
   "source": [
    "## UN Regions\n",
    "### Code"
   ]
  },
  {
   "cell_type": "code",
   "execution_count": 76,
   "metadata": {
    "scrolled": true
   },
   "outputs": [
    {
     "name": "stdout",
     "output_type": "stream",
     "text": [
      "No errors\n"
     ]
    }
   ],
   "source": [
    "# Check for errors in the UN Regions dataframe before insertion\n",
    "print(error_dict_to_string(un_region.UNRegion.validate_regions(regions, db, val)))"
   ]
  },
  {
   "cell_type": "code",
   "execution_count": 77,
   "metadata": {},
   "outputs": [
    {
     "name": "stdout",
     "output_type": "stream",
     "text": [
      "Expecting to insert: 31 rows\n",
      "31 records inserted\n"
     ]
    }
   ],
   "source": [
    "# Insert UN Regions\n",
    "print('Expecting to insert:', regions.shape[0], 'rows') # How many rows am I expecting to be inserted?\n",
    "insert_un_regions = db.run_query(db.build_insert_query('un_m49_region', regions))\n",
    "print(insert_un_regions['rows'], 'records inserted')"
   ]
  },
  {
   "cell_type": "markdown",
   "metadata": {},
   "source": [
    "### Test"
   ]
  },
  {
   "cell_type": "code",
   "execution_count": 78,
   "metadata": {},
   "outputs": [
    {
     "data": {
      "text/html": [
       "<div>\n",
       "<style scoped>\n",
       "    .dataframe tbody tr th:only-of-type {\n",
       "        vertical-align: middle;\n",
       "    }\n",
       "\n",
       "    .dataframe tbody tr th {\n",
       "        vertical-align: top;\n",
       "    }\n",
       "\n",
       "    .dataframe thead th {\n",
       "        text-align: right;\n",
       "    }\n",
       "</style>\n",
       "<table border=\"1\" class=\"dataframe\">\n",
       "  <thead>\n",
       "    <tr style=\"text-align: right;\">\n",
       "      <th></th>\n",
       "      <th>region_code</th>\n",
       "      <th>region_name</th>\n",
       "      <th>parent_region_code</th>\n",
       "    </tr>\n",
       "  </thead>\n",
       "  <tbody>\n",
       "    <tr>\n",
       "      <th>25</th>\n",
       "      <td>014</td>\n",
       "      <td>Eastern Africa</td>\n",
       "      <td>202</td>\n",
       "    </tr>\n",
       "    <tr>\n",
       "      <th>12</th>\n",
       "      <td>419</td>\n",
       "      <td>Latin America and the Caribbean</td>\n",
       "      <td>019</td>\n",
       "    </tr>\n",
       "    <tr>\n",
       "      <th>0</th>\n",
       "      <td>002</td>\n",
       "      <td>Africa</td>\n",
       "      <td>000</td>\n",
       "    </tr>\n",
       "    <tr>\n",
       "      <th>13</th>\n",
       "      <td>021</td>\n",
       "      <td>Northern America</td>\n",
       "      <td>019</td>\n",
       "    </tr>\n",
       "    <tr>\n",
       "      <th>4</th>\n",
       "      <td>999</td>\n",
       "      <td>Antarctica</td>\n",
       "      <td>000</td>\n",
       "    </tr>\n",
       "  </tbody>\n",
       "</table>\n",
       "</div>"
      ],
      "text/plain": [
       "   region_code                      region_name parent_region_code\n",
       "25         014                   Eastern Africa                202\n",
       "12         419  Latin America and the Caribbean                019\n",
       "0          002                           Africa                000\n",
       "13         021                 Northern America                019\n",
       "4          999                       Antarctica                000"
      ]
     },
     "execution_count": 78,
     "metadata": {},
     "output_type": "execute_result"
    }
   ],
   "source": [
    "un_regions_query = db.run_query('SELECT * FROM un_m49_region')\n",
    "un_regions = pd.DataFrame.from_dict(un_regions_query['data'])\n",
    "un_regions.sample(5)"
   ]
  },
  {
   "cell_type": "markdown",
   "metadata": {},
   "source": [
    "## UN Groupings\n",
    "### Code"
   ]
  },
  {
   "cell_type": "code",
   "execution_count": 79,
   "metadata": {},
   "outputs": [
    {
     "name": "stdout",
     "output_type": "stream",
     "text": [
      "No errors\n"
     ]
    }
   ],
   "source": [
    "# Check for errors in the Society Groups dataframe before insertion\n",
    "print(error_dict_to_string(society_group.SocietyGroup.validate_society_groups(un_groupings, db, val)))"
   ]
  },
  {
   "cell_type": "code",
   "execution_count": 80,
   "metadata": {},
   "outputs": [
    {
     "name": "stdout",
     "output_type": "stream",
     "text": [
      "Expecting to insert: 5 rows\n",
      "5 records inserted\n"
     ]
    }
   ],
   "source": [
    "print('Expecting to insert:', un_groupings.shape[0], 'rows') # How many rows am I expecting to be inserted?\n",
    "insert_groupings = db.run_query(db.build_insert_query('society_group', un_groupings))\n",
    "print(insert_groupings['rows'], 'records inserted')"
   ]
  },
  {
   "cell_type": "markdown",
   "metadata": {},
   "source": [
    "### Test"
   ]
  },
  {
   "cell_type": "code",
   "execution_count": 81,
   "metadata": {},
   "outputs": [
    {
     "data": {
      "text/html": [
       "<div>\n",
       "<style scoped>\n",
       "    .dataframe tbody tr th:only-of-type {\n",
       "        vertical-align: middle;\n",
       "    }\n",
       "\n",
       "    .dataframe tbody tr th {\n",
       "        vertical-align: top;\n",
       "    }\n",
       "\n",
       "    .dataframe thead th {\n",
       "        text-align: right;\n",
       "    }\n",
       "</style>\n",
       "<table border=\"1\" class=\"dataframe\">\n",
       "  <thead>\n",
       "    <tr style=\"text-align: right;\">\n",
       "      <th></th>\n",
       "      <th>society_group_id</th>\n",
       "      <th>society_group_name</th>\n",
       "      <th>society_group_type</th>\n",
       "    </tr>\n",
       "  </thead>\n",
       "  <tbody>\n",
       "    <tr>\n",
       "      <th>2</th>\n",
       "      <td>3</td>\n",
       "      <td>Small Island Developing States</td>\n",
       "      <td>1</td>\n",
       "    </tr>\n",
       "    <tr>\n",
       "      <th>3</th>\n",
       "      <td>4</td>\n",
       "      <td>Developed Countries</td>\n",
       "      <td>1</td>\n",
       "    </tr>\n",
       "    <tr>\n",
       "      <th>0</th>\n",
       "      <td>1</td>\n",
       "      <td>Least Developed Countries</td>\n",
       "      <td>1</td>\n",
       "    </tr>\n",
       "    <tr>\n",
       "      <th>4</th>\n",
       "      <td>5</td>\n",
       "      <td>Developing Countries</td>\n",
       "      <td>1</td>\n",
       "    </tr>\n",
       "    <tr>\n",
       "      <th>1</th>\n",
       "      <td>2</td>\n",
       "      <td>Landlocked Developing Countries</td>\n",
       "      <td>1</td>\n",
       "    </tr>\n",
       "  </tbody>\n",
       "</table>\n",
       "</div>"
      ],
      "text/plain": [
       "   society_group_id               society_group_name  society_group_type\n",
       "2                 3   Small Island Developing States                   1\n",
       "3                 4              Developed Countries                   1\n",
       "0                 1        Least Developed Countries                   1\n",
       "4                 5             Developing Countries                   1\n",
       "1                 2  Landlocked Developing Countries                   1"
      ]
     },
     "execution_count": 81,
     "metadata": {},
     "output_type": "execute_result"
    }
   ],
   "source": [
    "# Get all records in the society_group table and set into a dataframe\n",
    "society_groups_query = db.run_query('SELECT * FROM society_group')\n",
    "society_groups = pd.DataFrame.from_dict(society_groups_query['data'])\n",
    "society_groups.sample(5)"
   ]
  },
  {
   "cell_type": "markdown",
   "metadata": {},
   "source": [
    "## Countries (Societies)\n",
    "Insert countries into `society` table. \n",
    "\n",
    "### Code"
   ]
  },
  {
   "cell_type": "code",
   "execution_count": 82,
   "metadata": {
    "scrolled": true
   },
   "outputs": [
    {
     "name": "stdout",
     "output_type": "stream",
     "text": [
      "No errors\n"
     ]
    }
   ],
   "source": [
    "# Check for errors in the Countries dataframe before insertion\n",
    "print(error_dict_to_string(society.Society.validate_societies(countries, db, val)))"
   ]
  },
  {
   "cell_type": "code",
   "execution_count": 83,
   "metadata": {},
   "outputs": [
    {
     "name": "stdout",
     "output_type": "stream",
     "text": [
      "Expecting to insert: 249 rows\n",
      "249 records inserted\n"
     ]
    }
   ],
   "source": [
    "# Insert Societies\n",
    "print('Expecting to insert:', countries.shape[0], 'rows') # How many rows am I expecting to be inserted?\n",
    "insert_countries = db.run_query(db.build_insert_query('society', countries))\n",
    "print(insert_countries['rows'], 'records inserted')"
   ]
  },
  {
   "cell_type": "markdown",
   "metadata": {},
   "source": [
    "### Test"
   ]
  },
  {
   "cell_type": "code",
   "execution_count": 84,
   "metadata": {},
   "outputs": [
    {
     "data": {
      "text/html": [
       "<div>\n",
       "<style scoped>\n",
       "    .dataframe tbody tr th:only-of-type {\n",
       "        vertical-align: middle;\n",
       "    }\n",
       "\n",
       "    .dataframe tbody tr th {\n",
       "        vertical-align: top;\n",
       "    }\n",
       "\n",
       "    .dataframe thead th {\n",
       "        text-align: right;\n",
       "    }\n",
       "</style>\n",
       "<table border=\"1\" class=\"dataframe\">\n",
       "  <thead>\n",
       "    <tr style=\"text-align: right;\">\n",
       "      <th></th>\n",
       "      <th>society_id</th>\n",
       "      <th>common_name</th>\n",
       "      <th>official_name</th>\n",
       "      <th>capital</th>\n",
       "      <th>society_type_id</th>\n",
       "      <th>un_m49</th>\n",
       "      <th>iso_alpha3</th>\n",
       "      <th>un_region</th>\n",
       "      <th>cow_code</th>\n",
       "      <th>still_exists</th>\n",
       "    </tr>\n",
       "  </thead>\n",
       "  <tbody>\n",
       "    <tr>\n",
       "      <th>163</th>\n",
       "      <td>164</td>\n",
       "      <td>Oman</td>\n",
       "      <td>Sultanate of Oman</td>\n",
       "      <td>Muscat</td>\n",
       "      <td>1</td>\n",
       "      <td>512</td>\n",
       "      <td>OMN</td>\n",
       "      <td>145</td>\n",
       "      <td>0</td>\n",
       "      <td>0</td>\n",
       "    </tr>\n",
       "    <tr>\n",
       "      <th>53</th>\n",
       "      <td>54</td>\n",
       "      <td>Cuba</td>\n",
       "      <td>Republic of Cuba</td>\n",
       "      <td>Havana</td>\n",
       "      <td>1</td>\n",
       "      <td>192</td>\n",
       "      <td>CUB</td>\n",
       "      <td>029</td>\n",
       "      <td>0</td>\n",
       "      <td>0</td>\n",
       "    </tr>\n",
       "    <tr>\n",
       "      <th>206</th>\n",
       "      <td>207</td>\n",
       "      <td>Spain</td>\n",
       "      <td>Kingdom of Spain</td>\n",
       "      <td>Madrid</td>\n",
       "      <td>1</td>\n",
       "      <td>724</td>\n",
       "      <td>ESP</td>\n",
       "      <td>039</td>\n",
       "      <td>0</td>\n",
       "      <td>0</td>\n",
       "    </tr>\n",
       "    <tr>\n",
       "      <th>8</th>\n",
       "      <td>9</td>\n",
       "      <td>Antigua and Barbuda</td>\n",
       "      <td>Antigua and Barbuda</td>\n",
       "      <td>St. John's</td>\n",
       "      <td>1</td>\n",
       "      <td>028</td>\n",
       "      <td>ATG</td>\n",
       "      <td>029</td>\n",
       "      <td>0</td>\n",
       "      <td>0</td>\n",
       "    </tr>\n",
       "    <tr>\n",
       "      <th>242</th>\n",
       "      <td>243</td>\n",
       "      <td>Vietnam</td>\n",
       "      <td>Socialist Republic of Vietnam</td>\n",
       "      <td>Hanoi</td>\n",
       "      <td>1</td>\n",
       "      <td>704</td>\n",
       "      <td>VNM</td>\n",
       "      <td>035</td>\n",
       "      <td>0</td>\n",
       "      <td>0</td>\n",
       "    </tr>\n",
       "  </tbody>\n",
       "</table>\n",
       "</div>"
      ],
      "text/plain": [
       "     society_id          common_name                  official_name  \\\n",
       "163         164                 Oman              Sultanate of Oman   \n",
       "53           54                 Cuba               Republic of Cuba   \n",
       "206         207                Spain               Kingdom of Spain   \n",
       "8             9  Antigua and Barbuda            Antigua and Barbuda   \n",
       "242         243              Vietnam  Socialist Republic of Vietnam   \n",
       "\n",
       "        capital  society_type_id un_m49 iso_alpha3 un_region  cow_code  \\\n",
       "163      Muscat                1    512        OMN       145         0   \n",
       "53       Havana                1    192        CUB       029         0   \n",
       "206      Madrid                1    724        ESP       039         0   \n",
       "8    St. John's                1    028        ATG       029         0   \n",
       "242       Hanoi                1    704        VNM       035         0   \n",
       "\n",
       "     still_exists  \n",
       "163             0  \n",
       "53              0  \n",
       "206             0  \n",
       "8               0  \n",
       "242             0  "
      ]
     },
     "execution_count": 84,
     "metadata": {},
     "output_type": "execute_result"
    }
   ],
   "source": [
    "# Get all records in the society table and set into a dataframe\n",
    "societies_query = db.run_query('SELECT * FROM society')\n",
    "societies = pd.DataFrame.from_dict(societies_query['data'])\n",
    "societies.sample(5)"
   ]
  },
  {
   "cell_type": "markdown",
   "metadata": {},
   "source": [
    "## Countries to Groups\n",
    "\n",
    "### Code"
   ]
  },
  {
   "cell_type": "code",
   "execution_count": 85,
   "metadata": {},
   "outputs": [
    {
     "data": {
      "text/html": [
       "<div>\n",
       "<style scoped>\n",
       "    .dataframe tbody tr th:only-of-type {\n",
       "        vertical-align: middle;\n",
       "    }\n",
       "\n",
       "    .dataframe tbody tr th {\n",
       "        vertical-align: top;\n",
       "    }\n",
       "\n",
       "    .dataframe thead th {\n",
       "        text-align: right;\n",
       "    }\n",
       "</style>\n",
       "<table border=\"1\" class=\"dataframe\">\n",
       "  <thead>\n",
       "    <tr style=\"text-align: right;\">\n",
       "      <th></th>\n",
       "      <th>society_id</th>\n",
       "      <th>society_group_id</th>\n",
       "    </tr>\n",
       "  </thead>\n",
       "  <tbody>\n",
       "    <tr>\n",
       "      <th>55</th>\n",
       "      <td>122</td>\n",
       "      <td>2</td>\n",
       "    </tr>\n",
       "    <tr>\n",
       "      <th>292</th>\n",
       "      <td>147</td>\n",
       "      <td>3</td>\n",
       "    </tr>\n",
       "    <tr>\n",
       "      <th>367</th>\n",
       "      <td>200</td>\n",
       "      <td>4</td>\n",
       "    </tr>\n",
       "    <tr>\n",
       "      <th>145</th>\n",
       "      <td>32</td>\n",
       "      <td>5</td>\n",
       "    </tr>\n",
       "    <tr>\n",
       "      <th>202</th>\n",
       "      <td>77</td>\n",
       "      <td>5</td>\n",
       "    </tr>\n",
       "  </tbody>\n",
       "</table>\n",
       "</div>"
      ],
      "text/plain": [
       "     society_id  society_group_id\n",
       "55          122                 2\n",
       "292         147                 3\n",
       "367         200                 4\n",
       "145          32                 5\n",
       "202          77                 5"
      ]
     },
     "execution_count": 85,
     "metadata": {},
     "output_type": "execute_result"
    }
   ],
   "source": [
    "# To insert, we need society_id and society_group_id corresponding to the auto-increment IDs given in the database\n",
    "# These are now in the dataframes societies and society_groups\n",
    "# Join the values to this dataframe and drop the country_name and group_name columns\n",
    "country_to_group = country_to_group.merge(societies[['society_id','common_name']], left_on='country_name', right_on='common_name')\n",
    "country_to_group = country_to_group.merge(society_groups[['society_group_id','society_group_name']], left_on='group_name', right_on='society_group_name')\n",
    "country_to_group.drop(columns=['country_name','group_name','common_name','society_group_name'], axis=1, inplace=True)\n",
    "country_to_group.sample(5)"
   ]
  },
  {
   "cell_type": "code",
   "execution_count": 86,
   "metadata": {},
   "outputs": [
    {
     "name": "stdout",
     "output_type": "stream",
     "text": [
      "Expecting to insert: 377 rows\n",
      "377 records inserted\n"
     ]
    }
   ],
   "source": [
    "# Insert Society to Society Group pairings\n",
    "print('Expecting to insert:', country_to_group.shape[0], 'rows') # How many rows am I expecting to be inserted?\n",
    "insert_group_pairings = db.run_query(db.build_insert_query('society_to_society_group', country_to_group))\n",
    "print(insert_group_pairings['rows'], 'records inserted')"
   ]
  },
  {
   "cell_type": "markdown",
   "metadata": {},
   "source": [
    "### Test"
   ]
  },
  {
   "cell_type": "code",
   "execution_count": 87,
   "metadata": {},
   "outputs": [
    {
     "data": {
      "text/html": [
       "<div>\n",
       "<style scoped>\n",
       "    .dataframe tbody tr th:only-of-type {\n",
       "        vertical-align: middle;\n",
       "    }\n",
       "\n",
       "    .dataframe tbody tr th {\n",
       "        vertical-align: top;\n",
       "    }\n",
       "\n",
       "    .dataframe thead th {\n",
       "        text-align: right;\n",
       "    }\n",
       "</style>\n",
       "<table border=\"1\" class=\"dataframe\">\n",
       "  <thead>\n",
       "    <tr style=\"text-align: right;\">\n",
       "      <th></th>\n",
       "      <th>society_id</th>\n",
       "      <th>common_name</th>\n",
       "      <th>society_group_id</th>\n",
       "      <th>society_group_name</th>\n",
       "    </tr>\n",
       "  </thead>\n",
       "  <tbody>\n",
       "    <tr>\n",
       "      <th>229</th>\n",
       "      <td>45</td>\n",
       "      <td>China</td>\n",
       "      <td>5</td>\n",
       "      <td>Developing Countries</td>\n",
       "    </tr>\n",
       "    <tr>\n",
       "      <th>96</th>\n",
       "      <td>90</td>\n",
       "      <td>Guam</td>\n",
       "      <td>3</td>\n",
       "      <td>Small Island Developing States</td>\n",
       "    </tr>\n",
       "    <tr>\n",
       "      <th>216</th>\n",
       "      <td>30</td>\n",
       "      <td>Brazil</td>\n",
       "      <td>5</td>\n",
       "      <td>Developing Countries</td>\n",
       "    </tr>\n",
       "    <tr>\n",
       "      <th>169</th>\n",
       "      <td>129</td>\n",
       "      <td>Macedonia</td>\n",
       "      <td>4</td>\n",
       "      <td>Developed Countries</td>\n",
       "    </tr>\n",
       "    <tr>\n",
       "      <th>357</th>\n",
       "      <td>225</td>\n",
       "      <td>Trinidad and Tobago</td>\n",
       "      <td>5</td>\n",
       "      <td>Developing Countries</td>\n",
       "    </tr>\n",
       "    <tr>\n",
       "      <th>107</th>\n",
       "      <td>152</td>\n",
       "      <td>Nauru</td>\n",
       "      <td>3</td>\n",
       "      <td>Small Island Developing States</td>\n",
       "    </tr>\n",
       "    <tr>\n",
       "      <th>274</th>\n",
       "      <td>114</td>\n",
       "      <td>Kazakhstan</td>\n",
       "      <td>5</td>\n",
       "      <td>Developing Countries</td>\n",
       "    </tr>\n",
       "    <tr>\n",
       "      <th>287</th>\n",
       "      <td>132</td>\n",
       "      <td>Malaysia</td>\n",
       "      <td>5</td>\n",
       "      <td>Developing Countries</td>\n",
       "    </tr>\n",
       "    <tr>\n",
       "      <th>16</th>\n",
       "      <td>93</td>\n",
       "      <td>Guinea</td>\n",
       "      <td>1</td>\n",
       "      <td>Least Developed Countries</td>\n",
       "    </tr>\n",
       "    <tr>\n",
       "      <th>242</th>\n",
       "      <td>64</td>\n",
       "      <td>Ecuador</td>\n",
       "      <td>5</td>\n",
       "      <td>Developing Countries</td>\n",
       "    </tr>\n",
       "    <tr>\n",
       "      <th>352</th>\n",
       "      <td>219</td>\n",
       "      <td>The Bahamas</td>\n",
       "      <td>5</td>\n",
       "      <td>Developing Countries</td>\n",
       "    </tr>\n",
       "    <tr>\n",
       "      <th>361</th>\n",
       "      <td>229</td>\n",
       "      <td>Turks and Caicos Islands</td>\n",
       "      <td>5</td>\n",
       "      <td>Developing Countries</td>\n",
       "    </tr>\n",
       "    <tr>\n",
       "      <th>51</th>\n",
       "      <td>26</td>\n",
       "      <td>Bolivia</td>\n",
       "      <td>2</td>\n",
       "      <td>Landlocked Developing Countries</td>\n",
       "    </tr>\n",
       "    <tr>\n",
       "      <th>13</th>\n",
       "      <td>68</td>\n",
       "      <td>Eritrea</td>\n",
       "      <td>1</td>\n",
       "      <td>Least Developed Countries</td>\n",
       "    </tr>\n",
       "    <tr>\n",
       "      <th>110</th>\n",
       "      <td>162</td>\n",
       "      <td>Northern Mariana Islands</td>\n",
       "      <td>3</td>\n",
       "      <td>Small Island Developing States</td>\n",
       "    </tr>\n",
       "    <tr>\n",
       "      <th>349</th>\n",
       "      <td>216</td>\n",
       "      <td>Tajikistan</td>\n",
       "      <td>5</td>\n",
       "      <td>Developing Countries</td>\n",
       "    </tr>\n",
       "    <tr>\n",
       "      <th>89</th>\n",
       "      <td>54</td>\n",
       "      <td>Cuba</td>\n",
       "      <td>3</td>\n",
       "      <td>Small Island Developing States</td>\n",
       "    </tr>\n",
       "    <tr>\n",
       "      <th>249</th>\n",
       "      <td>72</td>\n",
       "      <td>Falkland Islands</td>\n",
       "      <td>5</td>\n",
       "      <td>Developing Countries</td>\n",
       "    </tr>\n",
       "    <tr>\n",
       "      <th>373</th>\n",
       "      <td>245</td>\n",
       "      <td>Western Sahara</td>\n",
       "      <td>5</td>\n",
       "      <td>Developing Countries</td>\n",
       "    </tr>\n",
       "    <tr>\n",
       "      <th>162</th>\n",
       "      <td>109</td>\n",
       "      <td>Italy</td>\n",
       "      <td>4</td>\n",
       "      <td>Developed Countries</td>\n",
       "    </tr>\n",
       "  </tbody>\n",
       "</table>\n",
       "</div>"
      ],
      "text/plain": [
       "     society_id               common_name  society_group_id  \\\n",
       "229          45                     China                 5   \n",
       "96           90                      Guam                 3   \n",
       "216          30                    Brazil                 5   \n",
       "169         129                 Macedonia                 4   \n",
       "357         225       Trinidad and Tobago                 5   \n",
       "107         152                     Nauru                 3   \n",
       "274         114                Kazakhstan                 5   \n",
       "287         132                  Malaysia                 5   \n",
       "16           93                    Guinea                 1   \n",
       "242          64                   Ecuador                 5   \n",
       "352         219               The Bahamas                 5   \n",
       "361         229  Turks and Caicos Islands                 5   \n",
       "51           26                   Bolivia                 2   \n",
       "13           68                   Eritrea                 1   \n",
       "110         162  Northern Mariana Islands                 3   \n",
       "349         216                Tajikistan                 5   \n",
       "89           54                      Cuba                 3   \n",
       "249          72          Falkland Islands                 5   \n",
       "373         245            Western Sahara                 5   \n",
       "162         109                     Italy                 4   \n",
       "\n",
       "                  society_group_name  \n",
       "229             Developing Countries  \n",
       "96    Small Island Developing States  \n",
       "216             Developing Countries  \n",
       "169              Developed Countries  \n",
       "357             Developing Countries  \n",
       "107   Small Island Developing States  \n",
       "274             Developing Countries  \n",
       "287             Developing Countries  \n",
       "16         Least Developed Countries  \n",
       "242             Developing Countries  \n",
       "352             Developing Countries  \n",
       "361             Developing Countries  \n",
       "51   Landlocked Developing Countries  \n",
       "13         Least Developed Countries  \n",
       "110   Small Island Developing States  \n",
       "349             Developing Countries  \n",
       "89    Small Island Developing States  \n",
       "249             Developing Countries  \n",
       "373             Developing Countries  \n",
       "162              Developed Countries  "
      ]
     },
     "execution_count": 87,
     "metadata": {},
     "output_type": "execute_result"
    }
   ],
   "source": [
    "# Get all records in the society table and set into a dataframe\n",
    "query = \"\"\"SELECT soc.society_id, soc.common_name, grp.society_group_id, grp.society_group_name \n",
    "        FROM society_to_society_group soc2grp \n",
    "        JOIN society soc ON soc2grp.society_id = soc.society_id \n",
    "        JOIN society_group grp ON soc2grp.society_group_id = grp.society_group_id\"\"\"\n",
    "societies_to_groups_query = db.run_query(query)\n",
    "societies_to_groups = pd.DataFrame.from_dict(societies_to_groups_query['data'])\n",
    "societies_to_groups.sample(20)"
   ]
  }
 ],
 "metadata": {
  "kernelspec": {
   "display_name": "Python 3",
   "language": "python",
   "name": "python3"
  },
  "language_info": {
   "codemirror_mode": {
    "name": "ipython",
    "version": 3
   },
   "file_extension": ".py",
   "mimetype": "text/x-python",
   "name": "python",
   "nbconvert_exporter": "python",
   "pygments_lexer": "ipython3",
   "version": "3.7.7"
  }
 },
 "nbformat": 4,
 "nbformat_minor": 2
}
