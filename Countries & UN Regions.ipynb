{
 "cells": [
  {
   "cell_type": "markdown",
   "metadata": {},
   "source": [
    "# Wrangling Countries & UN Regions\n",
    "## By: Scott Kustes\n",
    "\n",
    "### Objective:\n",
    "Wrangle UN regions and sub-regions and associated countries for insertion into database.\n",
    "\n",
    "#### Dataset:\n",
    "The original dataset was downloaded here: https://unstats.un.org/unsd/methodology/m49/"
   ]
  },
  {
   "cell_type": "code",
   "execution_count": 1,
   "metadata": {},
   "outputs": [],
   "source": [
    "# Import necessary packages\n",
    "import pandas as pd"
   ]
  },
  {
   "cell_type": "markdown",
   "metadata": {},
   "source": [
    "### Gather"
   ]
  },
  {
   "cell_type": "code",
   "execution_count": 13,
   "metadata": {},
   "outputs": [
    {
     "data": {
      "text/html": [
       "<div>\n",
       "<style scoped>\n",
       "    .dataframe tbody tr th:only-of-type {\n",
       "        vertical-align: middle;\n",
       "    }\n",
       "\n",
       "    .dataframe tbody tr th {\n",
       "        vertical-align: top;\n",
       "    }\n",
       "\n",
       "    .dataframe thead th {\n",
       "        text-align: right;\n",
       "    }\n",
       "</style>\n",
       "<table border=\"1\" class=\"dataframe\">\n",
       "  <thead>\n",
       "    <tr style=\"text-align: right;\">\n",
       "      <th></th>\n",
       "      <th>Global Code</th>\n",
       "      <th>Global Name</th>\n",
       "      <th>Region Code</th>\n",
       "      <th>Region Name</th>\n",
       "      <th>Sub-region Code</th>\n",
       "      <th>Sub-region Name</th>\n",
       "      <th>Intermediate Region Code</th>\n",
       "      <th>Intermediate Region Name</th>\n",
       "      <th>Country or Area</th>\n",
       "      <th>M49 Code</th>\n",
       "      <th>ISO-alpha3 Code</th>\n",
       "      <th>Least Developed Countries (LDC)</th>\n",
       "      <th>Land Locked Developing Countries (LLDC)</th>\n",
       "      <th>Small Island Developing States (SIDS)</th>\n",
       "      <th>Developed / Developing Countries</th>\n",
       "    </tr>\n",
       "  </thead>\n",
       "  <tbody>\n",
       "    <tr>\n",
       "      <th>0</th>\n",
       "      <td>1</td>\n",
       "      <td>World</td>\n",
       "      <td>19.0</td>\n",
       "      <td>Americas</td>\n",
       "      <td>419.0</td>\n",
       "      <td>Latin America and the Caribbean</td>\n",
       "      <td>29.0</td>\n",
       "      <td>Caribbean</td>\n",
       "      <td>Bonaire - Sint Eustatius and Saba</td>\n",
       "      <td>535</td>\n",
       "      <td>BES</td>\n",
       "      <td>NaN</td>\n",
       "      <td>NaN</td>\n",
       "      <td>x</td>\n",
       "      <td>Developing</td>\n",
       "    </tr>\n",
       "    <tr>\n",
       "      <th>1</th>\n",
       "      <td>1</td>\n",
       "      <td>World</td>\n",
       "      <td>142.0</td>\n",
       "      <td>Asia</td>\n",
       "      <td>30.0</td>\n",
       "      <td>Eastern Asia</td>\n",
       "      <td>NaN</td>\n",
       "      <td>NaN</td>\n",
       "      <td>China - Hong Kong Special Administrative Region</td>\n",
       "      <td>344</td>\n",
       "      <td>HKG</td>\n",
       "      <td>NaN</td>\n",
       "      <td>NaN</td>\n",
       "      <td>NaN</td>\n",
       "      <td>Developing</td>\n",
       "    </tr>\n",
       "    <tr>\n",
       "      <th>2</th>\n",
       "      <td>1</td>\n",
       "      <td>World</td>\n",
       "      <td>142.0</td>\n",
       "      <td>Asia</td>\n",
       "      <td>30.0</td>\n",
       "      <td>Eastern Asia</td>\n",
       "      <td>NaN</td>\n",
       "      <td>NaN</td>\n",
       "      <td>China - Macao Special Administrative Region</td>\n",
       "      <td>446</td>\n",
       "      <td>MAC</td>\n",
       "      <td>NaN</td>\n",
       "      <td>NaN</td>\n",
       "      <td>NaN</td>\n",
       "      <td>Developing</td>\n",
       "    </tr>\n",
       "    <tr>\n",
       "      <th>3</th>\n",
       "      <td>1</td>\n",
       "      <td>World</td>\n",
       "      <td>2.0</td>\n",
       "      <td>Africa</td>\n",
       "      <td>15.0</td>\n",
       "      <td>Northern Africa</td>\n",
       "      <td>NaN</td>\n",
       "      <td>NaN</td>\n",
       "      <td>Algeria</td>\n",
       "      <td>12</td>\n",
       "      <td>DZA</td>\n",
       "      <td>NaN</td>\n",
       "      <td>NaN</td>\n",
       "      <td>NaN</td>\n",
       "      <td>Developing</td>\n",
       "    </tr>\n",
       "    <tr>\n",
       "      <th>4</th>\n",
       "      <td>1</td>\n",
       "      <td>World</td>\n",
       "      <td>2.0</td>\n",
       "      <td>Africa</td>\n",
       "      <td>15.0</td>\n",
       "      <td>Northern Africa</td>\n",
       "      <td>NaN</td>\n",
       "      <td>NaN</td>\n",
       "      <td>Egypt</td>\n",
       "      <td>818</td>\n",
       "      <td>EGY</td>\n",
       "      <td>NaN</td>\n",
       "      <td>NaN</td>\n",
       "      <td>NaN</td>\n",
       "      <td>Developing</td>\n",
       "    </tr>\n",
       "  </tbody>\n",
       "</table>\n",
       "</div>"
      ],
      "text/plain": [
       "   Global Code Global Name  Region Code Region Name  Sub-region Code  \\\n",
       "0            1       World         19.0    Americas            419.0   \n",
       "1            1       World        142.0        Asia             30.0   \n",
       "2            1       World        142.0        Asia             30.0   \n",
       "3            1       World          2.0      Africa             15.0   \n",
       "4            1       World          2.0      Africa             15.0   \n",
       "\n",
       "                   Sub-region Name  Intermediate Region Code  \\\n",
       "0  Latin America and the Caribbean                      29.0   \n",
       "1                     Eastern Asia                       NaN   \n",
       "2                     Eastern Asia                       NaN   \n",
       "3                  Northern Africa                       NaN   \n",
       "4                  Northern Africa                       NaN   \n",
       "\n",
       "  Intermediate Region Name                                  Country or Area  \\\n",
       "0                Caribbean                Bonaire - Sint Eustatius and Saba   \n",
       "1                      NaN  China - Hong Kong Special Administrative Region   \n",
       "2                      NaN      China - Macao Special Administrative Region   \n",
       "3                      NaN                                          Algeria   \n",
       "4                      NaN                                            Egypt   \n",
       "\n",
       "   M49 Code ISO-alpha3 Code Least Developed Countries (LDC)  \\\n",
       "0       535             BES                             NaN   \n",
       "1       344             HKG                             NaN   \n",
       "2       446             MAC                             NaN   \n",
       "3        12             DZA                             NaN   \n",
       "4       818             EGY                             NaN   \n",
       "\n",
       "  Land Locked Developing Countries (LLDC)  \\\n",
       "0                                     NaN   \n",
       "1                                     NaN   \n",
       "2                                     NaN   \n",
       "3                                     NaN   \n",
       "4                                     NaN   \n",
       "\n",
       "  Small Island Developing States (SIDS) Developed / Developing Countries  \n",
       "0                                     x                       Developing  \n",
       "1                                   NaN                       Developing  \n",
       "2                                   NaN                       Developing  \n",
       "3                                   NaN                       Developing  \n",
       "4                                   NaN                       Developing  "
      ]
     },
     "execution_count": 13,
     "metadata": {},
     "output_type": "execute_result"
    }
   ],
   "source": [
    "countries = pd.read_csv( 'countries.csv' )\n",
    "countries.head()"
   ]
  },
  {
   "cell_type": "markdown",
   "metadata": {},
   "source": [
    "### Initial Assessment"
   ]
  },
  {
   "cell_type": "code",
   "execution_count": 14,
   "metadata": {},
   "outputs": [
    {
     "data": {
      "text/plain": [
       "array([1], dtype=int64)"
      ]
     },
     "execution_count": 14,
     "metadata": {},
     "output_type": "execute_result"
    }
   ],
   "source": [
    "countries['Global Code'].unique()"
   ]
  },
  {
   "cell_type": "code",
   "execution_count": 15,
   "metadata": {},
   "outputs": [
    {
     "data": {
      "text/plain": [
       "array(['World'], dtype=object)"
      ]
     },
     "execution_count": 15,
     "metadata": {},
     "output_type": "execute_result"
    }
   ],
   "source": [
    "countries['Global Name'].unique()"
   ]
  },
  {
   "cell_type": "markdown",
   "metadata": {},
   "source": [
    "#### Issues Found:\n",
    "<ol>\n",
    "    <li>Drop columns: Global Code and Global Name - only 1 unique value\n",
    "    <li>Rename columns: replace spaces with underscores, replace uppercase with lowercase</li>\n",
    "</ol>\n",
    "\n",
    "### Initial Cleaning\n",
    "#### 1) Drop columns Global Code and Global Name due to each having only 1 unique value (1 and World, respectively)\n",
    "\n",
    "#### Code"
   ]
  },
  {
   "cell_type": "code",
   "execution_count": 22,
   "metadata": {},
   "outputs": [],
   "source": [
    "countries.drop( columns=['Global Code','Global Name'], axis=1, inplace=True )"
   ]
  },
  {
   "cell_type": "markdown",
   "metadata": {},
   "source": [
    "#### Test"
   ]
  },
  {
   "cell_type": "code",
   "execution_count": 24,
   "metadata": {},
   "outputs": [
    {
     "name": "stdout",
     "output_type": "stream",
     "text": [
      "<class 'pandas.core.frame.DataFrame'>\n",
      "RangeIndex: 249 entries, 0 to 248\n",
      "Data columns (total 13 columns):\n",
      "Region Code                                248 non-null float64\n",
      "Region Name                                248 non-null object\n",
      "Sub-region Code                            248 non-null float64\n",
      "Sub-region Name                            248 non-null object\n",
      "Intermediate Region Code                   108 non-null float64\n",
      "Intermediate Region Name                   108 non-null object\n",
      "Country or Area                            249 non-null object\n",
      "M49 Code                                   249 non-null int64\n",
      "ISO-alpha3 Code                            248 non-null object\n",
      "Least Developed Countries (LDC)            47 non-null object\n",
      "Land Locked Developing Countries (LLDC)    32 non-null object\n",
      "Small Island Developing States (SIDS)      53 non-null object\n",
      "Developed / Developing Countries           248 non-null object\n",
      "dtypes: float64(3), int64(1), object(9)\n",
      "memory usage: 25.4+ KB\n"
     ]
    }
   ],
   "source": [
    "countries.info()"
   ]
  },
  {
   "cell_type": "markdown",
   "metadata": {},
   "source": [
    "#### 2) Rename Columns\n",
    "Replace spaces with underscores, replace uppercase letters with lowercase\n",
    "\n",
    "#### Code"
   ]
  },
  {
   "cell_type": "code",
   "execution_count": 33,
   "metadata": {},
   "outputs": [],
   "source": [
    "# Dictionary of new column names\n",
    "column_names = {\n",
    "    'Region Code': 'region_code',\n",
    "    'Region Name': 'region_name',\n",
    "    'Sub-region Code': 'subregion_code',\n",
    "    'Sub-region Name': 'subregion_name',\n",
    "    'Intermediate Region Code': 'intermediate_region_code',\n",
    "    'Intermediate Region Name': 'intermediate_region_name',\n",
    "    'Country or Area': 'country',\n",
    "    'M49 Code': 'un_m49',\n",
    "    'ISO-alpha3 Code': 'iso_alpha3',\n",
    "    'Least Developed Countries (LDC)': 'least_developed_countries',\n",
    "    'Land Locked Developing Countries (LLDC)': 'landlocked_developing_countries',\n",
    "    'Small Island Developing States (SIDS)': 'small_island_developing_states',\n",
    "    'Developed / Developing Countries': 'developed_developing_countries'\n",
    "}\n",
    "\n",
    "countries.rename( mapper=column_names, axis=1, inplace=True )"
   ]
  },
  {
   "cell_type": "markdown",
   "metadata": {},
   "source": [
    "#### Test"
   ]
  },
  {
   "cell_type": "code",
   "execution_count": 34,
   "metadata": {},
   "outputs": [
    {
     "name": "stdout",
     "output_type": "stream",
     "text": [
      "<class 'pandas.core.frame.DataFrame'>\n",
      "RangeIndex: 249 entries, 0 to 248\n",
      "Data columns (total 13 columns):\n",
      "region_code                        248 non-null float64\n",
      "region_name                        248 non-null object\n",
      "subregion_code                     248 non-null float64\n",
      "subregion_name                     248 non-null object\n",
      "intermediate_region_code           108 non-null float64\n",
      "intermediate_region_name           108 non-null object\n",
      "country                            249 non-null object\n",
      "un_m49                             249 non-null int64\n",
      "iso_alpha3                         248 non-null object\n",
      "least_developed_countries          47 non-null object\n",
      "landlocked_developing_countries    32 non-null object\n",
      "small_island_developing_states     53 non-null object\n",
      "developed_developing_countries     248 non-null object\n",
      "dtypes: float64(3), int64(1), object(9)\n",
      "memory usage: 25.4+ KB\n"
     ]
    }
   ],
   "source": [
    "countries.info()"
   ]
  },
  {
   "cell_type": "markdown",
   "metadata": {},
   "source": [
    "### Assessment"
   ]
  },
  {
   "cell_type": "code",
   "execution_count": 35,
   "metadata": {},
   "outputs": [
    {
     "ename": "AttributeError",
     "evalue": "'DataFrame' object has no attribute 'unique'",
     "output_type": "error",
     "traceback": [
      "\u001b[1;31m---------------------------------------------------------------------------\u001b[0m",
      "\u001b[1;31mAttributeError\u001b[0m                            Traceback (most recent call last)",
      "\u001b[1;32m<ipython-input-35-9b980b707007>\u001b[0m in \u001b[0;36m<module>\u001b[1;34m\u001b[0m\n\u001b[1;32m----> 1\u001b[1;33m \u001b[0mcountries\u001b[0m\u001b[1;33m[\u001b[0m\u001b[1;33m[\u001b[0m\u001b[1;34m'region_code'\u001b[0m\u001b[1;33m,\u001b[0m\u001b[1;34m'region_name'\u001b[0m\u001b[1;33m]\u001b[0m\u001b[1;33m]\u001b[0m\u001b[1;33m.\u001b[0m\u001b[0munique\u001b[0m\u001b[1;33m(\u001b[0m\u001b[1;33m)\u001b[0m\u001b[1;33m\u001b[0m\u001b[1;33m\u001b[0m\u001b[0m\n\u001b[0m",
      "\u001b[1;32m~\\Anaconda3\\lib\\site-packages\\pandas\\core\\generic.py\u001b[0m in \u001b[0;36m__getattr__\u001b[1;34m(self, name)\u001b[0m\n\u001b[0;32m   5065\u001b[0m             \u001b[1;32mif\u001b[0m \u001b[0mself\u001b[0m\u001b[1;33m.\u001b[0m\u001b[0m_info_axis\u001b[0m\u001b[1;33m.\u001b[0m\u001b[0m_can_hold_identifiers_and_holds_name\u001b[0m\u001b[1;33m(\u001b[0m\u001b[0mname\u001b[0m\u001b[1;33m)\u001b[0m\u001b[1;33m:\u001b[0m\u001b[1;33m\u001b[0m\u001b[1;33m\u001b[0m\u001b[0m\n\u001b[0;32m   5066\u001b[0m                 \u001b[1;32mreturn\u001b[0m \u001b[0mself\u001b[0m\u001b[1;33m[\u001b[0m\u001b[0mname\u001b[0m\u001b[1;33m]\u001b[0m\u001b[1;33m\u001b[0m\u001b[1;33m\u001b[0m\u001b[0m\n\u001b[1;32m-> 5067\u001b[1;33m             \u001b[1;32mreturn\u001b[0m \u001b[0mobject\u001b[0m\u001b[1;33m.\u001b[0m\u001b[0m__getattribute__\u001b[0m\u001b[1;33m(\u001b[0m\u001b[0mself\u001b[0m\u001b[1;33m,\u001b[0m \u001b[0mname\u001b[0m\u001b[1;33m)\u001b[0m\u001b[1;33m\u001b[0m\u001b[1;33m\u001b[0m\u001b[0m\n\u001b[0m\u001b[0;32m   5068\u001b[0m \u001b[1;33m\u001b[0m\u001b[0m\n\u001b[0;32m   5069\u001b[0m     \u001b[1;32mdef\u001b[0m \u001b[0m__setattr__\u001b[0m\u001b[1;33m(\u001b[0m\u001b[0mself\u001b[0m\u001b[1;33m,\u001b[0m \u001b[0mname\u001b[0m\u001b[1;33m,\u001b[0m \u001b[0mvalue\u001b[0m\u001b[1;33m)\u001b[0m\u001b[1;33m:\u001b[0m\u001b[1;33m\u001b[0m\u001b[1;33m\u001b[0m\u001b[0m\n",
      "\u001b[1;31mAttributeError\u001b[0m: 'DataFrame' object has no attribute 'unique'"
     ]
    }
   ],
   "source": [
    "countries[['region_code','region_name']].unique()"
   ]
  },
  {
   "cell_type": "code",
   "execution_count": null,
   "metadata": {},
   "outputs": [],
   "source": []
  },
  {
   "cell_type": "code",
   "execution_count": null,
   "metadata": {},
   "outputs": [],
   "source": []
  },
  {
   "cell_type": "code",
   "execution_count": null,
   "metadata": {},
   "outputs": [],
   "source": []
  },
  {
   "cell_type": "code",
   "execution_count": null,
   "metadata": {},
   "outputs": [],
   "source": []
  },
  {
   "cell_type": "code",
   "execution_count": null,
   "metadata": {},
   "outputs": [],
   "source": []
  },
  {
   "cell_type": "markdown",
   "metadata": {},
   "source": [
    "### Clean"
   ]
  },
  {
   "cell_type": "code",
   "execution_count": null,
   "metadata": {},
   "outputs": [],
   "source": []
  },
  {
   "cell_type": "code",
   "execution_count": null,
   "metadata": {},
   "outputs": [],
   "source": []
  }
 ],
 "metadata": {
  "kernelspec": {
   "display_name": "Python 3",
   "language": "python",
   "name": "python3"
  },
  "language_info": {
   "codemirror_mode": {
    "name": "ipython",
    "version": 3
   },
   "file_extension": ".py",
   "mimetype": "text/x-python",
   "name": "python",
   "nbconvert_exporter": "python",
   "pygments_lexer": "ipython3",
   "version": "3.7.3"
  }
 },
 "nbformat": 4,
 "nbformat_minor": 2
}
